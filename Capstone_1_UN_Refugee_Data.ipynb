{
 "cells": [
  {
   "cell_type": "markdown",
   "metadata": {},
   "source": [
    "Dena Montague\n",
    "Thinkful Capstone Analytic Report and Research Proposal\n",
    "\n",
    "Description of Dataset\n",
    "\n",
    "NATO responded to the 9/11 attacks by implementing its collective defense mandate, in addition to leading a UN mandated International Security Assistance Force in Afghanistan from 2003 to 2014.  29 countries make up NATO.  The US, UK, France and Germany are the most important founding members of NATO. As such, they have been influential in shaping NATO’s presence in Afghanistan.  \n",
    "\n",
    "These countries came together for collective defense as outlined by NATO’s mission, but what has been each country’s role in collective humanitarianism?  The estimated number of displaced Afghans is 3, 700,000. This project asks, what has been the role of the UK, US, France and Germany in receiving refugees from Afghanistan?\n",
    "\n",
    "To answer this question I analyzed the number of refugees who have residence or asylum in each country.\n",
    "\n",
    "This UN Data set from the United National High Commissioner for Refugees (UNHCR) provides data on the location of refugees around the world along with the country of origin of the refugees and the year the data was calculated.  The purpose of the data is to provide information and understand global trends to allow for thoughtful public debate and decision-making considering these vulnerable populations.  The data covers the time period of 1975 to 2016\n",
    "\n",
    "According to the data Refugees fall into two categories -\n",
    "1)‘Refugees’ defined as:\n",
    " “Persons recognized as refugees under the 1951 UN Convention/1967 Protocol, the 1969 OAU Convention, in accordance with the UNHCR Statue, persons granted a complementary form of protection and those granted temporary protection. “‘Refugees assisted by UNHCR\n",
    "\n",
    "2) Refugees and people in refugee-like situations:\n",
    "“…includes groups of persons who are outside their country or territory of origin and who face protection risks similar to those of refugees, but for whom refugee status has, for practical or other reasons, not been ascertained.  \n",
    "\n",
    "I analyzed the data using definition #1. I selected the time period 2006-2016 because it begins a few years into the war and ends two years after the end of NATO engagement.  This time period captures the height of NATO engagement and illustrates the continued role of NATO countries after the end of their mandate. \n",
    "\n"
   ]
  },
  {
   "cell_type": "code",
   "execution_count": 1,
   "metadata": {},
   "outputs": [],
   "source": [
    "import pandas as pd\n",
    "import numpy as np\n",
    "import matplotlib.pyplot as plt\n",
    "%matplotlib inline\n",
    "import seaborn as sns"
   ]
  },
  {
   "cell_type": "code",
   "execution_count": 5,
   "metadata": {},
   "outputs": [
    {
     "name": "stdout",
     "output_type": "stream",
     "text": [
      "      Country or territory of asylum or residence  \\\n",
      "0                                     Afghanistan   \n",
      "1                                     Afghanistan   \n",
      "2                                     Afghanistan   \n",
      "3                                         Albania   \n",
      "4                                         Albania   \n",
      "5                                         Albania   \n",
      "6                                         Albania   \n",
      "7                                         Albania   \n",
      "8                                         Albania   \n",
      "9                                         Albania   \n",
      "10                                        Albania   \n",
      "11                                        Albania   \n",
      "12                                        Albania   \n",
      "13                                        Albania   \n",
      "14                                        Albania   \n",
      "15                                        Albania   \n",
      "16                                        Albania   \n",
      "17                                        Albania   \n",
      "18                                        Algeria   \n",
      "19                                        Algeria   \n",
      "20                                        Algeria   \n",
      "21                                        Algeria   \n",
      "22                                        Algeria   \n",
      "23                                        Algeria   \n",
      "24                                        Algeria   \n",
      "25                                        Algeria   \n",
      "26                                        Algeria   \n",
      "27                                        Algeria   \n",
      "28                                        Algeria   \n",
      "29                                        Algeria   \n",
      "...                                           ...   \n",
      "96034                                      Uganda   \n",
      "96035                                      Uganda   \n",
      "96036                              United Kingdom   \n",
      "96037                     United Rep. of Tanzania   \n",
      "96038                     United Rep. of Tanzania   \n",
      "96039                     United Rep. of Tanzania   \n",
      "96040                     United Rep. of Tanzania   \n",
      "96041                     United Rep. of Tanzania   \n",
      "96042                     United Rep. of Tanzania   \n",
      "96043                     United Rep. of Tanzania   \n",
      "96044                     United Rep. of Tanzania   \n",
      "96045                     United Rep. of Tanzania   \n",
      "96046                               United States   \n",
      "96047                                     Various   \n",
      "96048                                     Various   \n",
      "96049                                      Zambia   \n",
      "96050                                      Zambia   \n",
      "96051                                      Zambia   \n",
      "96052                                      Zambia   \n",
      "96053                                      Zambia   \n",
      "96054                                      Zambia   \n",
      "96055                                      Zambia   \n",
      "96056                                      Zambia   \n",
      "96057                                      Zambia   \n",
      "96058                                      Zambia   \n",
      "96059                                      Zambia   \n",
      "96060                                      Zambia   \n",
      "96061                                     fnSeqID   \n",
      "96062                                           *   \n",
      "96063                                          **   \n",
      "\n",
      "                          Country or territory of origin    Year  \\\n",
      "0                                                   Iraq  2016.0   \n",
      "1                                   Islamic Rep. of Iran  2016.0   \n",
      "2                                               Pakistan  2016.0   \n",
      "3                                                  China  2016.0   \n",
      "4                                 Dem. Rep. of the Congo  2016.0   \n",
      "5                                                  Egypt  2016.0   \n",
      "6                                                   Iraq  2016.0   \n",
      "7                                   Islamic Rep. of Iran  2016.0   \n",
      "8                                             Montenegro  2016.0   \n",
      "9                                                   Peru  2016.0   \n",
      "10                                    Russian Federation  2016.0   \n",
      "11                Serbia (and Kosovo: S/RES/1244 (1999))  2016.0   \n",
      "12                                    State of Palestine  2016.0   \n",
      "13                                      Syrian Arab Rep.  2016.0   \n",
      "14                 The former Yugoslav Rep. of Macedonia  2016.0   \n",
      "15                                                Turkey  2016.0   \n",
      "16                                               Ukraine  2016.0   \n",
      "17                                            Uzbekistan  2016.0   \n",
      "18                                           Afghanistan  2016.0   \n",
      "19                                               Burundi  2016.0   \n",
      "20                                              Cameroon  2016.0   \n",
      "21                                  Central African Rep.  2016.0   \n",
      "22                                                  Chad  2016.0   \n",
      "23                                         Côte d'Ivoire  2016.0   \n",
      "24                                Dem. Rep. of the Congo  2016.0   \n",
      "25                                               Eritrea  2016.0   \n",
      "26                                                Guinea  2016.0   \n",
      "27                                                  Iraq  2016.0   \n",
      "28                                               Liberia  2016.0   \n",
      "29                                                 Libya  2016.0   \n",
      "...                                                  ...     ...   \n",
      "96034                                             Rwanda  1975.0   \n",
      "96035                                            Various  1975.0   \n",
      "96036                                            Various  1975.0   \n",
      "96037                                            Burundi  1975.0   \n",
      "96038                             Dem. Rep. of the Congo  1975.0   \n",
      "96039                                             Malawi  1975.0   \n",
      "96040                                         Mozambique  1975.0   \n",
      "96041                                             Rwanda  1975.0   \n",
      "96042                                       South Africa  1975.0   \n",
      "96043                                             Uganda  1975.0   \n",
      "96044                                            Various  1975.0   \n",
      "96045                                           Zimbabwe  1975.0   \n",
      "96046                                            Various  1975.0   \n",
      "96047                                             Angola  1975.0   \n",
      "96048                                            Various  1975.0   \n",
      "96049                                             Angola  1975.0   \n",
      "96050                                              Congo  1975.0   \n",
      "96051                             Dem. Rep. of the Congo  1975.0   \n",
      "96052                                           Ethiopia  1975.0   \n",
      "96053                                              Kenya  1975.0   \n",
      "96054                                            Lesotho  1975.0   \n",
      "96055                                             Malawi  1975.0   \n",
      "96056                                         Mozambique  1975.0   \n",
      "96057                                            Namibia  1975.0   \n",
      "96058                                            Somalia  1975.0   \n",
      "96059                                       South Africa  1975.0   \n",
      "96060                                             Uganda  1975.0   \n",
      "96061                                           Footnote     NaN   \n",
      "96062  Persons recognized as refugees under the 1951 ...     NaN   \n",
      "96063  The category of people in refugee-like situati...     NaN   \n",
      "\n",
      "       Refugees<sup>*</sup>  Refugees assisted by UNHCR  \\\n",
      "0                       1.0                         1.0   \n",
      "1                      33.0                        33.0   \n",
      "2                   59737.0                     59737.0   \n",
      "3                      11.0                        11.0   \n",
      "4                       3.0                         3.0   \n",
      "5                       3.0                         3.0   \n",
      "6                      23.0                        23.0   \n",
      "7                      17.0                        17.0   \n",
      "8                       2.0                         2.0   \n",
      "9                       1.0                         1.0   \n",
      "10                      1.0                         1.0   \n",
      "11                     60.0                        60.0   \n",
      "12                      4.0                         4.0   \n",
      "13                      3.0                         3.0   \n",
      "14                      1.0                         NaN   \n",
      "15                      4.0                         4.0   \n",
      "16                      1.0                         1.0   \n",
      "17                      4.0                         4.0   \n",
      "18                      2.0                         2.0   \n",
      "19                      1.0                         1.0   \n",
      "20                     14.0                        14.0   \n",
      "21                     47.0                        47.0   \n",
      "22                      1.0                         1.0   \n",
      "23                     36.0                        36.0   \n",
      "24                     40.0                        40.0   \n",
      "25                      1.0                         1.0   \n",
      "26                      1.0                         1.0   \n",
      "27                     13.0                        13.0   \n",
      "28                      1.0                         1.0   \n",
      "29                     16.0                        16.0   \n",
      "...                     ...                         ...   \n",
      "96034               78120.0                         NaN   \n",
      "96035                  60.0                         NaN   \n",
      "96036              153000.0                         NaN   \n",
      "96037              110540.0                         NaN   \n",
      "96038                 400.0                         NaN   \n",
      "96039                  80.0                         NaN   \n",
      "96040               33700.0                         NaN   \n",
      "96041               23100.0                         NaN   \n",
      "96042                  60.0                         NaN   \n",
      "96043                2300.0                         NaN   \n",
      "96044                 900.0                         NaN   \n",
      "96045                  80.0                         NaN   \n",
      "96046              530000.0                         NaN   \n",
      "96047                5000.0                         NaN   \n",
      "96048              749120.0                         NaN   \n",
      "96049               30040.0                         NaN   \n",
      "96050                 110.0                         NaN   \n",
      "96051                  60.0                         NaN   \n",
      "96052                 110.0                         NaN   \n",
      "96053                  90.0                         NaN   \n",
      "96054                 120.0                         NaN   \n",
      "96055                 270.0                         NaN   \n",
      "96056                 450.0                         NaN   \n",
      "96057                3720.0                         NaN   \n",
      "96058                 110.0                         NaN   \n",
      "96059                 760.0                         NaN   \n",
      "96060                 210.0                         NaN   \n",
      "96061                   NaN                         NaN   \n",
      "96062                   NaN                         NaN   \n",
      "96063                   NaN                         NaN   \n",
      "\n",
      "       Total refugees and people in refugee-like situations<sup>**</sup>  \\\n",
      "0                                                    1.0                   \n",
      "1                                                   33.0                   \n",
      "2                                                59737.0                   \n",
      "3                                                   11.0                   \n",
      "4                                                    3.0                   \n",
      "5                                                    3.0                   \n",
      "6                                                   23.0                   \n",
      "7                                                   17.0                   \n",
      "8                                                    2.0                   \n",
      "9                                                    1.0                   \n",
      "10                                                   1.0                   \n",
      "11                                                  60.0                   \n",
      "12                                                   4.0                   \n",
      "13                                                   3.0                   \n",
      "14                                                   1.0                   \n",
      "15                                                   4.0                   \n",
      "16                                                   1.0                   \n",
      "17                                                   4.0                   \n",
      "18                                                   2.0                   \n",
      "19                                                   1.0                   \n",
      "20                                                  14.0                   \n",
      "21                                                  47.0                   \n",
      "22                                                   1.0                   \n",
      "23                                                  36.0                   \n",
      "24                                                  40.0                   \n",
      "25                                                   1.0                   \n",
      "26                                                   1.0                   \n",
      "27                                                  13.0                   \n",
      "28                                                   1.0                   \n",
      "29                                                  16.0                   \n",
      "...                                                  ...                   \n",
      "96034                                            78120.0                   \n",
      "96035                                               60.0                   \n",
      "96036                                           153000.0                   \n",
      "96037                                           110540.0                   \n",
      "96038                                              400.0                   \n",
      "96039                                               80.0                   \n",
      "96040                                            33700.0                   \n",
      "96041                                            23100.0                   \n",
      "96042                                               60.0                   \n",
      "96043                                             2300.0                   \n",
      "96044                                              900.0                   \n",
      "96045                                               80.0                   \n",
      "96046                                           530000.0                   \n",
      "96047                                             5000.0                   \n",
      "96048                                           749120.0                   \n",
      "96049                                            30040.0                   \n",
      "96050                                              110.0                   \n",
      "96051                                               60.0                   \n",
      "96052                                              110.0                   \n",
      "96053                                               90.0                   \n",
      "96054                                              120.0                   \n",
      "96055                                              270.0                   \n",
      "96056                                              450.0                   \n",
      "96057                                             3720.0                   \n",
      "96058                                              110.0                   \n",
      "96059                                              760.0                   \n",
      "96060                                              210.0                   \n",
      "96061                                                NaN                   \n",
      "96062                                                NaN                   \n",
      "96063                                                NaN                   \n",
      "\n",
      "       Total refugees and people in refugee-like situations assisted by UNHCR  \n",
      "0                                                    1.0                       \n",
      "1                                                   33.0                       \n",
      "2                                                59737.0                       \n",
      "3                                                   11.0                       \n",
      "4                                                    3.0                       \n",
      "5                                                    3.0                       \n",
      "6                                                   23.0                       \n",
      "7                                                   17.0                       \n",
      "8                                                    2.0                       \n",
      "9                                                    1.0                       \n",
      "10                                                   1.0                       \n",
      "11                                                  60.0                       \n",
      "12                                                   4.0                       \n",
      "13                                                   3.0                       \n",
      "14                                                   NaN                       \n",
      "15                                                   4.0                       \n",
      "16                                                   1.0                       \n",
      "17                                                   4.0                       \n",
      "18                                                   2.0                       \n",
      "19                                                   1.0                       \n",
      "20                                                  14.0                       \n",
      "21                                                  47.0                       \n",
      "22                                                   1.0                       \n",
      "23                                                  36.0                       \n",
      "24                                                  40.0                       \n",
      "25                                                   1.0                       \n",
      "26                                                   1.0                       \n",
      "27                                                  13.0                       \n",
      "28                                                   1.0                       \n",
      "29                                                  16.0                       \n",
      "...                                                  ...                       \n",
      "96034                                                NaN                       \n",
      "96035                                                NaN                       \n",
      "96036                                                NaN                       \n",
      "96037                                                NaN                       \n",
      "96038                                                NaN                       \n",
      "96039                                                NaN                       \n",
      "96040                                                NaN                       \n",
      "96041                                                NaN                       \n",
      "96042                                                NaN                       \n",
      "96043                                                NaN                       \n",
      "96044                                                NaN                       \n",
      "96045                                                NaN                       \n",
      "96046                                                NaN                       \n",
      "96047                                                NaN                       \n",
      "96048                                                NaN                       \n",
      "96049                                                NaN                       \n",
      "96050                                                NaN                       \n",
      "96051                                                NaN                       \n",
      "96052                                                NaN                       \n",
      "96053                                                NaN                       \n",
      "96054                                                NaN                       \n",
      "96055                                                NaN                       \n",
      "96056                                                NaN                       \n",
      "96057                                                NaN                       \n",
      "96058                                                NaN                       \n",
      "96059                                                NaN                       \n",
      "96060                                                NaN                       \n",
      "96061                                                NaN                       \n",
      "96062                                                NaN                       \n",
      "96063                                                NaN                       \n",
      "\n",
      "[96064 rows x 7 columns]\n"
     ]
    }
   ],
   "source": [
    "df = pd.read_csv('UNdata_refugees.csv')\n",
    "print(df)"
   ]
  },
  {
   "cell_type": "code",
   "execution_count": 3,
   "metadata": {},
   "outputs": [],
   "source": [
    "df.columns = ['Country_of_residence', 'Country_of_origin', 'Year', 'Refugees','Refugees_assisted', 'Refugee_like','Refugee_like assisted']"
   ]
  },
  {
   "cell_type": "code",
   "execution_count": 4,
   "metadata": {},
   "outputs": [
    {
     "data": {
      "text/html": [
       "<div>\n",
       "<style scoped>\n",
       "    .dataframe tbody tr th:only-of-type {\n",
       "        vertical-align: middle;\n",
       "    }\n",
       "\n",
       "    .dataframe tbody tr th {\n",
       "        vertical-align: top;\n",
       "    }\n",
       "\n",
       "    .dataframe thead th {\n",
       "        text-align: right;\n",
       "    }\n",
       "</style>\n",
       "<table border=\"1\" class=\"dataframe\">\n",
       "  <thead>\n",
       "    <tr style=\"text-align: right;\">\n",
       "      <th></th>\n",
       "      <th>Country_of_residence</th>\n",
       "      <th>Country_of_origin</th>\n",
       "      <th>Year</th>\n",
       "      <th>Refugees</th>\n",
       "      <th>Refugees_assisted</th>\n",
       "      <th>Refugee_like</th>\n",
       "      <th>Refugee_like assisted</th>\n",
       "    </tr>\n",
       "  </thead>\n",
       "  <tbody>\n",
       "    <tr>\n",
       "      <th>0</th>\n",
       "      <td>Afghanistan</td>\n",
       "      <td>Iraq</td>\n",
       "      <td>2016.0</td>\n",
       "      <td>1.0</td>\n",
       "      <td>1.0</td>\n",
       "      <td>1.0</td>\n",
       "      <td>1.0</td>\n",
       "    </tr>\n",
       "    <tr>\n",
       "      <th>1</th>\n",
       "      <td>Afghanistan</td>\n",
       "      <td>Islamic Rep. of Iran</td>\n",
       "      <td>2016.0</td>\n",
       "      <td>33.0</td>\n",
       "      <td>33.0</td>\n",
       "      <td>33.0</td>\n",
       "      <td>33.0</td>\n",
       "    </tr>\n",
       "    <tr>\n",
       "      <th>2</th>\n",
       "      <td>Afghanistan</td>\n",
       "      <td>Pakistan</td>\n",
       "      <td>2016.0</td>\n",
       "      <td>59737.0</td>\n",
       "      <td>59737.0</td>\n",
       "      <td>59737.0</td>\n",
       "      <td>59737.0</td>\n",
       "    </tr>\n",
       "  </tbody>\n",
       "</table>\n",
       "</div>"
      ],
      "text/plain": [
       "  Country_of_residence     Country_of_origin    Year  Refugees  \\\n",
       "0          Afghanistan                  Iraq  2016.0       1.0   \n",
       "1          Afghanistan  Islamic Rep. of Iran  2016.0      33.0   \n",
       "2          Afghanistan              Pakistan  2016.0   59737.0   \n",
       "\n",
       "   Refugees_assisted  Refugee_like  Refugee_like assisted  \n",
       "0                1.0           1.0                    1.0  \n",
       "1               33.0          33.0                   33.0  \n",
       "2            59737.0       59737.0                59737.0  "
      ]
     },
     "execution_count": 4,
     "metadata": {},
     "output_type": "execute_result"
    }
   ],
   "source": [
    "df.head(3)"
   ]
  },
  {
   "cell_type": "code",
   "execution_count": 40,
   "metadata": {},
   "outputs": [],
   "source": [
    "France = [1238,1273,1345,1567,1790,2120,2590,3213,3838, 4397, 7685]\n",
    "Germany = [21897,24236,25108,30320,30404,30425,31746,24203,27814, 30026, 46292]\n",
    "UK = [23069, 23565, 23079, 23658, 23406, 14424, 9845, 9166, 9054, 9354, 9752]\n",
    "US = [13242, 2365, 2102, 1711, 1364, 1103, 1017, 1071, 1210, 1361, 1466]\n",
    "Year = [2006,2007,2008,2009,2010,2011,2012,2013,2014, 2015, 2016]"
   ]
  },
  {
   "cell_type": "code",
   "execution_count": 12,
   "metadata": {},
   "outputs": [
    {
     "data": {
      "text/plain": [
       "2823.2727272727275"
      ]
     },
     "execution_count": 12,
     "metadata": {},
     "output_type": "execute_result"
    }
   ],
   "source": [
    "stats = pd.DataFrame()\n",
    "stats['France'] = [1238,1273,1345,1567,1790,2120,2590,3213,3838,4397,7685]\n",
    "np.mean(stats['France'])"
   ]
  },
  {
   "cell_type": "code",
   "execution_count": 8,
   "metadata": {},
   "outputs": [
    {
     "data": {
      "text/plain": [
       "2120.0"
      ]
     },
     "execution_count": 8,
     "metadata": {},
     "output_type": "execute_result"
    }
   ],
   "source": [
    "np.median(stats['France'])"
   ]
  },
  {
   "cell_type": "code",
   "execution_count": 25,
   "metadata": {},
   "outputs": [
    {
     "data": {
      "text/plain": [
       "29315.545454545456"
      ]
     },
     "execution_count": 25,
     "metadata": {},
     "output_type": "execute_result"
    }
   ],
   "source": [
    "stats['Germany'] = [21897,24236,25108,30320,30404,30425,31746,24203,27814, 30026, 46292]\n",
    "np.mean(stats['Germany'])"
   ]
  },
  {
   "cell_type": "code",
   "execution_count": 10,
   "metadata": {},
   "outputs": [
    {
     "data": {
      "text/plain": [
       "30026.0"
      ]
     },
     "execution_count": 10,
     "metadata": {},
     "output_type": "execute_result"
    }
   ],
   "source": [
    "np.median(stats['Germany'])"
   ]
  },
  {
   "cell_type": "code",
   "execution_count": 11,
   "metadata": {},
   "outputs": [
    {
     "data": {
      "text/plain": [
       "16215.636363636364"
      ]
     },
     "execution_count": 11,
     "metadata": {},
     "output_type": "execute_result"
    }
   ],
   "source": [
    "stats['UK'] = [23069, 23565, 23079, 23658, 23406, 14424, 9845, 9166, 9054, 9354, 9752]\n",
    "np.mean(stats['UK'])"
   ]
  },
  {
   "cell_type": "code",
   "execution_count": 12,
   "metadata": {},
   "outputs": [
    {
     "data": {
      "text/plain": [
       "14424.0"
      ]
     },
     "execution_count": 12,
     "metadata": {},
     "output_type": "execute_result"
    }
   ],
   "source": [
    "np.median(stats['UK'])"
   ]
  },
  {
   "cell_type": "code",
   "execution_count": 16,
   "metadata": {},
   "outputs": [
    {
     "data": {
      "text/plain": [
       "2546.5454545454545"
      ]
     },
     "execution_count": 16,
     "metadata": {},
     "output_type": "execute_result"
    }
   ],
   "source": [
    "stats['US'] = [13242, 2365, 2102, 1711, 1364, 1103, 1017, 1071, 1210, 1361, 1466]\n",
    "np.mean(stats['US'])"
   ]
  },
  {
   "cell_type": "code",
   "execution_count": 14,
   "metadata": {},
   "outputs": [
    {
     "data": {
      "text/plain": [
       "1364.0"
      ]
     },
     "execution_count": 14,
     "metadata": {},
     "output_type": "execute_result"
    }
   ],
   "source": [
    "np.median(stats['US'])"
   ]
  },
  {
   "cell_type": "code",
   "execution_count": 19,
   "metadata": {},
   "outputs": [
    {
     "data": {
      "text/plain": [
       "count       11.000000\n",
       "mean      2546.545455\n",
       "std       3573.232356\n",
       "min       1017.000000\n",
       "25%       1156.500000\n",
       "50%       1364.000000\n",
       "75%       1906.500000\n",
       "max      13242.000000\n",
       "Name: US, dtype: float64"
      ]
     },
     "execution_count": 19,
     "metadata": {},
     "output_type": "execute_result"
    }
   ],
   "source": [
    "stats['US'].describe()"
   ]
  },
  {
   "cell_type": "code",
   "execution_count": 21,
   "metadata": {},
   "outputs": [],
   "source": [
    "West['NATO'] = [1238,1273,1345,1567,1790,2120,2590,3213,3838,4397,7685,21897,24236,25108,30320,30404,30425,31746,24203,27814,30026,46292,23069,23565,23079,23658,23406,14424,9845,9166,9054,9354,9752,13242, 2365,2102,1711,1364,1103,1017,1071,1210,1361,1466]"
   ]
  },
  {
   "cell_type": "code",
   "execution_count": 21,
   "metadata": {},
   "outputs": [
    {
     "data": {
      "text/plain": [
       "count       44.000000\n",
       "mean     12725.250000\n",
       "std      12255.890466\n",
       "min       1017.000000\n",
       "25%       1675.000000\n",
       "50%       9110.000000\n",
       "75%      23588.250000\n",
       "max      46292.000000\n",
       "Name: NATO, dtype: float64"
      ]
     },
     "execution_count": 21,
     "metadata": {},
     "output_type": "execute_result"
    }
   ],
   "source": [
    "West['NATO'].describe()"
   ]
  },
  {
   "cell_type": "markdown",
   "metadata": {},
   "source": [
    "What is the relative role of the US against these NATO countries together?\n",
    "\n",
    "I took the mean of each country’s number of refugees over the specified time period. On average, Germany accepted the most refugees, followed by the UK, France and the US.  This same pattern of refugee acceptance is true when looking at the median.  Interestingly there is a significant difference between the median of France and the US whereas the difference between the means of France and US is smaller.  This can be accounted for by the anomalous figure of 2006 when the US took in a greater amount of refugees than the subsequent five years, whereas France’s refugee acceptance remained rather steady over the designated period of time of this project study.\n",
    "\n",
    "The mean of refugees accepted by the US (2546) falls well below the mean of the NATO average (12725).   The NATO average is particularly high because of the role of Germany.\n"
   ]
  },
  {
   "cell_type": "code",
   "execution_count": 45,
   "metadata": {},
   "outputs": [
    {
     "name": "stderr",
     "output_type": "stream",
     "text": [
      "/Applications/anaconda3/lib/python3.6/site-packages/matplotlib/axes/_axes.py:6462: UserWarning: The 'normed' kwarg is deprecated, and has been replaced by the 'density' kwarg.\n",
      "  warnings.warn(\"The 'normed' kwarg is deprecated, and has been \"\n"
     ]
    },
    {
     "data": {
      "image/png": "[encoded data removed]",
      "text/plain": [
       "<Figure size 432x288 with 1 Axes>"
      ]
     },
     "metadata": {},
     "output_type": "display_data"
    }
   ],
   "source": [
    "sns.distplot(West['NATO'])\n",
    "plt.xlim(0,70000)\n",
    "plt.title('Distribution of refugees in NATO')\n",
    "plt.show()"
   ]
  },
  {
   "cell_type": "markdown",
   "metadata": {},
   "source": [
    "What is the spread of refugee acceptance? \n",
    "\n",
    "The histogram below shows quite a spread between the level of refugees accepted.  Most countries accept less than 10,000 per year.  Germany’s acceptance of 46,292 refugees (2016) is an anomaly among the statistics.  "
   ]
  },
  {
   "cell_type": "code",
   "execution_count": 11,
   "metadata": {},
   "outputs": [
    {
     "data": {
      "image/png": "[encoded data removed]",
      "text/plain": [
       "<Figure size 432x288 with 1 Axes>"
      ]
     },
     "metadata": {},
     "output_type": "display_data"
    }
   ],
   "source": [
    "NATO = [1238,1273,1345,1567,1790,2120,2590,3213,3838,4397,7685,21897,24236,25108,30320,30404,30425,31746,24203,27814,30026,46292,23069,23565,23079,23658,23406,14424,9845,9166,9054,9354,9752,13242, 2365,2102,1711,1364,1103,1017,1071,1210,1361,1466]\n",
    "plt.hist(NATO, bins = 50)\n",
    "plt.xlabel('Refugees')\n",
    "plt.title('Spread of Refugees in NATO countries')\n",
    "plt.show()"
   ]
  },
  {
   "cell_type": "markdown",
   "metadata": {},
   "source": [
    "Which country accepts the most refugees? \n",
    "\n",
    "This first chart “Refugees from Afghanistan 2006-2016 shows the number of refugees from Afghanistan who are residents or asylum seekers in France, Germany, UK and the US. The numbers of refugees in Germany has increased significantly since 2006, reaching a height of 46,292 in 2016.  In fact, Germany’s reception of refugees from Afghanistan seems to have spiked between 2013 and 2016.  In contrast, the number of refugees in the US has declined since 2006 from a height of 13,242 to 1466 in 2016 and remains the lowest level among all the NATO countries analyzed in this study.  The UK has also seen a substantial decline in the number of refugees received.  The reduction in the number of refugees received seems to have occurred around 2010 and leveled out around 2012, hovering between 9-10,000 refugees per year. France is the most consistent in terms of accepting refugees. Whereas the other countries have accepted over 10,000 refugees in a year, France has never accepted more than 7685 refugees, which occurred in 2016.  Interestingly, France began as the country with the lowest level of acceptance, yet as of 2016, France accepted more refugees than the US. \n"
   ]
  },
  {
   "cell_type": "code",
   "execution_count": 6,
   "metadata": {},
   "outputs": [
    {
     "data": {
      "image/png": "[encoded data removed]",
      "text/plain": [
       "<Figure size 432x288 with 1 Axes>"
      ]
     },
     "metadata": {},
     "output_type": "display_data"
    }
   ],
   "source": [
    "plt.plot(Year,France, label='France')\n",
    "plt.plot(Year, Germany, label='Germany')\n",
    "plt.plot(Year, UK, label='UK')\n",
    "plt.plot(Year, US, label='US')\n",
    "\n",
    "plt.xlabel('Year')\n",
    "plt.ylabel('Number of Refugees')\n",
    "\n",
    "plt.title('Refugees from Afghanistan 2006-2016')\n",
    "plt.legend()\n",
    "plt.show()"
   ]
  },
  {
   "cell_type": "markdown",
   "metadata": {},
   "source": [
    "What it the difference between US acceptance levels and overall NATO acceptance levels?\n",
    "\n",
    "The two boxplots below show the difference between US acceptance level and the overall accpetance level in NATO.  From these boxplot we see that the US accepts a significantly lover level of refugees than NATO as a whole.  "
   ]
  },
  {
   "cell_type": "code",
   "execution_count": 52,
   "metadata": {},
   "outputs": [
    {
     "data": {
      "image/png": "[encoded data removed]",
      "text/plain": [
       "<Figure size 720x360 with 2 Axes>"
      ]
     },
     "metadata": {},
     "output_type": "display_data"
    }
   ],
   "source": [
    "plt.figure(figsize=(10,5))\n",
    "\n",
    "plt.subplot(1,2,1)\n",
    "plt.boxplot(stats['US'])\n",
    "plt.title('US acceptance level')\n",
    "plt.ylim(0,60000)\n",
    "\n",
    "\n",
    "plt.subplot(1, 2, 2)\n",
    "plt.boxplot(West['NATO'])\n",
    "plt.title('NATO acceptance level')\n",
    "plt.ylim(0,60000)\n",
    "plt.show()"
   ]
  },
  {
   "cell_type": "markdown",
   "metadata": {},
   "source": [
    "These final charts visualize the substantial difference between the number of refugees accepted by Germany and the U.S."
   ]
  },
  {
   "cell_type": "code",
   "execution_count": 42,
   "metadata": {},
   "outputs": [
    {
     "data": {
      "image/png": "[encoded data removed]",
      "text/plain": [
       "<Figure size 720x360 with 2 Axes>"
      ]
     },
     "metadata": {},
     "output_type": "display_data"
    }
   ],
   "source": [
    "plt.figure(figsize=(10,5))\n",
    "\n",
    "plt.subplot(1,2,1)\n",
    "plt.plot(Year,US, color='purple')\n",
    "plt.ylim(0, 50000)\n",
    "plt.ylabel('Number of Refugees')\n",
    "plt.xlabel('Year')\n",
    "plt.title('US Refugee Acceptance')\n",
    "\n",
    "plt.subplot(1, 2, 2)\n",
    "plt.plot(Year,Germany, color='green')\n",
    "plt.ylim(0, 50000)\n",
    "plt.ylabel('Number of Refugees')\n",
    "plt.xlabel('Year')\n",
    "\n",
    "plt.title('German Refugee Acceptance')\n",
    "plt.show()"
   ]
  },
  {
   "cell_type": "markdown",
   "metadata": {},
   "source": [
    "Further research\n",
    "\n",
    "Considering the war in Afghanistan was started in response to the 9/11 attacks, by analyzing this data several questions emerge.  Primarily, why does the U.S. accept fewer refugees from Afghanistan than its NATO allies? Are there particular political considerations that influence the number of refugees accepted?  During this time period, why did Germany increase the number of refuges while the UK and US have reduced the number of refugees and France has shown a slight increase?  Answering these questions requires qualitative analysis of mandates of NATO, individual country analysis of political environment etc. as well as quantitative analysis over a longer period of time.  \n"
   ]
  }
 ],
 "metadata": {
  "kernelspec": {
   "display_name": "Python 3",
   "language": "python",
   "name": "python3"
  },
  "language_info": {
   "codemirror_mode": {
    "name": "ipython",
    "version": 3
   },
   "file_extension": ".py",
   "mimetype": "text/x-python",
   "name": "python",
   "nbconvert_exporter": "python",
   "pygments_lexer": "ipython3",
   "version": "3.6.5"
  }
 },
 "nbformat": 4,
 "nbformat_minor": 2
}
