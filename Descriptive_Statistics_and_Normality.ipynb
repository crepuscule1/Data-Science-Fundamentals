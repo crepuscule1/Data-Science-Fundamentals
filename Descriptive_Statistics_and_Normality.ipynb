<!DOCTYPE html>
<html>
<head><meta charset="utf-8" />
<title>Descriptive_Statistics_and_Normality</title><script src="https://cdnjs.cloudflare.com/ajax/libs/require.js/2.1.10/require.min.js"></script>
<script src="https://cdnjs.cloudflare.com/ajax/libs/jquery/2.0.3/jquery.min.js"></script>

<style type="text/css">
    /*!
*
* Twitter Bootstrap
*
*/
/*!
 * Bootstrap v3.3.7 (http://getbootstrap.com)
 * Copyright 2011-2016 Twitter, Inc.
 * Licensed under MIT (https://github.com/twbs/bootstrap/blob/master/LICENSE)
 */
/*! normalize.css v3.0.3 | MIT License | github.com/necolas/normalize.css */
html {
  font-family: sans-serif;
  -ms-text-size-adjust: 100%;
  -webkit-text-size-adjust: 100%;
}
body {
  margin: 0;
}
article,
aside,
details,
figcaption,
figure,
footer,
header,
hgroup,
main,
menu,
nav,
section,
summary {
  display: block;
}
audio,
canvas,
progress,
video {
  display: inline-block;
  vertical-align: baseline;
}
audio:not([controls]) {
  display: none;
  height: 0;
}
[hidden],
template {
  display: none;
}
a {
  background-color: transparent;
}
a:active,
a:hover {
  outline: 0;
}
abbr[title] {
  border-bottom: 1px dotted;
}
b,
strong {
  font-weight: bold;
}
dfn {
  font-style: italic;
}
h1 {
  font-size: 2em;
  margin: 0.67em 0;
}
mark {
  background: #ff0;
  color: #000;
}
small {
  font-size: 80%;
}
sub,
sup {
  font-size: 75%;
  line-height: 0;
  position: relative;
  vertical-align: baseline;
}
sup {
  top: -0.5em;
}
sub {
  bottom: -0.25em;
}
img {
  border: 0;
}
svg:not(:root) {
  overflow: hidden;
}
figure {
  margin: 1em 40px;
}
hr {
  box-sizing: content-box;
  height: 0;
}
pre {
  overflow: auto;
}
code,
kbd,
pre,
samp {
  font-family: monospace, monospace;
  font-size: 1em;
}
button,
input,
optgroup,
select,
textarea {
  color: inherit;
  font: inherit;
  margin: 0;
}
button {
  overflow: visible;
}
button,
select {
  text-transform: none;
}
button,
html input[type="button"],
input[type="reset"],
input[type="submit"] {
  -webkit-appearance: button;
  cursor: pointer;
}
button[disabled],
html input[disabled] {
  cursor: default;
}
button::-moz-focus-inner,
input::-moz-focus-inner {
  border: 0;
  padding: 0;
}
input {
  line-height: normal;
}
input[type="checkbox"],
input[type="radio"] {
  box-sizing: border-box;
  padding: 0;
}
input[type="number"]::-webkit-inner-spin-button,
input[type="number"]::-webkit-outer-spin-button {
  height: auto;
}
input[type="search"] {
  -webkit-appearance: textfield;
  box-sizing: content-box;
}
input[type="search"]::-webkit-search-cancel-button,
input[type="search"]::-webkit-search-decoration {
  -webkit-appearance: none;
}
fieldset {
  border: 1px solid #c0c0c0;
  margin: 0 2px;
  padding: 0.35em 0.625em 0.75em;
}
legend {
  border: 0;
  padding: 0;
}
textarea {
  overflow: auto;
}
optgroup {
  font-weight: bold;
}
table {
  border-collapse: collapse;
  border-spacing: 0;
}
td,
th {
  padding: 0;
}
/*! Source: https://github.com/h5bp/html5-boilerplate/blob/master/src/css/main.css */
@media print {
  *,
  *:before,
  *:after {
    background: transparent !important;
    color: #000 !important;
    box-shadow: none !important;
    text-shadow: none !important;
  }
  a,
  a:visited {
    text-decoration: underline;
  }
  a[href]:after {
    content: " (" attr(href) ")";
  }
  abbr[title]:after {
    content: " (" attr(title) ")";
  }
  a[href^="#"]:after,
  a[href^="javascript:"]:after {
    content: "";
  }
  pre,
  blockquote {
    border: 1px solid #999;
    page-break-inside: avoid;
  }
  thead {
    display: table-header-group;
  }
  tr,
  img {
    page-break-inside: avoid;
  }
  img {
    max-width: 100% !important;
  }
  p,
  h2,
  h3 {
    orphans: 3;
    widows: 3;
  }
  h2,
  h3 {
    page-break-after: avoid;
  }
  .navbar {
    display: none;
  }
  .btn > .caret,
  .dropup > .btn > .caret {
    border-top-color: #000 !important;
  }
  .label {
    border: 1px solid #000;
  }
  .table {
    border-collapse: collapse !important;
  }
  .table td,
  .table th {
    background-color: #fff !important;
  }
  .table-bordered th,
  .table-bordered td {
    border: 1px solid #ddd !important;
  }
}
@font-face {
  font-family: 'Glyphicons Halflings';
  src: url('../components/bootstrap/fonts/glyphicons-halflings-regular.eot');
  src: url('../components/bootstrap/fonts/glyphicons-halflings-regular.eot?#iefix') format('embedded-opentype'), url('../components/bootstrap/fonts/glyphicons-halflings-regular.woff2') format('woff2'), url('../components/bootstrap/fonts/glyphicons-halflings-regular.woff') format('woff'), url('../components/bootstrap/fonts/glyphicons-halflings-regular.ttf') format('truetype'), url('../components/bootstrap/fonts/glyphicons-halflings-regular.svg#glyphicons_halflingsregular') format('svg');
}
.glyphicon {
  position: relative;
  top: 1px;
  display: inline-block;
  font-family: 'Glyphicons Halflings';
  font-style: normal;
  font-weight: normal;
  line-height: 1;
  -webkit-font-smoothing: antialiased;
  -moz-osx-font-smoothing: grayscale;
}
.glyphicon-asterisk:before {
  content: "\002a";
}
.glyphicon-plus:before {
  content: "\002b";
}
.glyphicon-euro:before,
.glyphicon-eur:before {
  content: "\20ac";
}
.glyphicon-minus:before {
  content: "\2212";
}
.glyphicon-cloud:before {
  content: "\2601";
}
.glyphicon-envelope:before {
  content: "\2709";
}
.glyphicon-pencil:before {
  content: "\270f";
}
.glyphicon-glass:before {
  content: "\e001";
}
.glyphicon-music:before {
  content: "\e002";
}
.glyphicon-search:before {
  content: "\e003";
}
.glyphicon-heart:before {
  content: "\e005";
}
.glyphicon-star:before {
  content: "\e006";
}
.glyphicon-star-empty:before {
  content: "\e007";
}
.glyphicon-user:before {
  content: "\e008";
}
.glyphicon-film:before {
  content: "\e009";
}
.glyphicon-th-large:before {
  content: "\e010";
}
.glyphicon-th:before {
  content: "\e011";
}
.glyphicon-th-list:before {
  content: "\e012";
}
.glyphicon-ok:before {
  content: "\e013";
}
.glyphicon-remove:before {
  content: "\e014";
}
.glyphicon-zoom-in:before {
  content: "\e015";
}
.glyphicon-zoom-out:before {
  content: "\e016";
}
.glyphicon-off:before {
  content: "\e017";
}
.glyphicon-signal:before {
  content: "\e018";
}
.glyphicon-cog:before {
  content: "\e019";
}
.glyphicon-trash:before {
  content: "\e020";
}
.glyphicon-home:before {
  content: "\e021";
}
.glyphicon-file:before {
  content: "\e022";
}
.glyphicon-time:before {
  content: "\e023";
}
.glyphicon-road:before {
  content: "\e024";
}
.glyphicon-download-alt:before {
  content: "\e025";
}
.glyphicon-download:before {
  content: "\e026";
}
.glyphicon-upload:before {
  content: "\e027";
}
.glyphicon-inbox:before {
  content: "\e028";
}
.glyphicon-play-circle:before {
  content: "\e029";
}
.glyphicon-repeat:before {
  content: "\e030";
}
.glyphicon-refresh:before {
  content: "\e031";
}
.glyphicon-list-alt:before {
  content: "\e032";
}
.glyphicon-lock:before {
  content: "\e033";
}
.glyphicon-flag:before {
  content: "\e034";
}
.glyphicon-headphones:before {
  content: "\e035";
}
.glyphicon-volume-off:before {
  content: "\e036";
}
.glyphicon-volume-down:before {
  content: "\e037";
}
.glyphicon-volume-up:before {
  content: "\e038";
}
.glyphicon-qrcode:before {
  content: "\e039";
}
.glyphicon-barcode:before {
  content: "\e040";
}
.glyphicon-tag:before {
  content: "\e041";
}
.glyphicon-tags:before {
  content: "\e042";
}
.glyphicon-book:before {
  content: "\e043";
}
.glyphicon-bookmark:before {
  content: "\e044";
}
.glyphicon-print:before {
  content: "\e045";
}
.glyphicon-camera:before {
  content: "\e046";
}
.glyphicon-font:before {
  content: "\e047";
}
.glyphicon-bold:before {
  content: "\e048";
}
.glyphicon-italic:before {
  content: "\e049";
}
.glyphicon-text-height:before {
  content: "\e050";
}
.glyphicon-text-width:before {
  content: "\e051";
}
.glyphicon-align-left:before {
  content: "\e052";
}
.glyphicon-align-center:before {
  content: "\e053";
}
.glyphicon-align-right:before {
  content: "\e054";
}
.glyphicon-align-justify:before {
  content: "\e055";
}
.glyphicon-list:before {
  content: "\e056";
}
.glyphicon-indent-left:before {
  content: "\e057";
}
.glyphicon-indent-right:before {
  content: "\e058";
}
.glyphicon-facetime-video:before {
  content: "\e059";
}
.glyphicon-picture:before {
  content: "\e060";
}
.glyphicon-map-marker:before {
  content: "\e062";
}
.glyphicon-adjust:before {
  content: "\e063";
}
.glyphicon-tint:before {
  content: "\e064";
}
.glyphicon-edit:before {
  content: "\e065";
}
.glyphicon-share:before {
  content: "\e066";
}
.glyphicon-check:before {
  content: "\e067";
}
.glyphicon-move:before {
  content: "\e068";
}
.glyphicon-step-backward:before {
  content: "\e069";
}
.glyphicon-fast-backward:before {
  content: "\e070";
}
.glyphicon-backward:before {
  content: "\e071";
}
.glyphicon-play:before {
  content: "\e072";
}
.glyphicon-pause:before {
  content: "\e073";
}
.glyphicon-stop:before {
  content: "\e074";
}
.glyphicon-forward:before {
  content: "\e075";
}
.glyphicon-fast-forward:before {
  content: "\e076";
}
.glyphicon-step-forward:before {
  content: "\e077";
}
.glyphicon-eject:before {
  content: "\e078";
}
.glyphicon-chevron-left:before {
  content: "\e079";
}
.glyphicon-chevron-right:before {
  content: "\e080";
}
.glyphicon-plus-sign:before {
  content: "\e081";
}
.glyphicon-minus-sign:before {
  content: "\e082";
}
.glyphicon-remove-sign:before {
  content: "\e083";
}
.glyphicon-ok-sign:before {
  content: "\e084";
}
.glyphicon-question-sign:before {
  content: "\e085";
}
.glyphicon-info-sign:before {
  content: "\e086";
}
.glyphicon-screenshot:before {
  content: "\e087";
}
.glyphicon-remove-circle:before {
  content: "\e088";
}
.glyphicon-ok-circle:before {
  content: "\e089";
}
.glyphicon-ban-circle:before {
  content: "\e090";
}
.glyphicon-arrow-left:before {
  content: "\e091";
}
.glyphicon-arrow-right:before {
  content: "\e092";
}
.glyphicon-arrow-up:before {
  content: "\e093";
}
.glyphicon-arrow-down:before {
  content: "\e094";
}
.glyphicon-share-alt:before {
  content: "\e095";
}
.glyphicon-resize-full:before {
  content: "\e096";
}
.glyphicon-resize-small:before {
  content: "\e097";
}
.glyphicon-exclamation-sign:before {
  content: "\e101";
}
.glyphicon-gift:before {
  content: "\e102";
}
.glyphicon-leaf:before {
  content: "\e103";
}
.glyphicon-fire:before {
  content: "\e104";
}
.glyphicon-eye-open:before {
  content: "\e105";
}
.glyphicon-eye-close:before {
  content: "\e106";
}
.glyphicon-warning-sign:before {
  content: "\e107";
}
.glyphicon-plane:before {
  content: "\e108";
}
.glyphicon-calendar:before {
  content: "\e109";
}
.glyphicon-random:before {
  content: "\e110";
}
.glyphicon-comment:before {
  content: "\e111";
}
.glyphicon-magnet:before {
  content: "\e112";
}
.glyphicon-chevron-up:before {
  content: "\e113";
}
.glyphicon-chevron-down:before {
  content: "\e114";
}
.glyphicon-retweet:before {
  content: "\e115";
}
.glyphicon-shopping-cart:before {
  content: "\e116";
}
.glyphicon-folder-close:before {
  content: "\e117";
}
.glyphicon-folder-open:before {
  content: "\e118";
}
.glyphicon-resize-vertical:before {
  content: "\e119";
}
.glyphicon-resize-horizontal:before {
  content: "\e120";
}
.glyphicon-hdd:before {
  content: "\e121";
}
.glyphicon-bullhorn:before {
  content: "\e122";
}
.glyphicon-bell:before {
  content: "\e123";
}
.glyphicon-certificate:before {
  content: "\e124";
}
.glyphicon-thumbs-up:before {
  content: "\e125";
}
.glyphicon-thumbs-down:before {
  content: "\e126";
}
.glyphicon-hand-right:before {
  content: "\e127";
}
.glyphicon-hand-left:before {
  content: "\e128";
}
.glyphicon-hand-up:before {
  content: "\e129";
}
.glyphicon-hand-down:before {
  content: "\e130";
}
.glyphicon-circle-arrow-right:before {
  content: "\e131";
}
.glyphicon-circle-arrow-left:before {
  content: "\e132";
}
.glyphicon-circle-arrow-up:before {
  content: "\e133";
}
.glyphicon-circle-arrow-down:before {
  content: "\e134";
}
.glyphicon-globe:before {
  content: "\e135";
}
.glyphicon-wrench:before {
  content: "\e136";
}
.glyphicon-tasks:before {
  content: "\e137";
}
.glyphicon-filter:before {
  content: "\e138";
}
.glyphicon-briefcase:before {
  content: "\e139";
}
.glyphicon-fullscreen:before {
  content: "\e140";
}
.glyphicon-dashboard:before {
  content: "\e141";
}
.glyphicon-paperclip:before {
  content: "\e142";
}
.glyphicon-heart-empty:before {
  content: "\e143";
}
.glyphicon-link:before {
  content: "\e144";
}
.glyphicon-phone:before {
  content: "\e145";
}
.glyphicon-pushpin:before {
  content: "\e146";
}
.glyphicon-usd:before {
  content: "\e148";
}
.glyphicon-gbp:before {
  content: "\e149";
}
.glyphicon-sort:before {
  content: "\e150";
}
.glyphicon-sort-by-alphabet:before {
  content: "\e151";
}
.glyphicon-sort-by-alphabet-alt:before {
  content: "\e152";
}
.glyphicon-sort-by-order:before {
  content: "\e153";
}
.glyphicon-sort-by-order-alt:before {
  content: "\e154";
}
.glyphicon-sort-by-attributes:before {
  content: "\e155";
}
.glyphicon-sort-by-attributes-alt:before {
  content: "\e156";
}
.glyphicon-unchecked:before {
  content: "\e157";
}
.glyphicon-expand:before {
  content: "\e158";
}
.glyphicon-collapse-down:before {
  content: "\e159";
}
.glyphicon-collapse-up:before {
  content: "\e160";
}
.glyphicon-log-in:before {
  content: "\e161";
}
.glyphicon-flash:before {
  content: "\e162";
}
.glyphicon-log-out:before {
  content: "\e163";
}
.glyphicon-new-window:before {
  content: "\e164";
}
.glyphicon-record:before {
  content: "\e165";
}
.glyphicon-save:before {
  content: "\e166";
}
.glyphicon-open:before {
  content: "\e167";
}
.glyphicon-saved:before {
  content: "\e168";
}
.glyphicon-import:before {
  content: "\e169";
}
.glyphicon-export:before {
  content: "\e170";
}
.glyphicon-send:before {
  content: "\e171";
}
.glyphicon-floppy-disk:before {
  content: "\e172";
}
.glyphicon-floppy-saved:before {
  content: "\e173";
}
.glyphicon-floppy-remove:before {
  content: "\e174";
}
.glyphicon-floppy-save:before {
  content: "\e175";
}
.glyphicon-floppy-open:before {
  content: "\e176";
}
.glyphicon-credit-card:before {
  content: "\e177";
}
.glyphicon-transfer:before {
  content: "\e178";
}
.glyphicon-cutlery:before {
  content: "\e179";
}
.glyphicon-header:before {
  content: "\e180";
}
.glyphicon-compressed:before {
  content: "\e181";
}
.glyphicon-earphone:before {
  content: "\e182";
}
.glyphicon-phone-alt:before {
  content: "\e183";
}
.glyphicon-tower:before {
  content: "\e184";
}
.glyphicon-stats:before {
  content: "\e185";
}
.glyphicon-sd-video:before {
  content: "\e186";
}
.glyphicon-hd-video:before {
  content: "\e187";
}
.glyphicon-subtitles:before {
  content: "\e188";
}
.glyphicon-sound-stereo:before {
  content: "\e189";
}
.glyphicon-sound-dolby:before {
  content: "\e190";
}
.glyphicon-sound-5-1:before {
  content: "\e191";
}
.glyphicon-sound-6-1:before {
  content: "\e192";
}
.glyphicon-sound-7-1:before {
  content: "\e193";
}
.glyphicon-copyright-mark:before {
  content: "\e194";
}
.glyphicon-registration-mark:before {
  content: "\e195";
}
.glyphicon-cloud-download:before {
  content: "\e197";
}
.glyphicon-cloud-upload:before {
  content: "\e198";
}
.glyphicon-tree-conifer:before {
  content: "\e199";
}
.glyphicon-tree-deciduous:before {
  content: "\e200";
}
.glyphicon-cd:before {
  content: "\e201";
}
.glyphicon-save-file:before {
  content: "\e202";
}
.glyphicon-open-file:before {
  content: "\e203";
}
.glyphicon-level-up:before {
  content: "\e204";
}
.glyphicon-copy:before {
  content: "\e205";
}
.glyphicon-paste:before {
  content: "\e206";
}
.glyphicon-alert:before {
  content: "\e209";
}
.glyphicon-equalizer:before {
  content: "\e210";
}
.glyphicon-king:before {
  content: "\e211";
}
.glyphicon-queen:before {
  content: "\e212";
}
.glyphicon-pawn:before {
  content: "\e213";
}
.glyphicon-bishop:before {
  content: "\e214";
}
.glyphicon-knight:before {
  content: "\e215";
}
.glyphicon-baby-formula:before {
  content: "\e216";
}
.glyphicon-tent:before {
  content: "\26fa";
}
.glyphicon-blackboard:before {
  content: "\e218";
}
.glyphicon-bed:before {
  content: "\e219";
}
.glyphicon-apple:before {
  content: "\f8ff";
}
.glyphicon-erase:before {
  content: "\e221";
}
.glyphicon-hourglass:before {
  content: "\231b";
}
.glyphicon-lamp:before {
  content: "\e223";
}
.glyphicon-duplicate:before {
  content: "\e224";
}
.glyphicon-piggy-bank:before {
  content: "\e225";
}
.glyphicon-scissors:before {
  content: "\e226";
}
.glyphicon-bitcoin:before {
  content: "\e227";
}
.glyphicon-btc:before {
  content: "\e227";
}
.glyphicon-xbt:before {
  content: "\e227";
}
.glyphicon-yen:before {
  content: "\00a5";
}
.glyphicon-jpy:before {
  content: "\00a5";
}
.glyphicon-ruble:before {
  content: "\20bd";
}
.glyphicon-rub:before {
  content: "\20bd";
}
.glyphicon-scale:before {
  content: "\e230";
}
.glyphicon-ice-lolly:before {
  content: "\e231";
}
.glyphicon-ice-lolly-tasted:before {
  content: "\e232";
}
.glyphicon-education:before {
  content: "\e233";
}
.glyphicon-option-horizontal:before {
  content: "\e234";
}
.glyphicon-option-vertical:before {
  content: "\e235";
}
.glyphicon-menu-hamburger:before {
  content: "\e236";
}
.glyphicon-modal-window:before {
  content: "\e237";
}
.glyphicon-oil:before {
  content: "\e238";
}
.glyphicon-grain:before {
  content: "\e239";
}
.glyphicon-sunglasses:before {
  content: "\e240";
}
.glyphicon-text-size:before {
  content: "\e241";
}
.glyphicon-text-color:before {
  content: "\e242";
}
.glyphicon-text-background:before {
  content: "\e243";
}
.glyphicon-object-align-top:before {
  content: "\e244";
}
.glyphicon-object-align-bottom:before {
  content: "\e245";
}
.glyphicon-object-align-horizontal:before {
  content: "\e246";
}
.glyphicon-object-align-left:before {
  content: "\e247";
}
.glyphicon-object-align-vertical:before {
  content: "\e248";
}
.glyphicon-object-align-right:before {
  content: "\e249";
}
.glyphicon-triangle-right:before {
  content: "\e250";
}
.glyphicon-triangle-left:before {
  content: "\e251";
}
.glyphicon-triangle-bottom:before {
  content: "\e252";
}
.glyphicon-triangle-top:before {
  content: "\e253";
}
.glyphicon-console:before {
  content: "\e254";
}
.glyphicon-superscript:before {
  content: "\e255";
}
.glyphicon-subscript:before {
  content: "\e256";
}
.glyphicon-menu-left:before {
  content: "\e257";
}
.glyphicon-menu-right:before {
  content: "\e258";
}
.glyphicon-menu-down:before {
  content: "\e259";
}
.glyphicon-menu-up:before {
  content: "\e260";
}
* {
  -webkit-box-sizing: border-box;
  -moz-box-sizing: border-box;
  box-sizing: border-box;
}
*:before,
*:after {
  -webkit-box-sizing: border-box;
  -moz-box-sizing: border-box;
  box-sizing: border-box;
}
html {
  font-size: 10px;
  -webkit-tap-highlight-color: rgba(0, 0, 0, 0);
}
body {
  font-family: "Helvetica Neue", Helvetica, Arial, sans-serif;
  font-size: 13px;
  line-height: 1.42857143;
  color: #000;
  background-color: #fff;
}
input,
button,
select,
textarea {
  font-family: inherit;
  font-size: inherit;
  line-height: inherit;
}
a {
  color: #337ab7;
  text-decoration: none;
}
a:hover,
a:focus {
  color: #23527c;
  text-decoration: underline;
}
a:focus {
  outline: 5px auto -webkit-focus-ring-color;
  outline-offset: -2px;
}
figure {
  margin: 0;
}
img {
  vertical-align: middle;
}
.img-responsive,
.thumbnail > img,
.thumbnail a > img,
.carousel-inner > .item > img,
.carousel-inner > .item > a > img {
  display: block;
  max-width: 100%;
  height: auto;
}
.img-rounded {
  border-radius: 3px;
}
.img-thumbnail {
  padding: 4px;
  line-height: 1.42857143;
  background-color: #fff;
  border: 1px solid #ddd;
  border-radius: 2px;
  -webkit-transition: all 0.2s ease-in-out;
  -o-transition: all 0.2s ease-in-out;
  transition: all 0.2s ease-in-out;
  display: inline-block;
  max-width: 100%;
  height: auto;
}
.img-circle {
  border-radius: 50%;
}
hr {
  margin-top: 18px;
  margin-bottom: 18px;
  border: 0;
  border-top: 1px solid #eeeeee;
}
.sr-only {
  position: absolute;
  width: 1px;
  height: 1px;
  margin: -1px;
  padding: 0;
  overflow: hidden;
  clip: rect(0, 0, 0, 0);
  border: 0;
}
.sr-only-focusable:active,
.sr-only-focusable:focus {
  position: static;
  width: auto;
  height: auto;
  margin: 0;
  overflow: visible;
  clip: auto;
}
[role="button"] {
  cursor: pointer;
}
h1,
h2,
h3,
h4,
h5,
h6,
.h1,
.h2,
.h3,
.h4,
.h5,
.h6 {
  font-family: inherit;
  font-weight: 500;
  line-height: 1.1;
  color: inherit;
}
h1 small,
h2 small,
h3 small,
h4 small,
h5 small,
h6 small,
.h1 small,
.h2 small,
.h3 small,
.h4 small,
.h5 small,
.h6 small,
h1 .small,
h2 .small,
h3 .small,
h4 .small,
h5 .small,
h6 .small,
.h1 .small,
.h2 .small,
.h3 .small,
.h4 .small,
.h5 .small,
.h6 .small {
  font-weight: normal;
  line-height: 1;
  color: #777777;
}
h1,
.h1,
h2,
.h2,
h3,
.h3 {
  margin-top: 18px;
  margin-bottom: 9px;
}
h1 small,
.h1 small,
h2 small,
.h2 small,
h3 small,
.h3 small,
h1 .small,
.h1 .small,
h2 .small,
.h2 .small,
h3 .small,
.h3 .small {
  font-size: 65%;
}
h4,
.h4,
h5,
.h5,
h6,
.h6 {
  margin-top: 9px;
  margin-bottom: 9px;
}
h4 small,
.h4 small,
h5 small,
.h5 small,
h6 small,
.h6 small,
h4 .small,
.h4 .small,
h5 .small,
.h5 .small,
h6 .small,
.h6 .small {
  font-size: 75%;
}
h1,
.h1 {
  font-size: 33px;
}
h2,
.h2 {
  font-size: 27px;
}
h3,
.h3 {
  font-size: 23px;
}
h4,
.h4 {
  font-size: 17px;
}
h5,
.h5 {
  font-size: 13px;
}
h6,
.h6 {
  font-size: 12px;
}
p {
  margin: 0 0 9px;
}
.lead {
  margin-bottom: 18px;
  font-size: 14px;
  font-weight: 300;
  line-height: 1.4;
}
@media (min-width: 768px) {
  .lead {
    font-size: 19.5px;
  }
}
small,
.small {
  font-size: 92%;
}
mark,
.mark {
  background-color: #fcf8e3;
  padding: .2em;
}
.text-left {
  text-align: left;
}
.text-right {
  text-align: right;
}
.text-center {
  text-align: center;
}
.text-justify {
  text-align: justify;
}
.text-nowrap {
  white-space: nowrap;
}
.text-lowercase {
  text-transform: lowercase;
}
.text-uppercase {
  text-transform: uppercase;
}
.text-capitalize {
  text-transform: capitalize;
}
.text-muted {
  color: #777777;
}
.text-primary {
  color: #337ab7;
}
a.text-primary:hover,
a.text-primary:focus {
  color: #286090;
}
.text-success {
  color: #3c763d;
}
a.text-success:hover,
a.text-success:focus {
  color: #2b542c;
}
.text-info {
  color: #31708f;
}
a.text-info:hover,
a.text-info:focus {
  color: #245269;
}
.text-warning {
  color: #8a6d3b;
}
a.text-warning:hover,
a.text-warning:focus {
  color: #66512c;
}
.text-danger {
  color: #a94442;
}
a.text-danger:hover,
a.text-danger:focus {
  color: #843534;
}
.bg-primary {
  color: #fff;
  background-color: #337ab7;
}
a.bg-primary:hover,
a.bg-primary:focus {
  background-color: #286090;
}
.bg-success {
  background-color: #dff0d8;
}
a.bg-success:hover,
a.bg-success:focus {
  background-color: #c1e2b3;
}
.bg-info {
  background-color: #d9edf7;
}
a.bg-info:hover,
a.bg-info:focus {
  background-color: #afd9ee;
}
.bg-warning {
  background-color: #fcf8e3;
}
a.bg-warning:hover,
a.bg-warning:focus {
  background-color: #f7ecb5;
}
.bg-danger {
  background-color: #f2dede;
}
a.bg-danger:hover,
a.bg-danger:focus {
  background-color: #e4b9b9;
}
.page-header {
  padding-bottom: 8px;
  margin: 36px 0 18px;
  border-bottom: 1px solid #eeeeee;
}
ul,
ol {
  margin-top: 0;
  margin-bottom: 9px;
}
ul ul,
ol ul,
ul ol,
ol ol {
  margin-bottom: 0;
}
.list-unstyled {
  padding-left: 0;
  list-style: none;
}
.list-inline {
  padding-left: 0;
  list-style: none;
  margin-left: -5px;
}
.list-inline > li {
  display: inline-block;
  padding-left: 5px;
  padding-right: 5px;
}
dl {
  margin-top: 0;
  margin-bottom: 18px;
}
dt,
dd {
  line-height: 1.42857143;
}
dt {
  font-weight: bold;
}
dd {
  margin-left: 0;
}
@media (min-width: 541px) {
  .dl-horizontal dt {
    float: left;
    width: 160px;
    clear: left;
    text-align: right;
    overflow: hidden;
    text-overflow: ellipsis;
    white-space: nowrap;
  }
  .dl-horizontal dd {
    margin-left: 180px;
  }
}
abbr[title],
abbr[data-original-title] {
  cursor: help;
  border-bottom: 1px dotted #777777;
}
.initialism {
  font-size: 90%;
  text-transform: uppercase;
}
blockquote {
  padding: 9px 18px;
  margin: 0 0 18px;
  font-size: inherit;
  border-left: 5px solid #eeeeee;
}
blockquote p:last-child,
blockquote ul:last-child,
blockquote ol:last-child {
  margin-bottom: 0;
}
blockquote footer,
blockquote small,
blockquote .small {
  display: block;
  font-size: 80%;
  line-height: 1.42857143;
  color: #777777;
}
blockquote footer:before,
blockquote small:before,
blockquote .small:before {
  content: '\2014 \00A0';
}
.blockquote-reverse,
blockquote.pull-right {
  padding-right: 15px;
  padding-left: 0;
  border-right: 5px solid #eeeeee;
  border-left: 0;
  text-align: right;
}
.blockquote-reverse footer:before,
blockquote.pull-right footer:before,
.blockquote-reverse small:before,
blockquote.pull-right small:before,
.blockquote-reverse .small:before,
blockquote.pull-right .small:before {
  content: '';
}
.blockquote-reverse footer:after,
blockquote.pull-right footer:after,
.blockquote-reverse small:after,
blockquote.pull-right small:after,
.blockquote-reverse .small:after,
blockquote.pull-right .small:after {
  content: '\00A0 \2014';
}
address {
  margin-bottom: 18px;
  font-style: normal;
  line-height: 1.42857143;
}
code,
kbd,
pre,
samp {
  font-family: monospace;
}
code {
  padding: 2px 4px;
  font-size: 90%;
  color: #c7254e;
  background-color: #f9f2f4;
  border-radius: 2px;
}
kbd {
  padding: 2px 4px;
  font-size: 90%;
  color: #888;
  background-color: transparent;
  border-radius: 1px;
  box-shadow: inset 0 -1px 0 rgba(0, 0, 0, 0.25);
}
kbd kbd {
  padding: 0;
  font-size: 100%;
  font-weight: bold;
  box-shadow: none;
}
pre {
  display: block;
  padding: 8.5px;
  margin: 0 0 9px;
  font-size: 12px;
  line-height: 1.42857143;
  word-break: break-all;
  word-wrap: break-word;
  color: #333333;
  background-color: #f5f5f5;
  border: 1px solid #ccc;
  border-radius: 2px;
}
pre code {
  padding: 0;
  font-size: inherit;
  color: inherit;
  white-space: pre-wrap;
  background-color: transparent;
  border-radius: 0;
}
.pre-scrollable {
  max-height: 340px;
  overflow-y: scroll;
}
.container {
  margin-right: auto;
  margin-left: auto;
  padding-left: 0px;
  padding-right: 0px;
}
@media (min-width: 768px) {
  .container {
    width: 768px;
  }
}
@media (min-width: 992px) {
  .container {
    width: 940px;
  }
}
@media (min-width: 1200px) {
  .container {
    width: 1140px;
  }
}
.container-fluid {
  margin-right: auto;
  margin-left: auto;
  padding-left: 0px;
  padding-right: 0px;
}
.row {
  margin-left: 0px;
  margin-right: 0px;
}
.col-xs-1, .col-sm-1, .col-md-1, .col-lg-1, .col-xs-2, .col-sm-2, .col-md-2, .col-lg-2, .col-xs-3, .col-sm-3, .col-md-3, .col-lg-3, .col-xs-4, .col-sm-4, .col-md-4, .col-lg-4, .col-xs-5, .col-sm-5, .col-md-5, .col-lg-5, .col-xs-6, .col-sm-6, .col-md-6, .col-lg-6, .col-xs-7, .col-sm-7, .col-md-7, .col-lg-7, .col-xs-8, .col-sm-8, .col-md-8, .col-lg-8, .col-xs-9, .col-sm-9, .col-md-9, .col-lg-9, .col-xs-10, .col-sm-10, .col-md-10, .col-lg-10, .col-xs-11, .col-sm-11, .col-md-11, .col-lg-11, .col-xs-12, .col-sm-12, .col-md-12, .col-lg-12 {
  position: relative;
  min-height: 1px;
  padding-left: 0px;
  padding-right: 0px;
}
.col-xs-1, .col-xs-2, .col-xs-3, .col-xs-4, .col-xs-5, .col-xs-6, .col-xs-7, .col-xs-8, .col-xs-9, .col-xs-10, .col-xs-11, .col-xs-12 {
  float: left;
}
.col-xs-12 {
  width: 100%;
}
.col-xs-11 {
  width: 91.66666667%;
}
.col-xs-10 {
  width: 83.33333333%;
}
.col-xs-9 {
  width: 75%;
}
.col-xs-8 {
  width: 66.66666667%;
}
.col-xs-7 {
  width: 58.33333333%;
}
.col-xs-6 {
  width: 50%;
}
.col-xs-5 {
  width: 41.66666667%;
}
.col-xs-4 {
  width: 33.33333333%;
}
.col-xs-3 {
  width: 25%;
}
.col-xs-2 {
  width: 16.66666667%;
}
.col-xs-1 {
  width: 8.33333333%;
}
.col-xs-pull-12 {
  right: 100%;
}
.col-xs-pull-11 {
  right: 91.66666667%;
}
.col-xs-pull-10 {
  right: 83.33333333%;
}
.col-xs-pull-9 {
  right: 75%;
}
.col-xs-pull-8 {
  right: 66.66666667%;
}
.col-xs-pull-7 {
  right: 58.33333333%;
}
.col-xs-pull-6 {
  right: 50%;
}
.col-xs-pull-5 {
  right: 41.66666667%;
}
.col-xs-pull-4 {
  right: 33.33333333%;
}
.col-xs-pull-3 {
  right: 25%;
}
.col-xs-pull-2 {
  right: 16.66666667%;
}
.col-xs-pull-1 {
  right: 8.33333333%;
}
.col-xs-pull-0 {
  right: auto;
}
.col-xs-push-12 {
  left: 100%;
}
.col-xs-push-11 {
  left: 91.66666667%;
}
.col-xs-push-10 {
  left: 83.33333333%;
}
.col-xs-push-9 {
  left: 75%;
}
.col-xs-push-8 {
  left: 66.66666667%;
}
.col-xs-push-7 {
  left: 58.33333333%;
}
.col-xs-push-6 {
  left: 50%;
}
.col-xs-push-5 {
  left: 41.66666667%;
}
.col-xs-push-4 {
  left: 33.33333333%;
}
.col-xs-push-3 {
  left: 25%;
}
.col-xs-push-2 {
  left: 16.66666667%;
}
.col-xs-push-1 {
  left: 8.33333333%;
}
.col-xs-push-0 {
  left: auto;
}
.col-xs-offset-12 {
  margin-left: 100%;
}
.col-xs-offset-11 {
  margin-left: 91.66666667%;
}
.col-xs-offset-10 {
  margin-left: 83.33333333%;
}
.col-xs-offset-9 {
  margin-left: 75%;
}
.col-xs-offset-8 {
  margin-left: 66.66666667%;
}
.col-xs-offset-7 {
  margin-left: 58.33333333%;
}
.col-xs-offset-6 {
  margin-left: 50%;
}
.col-xs-offset-5 {
  margin-left: 41.66666667%;
}
.col-xs-offset-4 {
  margin-left: 33.33333333%;
}
.col-xs-offset-3 {
  margin-left: 25%;
}
.col-xs-offset-2 {
  margin-left: 16.66666667%;
}
.col-xs-offset-1 {
  margin-left: 8.33333333%;
}
.col-xs-offset-0 {
  margin-left: 0%;
}
@media (min-width: 768px) {
  .col-sm-1, .col-sm-2, .col-sm-3, .col-sm-4, .col-sm-5, .col-sm-6, .col-sm-7, .col-sm-8, .col-sm-9, .col-sm-10, .col-sm-11, .col-sm-12 {
    float: left;
  }
  .col-sm-12 {
    width: 100%;
  }
  .col-sm-11 {
    width: 91.66666667%;
  }
  .col-sm-10 {
    width: 83.33333333%;
  }
  .col-sm-9 {
    width: 75%;
  }
  .col-sm-8 {
    width: 66.66666667%;
  }
  .col-sm-7 {
    width: 58.33333333%;
  }
  .col-sm-6 {
    width: 50%;
  }
  .col-sm-5 {
    width: 41.66666667%;
  }
  .col-sm-4 {
    width: 33.33333333%;
  }
  .col-sm-3 {
    width: 25%;
  }
  .col-sm-2 {
    width: 16.66666667%;
  }
  .col-sm-1 {
    width: 8.33333333%;
  }
  .col-sm-pull-12 {
    right: 100%;
  }
  .col-sm-pull-11 {
    right: 91.66666667%;
  }
  .col-sm-pull-10 {
    right: 83.33333333%;
  }
  .col-sm-pull-9 {
    right: 75%;
  }
  .col-sm-pull-8 {
    right: 66.66666667%;
  }
  .col-sm-pull-7 {
    right: 58.33333333%;
  }
  .col-sm-pull-6 {
    right: 50%;
  }
  .col-sm-pull-5 {
    right: 41.66666667%;
  }
  .col-sm-pull-4 {
    right: 33.33333333%;
  }
  .col-sm-pull-3 {
    right: 25%;
  }
  .col-sm-pull-2 {
    right: 16.66666667%;
  }
  .col-sm-pull-1 {
    right: 8.33333333%;
  }
  .col-sm-pull-0 {
    right: auto;
  }
  .col-sm-push-12 {
    left: 100%;
  }
  .col-sm-push-11 {
    left: 91.66666667%;
  }
  .col-sm-push-10 {
    left: 83.33333333%;
  }
  .col-sm-push-9 {
    left: 75%;
  }
  .col-sm-push-8 {
    left: 66.66666667%;
  }
  .col-sm-push-7 {
    left: 58.33333333%;
  }
  .col-sm-push-6 {
    left: 50%;
  }
  .col-sm-push-5 {
    left: 41.66666667%;
  }
  .col-sm-push-4 {
    left: 33.33333333%;
  }
  .col-sm-push-3 {
    left: 25%;
  }
  .col-sm-push-2 {
    left: 16.66666667%;
  }
  .col-sm-push-1 {
    left: 8.33333333%;
  }
  .col-sm-push-0 {
    left: auto;
  }
  .col-sm-offset-12 {
    margin-left: 100%;
  }
  .col-sm-offset-11 {
    margin-left: 91.66666667%;
  }
  .col-sm-offset-10 {
    margin-left: 83.33333333%;
  }
  .col-sm-offset-9 {
    margin-left: 75%;
  }
  .col-sm-offset-8 {
    margin-left: 66.66666667%;
  }
  .col-sm-offset-7 {
    margin-left: 58.33333333%;
  }
  .col-sm-offset-6 {
    margin-left: 50%;
  }
  .col-sm-offset-5 {
    margin-left: 41.66666667%;
  }
  .col-sm-offset-4 {
    margin-left: 33.33333333%;
  }
  .col-sm-offset-3 {
    margin-left: 25%;
  }
  .col-sm-offset-2 {
    margin-left: 16.66666667%;
  }
  .col-sm-offset-1 {
    margin-left: 8.33333333%;
  }
  .col-sm-offset-0 {
    margin-left: 0%;
  }
}
@media (min-width: 992px) {
  .col-md-1, .col-md-2, .col-md-3, .col-md-4, .col-md-5, .col-md-6, .col-md-7, .col-md-8, .col-md-9, .col-md-10, .col-md-11, .col-md-12 {
    float: left;
  }
  .col-md-12 {
    width: 100%;
  }
  .col-md-11 {
    width: 91.66666667%;
  }
  .col-md-10 {
    width: 83.33333333%;
  }
  .col-md-9 {
    width: 75%;
  }
  .col-md-8 {
    width: 66.66666667%;
  }
  .col-md-7 {
    width: 58.33333333%;
  }
  .col-md-6 {
    width: 50%;
  }
  .col-md-5 {
    width: 41.66666667%;
  }
  .col-md-4 {
    width: 33.33333333%;
  }
  .col-md-3 {
    width: 25%;
  }
  .col-md-2 {
    width: 16.66666667%;
  }
  .col-md-1 {
    width: 8.33333333%;
  }
  .col-md-pull-12 {
    right: 100%;
  }
  .col-md-pull-11 {
    right: 91.66666667%;
  }
  .col-md-pull-10 {
    right: 83.33333333%;
  }
  .col-md-pull-9 {
    right: 75%;
  }
  .col-md-pull-8 {
    right: 66.66666667%;
  }
  .col-md-pull-7 {
    right: 58.33333333%;
  }
  .col-md-pull-6 {
    right: 50%;
  }
  .col-md-pull-5 {
    right: 41.66666667%;
  }
  .col-md-pull-4 {
    right: 33.33333333%;
  }
  .col-md-pull-3 {
    right: 25%;
  }
  .col-md-pull-2 {
    right: 16.66666667%;
  }
  .col-md-pull-1 {
    right: 8.33333333%;
  }
  .col-md-pull-0 {
    right: auto;
  }
  .col-md-push-12 {
    left: 100%;
  }
  .col-md-push-11 {
    left: 91.66666667%;
  }
  .col-md-push-10 {
    left: 83.33333333%;
  }
  .col-md-push-9 {
    left: 75%;
  }
  .col-md-push-8 {
    left: 66.66666667%;
  }
  .col-md-push-7 {
    left: 58.33333333%;
  }
  .col-md-push-6 {
    left: 50%;
  }
  .col-md-push-5 {
    left: 41.66666667%;
  }
  .col-md-push-4 {
    left: 33.33333333%;
  }
  .col-md-push-3 {
    left: 25%;
  }
  .col-md-push-2 {
    left: 16.66666667%;
  }
  .col-md-push-1 {
    left: 8.33333333%;
  }
  .col-md-push-0 {
    left: auto;
  }
  .col-md-offset-12 {
    margin-left: 100%;
  }
  .col-md-offset-11 {
    margin-left: 91.66666667%;
  }
  .col-md-offset-10 {
    margin-left: 83.33333333%;
  }
  .col-md-offset-9 {
    margin-left: 75%;
  }
  .col-md-offset-8 {
    margin-left: 66.66666667%;
  }
  .col-md-offset-7 {
    margin-left: 58.33333333%;
  }
  .col-md-offset-6 {
    margin-left: 50%;
  }
  .col-md-offset-5 {
    margin-left: 41.66666667%;
  }
  .col-md-offset-4 {
    margin-left: 33.33333333%;
  }
  .col-md-offset-3 {
    margin-left: 25%;
  }
  .col-md-offset-2 {
    margin-left: 16.66666667%;
  }
  .col-md-offset-1 {
    margin-left: 8.33333333%;
  }
  .col-md-offset-0 {
    margin-left: 0%;
  }
}
@media (min-width: 1200px) {
  .col-lg-1, .col-lg-2, .col-lg-3, .col-lg-4, .col-lg-5, .col-lg-6, .col-lg-7, .col-lg-8, .col-lg-9, .col-lg-10, .col-lg-11, .col-lg-12 {
    float: left;
  }
  .col-lg-12 {
    width: 100%;
  }
  .col-lg-11 {
    width: 91.66666667%;
  }
  .col-lg-10 {
    width: 83.33333333%;
  }
  .col-lg-9 {
    width: 75%;
  }
  .col-lg-8 {
    width: 66.66666667%;
  }
  .col-lg-7 {
    width: 58.33333333%;
  }
  .col-lg-6 {
    width: 50%;
  }
  .col-lg-5 {
    width: 41.66666667%;
  }
  .col-lg-4 {
    width: 33.33333333%;
  }
  .col-lg-3 {
    width: 25%;
  }
  .col-lg-2 {
    width: 16.66666667%;
  }
  .col-lg-1 {
    width: 8.33333333%;
  }
  .col-lg-pull-12 {
    right: 100%;
  }
  .col-lg-pull-11 {
    right: 91.66666667%;
  }
  .col-lg-pull-10 {
    right: 83.33333333%;
  }
  .col-lg-pull-9 {
    right: 75%;
  }
  .col-lg-pull-8 {
    right: 66.66666667%;
  }
  .col-lg-pull-7 {
    right: 58.33333333%;
  }
  .col-lg-pull-6 {
    right: 50%;
  }
  .col-lg-pull-5 {
    right: 41.66666667%;
  }
  .col-lg-pull-4 {
    right: 33.33333333%;
  }
  .col-lg-pull-3 {
    right: 25%;
  }
  .col-lg-pull-2 {
    right: 16.66666667%;
  }
  .col-lg-pull-1 {
    right: 8.33333333%;
  }
  .col-lg-pull-0 {
    right: auto;
  }
  .col-lg-push-12 {
    left: 100%;
  }
  .col-lg-push-11 {
    left: 91.66666667%;
  }
  .col-lg-push-10 {
    left: 83.33333333%;
  }
  .col-lg-push-9 {
    left: 75%;
  }
  .col-lg-push-8 {
    left: 66.66666667%;
  }
  .col-lg-push-7 {
    left: 58.33333333%;
  }
  .col-lg-push-6 {
    left: 50%;
  }
  .col-lg-push-5 {
    left: 41.66666667%;
  }
  .col-lg-push-4 {
    left: 33.33333333%;
  }
  .col-lg-push-3 {
    left: 25%;
  }
  .col-lg-push-2 {
    left: 16.66666667%;
  }
  .col-lg-push-1 {
    left: 8.33333333%;
  }
  .col-lg-push-0 {
    left: auto;
  }
  .col-lg-offset-12 {
    margin-left: 100%;
  }
  .col-lg-offset-11 {
    margin-left: 91.66666667%;
  }
  .col-lg-offset-10 {
    margin-left: 83.33333333%;
  }
  .col-lg-offset-9 {
    margin-left: 75%;
  }
  .col-lg-offset-8 {
    margin-left: 66.66666667%;
  }
  .col-lg-offset-7 {
    margin-left: 58.33333333%;
  }
  .col-lg-offset-6 {
    margin-left: 50%;
  }
  .col-lg-offset-5 {
    margin-left: 41.66666667%;
  }
  .col-lg-offset-4 {
    margin-left: 33.33333333%;
  }
  .col-lg-offset-3 {
    margin-left: 25%;
  }
  .col-lg-offset-2 {
    margin-left: 16.66666667%;
  }
  .col-lg-offset-1 {
    margin-left: 8.33333333%;
  }
  .col-lg-offset-0 {
    margin-left: 0%;
  }
}
table {
  background-color: transparent;
}
caption {
  padding-top: 8px;
  padding-bottom: 8px;
  color: #777777;
  text-align: left;
}
th {
  text-align: left;
}
.table {
  width: 100%;
  max-width: 100%;
  margin-bottom: 18px;
}
.table > thead > tr > th,
.table > tbody > tr > th,
.table > tfoot > tr > th,
.table > thead > tr > td,
.table > tbody > tr > td,
.table > tfoot > tr > td {
  padding: 8px;
  line-height: 1.42857143;
  vertical-align: top;
  border-top: 1px solid #ddd;
}
.table > thead > tr > th {
  vertical-align: bottom;
  border-bottom: 2px solid #ddd;
}
.table > caption + thead > tr:first-child > th,
.table > colgroup + thead > tr:first-child > th,
.table > thead:first-child > tr:first-child > th,
.table > caption + thead > tr:first-child > td,
.table > colgroup + thead > tr:first-child > td,
.table > thead:first-child > tr:first-child > td {
  border-top: 0;
}
.table > tbody + tbody {
  border-top: 2px solid #ddd;
}
.table .table {
  background-color: #fff;
}
.table-condensed > thead > tr > th,
.table-condensed > tbody > tr > th,
.table-condensed > tfoot > tr > th,
.table-condensed > thead > tr > td,
.table-condensed > tbody > tr > td,
.table-condensed > tfoot > tr > td {
  padding: 5px;
}
.table-bordered {
  border: 1px solid #ddd;
}
.table-bordered > thead > tr > th,
.table-bordered > tbody > tr > th,
.table-bordered > tfoot > tr > th,
.table-bordered > thead > tr > td,
.table-bordered > tbody > tr > td,
.table-bordered > tfoot > tr > td {
  border: 1px solid #ddd;
}
.table-bordered > thead > tr > th,
.table-bordered > thead > tr > td {
  border-bottom-width: 2px;
}
.table-striped > tbody > tr:nth-of-type(odd) {
  background-color: #f9f9f9;
}
.table-hover > tbody > tr:hover {
  background-color: #f5f5f5;
}
table col[class*="col-"] {
  position: static;
  float: none;
  display: table-column;
}
table td[class*="col-"],
table th[class*="col-"] {
  position: static;
  float: none;
  display: table-cell;
}
.table > thead > tr > td.active,
.table > tbody > tr > td.active,
.table > tfoot > tr > td.active,
.table > thead > tr > th.active,
.table > tbody > tr > th.active,
.table > tfoot > tr > th.active,
.table > thead > tr.active > td,
.table > tbody > tr.active > td,
.table > tfoot > tr.active > td,
.table > thead > tr.active > th,
.table > tbody > tr.active > th,
.table > tfoot > tr.active > th {
  background-color: #f5f5f5;
}
.table-hover > tbody > tr > td.active:hover,
.table-hover > tbody > tr > th.active:hover,
.table-hover > tbody > tr.active:hover > td,
.table-hover > tbody > tr:hover > .active,
.table-hover > tbody > tr.active:hover > th {
  background-color: #e8e8e8;
}
.table > thead > tr > td.success,
.table > tbody > tr > td.success,
.table > tfoot > tr > td.success,
.table > thead > tr > th.success,
.table > tbody > tr > th.success,
.table > tfoot > tr > th.success,
.table > thead > tr.success > td,
.table > tbody > tr.success > td,
.table > tfoot > tr.success > td,
.table > thead > tr.success > th,
.table > tbody > tr.success > th,
.table > tfoot > tr.success > th {
  background-color: #dff0d8;
}
.table-hover > tbody > tr > td.success:hover,
.table-hover > tbody > tr > th.success:hover,
.table-hover > tbody > tr.success:hover > td,
.table-hover > tbody > tr:hover > .success,
.table-hover > tbody > tr.success:hover > th {
  background-color: #d0e9c6;
}
.table > thead > tr > td.info,
.table > tbody > tr > td.info,
.table > tfoot > tr > td.info,
.table > thead > tr > th.info,
.table > tbody > tr > th.info,
.table > tfoot > tr > th.info,
.table > thead > tr.info > td,
.table > tbody > tr.info > td,
.table > tfoot > tr.info > td,
.table > thead > tr.info > th,
.table > tbody > tr.info > th,
.table > tfoot > tr.info > th {
  background-color: #d9edf7;
}
.table-hover > tbody > tr > td.info:hover,
.table-hover > tbody > tr > th.info:hover,
.table-hover > tbody > tr.info:hover > td,
.table-hover > tbody > tr:hover > .info,
.table-hover > tbody > tr.info:hover > th {
  background-color: #c4e3f3;
}
.table > thead > tr > td.warning,
.table > tbody > tr > td.warning,
.table > tfoot > tr > td.warning,
.table > thead > tr > th.warning,
.table > tbody > tr > th.warning,
.table > tfoot > tr > th.warning,
.table > thead > tr.warning > td,
.table > tbody > tr.warning > td,
.table > tfoot > tr.warning > td,
.table > thead > tr.warning > th,
.table > tbody > tr.warning > th,
.table > tfoot > tr.warning > th {
  background-color: #fcf8e3;
}
.table-hover > tbody > tr > td.warning:hover,
.table-hover > tbody > tr > th.warning:hover,
.table-hover > tbody > tr.warning:hover > td,
.table-hover > tbody > tr:hover > .warning,
.table-hover > tbody > tr.warning:hover > th {
  background-color: #faf2cc;
}
.table > thead > tr > td.danger,
.table > tbody > tr > td.danger,
.table > tfoot > tr > td.danger,
.table > thead > tr > th.danger,
.table > tbody > tr > th.danger,
.table > tfoot > tr > th.danger,
.table > thead > tr.danger > td,
.table > tbody > tr.danger > td,
.table > tfoot > tr.danger > td,
.table > thead > tr.danger > th,
.table > tbody > tr.danger > th,
.table > tfoot > tr.danger > th {
  background-color: #f2dede;
}
.table-hover > tbody > tr > td.danger:hover,
.table-hover > tbody > tr > th.danger:hover,
.table-hover > tbody > tr.danger:hover > td,
.table-hover > tbody > tr:hover > .danger,
.table-hover > tbody > tr.danger:hover > th {
  background-color: #ebcccc;
}
.table-responsive {
  overflow-x: auto;
  min-height: 0.01%;
}
@media screen and (max-width: 767px) {
  .table-responsive {
    width: 100%;
    margin-bottom: 13.5px;
    overflow-y: hidden;
    -ms-overflow-style: -ms-autohiding-scrollbar;
    border: 1px solid #ddd;
  }
  .table-responsive > .table {
    margin-bottom: 0;
  }
  .table-responsive > .table > thead > tr > th,
  .table-responsive > .table > tbody > tr > th,
  .table-responsive > .table > tfoot > tr > th,
  .table-responsive > .table > thead > tr > td,
  .table-responsive > .table > tbody > tr > td,
  .table-responsive > .table > tfoot > tr > td {
    white-space: nowrap;
  }
  .table-responsive > .table-bordered {
    border: 0;
  }
  .table-responsive > .table-bordered > thead > tr > th:first-child,
  .table-responsive > .table-bordered > tbody > tr > th:first-child,
  .table-responsive > .table-bordered > tfoot > tr > th:first-child,
  .table-responsive > .table-bordered > thead > tr > td:first-child,
  .table-responsive > .table-bordered > tbody > tr > td:first-child,
  .table-responsive > .table-bordered > tfoot > tr > td:first-child {
    border-left: 0;
  }
  .table-responsive > .table-bordered > thead > tr > th:last-child,
  .table-responsive > .table-bordered > tbody > tr > th:last-child,
  .table-responsive > .table-bordered > tfoot > tr > th:last-child,
  .table-responsive > .table-bordered > thead > tr > td:last-child,
  .table-responsive > .table-bordered > tbody > tr > td:last-child,
  .table-responsive > .table-bordered > tfoot > tr > td:last-child {
    border-right: 0;
  }
  .table-responsive > .table-bordered > tbody > tr:last-child > th,
  .table-responsive > .table-bordered > tfoot > tr:last-child > th,
  .table-responsive > .table-bordered > tbody > tr:last-child > td,
  .table-responsive > .table-bordered > tfoot > tr:last-child > td {
    border-bottom: 0;
  }
}
fieldset {
  padding: 0;
  margin: 0;
  border: 0;
  min-width: 0;
}
legend {
  display: block;
  width: 100%;
  padding: 0;
  margin-bottom: 18px;
  font-size: 19.5px;
  line-height: inherit;
  color: #333333;
  border: 0;
  border-bottom: 1px solid #e5e5e5;
}
label {
  display: inline-block;
  max-width: 100%;
  margin-bottom: 5px;
  font-weight: bold;
}
input[type="search"] {
  -webkit-box-sizing: border-box;
  -moz-box-sizing: border-box;
  box-sizing: border-box;
}
input[type="radio"],
input[type="checkbox"] {
  margin: 4px 0 0;
  margin-top: 1px \9;
  line-height: normal;
}
input[type="file"] {
  display: block;
}
input[type="range"] {
  display: block;
  width: 100%;
}
select[multiple],
select[size] {
  height: auto;
}
input[type="file"]:focus,
input[type="radio"]:focus,
input[type="checkbox"]:focus {
  outline: 5px auto -webkit-focus-ring-color;
  outline-offset: -2px;
}
output {
  display: block;
  padding-top: 7px;
  font-size: 13px;
  line-height: 1.42857143;
  color: #555555;
}
.form-control {
  display: block;
  width: 100%;
  height: 32px;
  padding: 6px 12px;
  font-size: 13px;
  line-height: 1.42857143;
  color: #555555;
  background-color: #fff;
  background-image: none;
  border: 1px solid #ccc;
  border-radius: 2px;
  -webkit-box-shadow: inset 0 1px 1px rgba(0, 0, 0, 0.075);
  box-shadow: inset 0 1px 1px rgba(0, 0, 0, 0.075);
  -webkit-transition: border-color ease-in-out .15s, box-shadow ease-in-out .15s;
  -o-transition: border-color ease-in-out .15s, box-shadow ease-in-out .15s;
  transition: border-color ease-in-out .15s, box-shadow ease-in-out .15s;
}
.form-control:focus {
  border-color: #66afe9;
  outline: 0;
  -webkit-box-shadow: inset 0 1px 1px rgba(0,0,0,.075), 0 0 8px rgba(102, 175, 233, 0.6);
  box-shadow: inset 0 1px 1px rgba(0,0,0,.075), 0 0 8px rgba(102, 175, 233, 0.6);
}
.form-control::-moz-placeholder {
  color: #999;
  opacity: 1;
}
.form-control:-ms-input-placeholder {
  color: #999;
}
.form-control::-webkit-input-placeholder {
  color: #999;
}
.form-control::-ms-expand {
  border: 0;
  background-color: transparent;
}
.form-control[disabled],
.form-control[readonly],
fieldset[disabled] .form-control {
  background-color: #eeeeee;
  opacity: 1;
}
.form-control[disabled],
fieldset[disabled] .form-control {
  cursor: not-allowed;
}
textarea.form-control {
  height: auto;
}
input[type="search"] {
  -webkit-appearance: none;
}
@media screen and (-webkit-min-device-pixel-ratio: 0) {
  input[type="date"].form-control,
  input[type="time"].form-control,
  input[type="datetime-local"].form-control,
  input[type="month"].form-control {
    line-height: 32px;
  }
  input[type="date"].input-sm,
  input[type="time"].input-sm,
  input[type="datetime-local"].input-sm,
  input[type="month"].input-sm,
  .input-group-sm input[type="date"],
  .input-group-sm input[type="time"],
  .input-group-sm input[type="datetime-local"],
  .input-group-sm input[type="month"] {
    line-height: 30px;
  }
  input[type="date"].input-lg,
  input[type="time"].input-lg,
  input[type="datetime-local"].input-lg,
  input[type="month"].input-lg,
  .input-group-lg input[type="date"],
  .input-group-lg input[type="time"],
  .input-group-lg input[type="datetime-local"],
  .input-group-lg input[type="month"] {
    line-height: 45px;
  }
}
.form-group {
  margin-bottom: 15px;
}
.radio,
.checkbox {
  position: relative;
  display: block;
  margin-top: 10px;
  margin-bottom: 10px;
}
.radio label,
.checkbox label {
  min-height: 18px;
  padding-left: 20px;
  margin-bottom: 0;
  font-weight: normal;
  cursor: pointer;
}
.radio input[type="radio"],
.radio-inline input[type="radio"],
.checkbox input[type="checkbox"],
.checkbox-inline input[type="checkbox"] {
  position: absolute;
  margin-left: -20px;
  margin-top: 4px \9;
}
.radio + .radio,
.checkbox + .checkbox {
  margin-top: -5px;
}
.radio-inline,
.checkbox-inline {
  position: relative;
  display: inline-block;
  padding-left: 20px;
  margin-bottom: 0;
  vertical-align: middle;
  font-weight: normal;
  cursor: pointer;
}
.radio-inline + .radio-inline,
.checkbox-inline + .checkbox-inline {
  margin-top: 0;
  margin-left: 10px;
}
input[type="radio"][disabled],
input[type="checkbox"][disabled],
input[type="radio"].disabled,
input[type="checkbox"].disabled,
fieldset[disabled] input[type="radio"],
fieldset[disabled] input[type="checkbox"] {
  cursor: not-allowed;
}
.radio-inline.disabled,
.checkbox-inline.disabled,
fieldset[disabled] .radio-inline,
fieldset[disabled] .checkbox-inline {
  cursor: not-allowed;
}
.radio.disabled label,
.checkbox.disabled label,
fieldset[disabled] .radio label,
fieldset[disabled] .checkbox label {
  cursor: not-allowed;
}
.form-control-static {
  padding-top: 7px;
  padding-bottom: 7px;
  margin-bottom: 0;
  min-height: 31px;
}
.form-control-static.input-lg,
.form-control-static.input-sm {
  padding-left: 0;
  padding-right: 0;
}
.input-sm {
  height: 30px;
  padding: 5px 10px;
  font-size: 12px;
  line-height: 1.5;
  border-radius: 1px;
}
select.input-sm {
  height: 30px;
  line-height: 30px;
}
textarea.input-sm,
select[multiple].input-sm {
  height: auto;
}
.form-group-sm .form-control {
  height: 30px;
  padding: 5px 10px;
  font-size: 12px;
  line-height: 1.5;
  border-radius: 1px;
}
.form-group-sm select.form-control {
  height: 30px;
  line-height: 30px;
}
.form-group-sm textarea.form-control,
.form-group-sm select[multiple].form-control {
  height: auto;
}
.form-group-sm .form-control-static {
  height: 30px;
  min-height: 30px;
  padding: 6px 10px;
  font-size: 12px;
  line-height: 1.5;
}
.input-lg {
  height: 45px;
  padding: 10px 16px;
  font-size: 17px;
  line-height: 1.3333333;
  border-radius: 3px;
}
select.input-lg {
  height: 45px;
  line-height: 45px;
}
textarea.input-lg,
select[multiple].input-lg {
  height: auto;
}
.form-group-lg .form-control {
  height: 45px;
  padding: 10px 16px;
  font-size: 17px;
  line-height: 1.3333333;
  border-radius: 3px;
}
.form-group-lg select.form-control {
  height: 45px;
  line-height: 45px;
}
.form-group-lg textarea.form-control,
.form-group-lg select[multiple].form-control {
  height: auto;
}
.form-group-lg .form-control-static {
  height: 45px;
  min-height: 35px;
  padding: 11px 16px;
  font-size: 17px;
  line-height: 1.3333333;
}
.has-feedback {
  position: relative;
}
.has-feedback .form-control {
  padding-right: 40px;
}
.form-control-feedback {
  position: absolute;
  top: 0;
  right: 0;
  z-index: 2;
  display: block;
  width: 32px;
  height: 32px;
  line-height: 32px;
  text-align: center;
  pointer-events: none;
}
.input-lg + .form-control-feedback,
.input-group-lg + .form-control-feedback,
.form-group-lg .form-control + .form-control-feedback {
  width: 45px;
  height: 45px;
  line-height: 45px;
}
.input-sm + .form-control-feedback,
.input-group-sm + .form-control-feedback,
.form-group-sm .form-control + .form-control-feedback {
  width: 30px;
  height: 30px;
  line-height: 30px;
}
.has-success .help-block,
.has-success .control-label,
.has-success .radio,
.has-success .checkbox,
.has-success .radio-inline,
.has-success .checkbox-inline,
.has-success.radio label,
.has-success.checkbox label,
.has-success.radio-inline label,
.has-success.checkbox-inline label {
  color: #3c763d;
}
.has-success .form-control {
  border-color: #3c763d;
  -webkit-box-shadow: inset 0 1px 1px rgba(0, 0, 0, 0.075);
  box-shadow: inset 0 1px 1px rgba(0, 0, 0, 0.075);
}
.has-success .form-control:focus {
  border-color: #2b542c;
  -webkit-box-shadow: inset 0 1px 1px rgba(0, 0, 0, 0.075), 0 0 6px #67b168;
  box-shadow: inset 0 1px 1px rgba(0, 0, 0, 0.075), 0 0 6px #67b168;
}
.has-success .input-group-addon {
  color: #3c763d;
  border-color: #3c763d;
  background-color: #dff0d8;
}
.has-success .form-control-feedback {
  color: #3c763d;
}
.has-warning .help-block,
.has-warning .control-label,
.has-warning .radio,
.has-warning .checkbox,
.has-warning .radio-inline,
.has-warning .checkbox-inline,
.has-warning.radio label,
.has-warning.checkbox label,
.has-warning.radio-inline label,
.has-warning.checkbox-inline label {
  color: #8a6d3b;
}
.has-warning .form-control {
  border-color: #8a6d3b;
  -webkit-box-shadow: inset 0 1px 1px rgba(0, 0, 0, 0.075);
  box-shadow: inset 0 1px 1px rgba(0, 0, 0, 0.075);
}
.has-warning .form-control:focus {
  border-color: #66512c;
  -webkit-box-shadow: inset 0 1px 1px rgba(0, 0, 0, 0.075), 0 0 6px #c0a16b;
  box-shadow: inset 0 1px 1px rgba(0, 0, 0, 0.075), 0 0 6px #c0a16b;
}
.has-warning .input-group-addon {
  color: #8a6d3b;
  border-color: #8a6d3b;
  background-color: #fcf8e3;
}
.has-warning .form-control-feedback {
  color: #8a6d3b;
}
.has-error .help-block,
.has-error .control-label,
.has-error .radio,
.has-error .checkbox,
.has-error .radio-inline,
.has-error .checkbox-inline,
.has-error.radio label,
.has-error.checkbox label,
.has-error.radio-inline label,
.has-error.checkbox-inline label {
  color: #a94442;
}
.has-error .form-control {
  border-color: #a94442;
  -webkit-box-shadow: inset 0 1px 1px rgba(0, 0, 0, 0.075);
  box-shadow: inset 0 1px 1px rgba(0, 0, 0, 0.075);
}
.has-error .form-control:focus {
  border-color: #843534;
  -webkit-box-shadow: inset 0 1px 1px rgba(0, 0, 0, 0.075), 0 0 6px #ce8483;
  box-shadow: inset 0 1px 1px rgba(0, 0, 0, 0.075), 0 0 6px #ce8483;
}
.has-error .input-group-addon {
  color: #a94442;
  border-color: #a94442;
  background-color: #f2dede;
}
.has-error .form-control-feedback {
  color: #a94442;
}
.has-feedback label ~ .form-control-feedback {
  top: 23px;
}
.has-feedback label.sr-only ~ .form-control-feedback {
  top: 0;
}
.help-block {
  display: block;
  margin-top: 5px;
  margin-bottom: 10px;
  color: #404040;
}
@media (min-width: 768px) {
  .form-inline .form-group {
    display: inline-block;
    margin-bottom: 0;
    vertical-align: middle;
  }
  .form-inline .form-control {
    display: inline-block;
    width: auto;
    vertical-align: middle;
  }
  .form-inline .form-control-static {
    display: inline-block;
  }
  .form-inline .input-group {
    display: inline-table;
    vertical-align: middle;
  }
  .form-inline .input-group .input-group-addon,
  .form-inline .input-group .input-group-btn,
  .form-inline .input-group .form-control {
    width: auto;
  }
  .form-inline .input-group > .form-control {
    width: 100%;
  }
  .form-inline .control-label {
    margin-bottom: 0;
    vertical-align: middle;
  }
  .form-inline .radio,
  .form-inline .checkbox {
    display: inline-block;
    margin-top: 0;
    margin-bottom: 0;
    vertical-align: middle;
  }
  .form-inline .radio label,
  .form-inline .checkbox label {
    padding-left: 0;
  }
  .form-inline .radio input[type="radio"],
  .form-inline .checkbox input[type="checkbox"] {
    position: relative;
    margin-left: 0;
  }
  .form-inline .has-feedback .form-control-feedback {
    top: 0;
  }
}
.form-horizontal .radio,
.form-horizontal .checkbox,
.form-horizontal .radio-inline,
.form-horizontal .checkbox-inline {
  margin-top: 0;
  margin-bottom: 0;
  padding-top: 7px;
}
.form-horizontal .radio,
.form-horizontal .checkbox {
  min-height: 25px;
}
.form-horizontal .form-group {
  margin-left: 0px;
  margin-right: 0px;
}
@media (min-width: 768px) {
  .form-horizontal .control-label {
    text-align: right;
    margin-bottom: 0;
    padding-top: 7px;
  }
}
.form-horizontal .has-feedback .form-control-feedback {
  right: 0px;
}
@media (min-width: 768px) {
  .form-horizontal .form-group-lg .control-label {
    padding-top: 11px;
    font-size: 17px;
  }
}
@media (min-width: 768px) {
  .form-horizontal .form-group-sm .control-label {
    padding-top: 6px;
    font-size: 12px;
  }
}
.btn {
  display: inline-block;
  margin-bottom: 0;
  font-weight: normal;
  text-align: center;
  vertical-align: middle;
  touch-action: manipulation;
  cursor: pointer;
  background-image: none;
  border: 1px solid transparent;
  white-space: nowrap;
  padding: 6px 12px;
  font-size: 13px;
  line-height: 1.42857143;
  border-radius: 2px;
  -webkit-user-select: none;
  -moz-user-select: none;
  -ms-user-select: none;
  user-select: none;
}
.btn:focus,
.btn:active:focus,
.btn.active:focus,
.btn.focus,
.btn:active.focus,
.btn.active.focus {
  outline: 5px auto -webkit-focus-ring-color;
  outline-offset: -2px;
}
.btn:hover,
.btn:focus,
.btn.focus {
  color: #333;
  text-decoration: none;
}
.btn:active,
.btn.active {
  outline: 0;
  background-image: none;
  -webkit-box-shadow: inset 0 3px 5px rgba(0, 0, 0, 0.125);
  box-shadow: inset 0 3px 5px rgba(0, 0, 0, 0.125);
}
.btn.disabled,
.btn[disabled],
fieldset[disabled] .btn {
  cursor: not-allowed;
  opacity: 0.65;
  filter: alpha(opacity=65);
  -webkit-box-shadow: none;
  box-shadow: none;
}
a.btn.disabled,
fieldset[disabled] a.btn {
  pointer-events: none;
}
.btn-default {
  color: #333;
  background-color: #fff;
  border-color: #ccc;
}
.btn-default:focus,
.btn-default.focus {
  color: #333;
  background-color: #e6e6e6;
  border-color: #8c8c8c;
}
.btn-default:hover {
  color: #333;
  background-color: #e6e6e6;
  border-color: #adadad;
}
.btn-default:active,
.btn-default.active,
.open > .dropdown-toggle.btn-default {
  color: #333;
  background-color: #e6e6e6;
  border-color: #adadad;
}
.btn-default:active:hover,
.btn-default.active:hover,
.open > .dropdown-toggle.btn-default:hover,
.btn-default:active:focus,
.btn-default.active:focus,
.open > .dropdown-toggle.btn-default:focus,
.btn-default:active.focus,
.btn-default.active.focus,
.open > .dropdown-toggle.btn-default.focus {
  color: #333;
  background-color: #d4d4d4;
  border-color: #8c8c8c;
}
.btn-default:active,
.btn-default.active,
.open > .dropdown-toggle.btn-default {
  background-image: none;
}
.btn-default.disabled:hover,
.btn-default[disabled]:hover,
fieldset[disabled] .btn-default:hover,
.btn-default.disabled:focus,
.btn-default[disabled]:focus,
fieldset[disabled] .btn-default:focus,
.btn-default.disabled.focus,
.btn-default[disabled].focus,
fieldset[disabled] .btn-default.focus {
  background-color: #fff;
  border-color: #ccc;
}
.btn-default .badge {
  color: #fff;
  background-color: #333;
}
.btn-primary {
  color: #fff;
  background-color: #337ab7;
  border-color: #2e6da4;
}
.btn-primary:focus,
.btn-primary.focus {
  color: #fff;
  background-color: #286090;
  border-color: #122b40;
}
.btn-primary:hover {
  color: #fff;
  background-color: #286090;
  border-color: #204d74;
}
.btn-primary:active,
.btn-primary.active,
.open > .dropdown-toggle.btn-primary {
  color: #fff;
  background-color: #286090;
  border-color: #204d74;
}
.btn-primary:active:hover,
.btn-primary.active:hover,
.open > .dropdown-toggle.btn-primary:hover,
.btn-primary:active:focus,
.btn-primary.active:focus,
.open > .dropdown-toggle.btn-primary:focus,
.btn-primary:active.focus,
.btn-primary.active.focus,
.open > .dropdown-toggle.btn-primary.focus {
  color: #fff;
  background-color: #204d74;
  border-color: #122b40;
}
.btn-primary:active,
.btn-primary.active,
.open > .dropdown-toggle.btn-primary {
  background-image: none;
}
.btn-primary.disabled:hover,
.btn-primary[disabled]:hover,
fieldset[disabled] .btn-primary:hover,
.btn-primary.disabled:focus,
.btn-primary[disabled]:focus,
fieldset[disabled] .btn-primary:focus,
.btn-primary.disabled.focus,
.btn-primary[disabled].focus,
fieldset[disabled] .btn-primary.focus {
  background-color: #337ab7;
  border-color: #2e6da4;
}
.btn-primary .badge {
  color: #337ab7;
  background-color: #fff;
}
.btn-success {
  color: #fff;
  background-color: #5cb85c;
  border-color: #4cae4c;
}
.btn-success:focus,
.btn-success.focus {
  color: #fff;
  background-color: #449d44;
  border-color: #255625;
}
.btn-success:hover {
  color: #fff;
  background-color: #449d44;
  border-color: #398439;
}
.btn-success:active,
.btn-success.active,
.open > .dropdown-toggle.btn-success {
  color: #fff;
  background-color: #449d44;
  border-color: #398439;
}
.btn-success:active:hover,
.btn-success.active:hover,
.open > .dropdown-toggle.btn-success:hover,
.btn-success:active:focus,
.btn-success.active:focus,
.open > .dropdown-toggle.btn-success:focus,
.btn-success:active.focus,
.btn-success.active.focus,
.open > .dropdown-toggle.btn-success.focus {
  color: #fff;
  background-color: #398439;
  border-color: #255625;
}
.btn-success:active,
.btn-success.active,
.open > .dropdown-toggle.btn-success {
  background-image: none;
}
.btn-success.disabled:hover,
.btn-success[disabled]:hover,
fieldset[disabled] .btn-success:hover,
.btn-success.disabled:focus,
.btn-success[disabled]:focus,
fieldset[disabled] .btn-success:focus,
.btn-success.disabled.focus,
.btn-success[disabled].focus,
fieldset[disabled] .btn-success.focus {
  background-color: #5cb85c;
  border-color: #4cae4c;
}
.btn-success .badge {
  color: #5cb85c;
  background-color: #fff;
}
.btn-info {
  color: #fff;
  background-color: #5bc0de;
  border-color: #46b8da;
}
.btn-info:focus,
.btn-info.focus {
  color: #fff;
  background-color: #31b0d5;
  border-color: #1b6d85;
}
.btn-info:hover {
  color: #fff;
  background-color: #31b0d5;
  border-color: #269abc;
}
.btn-info:active,
.btn-info.active,
.open > .dropdown-toggle.btn-info {
  color: #fff;
  background-color: #31b0d5;
  border-color: #269abc;
}
.btn-info:active:hover,
.btn-info.active:hover,
.open > .dropdown-toggle.btn-info:hover,
.btn-info:active:focus,
.btn-info.active:focus,
.open > .dropdown-toggle.btn-info:focus,
.btn-info:active.focus,
.btn-info.active.focus,
.open > .dropdown-toggle.btn-info.focus {
  color: #fff;
  background-color: #269abc;
  border-color: #1b6d85;
}
.btn-info:active,
.btn-info.active,
.open > .dropdown-toggle.btn-info {
  background-image: none;
}
.btn-info.disabled:hover,
.btn-info[disabled]:hover,
fieldset[disabled] .btn-info:hover,
.btn-info.disabled:focus,
.btn-info[disabled]:focus,
fieldset[disabled] .btn-info:focus,
.btn-info.disabled.focus,
.btn-info[disabled].focus,
fieldset[disabled] .btn-info.focus {
  background-color: #5bc0de;
  border-color: #46b8da;
}
.btn-info .badge {
  color: #5bc0de;
  background-color: #fff;
}
.btn-warning {
  color: #fff;
  background-color: #f0ad4e;
  border-color: #eea236;
}
.btn-warning:focus,
.btn-warning.focus {
  color: #fff;
  background-color: #ec971f;
  border-color: #985f0d;
}
.btn-warning:hover {
  color: #fff;
  background-color: #ec971f;
  border-color: #d58512;
}
.btn-warning:active,
.btn-warning.active,
.open > .dropdown-toggle.btn-warning {
  color: #fff;
  background-color: #ec971f;
  border-color: #d58512;
}
.btn-warning:active:hover,
.btn-warning.active:hover,
.open > .dropdown-toggle.btn-warning:hover,
.btn-warning:active:focus,
.btn-warning.active:focus,
.open > .dropdown-toggle.btn-warning:focus,
.btn-warning:active.focus,
.btn-warning.active.focus,
.open > .dropdown-toggle.btn-warning.focus {
  color: #fff;
  background-color: #d58512;
  border-color: #985f0d;
}
.btn-warning:active,
.btn-warning.active,
.open > .dropdown-toggle.btn-warning {
  background-image: none;
}
.btn-warning.disabled:hover,
.btn-warning[disabled]:hover,
fieldset[disabled] .btn-warning:hover,
.btn-warning.disabled:focus,
.btn-warning[disabled]:focus,
fieldset[disabled] .btn-warning:focus,
.btn-warning.disabled.focus,
.btn-warning[disabled].focus,
fieldset[disabled] .btn-warning.focus {
  background-color: #f0ad4e;
  border-color: #eea236;
}
.btn-warning .badge {
  color: #f0ad4e;
  background-color: #fff;
}
.btn-danger {
  color: #fff;
  background-color: #d9534f;
  border-color: #d43f3a;
}
.btn-danger:focus,
.btn-danger.focus {
  color: #fff;
  background-color: #c9302c;
  border-color: #761c19;
}
.btn-danger:hover {
  color: #fff;
  background-color: #c9302c;
  border-color: #ac2925;
}
.btn-danger:active,
.btn-danger.active,
.open > .dropdown-toggle.btn-danger {
  color: #fff;
  background-color: #c9302c;
  border-color: #ac2925;
}
.btn-danger:active:hover,
.btn-danger.active:hover,
.open > .dropdown-toggle.btn-danger:hover,
.btn-danger:active:focus,
.btn-danger.active:focus,
.open > .dropdown-toggle.btn-danger:focus,
.btn-danger:active.focus,
.btn-danger.active.focus,
.open > .dropdown-toggle.btn-danger.focus {
  color: #fff;
  background-color: #ac2925;
  border-color: #761c19;
}
.btn-danger:active,
.btn-danger.active,
.open > .dropdown-toggle.btn-danger {
  background-image: none;
}
.btn-danger.disabled:hover,
.btn-danger[disabled]:hover,
fieldset[disabled] .btn-danger:hover,
.btn-danger.disabled:focus,
.btn-danger[disabled]:focus,
fieldset[disabled] .btn-danger:focus,
.btn-danger.disabled.focus,
.btn-danger[disabled].focus,
fieldset[disabled] .btn-danger.focus {
  background-color: #d9534f;
  border-color: #d43f3a;
}
.btn-danger .badge {
  color: #d9534f;
  background-color: #fff;
}
.btn-link {
  color: #337ab7;
  font-weight: normal;
  border-radius: 0;
}
.btn-link,
.btn-link:active,
.btn-link.active,
.btn-link[disabled],
fieldset[disabled] .btn-link {
  background-color: transparent;
  -webkit-box-shadow: none;
  box-shadow: none;
}
.btn-link,
.btn-link:hover,
.btn-link:focus,
.btn-link:active {
  border-color: transparent;
}
.btn-link:hover,
.btn-link:focus {
  color: #23527c;
  text-decoration: underline;
  background-color: transparent;
}
.btn-link[disabled]:hover,
fieldset[disabled] .btn-link:hover,
.btn-link[disabled]:focus,
fieldset[disabled] .btn-link:focus {
  color: #777777;
  text-decoration: none;
}
.btn-lg,
.btn-group-lg > .btn {
  padding: 10px 16px;
  font-size: 17px;
  line-height: 1.3333333;
  border-radius: 3px;
}
.btn-sm,
.btn-group-sm > .btn {
  padding: 5px 10px;
  font-size: 12px;
  line-height: 1.5;
  border-radius: 1px;
}
.btn-xs,
.btn-group-xs > .btn {
  padding: 1px 5px;
  font-size: 12px;
  line-height: 1.5;
  border-radius: 1px;
}
.btn-block {
  display: block;
  width: 100%;
}
.btn-block + .btn-block {
  margin-top: 5px;
}
input[type="submit"].btn-block,
input[type="reset"].btn-block,
input[type="button"].btn-block {
  width: 100%;
}
.fade {
  opacity: 0;
  -webkit-transition: opacity 0.15s linear;
  -o-transition: opacity 0.15s linear;
  transition: opacity 0.15s linear;
}
.fade.in {
  opacity: 1;
}
.collapse {
  display: none;
}
.collapse.in {
  display: block;
}
tr.collapse.in {
  display: table-row;
}
tbody.collapse.in {
  display: table-row-group;
}
.collapsing {
  position: relative;
  height: 0;
  overflow: hidden;
  -webkit-transition-property: height, visibility;
  transition-property: height, visibility;
  -webkit-transition-duration: 0.35s;
  transition-duration: 0.35s;
  -webkit-transition-timing-function: ease;
  transition-timing-function: ease;
}
.caret {
  display: inline-block;
  width: 0;
  height: 0;
  margin-left: 2px;
  vertical-align: middle;
  border-top: 4px dashed;
  border-top: 4px solid \9;
  border-right: 4px solid transparent;
  border-left: 4px solid transparent;
}
.dropup,
.dropdown {
  position: relative;
}
.dropdown-toggle:focus {
  outline: 0;
}
.dropdown-menu {
  position: absolute;
  top: 100%;
  left: 0;
  z-index: 1000;
  display: none;
  float: left;
  min-width: 160px;
  padding: 5px 0;
  margin: 2px 0 0;
  list-style: none;
  font-size: 13px;
  text-align: left;
  background-color: #fff;
  border: 1px solid #ccc;
  border: 1px solid rgba(0, 0, 0, 0.15);
  border-radius: 2px;
  -webkit-box-shadow: 0 6px 12px rgba(0, 0, 0, 0.175);
  box-shadow: 0 6px 12px rgba(0, 0, 0, 0.175);
  background-clip: padding-box;
}
.dropdown-menu.pull-right {
  right: 0;
  left: auto;
}
.dropdown-menu .divider {
  height: 1px;
  margin: 8px 0;
  overflow: hidden;
  background-color: #e5e5e5;
}
.dropdown-menu > li > a {
  display: block;
  padding: 3px 20px;
  clear: both;
  font-weight: normal;
  line-height: 1.42857143;
  color: #333333;
  white-space: nowrap;
}
.dropdown-menu > li > a:hover,
.dropdown-menu > li > a:focus {
  text-decoration: none;
  color: #262626;
  background-color: #f5f5f5;
}
.dropdown-menu > .active > a,
.dropdown-menu > .active > a:hover,
.dropdown-menu > .active > a:focus {
  color: #fff;
  text-decoration: none;
  outline: 0;
  background-color: #337ab7;
}
.dropdown-menu > .disabled > a,
.dropdown-menu > .disabled > a:hover,
.dropdown-menu > .disabled > a:focus {
  color: #777777;
}
.dropdown-menu > .disabled > a:hover,
.dropdown-menu > .disabled > a:focus {
  text-decoration: none;
  background-color: transparent;
  background-image: none;
  filter: progid:DXImageTransform.Microsoft.gradient(enabled = false);
  cursor: not-allowed;
}
.open > .dropdown-menu {
  display: block;
}
.open > a {
  outline: 0;
}
.dropdown-menu-right {
  left: auto;
  right: 0;
}
.dropdown-menu-left {
  left: 0;
  right: auto;
}
.dropdown-header {
  display: block;
  padding: 3px 20px;
  font-size: 12px;
  line-height: 1.42857143;
  color: #777777;
  white-space: nowrap;
}
.dropdown-backdrop {
  position: fixed;
  left: 0;
  right: 0;
  bottom: 0;
  top: 0;
  z-index: 990;
}
.pull-right > .dropdown-menu {
  right: 0;
  left: auto;
}
.dropup .caret,
.navbar-fixed-bottom .dropdown .caret {
  border-top: 0;
  border-bottom: 4px dashed;
  border-bottom: 4px solid \9;
  content: "";
}
.dropup .dropdown-menu,
.navbar-fixed-bottom .dropdown .dropdown-menu {
  top: auto;
  bottom: 100%;
  margin-bottom: 2px;
}
@media (min-width: 541px) {
  .navbar-right .dropdown-menu {
    left: auto;
    right: 0;
  }
  .navbar-right .dropdown-menu-left {
    left: 0;
    right: auto;
  }
}
.btn-group,
.btn-group-vertical {
  position: relative;
  display: inline-block;
  vertical-align: middle;
}
.btn-group > .btn,
.btn-group-vertical > .btn {
  position: relative;
  float: left;
}
.btn-group > .btn:hover,
.btn-group-vertical > .btn:hover,
.btn-group > .btn:focus,
.btn-group-vertical > .btn:focus,
.btn-group > .btn:active,
.btn-group-vertical > .btn:active,
.btn-group > .btn.active,
.btn-group-vertical > .btn.active {
  z-index: 2;
}
.btn-group .btn + .btn,
.btn-group .btn + .btn-group,
.btn-group .btn-group + .btn,
.btn-group .btn-group + .btn-group {
  margin-left: -1px;
}
.btn-toolbar {
  margin-left: -5px;
}
.btn-toolbar .btn,
.btn-toolbar .btn-group,
.btn-toolbar .input-group {
  float: left;
}
.btn-toolbar > .btn,
.btn-toolbar > .btn-group,
.btn-toolbar > .input-group {
  margin-left: 5px;
}
.btn-group > .btn:not(:first-child):not(:last-child):not(.dropdown-toggle) {
  border-radius: 0;
}
.btn-group > .btn:first-child {
  margin-left: 0;
}
.btn-group > .btn:first-child:not(:last-child):not(.dropdown-toggle) {
  border-bottom-right-radius: 0;
  border-top-right-radius: 0;
}
.btn-group > .btn:last-child:not(:first-child),
.btn-group > .dropdown-toggle:not(:first-child) {
  border-bottom-left-radius: 0;
  border-top-left-radius: 0;
}
.btn-group > .btn-group {
  float: left;
}
.btn-group > .btn-group:not(:first-child):not(:last-child) > .btn {
  border-radius: 0;
}
.btn-group > .btn-group:first-child:not(:last-child) > .btn:last-child,
.btn-group > .btn-group:first-child:not(:last-child) > .dropdown-toggle {
  border-bottom-right-radius: 0;
  border-top-right-radius: 0;
}
.btn-group > .btn-group:last-child:not(:first-child) > .btn:first-child {
  border-bottom-left-radius: 0;
  border-top-left-radius: 0;
}
.btn-group .dropdown-toggle:active,
.btn-group.open .dropdown-toggle {
  outline: 0;
}
.btn-group > .btn + .dropdown-toggle {
  padding-left: 8px;
  padding-right: 8px;
}
.btn-group > .btn-lg + .dropdown-toggle {
  padding-left: 12px;
  padding-right: 12px;
}
.btn-group.open .dropdown-toggle {
  -webkit-box-shadow: inset 0 3px 5px rgba(0, 0, 0, 0.125);
  box-shadow: inset 0 3px 5px rgba(0, 0, 0, 0.125);
}
.btn-group.open .dropdown-toggle.btn-link {
  -webkit-box-shadow: none;
  box-shadow: none;
}
.btn .caret {
  margin-left: 0;
}
.btn-lg .caret {
  border-width: 5px 5px 0;
  border-bottom-width: 0;
}
.dropup .btn-lg .caret {
  border-width: 0 5px 5px;
}
.btn-group-vertical > .btn,
.btn-group-vertical > .btn-group,
.btn-group-vertical > .btn-group > .btn {
  display: block;
  float: none;
  width: 100%;
  max-width: 100%;
}
.btn-group-vertical > .btn-group > .btn {
  float: none;
}
.btn-group-vertical > .btn + .btn,
.btn-group-vertical > .btn + .btn-group,
.btn-group-vertical > .btn-group + .btn,
.btn-group-vertical > .btn-group + .btn-group {
  margin-top: -1px;
  margin-left: 0;
}
.btn-group-vertical > .btn:not(:first-child):not(:last-child) {
  border-radius: 0;
}
.btn-group-vertical > .btn:first-child:not(:last-child) {
  border-top-right-radius: 2px;
  border-top-left-radius: 2px;
  border-bottom-right-radius: 0;
  border-bottom-left-radius: 0;
}
.btn-group-vertical > .btn:last-child:not(:first-child) {
  border-top-right-radius: 0;
  border-top-left-radius: 0;
  border-bottom-right-radius: 2px;
  border-bottom-left-radius: 2px;
}
.btn-group-vertical > .btn-group:not(:first-child):not(:last-child) > .btn {
  border-radius: 0;
}
.btn-group-vertical > .btn-group:first-child:not(:last-child) > .btn:last-child,
.btn-group-vertical > .btn-group:first-child:not(:last-child) > .dropdown-toggle {
  border-bottom-right-radius: 0;
  border-bottom-left-radius: 0;
}
.btn-group-vertical > .btn-group:last-child:not(:first-child) > .btn:first-child {
  border-top-right-radius: 0;
  border-top-left-radius: 0;
}
.btn-group-justified {
  display: table;
  width: 100%;
  table-layout: fixed;
  border-collapse: separate;
}
.btn-group-justified > .btn,
.btn-group-justified > .btn-group {
  float: none;
  display: table-cell;
  width: 1%;
}
.btn-group-justified > .btn-group .btn {
  width: 100%;
}
.btn-group-justified > .btn-group .dropdown-menu {
  left: auto;
}
[data-toggle="buttons"] > .btn input[type="radio"],
[data-toggle="buttons"] > .btn-group > .btn input[type="radio"],
[data-toggle="buttons"] > .btn input[type="checkbox"],
[data-toggle="buttons"] > .btn-group > .btn input[type="checkbox"] {
  position: absolute;
  clip: rect(0, 0, 0, 0);
  pointer-events: none;
}
.input-group {
  position: relative;
  display: table;
  border-collapse: separate;
}
.input-group[class*="col-"] {
  float: none;
  padding-left: 0;
  padding-right: 0;
}
.input-group .form-control {
  position: relative;
  z-index: 2;
  float: left;
  width: 100%;
  margin-bottom: 0;
}
.input-group .form-control:focus {
  z-index: 3;
}
.input-group-lg > .form-control,
.input-group-lg > .input-group-addon,
.input-group-lg > .input-group-btn > .btn {
  height: 45px;
  padding: 10px 16px;
  font-size: 17px;
  line-height: 1.3333333;
  border-radius: 3px;
}
select.input-group-lg > .form-control,
select.input-group-lg > .input-group-addon,
select.input-group-lg > .input-group-btn > .btn {
  height: 45px;
  line-height: 45px;
}
textarea.input-group-lg > .form-control,
textarea.input-group-lg > .input-group-addon,
textarea.input-group-lg > .input-group-btn > .btn,
select[multiple].input-group-lg > .form-control,
select[multiple].input-group-lg > .input-group-addon,
select[multiple].input-group-lg > .input-group-btn > .btn {
  height: auto;
}
.input-group-sm > .form-control,
.input-group-sm > .input-group-addon,
.input-group-sm > .input-group-btn > .btn {
  height: 30px;
  padding: 5px 10px;
  font-size: 12px;
  line-height: 1.5;
  border-radius: 1px;
}
select.input-group-sm > .form-control,
select.input-group-sm > .input-group-addon,
select.input-group-sm > .input-group-btn > .btn {
  height: 30px;
  line-height: 30px;
}
textarea.input-group-sm > .form-control,
textarea.input-group-sm > .input-group-addon,
textarea.input-group-sm > .input-group-btn > .btn,
select[multiple].input-group-sm > .form-control,
select[multiple].input-group-sm > .input-group-addon,
select[multiple].input-group-sm > .input-group-btn > .btn {
  height: auto;
}
.input-group-addon,
.input-group-btn,
.input-group .form-control {
  display: table-cell;
}
.input-group-addon:not(:first-child):not(:last-child),
.input-group-btn:not(:first-child):not(:last-child),
.input-group .form-control:not(:first-child):not(:last-child) {
  border-radius: 0;
}
.input-group-addon,
.input-group-btn {
  width: 1%;
  white-space: nowrap;
  vertical-align: middle;
}
.input-group-addon {
  padding: 6px 12px;
  font-size: 13px;
  font-weight: normal;
  line-height: 1;
  color: #555555;
  text-align: center;
  background-color: #eeeeee;
  border: 1px solid #ccc;
  border-radius: 2px;
}
.input-group-addon.input-sm {
  padding: 5px 10px;
  font-size: 12px;
  border-radius: 1px;
}
.input-group-addon.input-lg {
  padding: 10px 16px;
  font-size: 17px;
  border-radius: 3px;
}
.input-group-addon input[type="radio"],
.input-group-addon input[type="checkbox"] {
  margin-top: 0;
}
.input-group .form-control:first-child,
.input-group-addon:first-child,
.input-group-btn:first-child > .btn,
.input-group-btn:first-child > .btn-group > .btn,
.input-group-btn:first-child > .dropdown-toggle,
.input-group-btn:last-child > .btn:not(:last-child):not(.dropdown-toggle),
.input-group-btn:last-child > .btn-group:not(:last-child) > .btn {
  border-bottom-right-radius: 0;
  border-top-right-radius: 0;
}
.input-group-addon:first-child {
  border-right: 0;
}
.input-group .form-control:last-child,
.input-group-addon:last-child,
.input-group-btn:last-child > .btn,
.input-group-btn:last-child > .btn-group > .btn,
.input-group-btn:last-child > .dropdown-toggle,
.input-group-btn:first-child > .btn:not(:first-child),
.input-group-btn:first-child > .btn-group:not(:first-child) > .btn {
  border-bottom-left-radius: 0;
  border-top-left-radius: 0;
}
.input-group-addon:last-child {
  border-left: 0;
}
.input-group-btn {
  position: relative;
  font-size: 0;
  white-space: nowrap;
}
.input-group-btn > .btn {
  position: relative;
}
.input-group-btn > .btn + .btn {
  margin-left: -1px;
}
.input-group-btn > .btn:hover,
.input-group-btn > .btn:focus,
.input-group-btn > .btn:active {
  z-index: 2;
}
.input-group-btn:first-child > .btn,
.input-group-btn:first-child > .btn-group {
  margin-right: -1px;
}
.input-group-btn:last-child > .btn,
.input-group-btn:last-child > .btn-group {
  z-index: 2;
  margin-left: -1px;
}
.nav {
  margin-bottom: 0;
  padding-left: 0;
  list-style: none;
}
.nav > li {
  position: relative;
  display: block;
}
.nav > li > a {
  position: relative;
  display: block;
  padding: 10px 15px;
}
.nav > li > a:hover,
.nav > li > a:focus {
  text-decoration: none;
  background-color: #eeeeee;
}
.nav > li.disabled > a {
  color: #777777;
}
.nav > li.disabled > a:hover,
.nav > li.disabled > a:focus {
  color: #777777;
  text-decoration: none;
  background-color: transparent;
  cursor: not-allowed;
}
.nav .open > a,
.nav .open > a:hover,
.nav .open > a:focus {
  background-color: #eeeeee;
  border-color: #337ab7;
}
.nav .nav-divider {
  height: 1px;
  margin: 8px 0;
  overflow: hidden;
  background-color: #e5e5e5;
}
.nav > li > a > img {
  max-width: none;
}
.nav-tabs {
  border-bottom: 1px solid #ddd;
}
.nav-tabs > li {
  float: left;
  margin-bottom: -1px;
}
.nav-tabs > li > a {
  margin-right: 2px;
  line-height: 1.42857143;
  border: 1px solid transparent;
  border-radius: 2px 2px 0 0;
}
.nav-tabs > li > a:hover {
  border-color: #eeeeee #eeeeee #ddd;
}
.nav-tabs > li.active > a,
.nav-tabs > li.active > a:hover,
.nav-tabs > li.active > a:focus {
  color: #555555;
  background-color: #fff;
  border: 1px solid #ddd;
  border-bottom-color: transparent;
  cursor: default;
}
.nav-tabs.nav-justified {
  width: 100%;
  border-bottom: 0;
}
.nav-tabs.nav-justified > li {
  float: none;
}
.nav-tabs.nav-justified > li > a {
  text-align: center;
  margin-bottom: 5px;
}
.nav-tabs.nav-justified > .dropdown .dropdown-menu {
  top: auto;
  left: auto;
}
@media (min-width: 768px) {
  .nav-tabs.nav-justified > li {
    display: table-cell;
    width: 1%;
  }
  .nav-tabs.nav-justified > li > a {
    margin-bottom: 0;
  }
}
.nav-tabs.nav-justified > li > a {
  margin-right: 0;
  border-radius: 2px;
}
.nav-tabs.nav-justified > .active > a,
.nav-tabs.nav-justified > .active > a:hover,
.nav-tabs.nav-justified > .active > a:focus {
  border: 1px solid #ddd;
}
@media (min-width: 768px) {
  .nav-tabs.nav-justified > li > a {
    border-bottom: 1px solid #ddd;
    border-radius: 2px 2px 0 0;
  }
  .nav-tabs.nav-justified > .active > a,
  .nav-tabs.nav-justified > .active > a:hover,
  .nav-tabs.nav-justified > .active > a:focus {
    border-bottom-color: #fff;
  }
}
.nav-pills > li {
  float: left;
}
.nav-pills > li > a {
  border-radius: 2px;
}
.nav-pills > li + li {
  margin-left: 2px;
}
.nav-pills > li.active > a,
.nav-pills > li.active > a:hover,
.nav-pills > li.active > a:focus {
  color: #fff;
  background-color: #337ab7;
}
.nav-stacked > li {
  float: none;
}
.nav-stacked > li + li {
  margin-top: 2px;
  margin-left: 0;
}
.nav-justified {
  width: 100%;
}
.nav-justified > li {
  float: none;
}
.nav-justified > li > a {
  text-align: center;
  margin-bottom: 5px;
}
.nav-justified > .dropdown .dropdown-menu {
  top: auto;
  left: auto;
}
@media (min-width: 768px) {
  .nav-justified > li {
    display: table-cell;
    width: 1%;
  }
  .nav-justified > li > a {
    margin-bottom: 0;
  }
}
.nav-tabs-justified {
  border-bottom: 0;
}
.nav-tabs-justified > li > a {
  margin-right: 0;
  border-radius: 2px;
}
.nav-tabs-justified > .active > a,
.nav-tabs-justified > .active > a:hover,
.nav-tabs-justified > .active > a:focus {
  border: 1px solid #ddd;
}
@media (min-width: 768px) {
  .nav-tabs-justified > li > a {
    border-bottom: 1px solid #ddd;
    border-radius: 2px 2px 0 0;
  }
  .nav-tabs-justified > .active > a,
  .nav-tabs-justified > .active > a:hover,
  .nav-tabs-justified > .active > a:focus {
    border-bottom-color: #fff;
  }
}
.tab-content > .tab-pane {
  display: none;
}
.tab-content > .active {
  display: block;
}
.nav-tabs .dropdown-menu {
  margin-top: -1px;
  border-top-right-radius: 0;
  border-top-left-radius: 0;
}
.navbar {
  position: relative;
  min-height: 30px;
  margin-bottom: 18px;
  border: 1px solid transparent;
}
@media (min-width: 541px) {
  .navbar {
    border-radius: 2px;
  }
}
@media (min-width: 541px) {
  .navbar-header {
    float: left;
  }
}
.navbar-collapse {
  overflow-x: visible;
  padding-right: 0px;
  padding-left: 0px;
  border-top: 1px solid transparent;
  box-shadow: inset 0 1px 0 rgba(255, 255, 255, 0.1);
  -webkit-overflow-scrolling: touch;
}
.navbar-collapse.in {
  overflow-y: auto;
}
@media (min-width: 541px) {
  .navbar-collapse {
    width: auto;
    border-top: 0;
    box-shadow: none;
  }
  .navbar-collapse.collapse {
    display: block !important;
    height: auto !important;
    padding-bottom: 0;
    overflow: visible !important;
  }
  .navbar-collapse.in {
    overflow-y: visible;
  }
  .navbar-fixed-top .navbar-collapse,
  .navbar-static-top .navbar-collapse,
  .navbar-fixed-bottom .navbar-collapse {
    padding-left: 0;
    padding-right: 0;
  }
}
.navbar-fixed-top .navbar-collapse,
.navbar-fixed-bottom .navbar-collapse {
  max-height: 340px;
}
@media (max-device-width: 540px) and (orientation: landscape) {
  .navbar-fixed-top .navbar-collapse,
  .navbar-fixed-bottom .navbar-collapse {
    max-height: 200px;
  }
}
.container > .navbar-header,
.container-fluid > .navbar-header,
.container > .navbar-collapse,
.container-fluid > .navbar-collapse {
  margin-right: 0px;
  margin-left: 0px;
}
@media (min-width: 541px) {
  .container > .navbar-header,
  .container-fluid > .navbar-header,
  .container > .navbar-collapse,
  .container-fluid > .navbar-collapse {
    margin-right: 0;
    margin-left: 0;
  }
}
.navbar-static-top {
  z-index: 1000;
  border-width: 0 0 1px;
}
@media (min-width: 541px) {
  .navbar-static-top {
    border-radius: 0;
  }
}
.navbar-fixed-top,
.navbar-fixed-bottom {
  position: fixed;
  right: 0;
  left: 0;
  z-index: 1030;
}
@media (min-width: 541px) {
  .navbar-fixed-top,
  .navbar-fixed-bottom {
    border-radius: 0;
  }
}
.navbar-fixed-top {
  top: 0;
  border-width: 0 0 1px;
}
.navbar-fixed-bottom {
  bottom: 0;
  margin-bottom: 0;
  border-width: 1px 0 0;
}
.navbar-brand {
  float: left;
  padding: 6px 0px;
  font-size: 17px;
  line-height: 18px;
  height: 30px;
}
.navbar-brand:hover,
.navbar-brand:focus {
  text-decoration: none;
}
.navbar-brand > img {
  display: block;
}
@media (min-width: 541px) {
  .navbar > .container .navbar-brand,
  .navbar > .container-fluid .navbar-brand {
    margin-left: 0px;
  }
}
.navbar-toggle {
  position: relative;
  float: right;
  margin-right: 0px;
  padding: 9px 10px;
  margin-top: -2px;
  margin-bottom: -2px;
  background-color: transparent;
  background-image: none;
  border: 1px solid transparent;
  border-radius: 2px;
}
.navbar-toggle:focus {
  outline: 0;
}
.navbar-toggle .icon-bar {
  display: block;
  width: 22px;
  height: 2px;
  border-radius: 1px;
}
.navbar-toggle .icon-bar + .icon-bar {
  margin-top: 4px;
}
@media (min-width: 541px) {
  .navbar-toggle {
    display: none;
  }
}
.navbar-nav {
  margin: 3px 0px;
}
.navbar-nav > li > a {
  padding-top: 10px;
  padding-bottom: 10px;
  line-height: 18px;
}
@media (max-width: 540px) {
  .navbar-nav .open .dropdown-menu {
    position: static;
    float: none;
    width: auto;
    margin-top: 0;
    background-color: transparent;
    border: 0;
    box-shadow: none;
  }
  .navbar-nav .open .dropdown-menu > li > a,
  .navbar-nav .open .dropdown-menu .dropdown-header {
    padding: 5px 15px 5px 25px;
  }
  .navbar-nav .open .dropdown-menu > li > a {
    line-height: 18px;
  }
  .navbar-nav .open .dropdown-menu > li > a:hover,
  .navbar-nav .open .dropdown-menu > li > a:focus {
    background-image: none;
  }
}
@media (min-width: 541px) {
  .navbar-nav {
    float: left;
    margin: 0;
  }
  .navbar-nav > li {
    float: left;
  }
  .navbar-nav > li > a {
    padding-top: 6px;
    padding-bottom: 6px;
  }
}
.navbar-form {
  margin-left: 0px;
  margin-right: 0px;
  padding: 10px 0px;
  border-top: 1px solid transparent;
  border-bottom: 1px solid transparent;
  -webkit-box-shadow: inset 0 1px 0 rgba(255, 255, 255, 0.1), 0 1px 0 rgba(255, 255, 255, 0.1);
  box-shadow: inset 0 1px 0 rgba(255, 255, 255, 0.1), 0 1px 0 rgba(255, 255, 255, 0.1);
  margin-top: -1px;
  margin-bottom: -1px;
}
@media (min-width: 768px) {
  .navbar-form .form-group {
    display: inline-block;
    margin-bottom: 0;
    vertical-align: middle;
  }
  .navbar-form .form-control {
    display: inline-block;
    width: auto;
    vertical-align: middle;
  }
  .navbar-form .form-control-static {
    display: inline-block;
  }
  .navbar-form .input-group {
    display: inline-table;
    vertical-align: middle;
  }
  .navbar-form .input-group .input-group-addon,
  .navbar-form .input-group .input-group-btn,
  .navbar-form .input-group .form-control {
    width: auto;
  }
  .navbar-form .input-group > .form-control {
    width: 100%;
  }
  .navbar-form .control-label {
    margin-bottom: 0;
    vertical-align: middle;
  }
  .navbar-form .radio,
  .navbar-form .checkbox {
    display: inline-block;
    margin-top: 0;
    margin-bottom: 0;
    vertical-align: middle;
  }
  .navbar-form .radio label,
  .navbar-form .checkbox label {
    padding-left: 0;
  }
  .navbar-form .radio input[type="radio"],
  .navbar-form .checkbox input[type="checkbox"] {
    position: relative;
    margin-left: 0;
  }
  .navbar-form .has-feedback .form-control-feedback {
    top: 0;
  }
}
@media (max-width: 540px) {
  .navbar-form .form-group {
    margin-bottom: 5px;
  }
  .navbar-form .form-group:last-child {
    margin-bottom: 0;
  }
}
@media (min-width: 541px) {
  .navbar-form {
    width: auto;
    border: 0;
    margin-left: 0;
    margin-right: 0;
    padding-top: 0;
    padding-bottom: 0;
    -webkit-box-shadow: none;
    box-shadow: none;
  }
}
.navbar-nav > li > .dropdown-menu {
  margin-top: 0;
  border-top-right-radius: 0;
  border-top-left-radius: 0;
}
.navbar-fixed-bottom .navbar-nav > li > .dropdown-menu {
  margin-bottom: 0;
  border-top-right-radius: 2px;
  border-top-left-radius: 2px;
  border-bottom-right-radius: 0;
  border-bottom-left-radius: 0;
}
.navbar-btn {
  margin-top: -1px;
  margin-bottom: -1px;
}
.navbar-btn.btn-sm {
  margin-top: 0px;
  margin-bottom: 0px;
}
.navbar-btn.btn-xs {
  margin-top: 4px;
  margin-bottom: 4px;
}
.navbar-text {
  margin-top: 6px;
  margin-bottom: 6px;
}
@media (min-width: 541px) {
  .navbar-text {
    float: left;
    margin-left: 0px;
    margin-right: 0px;
  }
}
@media (min-width: 541px) {
  .navbar-left {
    float: left !important;
    float: left;
  }
  .navbar-right {
    float: right !important;
    float: right;
    margin-right: 0px;
  }
  .navbar-right ~ .navbar-right {
    margin-right: 0;
  }
}
.navbar-default {
  background-color: #f8f8f8;
  border-color: #e7e7e7;
}
.navbar-default .navbar-brand {
  color: #777;
}
.navbar-default .navbar-brand:hover,
.navbar-default .navbar-brand:focus {
  color: #5e5e5e;
  background-color: transparent;
}
.navbar-default .navbar-text {
  color: #777;
}
.navbar-default .navbar-nav > li > a {
  color: #777;
}
.navbar-default .navbar-nav > li > a:hover,
.navbar-default .navbar-nav > li > a:focus {
  color: #333;
  background-color: transparent;
}
.navbar-default .navbar-nav > .active > a,
.navbar-default .navbar-nav > .active > a:hover,
.navbar-default .navbar-nav > .active > a:focus {
  color: #555;
  background-color: #e7e7e7;
}
.navbar-default .navbar-nav > .disabled > a,
.navbar-default .navbar-nav > .disabled > a:hover,
.navbar-default .navbar-nav > .disabled > a:focus {
  color: #ccc;
  background-color: transparent;
}
.navbar-default .navbar-toggle {
  border-color: #ddd;
}
.navbar-default .navbar-toggle:hover,
.navbar-default .navbar-toggle:focus {
  background-color: #ddd;
}
.navbar-default .navbar-toggle .icon-bar {
  background-color: #888;
}
.navbar-default .navbar-collapse,
.navbar-default .navbar-form {
  border-color: #e7e7e7;
}
.navbar-default .navbar-nav > .open > a,
.navbar-default .navbar-nav > .open > a:hover,
.navbar-default .navbar-nav > .open > a:focus {
  background-color: #e7e7e7;
  color: #555;
}
@media (max-width: 540px) {
  .navbar-default .navbar-nav .open .dropdown-menu > li > a {
    color: #777;
  }
  .navbar-default .navbar-nav .open .dropdown-menu > li > a:hover,
  .navbar-default .navbar-nav .open .dropdown-menu > li > a:focus {
    color: #333;
    background-color: transparent;
  }
  .navbar-default .navbar-nav .open .dropdown-menu > .active > a,
  .navbar-default .navbar-nav .open .dropdown-menu > .active > a:hover,
  .navbar-default .navbar-nav .open .dropdown-menu > .active > a:focus {
    color: #555;
    background-color: #e7e7e7;
  }
  .navbar-default .navbar-nav .open .dropdown-menu > .disabled > a,
  .navbar-default .navbar-nav .open .dropdown-menu > .disabled > a:hover,
  .navbar-default .navbar-nav .open .dropdown-menu > .disabled > a:focus {
    color: #ccc;
    background-color: transparent;
  }
}
.navbar-default .navbar-link {
  color: #777;
}
.navbar-default .navbar-link:hover {
  color: #333;
}
.navbar-default .btn-link {
  color: #777;
}
.navbar-default .btn-link:hover,
.navbar-default .btn-link:focus {
  color: #333;
}
.navbar-default .btn-link[disabled]:hover,
fieldset[disabled] .navbar-default .btn-link:hover,
.navbar-default .btn-link[disabled]:focus,
fieldset[disabled] .navbar-default .btn-link:focus {
  color: #ccc;
}
.navbar-inverse {
  background-color: #222;
  border-color: #080808;
}
.navbar-inverse .navbar-brand {
  color: #9d9d9d;
}
.navbar-inverse .navbar-brand:hover,
.navbar-inverse .navbar-brand:focus {
  color: #fff;
  background-color: transparent;
}
.navbar-inverse .navbar-text {
  color: #9d9d9d;
}
.navbar-inverse .navbar-nav > li > a {
  color: #9d9d9d;
}
.navbar-inverse .navbar-nav > li > a:hover,
.navbar-inverse .navbar-nav > li > a:focus {
  color: #fff;
  background-color: transparent;
}
.navbar-inverse .navbar-nav > .active > a,
.navbar-inverse .navbar-nav > .active > a:hover,
.navbar-inverse .navbar-nav > .active > a:focus {
  color: #fff;
  background-color: #080808;
}
.navbar-inverse .navbar-nav > .disabled > a,
.navbar-inverse .navbar-nav > .disabled > a:hover,
.navbar-inverse .navbar-nav > .disabled > a:focus {
  color: #444;
  background-color: transparent;
}
.navbar-inverse .navbar-toggle {
  border-color: #333;
}
.navbar-inverse .navbar-toggle:hover,
.navbar-inverse .navbar-toggle:focus {
  background-color: #333;
}
.navbar-inverse .navbar-toggle .icon-bar {
  background-color: #fff;
}
.navbar-inverse .navbar-collapse,
.navbar-inverse .navbar-form {
  border-color: #101010;
}
.navbar-inverse .navbar-nav > .open > a,
.navbar-inverse .navbar-nav > .open > a:hover,
.navbar-inverse .navbar-nav > .open > a:focus {
  background-color: #080808;
  color: #fff;
}
@media (max-width: 540px) {
  .navbar-inverse .navbar-nav .open .dropdown-menu > .dropdown-header {
    border-color: #080808;
  }
  .navbar-inverse .navbar-nav .open .dropdown-menu .divider {
    background-color: #080808;
  }
  .navbar-inverse .navbar-nav .open .dropdown-menu > li > a {
    color: #9d9d9d;
  }
  .navbar-inverse .navbar-nav .open .dropdown-menu > li > a:hover,
  .navbar-inverse .navbar-nav .open .dropdown-menu > li > a:focus {
    color: #fff;
    background-color: transparent;
  }
  .navbar-inverse .navbar-nav .open .dropdown-menu > .active > a,
  .navbar-inverse .navbar-nav .open .dropdown-menu > .active > a:hover,
  .navbar-inverse .navbar-nav .open .dropdown-menu > .active > a:focus {
    color: #fff;
    background-color: #080808;
  }
  .navbar-inverse .navbar-nav .open .dropdown-menu > .disabled > a,
  .navbar-inverse .navbar-nav .open .dropdown-menu > .disabled > a:hover,
  .navbar-inverse .navbar-nav .open .dropdown-menu > .disabled > a:focus {
    color: #444;
    background-color: transparent;
  }
}
.navbar-inverse .navbar-link {
  color: #9d9d9d;
}
.navbar-inverse .navbar-link:hover {
  color: #fff;
}
.navbar-inverse .btn-link {
  color: #9d9d9d;
}
.navbar-inverse .btn-link:hover,
.navbar-inverse .btn-link:focus {
  color: #fff;
}
.navbar-inverse .btn-link[disabled]:hover,
fieldset[disabled] .navbar-inverse .btn-link:hover,
.navbar-inverse .btn-link[disabled]:focus,
fieldset[disabled] .navbar-inverse .btn-link:focus {
  color: #444;
}
.breadcrumb {
  padding: 8px 15px;
  margin-bottom: 18px;
  list-style: none;
  background-color: #f5f5f5;
  border-radius: 2px;
}
.breadcrumb > li {
  display: inline-block;
}
.breadcrumb > li + li:before {
  content: "/\00a0";
  padding: 0 5px;
  color: #5e5e5e;
}
.breadcrumb > .active {
  color: #777777;
}
.pagination {
  display: inline-block;
  padding-left: 0;
  margin: 18px 0;
  border-radius: 2px;
}
.pagination > li {
  display: inline;
}
.pagination > li > a,
.pagination > li > span {
  position: relative;
  float: left;
  padding: 6px 12px;
  line-height: 1.42857143;
  text-decoration: none;
  color: #337ab7;
  background-color: #fff;
  border: 1px solid #ddd;
  margin-left: -1px;
}
.pagination > li:first-child > a,
.pagination > li:first-child > span {
  margin-left: 0;
  border-bottom-left-radius: 2px;
  border-top-left-radius: 2px;
}
.pagination > li:last-child > a,
.pagination > li:last-child > span {
  border-bottom-right-radius: 2px;
  border-top-right-radius: 2px;
}
.pagination > li > a:hover,
.pagination > li > span:hover,
.pagination > li > a:focus,
.pagination > li > span:focus {
  z-index: 2;
  color: #23527c;
  background-color: #eeeeee;
  border-color: #ddd;
}
.pagination > .active > a,
.pagination > .active > span,
.pagination > .active > a:hover,
.pagination > .active > span:hover,
.pagination > .active > a:focus,
.pagination > .active > span:focus {
  z-index: 3;
  color: #fff;
  background-color: #337ab7;
  border-color: #337ab7;
  cursor: default;
}
.pagination > .disabled > span,
.pagination > .disabled > span:hover,
.pagination > .disabled > span:focus,
.pagination > .disabled > a,
.pagination > .disabled > a:hover,
.pagination > .disabled > a:focus {
  color: #777777;
  background-color: #fff;
  border-color: #ddd;
  cursor: not-allowed;
}
.pagination-lg > li > a,
.pagination-lg > li > span {
  padding: 10px 16px;
  font-size: 17px;
  line-height: 1.3333333;
}
.pagination-lg > li:first-child > a,
.pagination-lg > li:first-child > span {
  border-bottom-left-radius: 3px;
  border-top-left-radius: 3px;
}
.pagination-lg > li:last-child > a,
.pagination-lg > li:last-child > span {
  border-bottom-right-radius: 3px;
  border-top-right-radius: 3px;
}
.pagination-sm > li > a,
.pagination-sm > li > span {
  padding: 5px 10px;
  font-size: 12px;
  line-height: 1.5;
}
.pagination-sm > li:first-child > a,
.pagination-sm > li:first-child > span {
  border-bottom-left-radius: 1px;
  border-top-left-radius: 1px;
}
.pagination-sm > li:last-child > a,
.pagination-sm > li:last-child > span {
  border-bottom-right-radius: 1px;
  border-top-right-radius: 1px;
}
.pager {
  padding-left: 0;
  margin: 18px 0;
  list-style: none;
  text-align: center;
}
.pager li {
  display: inline;
}
.pager li > a,
.pager li > span {
  display: inline-block;
  padding: 5px 14px;
  background-color: #fff;
  border: 1px solid #ddd;
  border-radius: 15px;
}
.pager li > a:hover,
.pager li > a:focus {
  text-decoration: none;
  background-color: #eeeeee;
}
.pager .next > a,
.pager .next > span {
  float: right;
}
.pager .previous > a,
.pager .previous > span {
  float: left;
}
.pager .disabled > a,
.pager .disabled > a:hover,
.pager .disabled > a:focus,
.pager .disabled > span {
  color: #777777;
  background-color: #fff;
  cursor: not-allowed;
}
.label {
  display: inline;
  padding: .2em .6em .3em;
  font-size: 75%;
  font-weight: bold;
  line-height: 1;
  color: #fff;
  text-align: center;
  white-space: nowrap;
  vertical-align: baseline;
  border-radius: .25em;
}
a.label:hover,
a.label:focus {
  color: #fff;
  text-decoration: none;
  cursor: pointer;
}
.label:empty {
  display: none;
}
.btn .label {
  position: relative;
  top: -1px;
}
.label-default {
  background-color: #777777;
}
.label-default[href]:hover,
.label-default[href]:focus {
  background-color: #5e5e5e;
}
.label-primary {
  background-color: #337ab7;
}
.label-primary[href]:hover,
.label-primary[href]:focus {
  background-color: #286090;
}
.label-success {
  background-color: #5cb85c;
}
.label-success[href]:hover,
.label-success[href]:focus {
  background-color: #449d44;
}
.label-info {
  background-color: #5bc0de;
}
.label-info[href]:hover,
.label-info[href]:focus {
  background-color: #31b0d5;
}
.label-warning {
  background-color: #f0ad4e;
}
.label-warning[href]:hover,
.label-warning[href]:focus {
  background-color: #ec971f;
}
.label-danger {
  background-color: #d9534f;
}
.label-danger[href]:hover,
.label-danger[href]:focus {
  background-color: #c9302c;
}
.badge {
  display: inline-block;
  min-width: 10px;
  padding: 3px 7px;
  font-size: 12px;
  font-weight: bold;
  color: #fff;
  line-height: 1;
  vertical-align: middle;
  white-space: nowrap;
  text-align: center;
  background-color: #777777;
  border-radius: 10px;
}
.badge:empty {
  display: none;
}
.btn .badge {
  position: relative;
  top: -1px;
}
.btn-xs .badge,
.btn-group-xs > .btn .badge {
  top: 0;
  padding: 1px 5px;
}
a.badge:hover,
a.badge:focus {
  color: #fff;
  text-decoration: none;
  cursor: pointer;
}
.list-group-item.active > .badge,
.nav-pills > .active > a > .badge {
  color: #337ab7;
  background-color: #fff;
}
.list-group-item > .badge {
  float: right;
}
.list-group-item > .badge + .badge {
  margin-right: 5px;
}
.nav-pills > li > a > .badge {
  margin-left: 3px;
}
.jumbotron {
  padding-top: 30px;
  padding-bottom: 30px;
  margin-bottom: 30px;
  color: inherit;
  background-color: #eeeeee;
}
.jumbotron h1,
.jumbotron .h1 {
  color: inherit;
}
.jumbotron p {
  margin-bottom: 15px;
  font-size: 20px;
  font-weight: 200;
}
.jumbotron > hr {
  border-top-color: #d5d5d5;
}
.container .jumbotron,
.container-fluid .jumbotron {
  border-radius: 3px;
  padding-left: 0px;
  padding-right: 0px;
}
.jumbotron .container {
  max-width: 100%;
}
@media screen and (min-width: 768px) {
  .jumbotron {
    padding-top: 48px;
    padding-bottom: 48px;
  }
  .container .jumbotron,
  .container-fluid .jumbotron {
    padding-left: 60px;
    padding-right: 60px;
  }
  .jumbotron h1,
  .jumbotron .h1 {
    font-size: 59px;
  }
}
.thumbnail {
  display: block;
  padding: 4px;
  margin-bottom: 18px;
  line-height: 1.42857143;
  background-color: #fff;
  border: 1px solid #ddd;
  border-radius: 2px;
  -webkit-transition: border 0.2s ease-in-out;
  -o-transition: border 0.2s ease-in-out;
  transition: border 0.2s ease-in-out;
}
.thumbnail > img,
.thumbnail a > img {
  margin-left: auto;
  margin-right: auto;
}
a.thumbnail:hover,
a.thumbnail:focus,
a.thumbnail.active {
  border-color: #337ab7;
}
.thumbnail .caption {
  padding: 9px;
  color: #000;
}
.alert {
  padding: 15px;
  margin-bottom: 18px;
  border: 1px solid transparent;
  border-radius: 2px;
}
.alert h4 {
  margin-top: 0;
  color: inherit;
}
.alert .alert-link {
  font-weight: bold;
}
.alert > p,
.alert > ul {
  margin-bottom: 0;
}
.alert > p + p {
  margin-top: 5px;
}
.alert-dismissable,
.alert-dismissible {
  padding-right: 35px;
}
.alert-dismissable .close,
.alert-dismissible .close {
  position: relative;
  top: -2px;
  right: -21px;
  color: inherit;
}
.alert-success {
  background-color: #dff0d8;
  border-color: #d6e9c6;
  color: #3c763d;
}
.alert-success hr {
  border-top-color: #c9e2b3;
}
.alert-success .alert-link {
  color: #2b542c;
}
.alert-info {
  background-color: #d9edf7;
  border-color: #bce8f1;
  color: #31708f;
}
.alert-info hr {
  border-top-color: #a6e1ec;
}
.alert-info .alert-link {
  color: #245269;
}
.alert-warning {
  background-color: #fcf8e3;
  border-color: #faebcc;
  color: #8a6d3b;
}
.alert-warning hr {
  border-top-color: #f7e1b5;
}
.alert-warning .alert-link {
  color: #66512c;
}
.alert-danger {
  background-color: #f2dede;
  border-color: #ebccd1;
  color: #a94442;
}
.alert-danger hr {
  border-top-color: #e4b9c0;
}
.alert-danger .alert-link {
  color: #843534;
}
@-webkit-keyframes progress-bar-stripes {
  from {
    background-position: 40px 0;
  }
  to {
    background-position: 0 0;
  }
}
@keyframes progress-bar-stripes {
  from {
    background-position: 40px 0;
  }
  to {
    background-position: 0 0;
  }
}
.progress {
  overflow: hidden;
  height: 18px;
  margin-bottom: 18px;
  background-color: #f5f5f5;
  border-radius: 2px;
  -webkit-box-shadow: inset 0 1px 2px rgba(0, 0, 0, 0.1);
  box-shadow: inset 0 1px 2px rgba(0, 0, 0, 0.1);
}
.progress-bar {
  float: left;
  width: 0%;
  height: 100%;
  font-size: 12px;
  line-height: 18px;
  color: #fff;
  text-align: center;
  background-color: #337ab7;
  -webkit-box-shadow: inset 0 -1px 0 rgba(0, 0, 0, 0.15);
  box-shadow: inset 0 -1px 0 rgba(0, 0, 0, 0.15);
  -webkit-transition: width 0.6s ease;
  -o-transition: width 0.6s ease;
  transition: width 0.6s ease;
}
.progress-striped .progress-bar,
.progress-bar-striped {
  background-image: -webkit-linear-gradient(45deg, rgba(255, 255, 255, 0.15) 25%, transparent 25%, transparent 50%, rgba(255, 255, 255, 0.15) 50%, rgba(255, 255, 255, 0.15) 75%, transparent 75%, transparent);
  background-image: -o-linear-gradient(45deg, rgba(255, 255, 255, 0.15) 25%, transparent 25%, transparent 50%, rgba(255, 255, 255, 0.15) 50%, rgba(255, 255, 255, 0.15) 75%, transparent 75%, transparent);
  background-image: linear-gradient(45deg, rgba(255, 255, 255, 0.15) 25%, transparent 25%, transparent 50%, rgba(255, 255, 255, 0.15) 50%, rgba(255, 255, 255, 0.15) 75%, transparent 75%, transparent);
  background-size: 40px 40px;
}
.progress.active .progress-bar,
.progress-bar.active {
  -webkit-animation: progress-bar-stripes 2s linear infinite;
  -o-animation: progress-bar-stripes 2s linear infinite;
  animation: progress-bar-stripes 2s linear infinite;
}
.progress-bar-success {
  background-color: #5cb85c;
}
.progress-striped .progress-bar-success {
  background-image: -webkit-linear-gradient(45deg, rgba(255, 255, 255, 0.15) 25%, transparent 25%, transparent 50%, rgba(255, 255, 255, 0.15) 50%, rgba(255, 255, 255, 0.15) 75%, transparent 75%, transparent);
  background-image: -o-linear-gradient(45deg, rgba(255, 255, 255, 0.15) 25%, transparent 25%, transparent 50%, rgba(255, 255, 255, 0.15) 50%, rgba(255, 255, 255, 0.15) 75%, transparent 75%, transparent);
  background-image: linear-gradient(45deg, rgba(255, 255, 255, 0.15) 25%, transparent 25%, transparent 50%, rgba(255, 255, 255, 0.15) 50%, rgba(255, 255, 255, 0.15) 75%, transparent 75%, transparent);
}
.progress-bar-info {
  background-color: #5bc0de;
}
.progress-striped .progress-bar-info {
  background-image: -webkit-linear-gradient(45deg, rgba(255, 255, 255, 0.15) 25%, transparent 25%, transparent 50%, rgba(255, 255, 255, 0.15) 50%, rgba(255, 255, 255, 0.15) 75%, transparent 75%, transparent);
  background-image: -o-linear-gradient(45deg, rgba(255, 255, 255, 0.15) 25%, transparent 25%, transparent 50%, rgba(255, 255, 255, 0.15) 50%, rgba(255, 255, 255, 0.15) 75%, transparent 75%, transparent);
  background-image: linear-gradient(45deg, rgba(255, 255, 255, 0.15) 25%, transparent 25%, transparent 50%, rgba(255, 255, 255, 0.15) 50%, rgba(255, 255, 255, 0.15) 75%, transparent 75%, transparent);
}
.progress-bar-warning {
  background-color: #f0ad4e;
}
.progress-striped .progress-bar-warning {
  background-image: -webkit-linear-gradient(45deg, rgba(255, 255, 255, 0.15) 25%, transparent 25%, transparent 50%, rgba(255, 255, 255, 0.15) 50%, rgba(255, 255, 255, 0.15) 75%, transparent 75%, transparent);
  background-image: -o-linear-gradient(45deg, rgba(255, 255, 255, 0.15) 25%, transparent 25%, transparent 50%, rgba(255, 255, 255, 0.15) 50%, rgba(255, 255, 255, 0.15) 75%, transparent 75%, transparent);
  background-image: linear-gradient(45deg, rgba(255, 255, 255, 0.15) 25%, transparent 25%, transparent 50%, rgba(255, 255, 255, 0.15) 50%, rgba(255, 255, 255, 0.15) 75%, transparent 75%, transparent);
}
.progress-bar-danger {
  background-color: #d9534f;
}
.progress-striped .progress-bar-danger {
  background-image: -webkit-linear-gradient(45deg, rgba(255, 255, 255, 0.15) 25%, transparent 25%, transparent 50%, rgba(255, 255, 255, 0.15) 50%, rgba(255, 255, 255, 0.15) 75%, transparent 75%, transparent);
  background-image: -o-linear-gradient(45deg, rgba(255, 255, 255, 0.15) 25%, transparent 25%, transparent 50%, rgba(255, 255, 255, 0.15) 50%, rgba(255, 255, 255, 0.15) 75%, transparent 75%, transparent);
  background-image: linear-gradient(45deg, rgba(255, 255, 255, 0.15) 25%, transparent 25%, transparent 50%, rgba(255, 255, 255, 0.15) 50%, rgba(255, 255, 255, 0.15) 75%, transparent 75%, transparent);
}
.media {
  margin-top: 15px;
}
.media:first-child {
  margin-top: 0;
}
.media,
.media-body {
  zoom: 1;
  overflow: hidden;
}
.media-body {
  width: 10000px;
}
.media-object {
  display: block;
}
.media-object.img-thumbnail {
  max-width: none;
}
.media-right,
.media > .pull-right {
  padding-left: 10px;
}
.media-left,
.media > .pull-left {
  padding-right: 10px;
}
.media-left,
.media-right,
.media-body {
  display: table-cell;
  vertical-align: top;
}
.media-middle {
  vertical-align: middle;
}
.media-bottom {
  vertical-align: bottom;
}
.media-heading {
  margin-top: 0;
  margin-bottom: 5px;
}
.media-list {
  padding-left: 0;
  list-style: none;
}
.list-group {
  margin-bottom: 20px;
  padding-left: 0;
}
.list-group-item {
  position: relative;
  display: block;
  padding: 10px 15px;
  margin-bottom: -1px;
  background-color: #fff;
  border: 1px solid #ddd;
}
.list-group-item:first-child {
  border-top-right-radius: 2px;
  border-top-left-radius: 2px;
}
.list-group-item:last-child {
  margin-bottom: 0;
  border-bottom-right-radius: 2px;
  border-bottom-left-radius: 2px;
}
a.list-group-item,
button.list-group-item {
  color: #555;
}
a.list-group-item .list-group-item-heading,
button.list-group-item .list-group-item-heading {
  color: #333;
}
a.list-group-item:hover,
button.list-group-item:hover,
a.list-group-item:focus,
button.list-group-item:focus {
  text-decoration: none;
  color: #555;
  background-color: #f5f5f5;
}
button.list-group-item {
  width: 100%;
  text-align: left;
}
.list-group-item.disabled,
.list-group-item.disabled:hover,
.list-group-item.disabled:focus {
  background-color: #eeeeee;
  color: #777777;
  cursor: not-allowed;
}
.list-group-item.disabled .list-group-item-heading,
.list-group-item.disabled:hover .list-group-item-heading,
.list-group-item.disabled:focus .list-group-item-heading {
  color: inherit;
}
.list-group-item.disabled .list-group-item-text,
.list-group-item.disabled:hover .list-group-item-text,
.list-group-item.disabled:focus .list-group-item-text {
  color: #777777;
}
.list-group-item.active,
.list-group-item.active:hover,
.list-group-item.active:focus {
  z-index: 2;
  color: #fff;
  background-color: #337ab7;
  border-color: #337ab7;
}
.list-group-item.active .list-group-item-heading,
.list-group-item.active:hover .list-group-item-heading,
.list-group-item.active:focus .list-group-item-heading,
.list-group-item.active .list-group-item-heading > small,
.list-group-item.active:hover .list-group-item-heading > small,
.list-group-item.active:focus .list-group-item-heading > small,
.list-group-item.active .list-group-item-heading > .small,
.list-group-item.active:hover .list-group-item-heading > .small,
.list-group-item.active:focus .list-group-item-heading > .small {
  color: inherit;
}
.list-group-item.active .list-group-item-text,
.list-group-item.active:hover .list-group-item-text,
.list-group-item.active:focus .list-group-item-text {
  color: #c7ddef;
}
.list-group-item-success {
  color: #3c763d;
  background-color: #dff0d8;
}
a.list-group-item-success,
button.list-group-item-success {
  color: #3c763d;
}
a.list-group-item-success .list-group-item-heading,
button.list-group-item-success .list-group-item-heading {
  color: inherit;
}
a.list-group-item-success:hover,
button.list-group-item-success:hover,
a.list-group-item-success:focus,
button.list-group-item-success:focus {
  color: #3c763d;
  background-color: #d0e9c6;
}
a.list-group-item-success.active,
button.list-group-item-success.active,
a.list-group-item-success.active:hover,
button.list-group-item-success.active:hover,
a.list-group-item-success.active:focus,
button.list-group-item-success.active:focus {
  color: #fff;
  background-color: #3c763d;
  border-color: #3c763d;
}
.list-group-item-info {
  color: #31708f;
  background-color: #d9edf7;
}
a.list-group-item-info,
button.list-group-item-info {
  color: #31708f;
}
a.list-group-item-info .list-group-item-heading,
button.list-group-item-info .list-group-item-heading {
  color: inherit;
}
a.list-group-item-info:hover,
button.list-group-item-info:hover,
a.list-group-item-info:focus,
button.list-group-item-info:focus {
  color: #31708f;
  background-color: #c4e3f3;
}
a.list-group-item-info.active,
button.list-group-item-info.active,
a.list-group-item-info.active:hover,
button.list-group-item-info.active:hover,
a.list-group-item-info.active:focus,
button.list-group-item-info.active:focus {
  color: #fff;
  background-color: #31708f;
  border-color: #31708f;
}
.list-group-item-warning {
  color: #8a6d3b;
  background-color: #fcf8e3;
}
a.list-group-item-warning,
button.list-group-item-warning {
  color: #8a6d3b;
}
a.list-group-item-warning .list-group-item-heading,
button.list-group-item-warning .list-group-item-heading {
  color: inherit;
}
a.list-group-item-warning:hover,
button.list-group-item-warning:hover,
a.list-group-item-warning:focus,
button.list-group-item-warning:focus {
  color: #8a6d3b;
  background-color: #faf2cc;
}
a.list-group-item-warning.active,
button.list-group-item-warning.active,
a.list-group-item-warning.active:hover,
button.list-group-item-warning.active:hover,
a.list-group-item-warning.active:focus,
button.list-group-item-warning.active:focus {
  color: #fff;
  background-color: #8a6d3b;
  border-color: #8a6d3b;
}
.list-group-item-danger {
  color: #a94442;
  background-color: #f2dede;
}
a.list-group-item-danger,
button.list-group-item-danger {
  color: #a94442;
}
a.list-group-item-danger .list-group-item-heading,
button.list-group-item-danger .list-group-item-heading {
  color: inherit;
}
a.list-group-item-danger:hover,
button.list-group-item-danger:hover,
a.list-group-item-danger:focus,
button.list-group-item-danger:focus {
  color: #a94442;
  background-color: #ebcccc;
}
a.list-group-item-danger.active,
button.list-group-item-danger.active,
a.list-group-item-danger.active:hover,
button.list-group-item-danger.active:hover,
a.list-group-item-danger.active:focus,
button.list-group-item-danger.active:focus {
  color: #fff;
  background-color: #a94442;
  border-color: #a94442;
}
.list-group-item-heading {
  margin-top: 0;
  margin-bottom: 5px;
}
.list-group-item-text {
  margin-bottom: 0;
  line-height: 1.3;
}
.panel {
  margin-bottom: 18px;
  background-color: #fff;
  border: 1px solid transparent;
  border-radius: 2px;
  -webkit-box-shadow: 0 1px 1px rgba(0, 0, 0, 0.05);
  box-shadow: 0 1px 1px rgba(0, 0, 0, 0.05);
}
.panel-body {
  padding: 15px;
}
.panel-heading {
  padding: 10px 15px;
  border-bottom: 1px solid transparent;
  border-top-right-radius: 1px;
  border-top-left-radius: 1px;
}
.panel-heading > .dropdown .dropdown-toggle {
  color: inherit;
}
.panel-title {
  margin-top: 0;
  margin-bottom: 0;
  font-size: 15px;
  color: inherit;
}
.panel-title > a,
.panel-title > small,
.panel-title > .small,
.panel-title > small > a,
.panel-title > .small > a {
  color: inherit;
}
.panel-footer {
  padding: 10px 15px;
  background-color: #f5f5f5;
  border-top: 1px solid #ddd;
  border-bottom-right-radius: 1px;
  border-bottom-left-radius: 1px;
}
.panel > .list-group,
.panel > .panel-collapse > .list-group {
  margin-bottom: 0;
}
.panel > .list-group .list-group-item,
.panel > .panel-collapse > .list-group .list-group-item {
  border-width: 1px 0;
  border-radius: 0;
}
.panel > .list-group:first-child .list-group-item:first-child,
.panel > .panel-collapse > .list-group:first-child .list-group-item:first-child {
  border-top: 0;
  border-top-right-radius: 1px;
  border-top-left-radius: 1px;
}
.panel > .list-group:last-child .list-group-item:last-child,
.panel > .panel-collapse > .list-group:last-child .list-group-item:last-child {
  border-bottom: 0;
  border-bottom-right-radius: 1px;
  border-bottom-left-radius: 1px;
}
.panel > .panel-heading + .panel-collapse > .list-group .list-group-item:first-child {
  border-top-right-radius: 0;
  border-top-left-radius: 0;
}
.panel-heading + .list-group .list-group-item:first-child {
  border-top-width: 0;
}
.list-group + .panel-footer {
  border-top-width: 0;
}
.panel > .table,
.panel > .table-responsive > .table,
.panel > .panel-collapse > .table {
  margin-bottom: 0;
}
.panel > .table caption,
.panel > .table-responsive > .table caption,
.panel > .panel-collapse > .table caption {
  padding-left: 15px;
  padding-right: 15px;
}
.panel > .table:first-child,
.panel > .table-responsive:first-child > .table:first-child {
  border-top-right-radius: 1px;
  border-top-left-radius: 1px;
}
.panel > .table:first-child > thead:first-child > tr:first-child,
.panel > .table-responsive:first-child > .table:first-child > thead:first-child > tr:first-child,
.panel > .table:first-child > tbody:first-child > tr:first-child,
.panel > .table-responsive:first-child > .table:first-child > tbody:first-child > tr:first-child {
  border-top-left-radius: 1px;
  border-top-right-radius: 1px;
}
.panel > .table:first-child > thead:first-child > tr:first-child td:first-child,
.panel > .table-responsive:first-child > .table:first-child > thead:first-child > tr:first-child td:first-child,
.panel > .table:first-child > tbody:first-child > tr:first-child td:first-child,
.panel > .table-responsive:first-child > .table:first-child > tbody:first-child > tr:first-child td:first-child,
.panel > .table:first-child > thead:first-child > tr:first-child th:first-child,
.panel > .table-responsive:first-child > .table:first-child > thead:first-child > tr:first-child th:first-child,
.panel > .table:first-child > tbody:first-child > tr:first-child th:first-child,
.panel > .table-responsive:first-child > .table:first-child > tbody:first-child > tr:first-child th:first-child {
  border-top-left-radius: 1px;
}
.panel > .table:first-child > thead:first-child > tr:first-child td:last-child,
.panel > .table-responsive:first-child > .table:first-child > thead:first-child > tr:first-child td:last-child,
.panel > .table:first-child > tbody:first-child > tr:first-child td:last-child,
.panel > .table-responsive:first-child > .table:first-child > tbody:first-child > tr:first-child td:last-child,
.panel > .table:first-child > thead:first-child > tr:first-child th:last-child,
.panel > .table-responsive:first-child > .table:first-child > thead:first-child > tr:first-child th:last-child,
.panel > .table:first-child > tbody:first-child > tr:first-child th:last-child,
.panel > .table-responsive:first-child > .table:first-child > tbody:first-child > tr:first-child th:last-child {
  border-top-right-radius: 1px;
}
.panel > .table:last-child,
.panel > .table-responsive:last-child > .table:last-child {
  border-bottom-right-radius: 1px;
  border-bottom-left-radius: 1px;
}
.panel > .table:last-child > tbody:last-child > tr:last-child,
.panel > .table-responsive:last-child > .table:last-child > tbody:last-child > tr:last-child,
.panel > .table:last-child > tfoot:last-child > tr:last-child,
.panel > .table-responsive:last-child > .table:last-child > tfoot:last-child > tr:last-child {
  border-bottom-left-radius: 1px;
  border-bottom-right-radius: 1px;
}
.panel > .table:last-child > tbody:last-child > tr:last-child td:first-child,
.panel > .table-responsive:last-child > .table:last-child > tbody:last-child > tr:last-child td:first-child,
.panel > .table:last-child > tfoot:last-child > tr:last-child td:first-child,
.panel > .table-responsive:last-child > .table:last-child > tfoot:last-child > tr:last-child td:first-child,
.panel > .table:last-child > tbody:last-child > tr:last-child th:first-child,
.panel > .table-responsive:last-child > .table:last-child > tbody:last-child > tr:last-child th:first-child,
.panel > .table:last-child > tfoot:last-child > tr:last-child th:first-child,
.panel > .table-responsive:last-child > .table:last-child > tfoot:last-child > tr:last-child th:first-child {
  border-bottom-left-radius: 1px;
}
.panel > .table:last-child > tbody:last-child > tr:last-child td:last-child,
.panel > .table-responsive:last-child > .table:last-child > tbody:last-child > tr:last-child td:last-child,
.panel > .table:last-child > tfoot:last-child > tr:last-child td:last-child,
.panel > .table-responsive:last-child > .table:last-child > tfoot:last-child > tr:last-child td:last-child,
.panel > .table:last-child > tbody:last-child > tr:last-child th:last-child,
.panel > .table-responsive:last-child > .table:last-child > tbody:last-child > tr:last-child th:last-child,
.panel > .table:last-child > tfoot:last-child > tr:last-child th:last-child,
.panel > .table-responsive:last-child > .table:last-child > tfoot:last-child > tr:last-child th:last-child {
  border-bottom-right-radius: 1px;
}
.panel > .panel-body + .table,
.panel > .panel-body + .table-responsive,
.panel > .table + .panel-body,
.panel > .table-responsive + .panel-body {
  border-top: 1px solid #ddd;
}
.panel > .table > tbody:first-child > tr:first-child th,
.panel > .table > tbody:first-child > tr:first-child td {
  border-top: 0;
}
.panel > .table-bordered,
.panel > .table-responsive > .table-bordered {
  border: 0;
}
.panel > .table-bordered > thead > tr > th:first-child,
.panel > .table-responsive > .table-bordered > thead > tr > th:first-child,
.panel > .table-bordered > tbody > tr > th:first-child,
.panel > .table-responsive > .table-bordered > tbody > tr > th:first-child,
.panel > .table-bordered > tfoot > tr > th:first-child,
.panel > .table-responsive > .table-bordered > tfoot > tr > th:first-child,
.panel > .table-bordered > thead > tr > td:first-child,
.panel > .table-responsive > .table-bordered > thead > tr > td:first-child,
.panel > .table-bordered > tbody > tr > td:first-child,
.panel > .table-responsive > .table-bordered > tbody > tr > td:first-child,
.panel > .table-bordered > tfoot > tr > td:first-child,
.panel > .table-responsive > .table-bordered > tfoot > tr > td:first-child {
  border-left: 0;
}
.panel > .table-bordered > thead > tr > th:last-child,
.panel > .table-responsive > .table-bordered > thead > tr > th:last-child,
.panel > .table-bordered > tbody > tr > th:last-child,
.panel > .table-responsive > .table-bordered > tbody > tr > th:last-child,
.panel > .table-bordered > tfoot > tr > th:last-child,
.panel > .table-responsive > .table-bordered > tfoot > tr > th:last-child,
.panel > .table-bordered > thead > tr > td:last-child,
.panel > .table-responsive > .table-bordered > thead > tr > td:last-child,
.panel > .table-bordered > tbody > tr > td:last-child,
.panel > .table-responsive > .table-bordered > tbody > tr > td:last-child,
.panel > .table-bordered > tfoot > tr > td:last-child,
.panel > .table-responsive > .table-bordered > tfoot > tr > td:last-child {
  border-right: 0;
}
.panel > .table-bordered > thead > tr:first-child > td,
.panel > .table-responsive > .table-bordered > thead > tr:first-child > td,
.panel > .table-bordered > tbody > tr:first-child > td,
.panel > .table-responsive > .table-bordered > tbody > tr:first-child > td,
.panel > .table-bordered > thead > tr:first-child > th,
.panel > .table-responsive > .table-bordered > thead > tr:first-child > th,
.panel > .table-bordered > tbody > tr:first-child > th,
.panel > .table-responsive > .table-bordered > tbody > tr:first-child > th {
  border-bottom: 0;
}
.panel > .table-bordered > tbody > tr:last-child > td,
.panel > .table-responsive > .table-bordered > tbody > tr:last-child > td,
.panel > .table-bordered > tfoot > tr:last-child > td,
.panel > .table-responsive > .table-bordered > tfoot > tr:last-child > td,
.panel > .table-bordered > tbody > tr:last-child > th,
.panel > .table-responsive > .table-bordered > tbody > tr:last-child > th,
.panel > .table-bordered > tfoot > tr:last-child > th,
.panel > .table-responsive > .table-bordered > tfoot > tr:last-child > th {
  border-bottom: 0;
}
.panel > .table-responsive {
  border: 0;
  margin-bottom: 0;
}
.panel-group {
  margin-bottom: 18px;
}
.panel-group .panel {
  margin-bottom: 0;
  border-radius: 2px;
}
.panel-group .panel + .panel {
  margin-top: 5px;
}
.panel-group .panel-heading {
  border-bottom: 0;
}
.panel-group .panel-heading + .panel-collapse > .panel-body,
.panel-group .panel-heading + .panel-collapse > .list-group {
  border-top: 1px solid #ddd;
}
.panel-group .panel-footer {
  border-top: 0;
}
.panel-group .panel-footer + .panel-collapse .panel-body {
  border-bottom: 1px solid #ddd;
}
.panel-default {
  border-color: #ddd;
}
.panel-default > .panel-heading {
  color: #333333;
  background-color: #f5f5f5;
  border-color: #ddd;
}
.panel-default > .panel-heading + .panel-collapse > .panel-body {
  border-top-color: #ddd;
}
.panel-default > .panel-heading .badge {
  color: #f5f5f5;
  background-color: #333333;
}
.panel-default > .panel-footer + .panel-collapse > .panel-body {
  border-bottom-color: #ddd;
}
.panel-primary {
  border-color: #337ab7;
}
.panel-primary > .panel-heading {
  color: #fff;
  background-color: #337ab7;
  border-color: #337ab7;
}
.panel-primary > .panel-heading + .panel-collapse > .panel-body {
  border-top-color: #337ab7;
}
.panel-primary > .panel-heading .badge {
  color: #337ab7;
  background-color: #fff;
}
.panel-primary > .panel-footer + .panel-collapse > .panel-body {
  border-bottom-color: #337ab7;
}
.panel-success {
  border-color: #d6e9c6;
}
.panel-success > .panel-heading {
  color: #3c763d;
  background-color: #dff0d8;
  border-color: #d6e9c6;
}
.panel-success > .panel-heading + .panel-collapse > .panel-body {
  border-top-color: #d6e9c6;
}
.panel-success > .panel-heading .badge {
  color: #dff0d8;
  background-color: #3c763d;
}
.panel-success > .panel-footer + .panel-collapse > .panel-body {
  border-bottom-color: #d6e9c6;
}
.panel-info {
  border-color: #bce8f1;
}
.panel-info > .panel-heading {
  color: #31708f;
  background-color: #d9edf7;
  border-color: #bce8f1;
}
.panel-info > .panel-heading + .panel-collapse > .panel-body {
  border-top-color: #bce8f1;
}
.panel-info > .panel-heading .badge {
  color: #d9edf7;
  background-color: #31708f;
}
.panel-info > .panel-footer + .panel-collapse > .panel-body {
  border-bottom-color: #bce8f1;
}
.panel-warning {
  border-color: #faebcc;
}
.panel-warning > .panel-heading {
  color: #8a6d3b;
  background-color: #fcf8e3;
  border-color: #faebcc;
}
.panel-warning > .panel-heading + .panel-collapse > .panel-body {
  border-top-color: #faebcc;
}
.panel-warning > .panel-heading .badge {
  color: #fcf8e3;
  background-color: #8a6d3b;
}
.panel-warning > .panel-footer + .panel-collapse > .panel-body {
  border-bottom-color: #faebcc;
}
.panel-danger {
  border-color: #ebccd1;
}
.panel-danger > .panel-heading {
  color: #a94442;
  background-color: #f2dede;
  border-color: #ebccd1;
}
.panel-danger > .panel-heading + .panel-collapse > .panel-body {
  border-top-color: #ebccd1;
}
.panel-danger > .panel-heading .badge {
  color: #f2dede;
  background-color: #a94442;
}
.panel-danger > .panel-footer + .panel-collapse > .panel-body {
  border-bottom-color: #ebccd1;
}
.embed-responsive {
  position: relative;
  display: block;
  height: 0;
  padding: 0;
  overflow: hidden;
}
.embed-responsive .embed-responsive-item,
.embed-responsive iframe,
.embed-responsive embed,
.embed-responsive object,
.embed-responsive video {
  position: absolute;
  top: 0;
  left: 0;
  bottom: 0;
  height: 100%;
  width: 100%;
  border: 0;
}
.embed-responsive-16by9 {
  padding-bottom: 56.25%;
}
.embed-responsive-4by3 {
  padding-bottom: 75%;
}
.well {
  min-height: 20px;
  padding: 19px;
  margin-bottom: 20px;
  background-color: #f5f5f5;
  border: 1px solid #e3e3e3;
  border-radius: 2px;
  -webkit-box-shadow: inset 0 1px 1px rgba(0, 0, 0, 0.05);
  box-shadow: inset 0 1px 1px rgba(0, 0, 0, 0.05);
}
.well blockquote {
  border-color: #ddd;
  border-color: rgba(0, 0, 0, 0.15);
}
.well-lg {
  padding: 24px;
  border-radius: 3px;
}
.well-sm {
  padding: 9px;
  border-radius: 1px;
}
.close {
  float: right;
  font-size: 19.5px;
  font-weight: bold;
  line-height: 1;
  color: #000;
  text-shadow: 0 1px 0 #fff;
  opacity: 0.2;
  filter: alpha(opacity=20);
}
.close:hover,
.close:focus {
  color: #000;
  text-decoration: none;
  cursor: pointer;
  opacity: 0.5;
  filter: alpha(opacity=50);
}
button.close {
  padding: 0;
  cursor: pointer;
  background: transparent;
  border: 0;
  -webkit-appearance: none;
}
.modal-open {
  overflow: hidden;
}
.modal {
  display: none;
  overflow: hidden;
  position: fixed;
  top: 0;
  right: 0;
  bottom: 0;
  left: 0;
  z-index: 1050;
  -webkit-overflow-scrolling: touch;
  outline: 0;
}
.modal.fade .modal-dialog {
  -webkit-transform: translate(0, -25%);
  -ms-transform: translate(0, -25%);
  -o-transform: translate(0, -25%);
  transform: translate(0, -25%);
  -webkit-transition: -webkit-transform 0.3s ease-out;
  -moz-transition: -moz-transform 0.3s ease-out;
  -o-transition: -o-transform 0.3s ease-out;
  transition: transform 0.3s ease-out;
}
.modal.in .modal-dialog {
  -webkit-transform: translate(0, 0);
  -ms-transform: translate(0, 0);
  -o-transform: translate(0, 0);
  transform: translate(0, 0);
}
.modal-open .modal {
  overflow-x: hidden;
  overflow-y: auto;
}
.modal-dialog {
  position: relative;
  width: auto;
  margin: 10px;
}
.modal-content {
  position: relative;
  background-color: #fff;
  border: 1px solid #999;
  border: 1px solid rgba(0, 0, 0, 0.2);
  border-radius: 3px;
  -webkit-box-shadow: 0 3px 9px rgba(0, 0, 0, 0.5);
  box-shadow: 0 3px 9px rgba(0, 0, 0, 0.5);
  background-clip: padding-box;
  outline: 0;
}
.modal-backdrop {
  position: fixed;
  top: 0;
  right: 0;
  bottom: 0;
  left: 0;
  z-index: 1040;
  background-color: #000;
}
.modal-backdrop.fade {
  opacity: 0;
  filter: alpha(opacity=0);
}
.modal-backdrop.in {
  opacity: 0.5;
  filter: alpha(opacity=50);
}
.modal-header {
  padding: 15px;
  border-bottom: 1px solid #e5e5e5;
}
.modal-header .close {
  margin-top: -2px;
}
.modal-title {
  margin: 0;
  line-height: 1.42857143;
}
.modal-body {
  position: relative;
  padding: 15px;
}
.modal-footer {
  padding: 15px;
  text-align: right;
  border-top: 1px solid #e5e5e5;
}
.modal-footer .btn + .btn {
  margin-left: 5px;
  margin-bottom: 0;
}
.modal-footer .btn-group .btn + .btn {
  margin-left: -1px;
}
.modal-footer .btn-block + .btn-block {
  margin-left: 0;
}
.modal-scrollbar-measure {
  position: absolute;
  top: -9999px;
  width: 50px;
  height: 50px;
  overflow: scroll;
}
@media (min-width: 768px) {
  .modal-dialog {
    width: 600px;
    margin: 30px auto;
  }
  .modal-content {
    -webkit-box-shadow: 0 5px 15px rgba(0, 0, 0, 0.5);
    box-shadow: 0 5px 15px rgba(0, 0, 0, 0.5);
  }
  .modal-sm {
    width: 300px;
  }
}
@media (min-width: 992px) {
  .modal-lg {
    width: 900px;
  }
}
.tooltip {
  position: absolute;
  z-index: 1070;
  display: block;
  font-family: "Helvetica Neue", Helvetica, Arial, sans-serif;
  font-style: normal;
  font-weight: normal;
  letter-spacing: normal;
  line-break: auto;
  line-height: 1.42857143;
  text-align: left;
  text-align: start;
  text-decoration: none;
  text-shadow: none;
  text-transform: none;
  white-space: normal;
  word-break: normal;
  word-spacing: normal;
  word-wrap: normal;
  font-size: 12px;
  opacity: 0;
  filter: alpha(opacity=0);
}
.tooltip.in {
  opacity: 0.9;
  filter: alpha(opacity=90);
}
.tooltip.top {
  margin-top: -3px;
  padding: 5px 0;
}
.tooltip.right {
  margin-left: 3px;
  padding: 0 5px;
}
.tooltip.bottom {
  margin-top: 3px;
  padding: 5px 0;
}
.tooltip.left {
  margin-left: -3px;
  padding: 0 5px;
}
.tooltip-inner {
  max-width: 200px;
  padding: 3px 8px;
  color: #fff;
  text-align: center;
  background-color: #000;
  border-radius: 2px;
}
.tooltip-arrow {
  position: absolute;
  width: 0;
  height: 0;
  border-color: transparent;
  border-style: solid;
}
.tooltip.top .tooltip-arrow {
  bottom: 0;
  left: 50%;
  margin-left: -5px;
  border-width: 5px 5px 0;
  border-top-color: #000;
}
.tooltip.top-left .tooltip-arrow {
  bottom: 0;
  right: 5px;
  margin-bottom: -5px;
  border-width: 5px 5px 0;
  border-top-color: #000;
}
.tooltip.top-right .tooltip-arrow {
  bottom: 0;
  left: 5px;
  margin-bottom: -5px;
  border-width: 5px 5px 0;
  border-top-color: #000;
}
.tooltip.right .tooltip-arrow {
  top: 50%;
  left: 0;
  margin-top: -5px;
  border-width: 5px 5px 5px 0;
  border-right-color: #000;
}
.tooltip.left .tooltip-arrow {
  top: 50%;
  right: 0;
  margin-top: -5px;
  border-width: 5px 0 5px 5px;
  border-left-color: #000;
}
.tooltip.bottom .tooltip-arrow {
  top: 0;
  left: 50%;
  margin-left: -5px;
  border-width: 0 5px 5px;
  border-bottom-color: #000;
}
.tooltip.bottom-left .tooltip-arrow {
  top: 0;
  right: 5px;
  margin-top: -5px;
  border-width: 0 5px 5px;
  border-bottom-color: #000;
}
.tooltip.bottom-right .tooltip-arrow {
  top: 0;
  left: 5px;
  margin-top: -5px;
  border-width: 0 5px 5px;
  border-bottom-color: #000;
}
.popover {
  position: absolute;
  top: 0;
  left: 0;
  z-index: 1060;
  display: none;
  max-width: 276px;
  padding: 1px;
  font-family: "Helvetica Neue", Helvetica, Arial, sans-serif;
  font-style: normal;
  font-weight: normal;
  letter-spacing: normal;
  line-break: auto;
  line-height: 1.42857143;
  text-align: left;
  text-align: start;
  text-decoration: none;
  text-shadow: none;
  text-transform: none;
  white-space: normal;
  word-break: normal;
  word-spacing: normal;
  word-wrap: normal;
  font-size: 13px;
  background-color: #fff;
  background-clip: padding-box;
  border: 1px solid #ccc;
  border: 1px solid rgba(0, 0, 0, 0.2);
  border-radius: 3px;
  -webkit-box-shadow: 0 5px 10px rgba(0, 0, 0, 0.2);
  box-shadow: 0 5px 10px rgba(0, 0, 0, 0.2);
}
.popover.top {
  margin-top: -10px;
}
.popover.right {
  margin-left: 10px;
}
.popover.bottom {
  margin-top: 10px;
}
.popover.left {
  margin-left: -10px;
}
.popover-title {
  margin: 0;
  padding: 8px 14px;
  font-size: 13px;
  background-color: #f7f7f7;
  border-bottom: 1px solid #ebebeb;
  border-radius: 2px 2px 0 0;
}
.popover-content {
  padding: 9px 14px;
}
.popover > .arrow,
.popover > .arrow:after {
  position: absolute;
  display: block;
  width: 0;
  height: 0;
  border-color: transparent;
  border-style: solid;
}
.popover > .arrow {
  border-width: 11px;
}
.popover > .arrow:after {
  border-width: 10px;
  content: "";
}
.popover.top > .arrow {
  left: 50%;
  margin-left: -11px;
  border-bottom-width: 0;
  border-top-color: #999999;
  border-top-color: rgba(0, 0, 0, 0.25);
  bottom: -11px;
}
.popover.top > .arrow:after {
  content: " ";
  bottom: 1px;
  margin-left: -10px;
  border-bottom-width: 0;
  border-top-color: #fff;
}
.popover.right > .arrow {
  top: 50%;
  left: -11px;
  margin-top: -11px;
  border-left-width: 0;
  border-right-color: #999999;
  border-right-color: rgba(0, 0, 0, 0.25);
}
.popover.right > .arrow:after {
  content: " ";
  left: 1px;
  bottom: -10px;
  border-left-width: 0;
  border-right-color: #fff;
}
.popover.bottom > .arrow {
  left: 50%;
  margin-left: -11px;
  border-top-width: 0;
  border-bottom-color: #999999;
  border-bottom-color: rgba(0, 0, 0, 0.25);
  top: -11px;
}
.popover.bottom > .arrow:after {
  content: " ";
  top: 1px;
  margin-left: -10px;
  border-top-width: 0;
  border-bottom-color: #fff;
}
.popover.left > .arrow {
  top: 50%;
  right: -11px;
  margin-top: -11px;
  border-right-width: 0;
  border-left-color: #999999;
  border-left-color: rgba(0, 0, 0, 0.25);
}
.popover.left > .arrow:after {
  content: " ";
  right: 1px;
  border-right-width: 0;
  border-left-color: #fff;
  bottom: -10px;
}
.carousel {
  position: relative;
}
.carousel-inner {
  position: relative;
  overflow: hidden;
  width: 100%;
}
.carousel-inner > .item {
  display: none;
  position: relative;
  -webkit-transition: 0.6s ease-in-out left;
  -o-transition: 0.6s ease-in-out left;
  transition: 0.6s ease-in-out left;
}
.carousel-inner > .item > img,
.carousel-inner > .item > a > img {
  line-height: 1;
}
@media all and (transform-3d), (-webkit-transform-3d) {
  .carousel-inner > .item {
    -webkit-transition: -webkit-transform 0.6s ease-in-out;
    -moz-transition: -moz-transform 0.6s ease-in-out;
    -o-transition: -o-transform 0.6s ease-in-out;
    transition: transform 0.6s ease-in-out;
    -webkit-backface-visibility: hidden;
    -moz-backface-visibility: hidden;
    backface-visibility: hidden;
    -webkit-perspective: 1000px;
    -moz-perspective: 1000px;
    perspective: 1000px;
  }
  .carousel-inner > .item.next,
  .carousel-inner > .item.active.right {
    -webkit-transform: translate3d(100%, 0, 0);
    transform: translate3d(100%, 0, 0);
    left: 0;
  }
  .carousel-inner > .item.prev,
  .carousel-inner > .item.active.left {
    -webkit-transform: translate3d(-100%, 0, 0);
    transform: translate3d(-100%, 0, 0);
    left: 0;
  }
  .carousel-inner > .item.next.left,
  .carousel-inner > .item.prev.right,
  .carousel-inner > .item.active {
    -webkit-transform: translate3d(0, 0, 0);
    transform: translate3d(0, 0, 0);
    left: 0;
  }
}
.carousel-inner > .active,
.carousel-inner > .next,
.carousel-inner > .prev {
  display: block;
}
.carousel-inner > .active {
  left: 0;
}
.carousel-inner > .next,
.carousel-inner > .prev {
  position: absolute;
  top: 0;
  width: 100%;
}
.carousel-inner > .next {
  left: 100%;
}
.carousel-inner > .prev {
  left: -100%;
}
.carousel-inner > .next.left,
.carousel-inner > .prev.right {
  left: 0;
}
.carousel-inner > .active.left {
  left: -100%;
}
.carousel-inner > .active.right {
  left: 100%;
}
.carousel-control {
  position: absolute;
  top: 0;
  left: 0;
  bottom: 0;
  width: 15%;
  opacity: 0.5;
  filter: alpha(opacity=50);
  font-size: 20px;
  color: #fff;
  text-align: center;
  text-shadow: 0 1px 2px rgba(0, 0, 0, 0.6);
  background-color: rgba(0, 0, 0, 0);
}
.carousel-control.left {
  background-image: -webkit-linear-gradient(left, rgba(0, 0, 0, 0.5) 0%, rgba(0, 0, 0, 0.0001) 100%);
  background-image: -o-linear-gradient(left, rgba(0, 0, 0, 0.5) 0%, rgba(0, 0, 0, 0.0001) 100%);
  background-image: linear-gradient(to right, rgba(0, 0, 0, 0.5) 0%, rgba(0, 0, 0, 0.0001) 100%);
  background-repeat: repeat-x;
  filter: progid:DXImageTransform.Microsoft.gradient(startColorstr='#80000000', endColorstr='#00000000', GradientType=1);
}
.carousel-control.right {
  left: auto;
  right: 0;
  background-image: -webkit-linear-gradient(left, rgba(0, 0, 0, 0.0001) 0%, rgba(0, 0, 0, 0.5) 100%);
  background-image: -o-linear-gradient(left, rgba(0, 0, 0, 0.0001) 0%, rgba(0, 0, 0, 0.5) 100%);
  background-image: linear-gradient(to right, rgba(0, 0, 0, 0.0001) 0%, rgba(0, 0, 0, 0.5) 100%);
  background-repeat: repeat-x;
  filter: progid:DXImageTransform.Microsoft.gradient(startColorstr='#00000000', endColorstr='#80000000', GradientType=1);
}
.carousel-control:hover,
.carousel-control:focus {
  outline: 0;
  color: #fff;
  text-decoration: none;
  opacity: 0.9;
  filter: alpha(opacity=90);
}
.carousel-control .icon-prev,
.carousel-control .icon-next,
.carousel-control .glyphicon-chevron-left,
.carousel-control .glyphicon-chevron-right {
  position: absolute;
  top: 50%;
  margin-top: -10px;
  z-index: 5;
  display: inline-block;
}
.carousel-control .icon-prev,
.carousel-control .glyphicon-chevron-left {
  left: 50%;
  margin-left: -10px;
}
.carousel-control .icon-next,
.carousel-control .glyphicon-chevron-right {
  right: 50%;
  margin-right: -10px;
}
.carousel-control .icon-prev,
.carousel-control .icon-next {
  width: 20px;
  height: 20px;
  line-height: 1;
  font-family: serif;
}
.carousel-control .icon-prev:before {
  content: '\2039';
}
.carousel-control .icon-next:before {
  content: '\203a';
}
.carousel-indicators {
  position: absolute;
  bottom: 10px;
  left: 50%;
  z-index: 15;
  width: 60%;
  margin-left: -30%;
  padding-left: 0;
  list-style: none;
  text-align: center;
}
.carousel-indicators li {
  display: inline-block;
  width: 10px;
  height: 10px;
  margin: 1px;
  text-indent: -999px;
  border: 1px solid #fff;
  border-radius: 10px;
  cursor: pointer;
  background-color: #000 \9;
  background-color: rgba(0, 0, 0, 0);
}
.carousel-indicators .active {
  margin: 0;
  width: 12px;
  height: 12px;
  background-color: #fff;
}
.carousel-caption {
  position: absolute;
  left: 15%;
  right: 15%;
  bottom: 20px;
  z-index: 10;
  padding-top: 20px;
  padding-bottom: 20px;
  color: #fff;
  text-align: center;
  text-shadow: 0 1px 2px rgba(0, 0, 0, 0.6);
}
.carousel-caption .btn {
  text-shadow: none;
}
@media screen and (min-width: 768px) {
  .carousel-control .glyphicon-chevron-left,
  .carousel-control .glyphicon-chevron-right,
  .carousel-control .icon-prev,
  .carousel-control .icon-next {
    width: 30px;
    height: 30px;
    margin-top: -10px;
    font-size: 30px;
  }
  .carousel-control .glyphicon-chevron-left,
  .carousel-control .icon-prev {
    margin-left: -10px;
  }
  .carousel-control .glyphicon-chevron-right,
  .carousel-control .icon-next {
    margin-right: -10px;
  }
  .carousel-caption {
    left: 20%;
    right: 20%;
    padding-bottom: 30px;
  }
  .carousel-indicators {
    bottom: 20px;
  }
}
.clearfix:before,
.clearfix:after,
.dl-horizontal dd:before,
.dl-horizontal dd:after,
.container:before,
.container:after,
.container-fluid:before,
.container-fluid:after,
.row:before,
.row:after,
.form-horizontal .form-group:before,
.form-horizontal .form-group:after,
.btn-toolbar:before,
.btn-toolbar:after,
.btn-group-vertical > .btn-group:before,
.btn-group-vertical > .btn-group:after,
.nav:before,
.nav:after,
.navbar:before,
.navbar:after,
.navbar-header:before,
.navbar-header:after,
.navbar-collapse:before,
.navbar-collapse:after,
.pager:before,
.pager:after,
.panel-body:before,
.panel-body:after,
.modal-header:before,
.modal-header:after,
.modal-footer:before,
.modal-footer:after,
.item_buttons:before,
.item_buttons:after {
  content: " ";
  display: table;
}
.clearfix:after,
.dl-horizontal dd:after,
.container:after,
.container-fluid:after,
.row:after,
.form-horizontal .form-group:after,
.btn-toolbar:after,
.btn-group-vertical > .btn-group:after,
.nav:after,
.navbar:after,
.navbar-header:after,
.navbar-collapse:after,
.pager:after,
.panel-body:after,
.modal-header:after,
.modal-footer:after,
.item_buttons:after {
  clear: both;
}
.center-block {
  display: block;
  margin-left: auto;
  margin-right: auto;
}
.pull-right {
  float: right !important;
}
.pull-left {
  float: left !important;
}
.hide {
  display: none !important;
}
.show {
  display: block !important;
}
.invisible {
  visibility: hidden;
}
.text-hide {
  font: 0/0 a;
  color: transparent;
  text-shadow: none;
  background-color: transparent;
  border: 0;
}
.hidden {
  display: none !important;
}
.affix {
  position: fixed;
}
@-ms-viewport {
  width: device-width;
}
.visible-xs,
.visible-sm,
.visible-md,
.visible-lg {
  display: none !important;
}
.visible-xs-block,
.visible-xs-inline,
.visible-xs-inline-block,
.visible-sm-block,
.visible-sm-inline,
.visible-sm-inline-block,
.visible-md-block,
.visible-md-inline,
.visible-md-inline-block,
.visible-lg-block,
.visible-lg-inline,
.visible-lg-inline-block {
  display: none !important;
}
@media (max-width: 767px) {
  .visible-xs {
    display: block !important;
  }
  table.visible-xs {
    display: table !important;
  }
  tr.visible-xs {
    display: table-row !important;
  }
  th.visible-xs,
  td.visible-xs {
    display: table-cell !important;
  }
}
@media (max-width: 767px) {
  .visible-xs-block {
    display: block !important;
  }
}
@media (max-width: 767px) {
  .visible-xs-inline {
    display: inline !important;
  }
}
@media (max-width: 767px) {
  .visible-xs-inline-block {
    display: inline-block !important;
  }
}
@media (min-width: 768px) and (max-width: 991px) {
  .visible-sm {
    display: block !important;
  }
  table.visible-sm {
    display: table !important;
  }
  tr.visible-sm {
    display: table-row !important;
  }
  th.visible-sm,
  td.visible-sm {
    display: table-cell !important;
  }
}
@media (min-width: 768px) and (max-width: 991px) {
  .visible-sm-block {
    display: block !important;
  }
}
@media (min-width: 768px) and (max-width: 991px) {
  .visible-sm-inline {
    display: inline !important;
  }
}
@media (min-width: 768px) and (max-width: 991px) {
  .visible-sm-inline-block {
    display: inline-block !important;
  }
}
@media (min-width: 992px) and (max-width: 1199px) {
  .visible-md {
    display: block !important;
  }
  table.visible-md {
    display: table !important;
  }
  tr.visible-md {
    display: table-row !important;
  }
  th.visible-md,
  td.visible-md {
    display: table-cell !important;
  }
}
@media (min-width: 992px) and (max-width: 1199px) {
  .visible-md-block {
    display: block !important;
  }
}
@media (min-width: 992px) and (max-width: 1199px) {
  .visible-md-inline {
    display: inline !important;
  }
}
@media (min-width: 992px) and (max-width: 1199px) {
  .visible-md-inline-block {
    display: inline-block !important;
  }
}
@media (min-width: 1200px) {
  .visible-lg {
    display: block !important;
  }
  table.visible-lg {
    display: table !important;
  }
  tr.visible-lg {
    display: table-row !important;
  }
  th.visible-lg,
  td.visible-lg {
    display: table-cell !important;
  }
}
@media (min-width: 1200px) {
  .visible-lg-block {
    display: block !important;
  }
}
@media (min-width: 1200px) {
  .visible-lg-inline {
    display: inline !important;
  }
}
@media (min-width: 1200px) {
  .visible-lg-inline-block {
    display: inline-block !important;
  }
}
@media (max-width: 767px) {
  .hidden-xs {
    display: none !important;
  }
}
@media (min-width: 768px) and (max-width: 991px) {
  .hidden-sm {
    display: none !important;
  }
}
@media (min-width: 992px) and (max-width: 1199px) {
  .hidden-md {
    display: none !important;
  }
}
@media (min-width: 1200px) {
  .hidden-lg {
    display: none !important;
  }
}
.visible-print {
  display: none !important;
}
@media print {
  .visible-print {
    display: block !important;
  }
  table.visible-print {
    display: table !important;
  }
  tr.visible-print {
    display: table-row !important;
  }
  th.visible-print,
  td.visible-print {
    display: table-cell !important;
  }
}
.visible-print-block {
  display: none !important;
}
@media print {
  .visible-print-block {
    display: block !important;
  }
}
.visible-print-inline {
  display: none !important;
}
@media print {
  .visible-print-inline {
    display: inline !important;
  }
}
.visible-print-inline-block {
  display: none !important;
}
@media print {
  .visible-print-inline-block {
    display: inline-block !important;
  }
}
@media print {
  .hidden-print {
    display: none !important;
  }
}
/*!
*
* Font Awesome
*
*/
/*!
 *  Font Awesome 4.2.0 by @davegandy - http://fontawesome.io - @fontawesome
 *  License - http://fontawesome.io/license (Font: SIL OFL 1.1, CSS: MIT License)
 */
/* FONT PATH
 * -------------------------- */
@font-face {
  font-family: 'FontAwesome';
  src: url('../components/font-awesome/fonts/fontawesome-webfont.eot?v=4.2.0');
  src: url('../components/font-awesome/fonts/fontawesome-webfont.eot?#iefix&v=4.2.0') format('embedded-opentype'), url('../components/font-awesome/fonts/fontawesome-webfont.woff?v=4.2.0') format('woff'), url('../components/font-awesome/fonts/fontawesome-webfont.ttf?v=4.2.0') format('truetype'), url('../components/font-awesome/fonts/fontawesome-webfont.svg?v=4.2.0#fontawesomeregular') format('svg');
  font-weight: normal;
  font-style: normal;
}
.fa {
  display: inline-block;
  font: normal normal normal 14px/1 FontAwesome;
  font-size: inherit;
  text-rendering: auto;
  -webkit-font-smoothing: antialiased;
  -moz-osx-font-smoothing: grayscale;
}
/* makes the font 33% larger relative to the icon container */
.fa-lg {
  font-size: 1.33333333em;
  line-height: 0.75em;
  vertical-align: -15%;
}
.fa-2x {
  font-size: 2em;
}
.fa-3x {
  font-size: 3em;
}
.fa-4x {
  font-size: 4em;
}
.fa-5x {
  font-size: 5em;
}
.fa-fw {
  width: 1.28571429em;
  text-align: center;
}
.fa-ul {
  padding-left: 0;
  margin-left: 2.14285714em;
  list-style-type: none;
}
.fa-ul > li {
  position: relative;
}
.fa-li {
  position: absolute;
  left: -2.14285714em;
  width: 2.14285714em;
  top: 0.14285714em;
  text-align: center;
}
.fa-li.fa-lg {
  left: -1.85714286em;
}
.fa-border {
  padding: .2em .25em .15em;
  border: solid 0.08em #eee;
  border-radius: .1em;
}
.pull-right {
  float: right;
}
.pull-left {
  float: left;
}
.fa.pull-left {
  margin-right: .3em;
}
.fa.pull-right {
  margin-left: .3em;
}
.fa-spin {
  -webkit-animation: fa-spin 2s infinite linear;
  animation: fa-spin 2s infinite linear;
}
@-webkit-keyframes fa-spin {
  0% {
    -webkit-transform: rotate(0deg);
    transform: rotate(0deg);
  }
  100% {
    -webkit-transform: rotate(359deg);
    transform: rotate(359deg);
  }
}
@keyframes fa-spin {
  0% {
    -webkit-transform: rotate(0deg);
    transform: rotate(0deg);
  }
  100% {
    -webkit-transform: rotate(359deg);
    transform: rotate(359deg);
  }
}
.fa-rotate-90 {
  filter: progid:DXImageTransform.Microsoft.BasicImage(rotation=1);
  -webkit-transform: rotate(90deg);
  -ms-transform: rotate(90deg);
  transform: rotate(90deg);
}
.fa-rotate-180 {
  filter: progid:DXImageTransform.Microsoft.BasicImage(rotation=2);
  -webkit-transform: rotate(180deg);
  -ms-transform: rotate(180deg);
  transform: rotate(180deg);
}
.fa-rotate-270 {
  filter: progid:DXImageTransform.Microsoft.BasicImage(rotation=3);
  -webkit-transform: rotate(270deg);
  -ms-transform: rotate(270deg);
  transform: rotate(270deg);
}
.fa-flip-horizontal {
  filter: progid:DXImageTransform.Microsoft.BasicImage(rotation=0, mirror=1);
  -webkit-transform: scale(-1, 1);
  -ms-transform: scale(-1, 1);
  transform: scale(-1, 1);
}
.fa-flip-vertical {
  filter: progid:DXImageTransform.Microsoft.BasicImage(rotation=2, mirror=1);
  -webkit-transform: scale(1, -1);
  -ms-transform: scale(1, -1);
  transform: scale(1, -1);
}
:root .fa-rotate-90,
:root .fa-rotate-180,
:root .fa-rotate-270,
:root .fa-flip-horizontal,
:root .fa-flip-vertical {
  filter: none;
}
.fa-stack {
  position: relative;
  display: inline-block;
  width: 2em;
  height: 2em;
  line-height: 2em;
  vertical-align: middle;
}
.fa-stack-1x,
.fa-stack-2x {
  position: absolute;
  left: 0;
  width: 100%;
  text-align: center;
}
.fa-stack-1x {
  line-height: inherit;
}
.fa-stack-2x {
  font-size: 2em;
}
.fa-inverse {
  color: #fff;
}
/* Font Awesome uses the Unicode Private Use Area (PUA) to ensure screen
   readers do not read off random characters that represent icons */
.fa-glass:before {
  content: "\f000";
}
.fa-music:before {
  content: "\f001";
}
.fa-search:before {
  content: "\f002";
}
.fa-envelope-o:before {
  content: "\f003";
}
.fa-heart:before {
  content: "\f004";
}
.fa-star:before {
  content: "\f005";
}
.fa-star-o:before {
  content: "\f006";
}
.fa-user:before {
  content: "\f007";
}
.fa-film:before {
  content: "\f008";
}
.fa-th-large:before {
  content: "\f009";
}
.fa-th:before {
  content: "\f00a";
}
.fa-th-list:before {
  content: "\f00b";
}
.fa-check:before {
  content: "\f00c";
}
.fa-remove:before,
.fa-close:before,
.fa-times:before {
  content: "\f00d";
}
.fa-search-plus:before {
  content: "\f00e";
}
.fa-search-minus:before {
  content: "\f010";
}
.fa-power-off:before {
  content: "\f011";
}
.fa-signal:before {
  content: "\f012";
}
.fa-gear:before,
.fa-cog:before {
  content: "\f013";
}
.fa-trash-o:before {
  content: "\f014";
}
.fa-home:before {
  content: "\f015";
}
.fa-file-o:before {
  content: "\f016";
}
.fa-clock-o:before {
  content: "\f017";
}
.fa-road:before {
  content: "\f018";
}
.fa-download:before {
  content: "\f019";
}
.fa-arrow-circle-o-down:before {
  content: "\f01a";
}
.fa-arrow-circle-o-up:before {
  content: "\f01b";
}
.fa-inbox:before {
  content: "\f01c";
}
.fa-play-circle-o:before {
  content: "\f01d";
}
.fa-rotate-right:before,
.fa-repeat:before {
  content: "\f01e";
}
.fa-refresh:before {
  content: "\f021";
}
.fa-list-alt:before {
  content: "\f022";
}
.fa-lock:before {
  content: "\f023";
}
.fa-flag:before {
  content: "\f024";
}
.fa-headphones:before {
  content: "\f025";
}
.fa-volume-off:before {
  content: "\f026";
}
.fa-volume-down:before {
  content: "\f027";
}
.fa-volume-up:before {
  content: "\f028";
}
.fa-qrcode:before {
  content: "\f029";
}
.fa-barcode:before {
  content: "\f02a";
}
.fa-tag:before {
  content: "\f02b";
}
.fa-tags:before {
  content: "\f02c";
}
.fa-book:before {
  content: "\f02d";
}
.fa-bookmark:before {
  content: "\f02e";
}
.fa-print:before {
  content: "\f02f";
}
.fa-camera:before {
  content: "\f030";
}
.fa-font:before {
  content: "\f031";
}
.fa-bold:before {
  content: "\f032";
}
.fa-italic:before {
  content: "\f033";
}
.fa-text-height:before {
  content: "\f034";
}
.fa-text-width:before {
  content: "\f035";
}
.fa-align-left:before {
  content: "\f036";
}
.fa-align-center:before {
  content: "\f037";
}
.fa-align-right:before {
  content: "\f038";
}
.fa-align-justify:before {
  content: "\f039";
}
.fa-list:before {
  content: "\f03a";
}
.fa-dedent:before,
.fa-outdent:before {
  content: "\f03b";
}
.fa-indent:before {
  content: "\f03c";
}
.fa-video-camera:before {
  content: "\f03d";
}
.fa-photo:before,
.fa-image:before,
.fa-picture-o:before {
  content: "\f03e";
}
.fa-pencil:before {
  content: "\f040";
}
.fa-map-marker:before {
  content: "\f041";
}
.fa-adjust:before {
  content: "\f042";
}
.fa-tint:before {
  content: "\f043";
}
.fa-edit:before,
.fa-pencil-square-o:before {
  content: "\f044";
}
.fa-share-square-o:before {
  content: "\f045";
}
.fa-check-square-o:before {
  content: "\f046";
}
.fa-arrows:before {
  content: "\f047";
}
.fa-step-backward:before {
  content: "\f048";
}
.fa-fast-backward:before {
  content: "\f049";
}
.fa-backward:before {
  content: "\f04a";
}
.fa-play:before {
  content: "\f04b";
}
.fa-pause:before {
  content: "\f04c";
}
.fa-stop:before {
  content: "\f04d";
}
.fa-forward:before {
  content: "\f04e";
}
.fa-fast-forward:before {
  content: "\f050";
}
.fa-step-forward:before {
  content: "\f051";
}
.fa-eject:before {
  content: "\f052";
}
.fa-chevron-left:before {
  content: "\f053";
}
.fa-chevron-right:before {
  content: "\f054";
}
.fa-plus-circle:before {
  content: "\f055";
}
.fa-minus-circle:before {
  content: "\f056";
}
.fa-times-circle:before {
  content: "\f057";
}
.fa-check-circle:before {
  content: "\f058";
}
.fa-question-circle:before {
  content: "\f059";
}
.fa-info-circle:before {
  content: "\f05a";
}
.fa-crosshairs:before {
  content: "\f05b";
}
.fa-times-circle-o:before {
  content: "\f05c";
}
.fa-check-circle-o:before {
  content: "\f05d";
}
.fa-ban:before {
  content: "\f05e";
}
.fa-arrow-left:before {
  content: "\f060";
}
.fa-arrow-right:before {
  content: "\f061";
}
.fa-arrow-up:before {
  content: "\f062";
}
.fa-arrow-down:before {
  content: "\f063";
}
.fa-mail-forward:before,
.fa-share:before {
  content: "\f064";
}
.fa-expand:before {
  content: "\f065";
}
.fa-compress:before {
  content: "\f066";
}
.fa-plus:before {
  content: "\f067";
}
.fa-minus:before {
  content: "\f068";
}
.fa-asterisk:before {
  content: "\f069";
}
.fa-exclamation-circle:before {
  content: "\f06a";
}
.fa-gift:before {
  content: "\f06b";
}
.fa-leaf:before {
  content: "\f06c";
}
.fa-fire:before {
  content: "\f06d";
}
.fa-eye:before {
  content: "\f06e";
}
.fa-eye-slash:before {
  content: "\f070";
}
.fa-warning:before,
.fa-exclamation-triangle:before {
  content: "\f071";
}
.fa-plane:before {
  content: "\f072";
}
.fa-calendar:before {
  content: "\f073";
}
.fa-random:before {
  content: "\f074";
}
.fa-comment:before {
  content: "\f075";
}
.fa-magnet:before {
  content: "\f076";
}
.fa-chevron-up:before {
  content: "\f077";
}
.fa-chevron-down:before {
  content: "\f078";
}
.fa-retweet:before {
  content: "\f079";
}
.fa-shopping-cart:before {
  content: "\f07a";
}
.fa-folder:before {
  content: "\f07b";
}
.fa-folder-open:before {
  content: "\f07c";
}
.fa-arrows-v:before {
  content: "\f07d";
}
.fa-arrows-h:before {
  content: "\f07e";
}
.fa-bar-chart-o:before,
.fa-bar-chart:before {
  content: "\f080";
}
.fa-twitter-square:before {
  content: "\f081";
}
.fa-facebook-square:before {
  content: "\f082";
}
.fa-camera-retro:before {
  content: "\f083";
}
.fa-key:before {
  content: "\f084";
}
.fa-gears:before,
.fa-cogs:before {
  content: "\f085";
}
.fa-comments:before {
  content: "\f086";
}
.fa-thumbs-o-up:before {
  content: "\f087";
}
.fa-thumbs-o-down:before {
  content: "\f088";
}
.fa-star-half:before {
  content: "\f089";
}
.fa-heart-o:before {
  content: "\f08a";
}
.fa-sign-out:before {
  content: "\f08b";
}
.fa-linkedin-square:before {
  content: "\f08c";
}
.fa-thumb-tack:before {
  content: "\f08d";
}
.fa-external-link:before {
  content: "\f08e";
}
.fa-sign-in:before {
  content: "\f090";
}
.fa-trophy:before {
  content: "\f091";
}
.fa-github-square:before {
  content: "\f092";
}
.fa-upload:before {
  content: "\f093";
}
.fa-lemon-o:before {
  content: "\f094";
}
.fa-phone:before {
  content: "\f095";
}
.fa-square-o:before {
  content: "\f096";
}
.fa-bookmark-o:before {
  content: "\f097";
}
.fa-phone-square:before {
  content: "\f098";
}
.fa-twitter:before {
  content: "\f099";
}
.fa-facebook:before {
  content: "\f09a";
}
.fa-github:before {
  content: "\f09b";
}
.fa-unlock:before {
  content: "\f09c";
}
.fa-credit-card:before {
  content: "\f09d";
}
.fa-rss:before {
  content: "\f09e";
}
.fa-hdd-o:before {
  content: "\f0a0";
}
.fa-bullhorn:before {
  content: "\f0a1";
}
.fa-bell:before {
  content: "\f0f3";
}
.fa-certificate:before {
  content: "\f0a3";
}
.fa-hand-o-right:before {
  content: "\f0a4";
}
.fa-hand-o-left:before {
  content: "\f0a5";
}
.fa-hand-o-up:before {
  content: "\f0a6";
}
.fa-hand-o-down:before {
  content: "\f0a7";
}
.fa-arrow-circle-left:before {
  content: "\f0a8";
}
.fa-arrow-circle-right:before {
  content: "\f0a9";
}
.fa-arrow-circle-up:before {
  content: "\f0aa";
}
.fa-arrow-circle-down:before {
  content: "\f0ab";
}
.fa-globe:before {
  content: "\f0ac";
}
.fa-wrench:before {
  content: "\f0ad";
}
.fa-tasks:before {
  content: "\f0ae";
}
.fa-filter:before {
  content: "\f0b0";
}
.fa-briefcase:before {
  content: "\f0b1";
}
.fa-arrows-alt:before {
  content: "\f0b2";
}
.fa-group:before,
.fa-users:before {
  content: "\f0c0";
}
.fa-chain:before,
.fa-link:before {
  content: "\f0c1";
}
.fa-cloud:before {
  content: "\f0c2";
}
.fa-flask:before {
  content: "\f0c3";
}
.fa-cut:before,
.fa-scissors:before {
  content: "\f0c4";
}
.fa-copy:before,
.fa-files-o:before {
  content: "\f0c5";
}
.fa-paperclip:before {
  content: "\f0c6";
}
.fa-save:before,
.fa-floppy-o:before {
  content: "\f0c7";
}
.fa-square:before {
  content: "\f0c8";
}
.fa-navicon:before,
.fa-reorder:before,
.fa-bars:before {
  content: "\f0c9";
}
.fa-list-ul:before {
  content: "\f0ca";
}
.fa-list-ol:before {
  content: "\f0cb";
}
.fa-strikethrough:before {
  content: "\f0cc";
}
.fa-underline:before {
  content: "\f0cd";
}
.fa-table:before {
  content: "\f0ce";
}
.fa-magic:before {
  content: "\f0d0";
}
.fa-truck:before {
  content: "\f0d1";
}
.fa-pinterest:before {
  content: "\f0d2";
}
.fa-pinterest-square:before {
  content: "\f0d3";
}
.fa-google-plus-square:before {
  content: "\f0d4";
}
.fa-google-plus:before {
  content: "\f0d5";
}
.fa-money:before {
  content: "\f0d6";
}
.fa-caret-down:before {
  content: "\f0d7";
}
.fa-caret-up:before {
  content: "\f0d8";
}
.fa-caret-left:before {
  content: "\f0d9";
}
.fa-caret-right:before {
  content: "\f0da";
}
.fa-columns:before {
  content: "\f0db";
}
.fa-unsorted:before,
.fa-sort:before {
  content: "\f0dc";
}
.fa-sort-down:before,
.fa-sort-desc:before {
  content: "\f0dd";
}
.fa-sort-up:before,
.fa-sort-asc:before {
  content: "\f0de";
}
.fa-envelope:before {
  content: "\f0e0";
}
.fa-linkedin:before {
  content: "\f0e1";
}
.fa-rotate-left:before,
.fa-undo:before {
  content: "\f0e2";
}
.fa-legal:before,
.fa-gavel:before {
  content: "\f0e3";
}
.fa-dashboard:before,
.fa-tachometer:before {
  content: "\f0e4";
}
.fa-comment-o:before {
  content: "\f0e5";
}
.fa-comments-o:before {
  content: "\f0e6";
}
.fa-flash:before,
.fa-bolt:before {
  content: "\f0e7";
}
.fa-sitemap:before {
  content: "\f0e8";
}
.fa-umbrella:before {
  content: "\f0e9";
}
.fa-paste:before,
.fa-clipboard:before {
  content: "\f0ea";
}
.fa-lightbulb-o:before {
  content: "\f0eb";
}
.fa-exchange:before {
  content: "\f0ec";
}
.fa-cloud-download:before {
  content: "\f0ed";
}
.fa-cloud-upload:before {
  content: "\f0ee";
}
.fa-user-md:before {
  content: "\f0f0";
}
.fa-stethoscope:before {
  content: "\f0f1";
}
.fa-suitcase:before {
  content: "\f0f2";
}
.fa-bell-o:before {
  content: "\f0a2";
}
.fa-coffee:before {
  content: "\f0f4";
}
.fa-cutlery:before {
  content: "\f0f5";
}
.fa-file-text-o:before {
  content: "\f0f6";
}
.fa-building-o:before {
  content: "\f0f7";
}
.fa-hospital-o:before {
  content: "\f0f8";
}
.fa-ambulance:before {
  content: "\f0f9";
}
.fa-medkit:before {
  content: "\f0fa";
}
.fa-fighter-jet:before {
  content: "\f0fb";
}
.fa-beer:before {
  content: "\f0fc";
}
.fa-h-square:before {
  content: "\f0fd";
}
.fa-plus-square:before {
  content: "\f0fe";
}
.fa-angle-double-left:before {
  content: "\f100";
}
.fa-angle-double-right:before {
  content: "\f101";
}
.fa-angle-double-up:before {
  content: "\f102";
}
.fa-angle-double-down:before {
  content: "\f103";
}
.fa-angle-left:before {
  content: "\f104";
}
.fa-angle-right:before {
  content: "\f105";
}
.fa-angle-up:before {
  content: "\f106";
}
.fa-angle-down:before {
  content: "\f107";
}
.fa-desktop:before {
  content: "\f108";
}
.fa-laptop:before {
  content: "\f109";
}
.fa-tablet:before {
  content: "\f10a";
}
.fa-mobile-phone:before,
.fa-mobile:before {
  content: "\f10b";
}
.fa-circle-o:before {
  content: "\f10c";
}
.fa-quote-left:before {
  content: "\f10d";
}
.fa-quote-right:before {
  content: "\f10e";
}
.fa-spinner:before {
  content: "\f110";
}
.fa-circle:before {
  content: "\f111";
}
.fa-mail-reply:before,
.fa-reply:before {
  content: "\f112";
}
.fa-github-alt:before {
  content: "\f113";
}
.fa-folder-o:before {
  content: "\f114";
}
.fa-folder-open-o:before {
  content: "\f115";
}
.fa-smile-o:before {
  content: "\f118";
}
.fa-frown-o:before {
  content: "\f119";
}
.fa-meh-o:before {
  content: "\f11a";
}
.fa-gamepad:before {
  content: "\f11b";
}
.fa-keyboard-o:before {
  content: "\f11c";
}
.fa-flag-o:before {
  content: "\f11d";
}
.fa-flag-checkered:before {
  content: "\f11e";
}
.fa-terminal:before {
  content: "\f120";
}
.fa-code:before {
  content: "\f121";
}
.fa-mail-reply-all:before,
.fa-reply-all:before {
  content: "\f122";
}
.fa-star-half-empty:before,
.fa-star-half-full:before,
.fa-star-half-o:before {
  content: "\f123";
}
.fa-location-arrow:before {
  content: "\f124";
}
.fa-crop:before {
  content: "\f125";
}
.fa-code-fork:before {
  content: "\f126";
}
.fa-unlink:before,
.fa-chain-broken:before {
  content: "\f127";
}
.fa-question:before {
  content: "\f128";
}
.fa-info:before {
  content: "\f129";
}
.fa-exclamation:before {
  content: "\f12a";
}
.fa-superscript:before {
  content: "\f12b";
}
.fa-subscript:before {
  content: "\f12c";
}
.fa-eraser:before {
  content: "\f12d";
}
.fa-puzzle-piece:before {
  content: "\f12e";
}
.fa-microphone:before {
  content: "\f130";
}
.fa-microphone-slash:before {
  content: "\f131";
}
.fa-shield:before {
  content: "\f132";
}
.fa-calendar-o:before {
  content: "\f133";
}
.fa-fire-extinguisher:before {
  content: "\f134";
}
.fa-rocket:before {
  content: "\f135";
}
.fa-maxcdn:before {
  content: "\f136";
}
.fa-chevron-circle-left:before {
  content: "\f137";
}
.fa-chevron-circle-right:before {
  content: "\f138";
}
.fa-chevron-circle-up:before {
  content: "\f139";
}
.fa-chevron-circle-down:before {
  content: "\f13a";
}
.fa-html5:before {
  content: "\f13b";
}
.fa-css3:before {
  content: "\f13c";
}
.fa-anchor:before {
  content: "\f13d";
}
.fa-unlock-alt:before {
  content: "\f13e";
}
.fa-bullseye:before {
  content: "\f140";
}
.fa-ellipsis-h:before {
  content: "\f141";
}
.fa-ellipsis-v:before {
  content: "\f142";
}
.fa-rss-square:before {
  content: "\f143";
}
.fa-play-circle:before {
  content: "\f144";
}
.fa-ticket:before {
  content: "\f145";
}
.fa-minus-square:before {
  content: "\f146";
}
.fa-minus-square-o:before {
  content: "\f147";
}
.fa-level-up:before {
  content: "\f148";
}
.fa-level-down:before {
  content: "\f149";
}
.fa-check-square:before {
  content: "\f14a";
}
.fa-pencil-square:before {
  content: "\f14b";
}
.fa-external-link-square:before {
  content: "\f14c";
}
.fa-share-square:before {
  content: "\f14d";
}
.fa-compass:before {
  content: "\f14e";
}
.fa-toggle-down:before,
.fa-caret-square-o-down:before {
  content: "\f150";
}
.fa-toggle-up:before,
.fa-caret-square-o-up:before {
  content: "\f151";
}
.fa-toggle-right:before,
.fa-caret-square-o-right:before {
  content: "\f152";
}
.fa-euro:before,
.fa-eur:before {
  content: "\f153";
}
.fa-gbp:before {
  content: "\f154";
}
.fa-dollar:before,
.fa-usd:before {
  content: "\f155";
}
.fa-rupee:before,
.fa-inr:before {
  content: "\f156";
}
.fa-cny:before,
.fa-rmb:before,
.fa-yen:before,
.fa-jpy:before {
  content: "\f157";
}
.fa-ruble:before,
.fa-rouble:before,
.fa-rub:before {
  content: "\f158";
}
.fa-won:before,
.fa-krw:before {
  content: "\f159";
}
.fa-bitcoin:before,
.fa-btc:before {
  content: "\f15a";
}
.fa-file:before {
  content: "\f15b";
}
.fa-file-text:before {
  content: "\f15c";
}
.fa-sort-alpha-asc:before {
  content: "\f15d";
}
.fa-sort-alpha-desc:before {
  content: "\f15e";
}
.fa-sort-amount-asc:before {
  content: "\f160";
}
.fa-sort-amount-desc:before {
  content: "\f161";
}
.fa-sort-numeric-asc:before {
  content: "\f162";
}
.fa-sort-numeric-desc:before {
  content: "\f163";
}
.fa-thumbs-up:before {
  content: "\f164";
}
.fa-thumbs-down:before {
  content: "\f165";
}
.fa-youtube-square:before {
  content: "\f166";
}
.fa-youtube:before {
  content: "\f167";
}
.fa-xing:before {
  content: "\f168";
}
.fa-xing-square:before {
  content: "\f169";
}
.fa-youtube-play:before {
  content: "\f16a";
}
.fa-dropbox:before {
  content: "\f16b";
}
.fa-stack-overflow:before {
  content: "\f16c";
}
.fa-instagram:before {
  content: "\f16d";
}
.fa-flickr:before {
  content: "\f16e";
}
.fa-adn:before {
  content: "\f170";
}
.fa-bitbucket:before {
  content: "\f171";
}
.fa-bitbucket-square:before {
  content: "\f172";
}
.fa-tumblr:before {
  content: "\f173";
}
.fa-tumblr-square:before {
  content: "\f174";
}
.fa-long-arrow-down:before {
  content: "\f175";
}
.fa-long-arrow-up:before {
  content: "\f176";
}
.fa-long-arrow-left:before {
  content: "\f177";
}
.fa-long-arrow-right:before {
  content: "\f178";
}
.fa-apple:before {
  content: "\f179";
}
.fa-windows:before {
  content: "\f17a";
}
.fa-android:before {
  content: "\f17b";
}
.fa-linux:before {
  content: "\f17c";
}
.fa-dribbble:before {
  content: "\f17d";
}
.fa-skype:before {
  content: "\f17e";
}
.fa-foursquare:before {
  content: "\f180";
}
.fa-trello:before {
  content: "\f181";
}
.fa-female:before {
  content: "\f182";
}
.fa-male:before {
  content: "\f183";
}
.fa-gittip:before {
  content: "\f184";
}
.fa-sun-o:before {
  content: "\f185";
}
.fa-moon-o:before {
  content: "\f186";
}
.fa-archive:before {
  content: "\f187";
}
.fa-bug:before {
  content: "\f188";
}
.fa-vk:before {
  content: "\f189";
}
.fa-weibo:before {
  content: "\f18a";
}
.fa-renren:before {
  content: "\f18b";
}
.fa-pagelines:before {
  content: "\f18c";
}
.fa-stack-exchange:before {
  content: "\f18d";
}
.fa-arrow-circle-o-right:before {
  content: "\f18e";
}
.fa-arrow-circle-o-left:before {
  content: "\f190";
}
.fa-toggle-left:before,
.fa-caret-square-o-left:before {
  content: "\f191";
}
.fa-dot-circle-o:before {
  content: "\f192";
}
.fa-wheelchair:before {
  content: "\f193";
}
.fa-vimeo-square:before {
  content: "\f194";
}
.fa-turkish-lira:before,
.fa-try:before {
  content: "\f195";
}
.fa-plus-square-o:before {
  content: "\f196";
}
.fa-space-shuttle:before {
  content: "\f197";
}
.fa-slack:before {
  content: "\f198";
}
.fa-envelope-square:before {
  content: "\f199";
}
.fa-wordpress:before {
  content: "\f19a";
}
.fa-openid:before {
  content: "\f19b";
}
.fa-institution:before,
.fa-bank:before,
.fa-university:before {
  content: "\f19c";
}
.fa-mortar-board:before,
.fa-graduation-cap:before {
  content: "\f19d";
}
.fa-yahoo:before {
  content: "\f19e";
}
.fa-google:before {
  content: "\f1a0";
}
.fa-reddit:before {
  content: "\f1a1";
}
.fa-reddit-square:before {
  content: "\f1a2";
}
.fa-stumbleupon-circle:before {
  content: "\f1a3";
}
.fa-stumbleupon:before {
  content: "\f1a4";
}
.fa-delicious:before {
  content: "\f1a5";
}
.fa-digg:before {
  content: "\f1a6";
}
.fa-pied-piper:before {
  content: "\f1a7";
}
.fa-pied-piper-alt:before {
  content: "\f1a8";
}
.fa-drupal:before {
  content: "\f1a9";
}
.fa-joomla:before {
  content: "\f1aa";
}
.fa-language:before {
  content: "\f1ab";
}
.fa-fax:before {
  content: "\f1ac";
}
.fa-building:before {
  content: "\f1ad";
}
.fa-child:before {
  content: "\f1ae";
}
.fa-paw:before {
  content: "\f1b0";
}
.fa-spoon:before {
  content: "\f1b1";
}
.fa-cube:before {
  content: "\f1b2";
}
.fa-cubes:before {
  content: "\f1b3";
}
.fa-behance:before {
  content: "\f1b4";
}
.fa-behance-square:before {
  content: "\f1b5";
}
.fa-steam:before {
  content: "\f1b6";
}
.fa-steam-square:before {
  content: "\f1b7";
}
.fa-recycle:before {
  content: "\f1b8";
}
.fa-automobile:before,
.fa-car:before {
  content: "\f1b9";
}
.fa-cab:before,
.fa-taxi:before {
  content: "\f1ba";
}
.fa-tree:before {
  content: "\f1bb";
}
.fa-spotify:before {
  content: "\f1bc";
}
.fa-deviantart:before {
  content: "\f1bd";
}
.fa-soundcloud:before {
  content: "\f1be";
}
.fa-database:before {
  content: "\f1c0";
}
.fa-file-pdf-o:before {
  content: "\f1c1";
}
.fa-file-word-o:before {
  content: "\f1c2";
}
.fa-file-excel-o:before {
  content: "\f1c3";
}
.fa-file-powerpoint-o:before {
  content: "\f1c4";
}
.fa-file-photo-o:before,
.fa-file-picture-o:before,
.fa-file-image-o:before {
  content: "\f1c5";
}
.fa-file-zip-o:before,
.fa-file-archive-o:before {
  content: "\f1c6";
}
.fa-file-sound-o:before,
.fa-file-audio-o:before {
  content: "\f1c7";
}
.fa-file-movie-o:before,
.fa-file-video-o:before {
  content: "\f1c8";
}
.fa-file-code-o:before {
  content: "\f1c9";
}
.fa-vine:before {
  content: "\f1ca";
}
.fa-codepen:before {
  content: "\f1cb";
}
.fa-jsfiddle:before {
  content: "\f1cc";
}
.fa-life-bouy:before,
.fa-life-buoy:before,
.fa-life-saver:before,
.fa-support:before,
.fa-life-ring:before {
  content: "\f1cd";
}
.fa-circle-o-notch:before {
  content: "\f1ce";
}
.fa-ra:before,
.fa-rebel:before {
  content: "\f1d0";
}
.fa-ge:before,
.fa-empire:before {
  content: "\f1d1";
}
.fa-git-square:before {
  content: "\f1d2";
}
.fa-git:before {
  content: "\f1d3";
}
.fa-hacker-news:before {
  content: "\f1d4";
}
.fa-tencent-weibo:before {
  content: "\f1d5";
}
.fa-qq:before {
  content: "\f1d6";
}
.fa-wechat:before,
.fa-weixin:before {
  content: "\f1d7";
}
.fa-send:before,
.fa-paper-plane:before {
  content: "\f1d8";
}
.fa-send-o:before,
.fa-paper-plane-o:before {
  content: "\f1d9";
}
.fa-history:before {
  content: "\f1da";
}
.fa-circle-thin:before {
  content: "\f1db";
}
.fa-header:before {
  content: "\f1dc";
}
.fa-paragraph:before {
  content: "\f1dd";
}
.fa-sliders:before {
  content: "\f1de";
}
.fa-share-alt:before {
  content: "\f1e0";
}
.fa-share-alt-square:before {
  content: "\f1e1";
}
.fa-bomb:before {
  content: "\f1e2";
}
.fa-soccer-ball-o:before,
.fa-futbol-o:before {
  content: "\f1e3";
}
.fa-tty:before {
  content: "\f1e4";
}
.fa-binoculars:before {
  content: "\f1e5";
}
.fa-plug:before {
  content: "\f1e6";
}
.fa-slideshare:before {
  content: "\f1e7";
}
.fa-twitch:before {
  content: "\f1e8";
}
.fa-yelp:before {
  content: "\f1e9";
}
.fa-newspaper-o:before {
  content: "\f1ea";
}
.fa-wifi:before {
  content: "\f1eb";
}
.fa-calculator:before {
  content: "\f1ec";
}
.fa-paypal:before {
  content: "\f1ed";
}
.fa-google-wallet:before {
  content: "\f1ee";
}
.fa-cc-visa:before {
  content: "\f1f0";
}
.fa-cc-mastercard:before {
  content: "\f1f1";
}
.fa-cc-discover:before {
  content: "\f1f2";
}
.fa-cc-amex:before {
  content: "\f1f3";
}
.fa-cc-paypal:before {
  content: "\f1f4";
}
.fa-cc-stripe:before {
  content: "\f1f5";
}
.fa-bell-slash:before {
  content: "\f1f6";
}
.fa-bell-slash-o:before {
  content: "\f1f7";
}
.fa-trash:before {
  content: "\f1f8";
}
.fa-copyright:before {
  content: "\f1f9";
}
.fa-at:before {
  content: "\f1fa";
}
.fa-eyedropper:before {
  content: "\f1fb";
}
.fa-paint-brush:before {
  content: "\f1fc";
}
.fa-birthday-cake:before {
  content: "\f1fd";
}
.fa-area-chart:before {
  content: "\f1fe";
}
.fa-pie-chart:before {
  content: "\f200";
}
.fa-line-chart:before {
  content: "\f201";
}
.fa-lastfm:before {
  content: "\f202";
}
.fa-lastfm-square:before {
  content: "\f203";
}
.fa-toggle-off:before {
  content: "\f204";
}
.fa-toggle-on:before {
  content: "\f205";
}
.fa-bicycle:before {
  content: "\f206";
}
.fa-bus:before {
  content: "\f207";
}
.fa-ioxhost:before {
  content: "\f208";
}
.fa-angellist:before {
  content: "\f209";
}
.fa-cc:before {
  content: "\f20a";
}
.fa-shekel:before,
.fa-sheqel:before,
.fa-ils:before {
  content: "\f20b";
}
.fa-meanpath:before {
  content: "\f20c";
}
/*!
*
* IPython base
*
*/
.modal.fade .modal-dialog {
  -webkit-transform: translate(0, 0);
  -ms-transform: translate(0, 0);
  -o-transform: translate(0, 0);
  transform: translate(0, 0);
}
code {
  color: #000;
}
pre {
  font-size: inherit;
  line-height: inherit;
}
label {
  font-weight: normal;
}
/* Make the page background atleast 100% the height of the view port */
/* Make the page itself atleast 70% the height of the view port */
.border-box-sizing {
  box-sizing: border-box;
  -moz-box-sizing: border-box;
  -webkit-box-sizing: border-box;
}
.corner-all {
  border-radius: 2px;
}
.no-padding {
  padding: 0px;
}
/* Flexible box model classes */
/* Taken from Alex Russell http://infrequently.org/2009/08/css-3-progress/ */
/* This file is a compatability layer.  It allows the usage of flexible box 
model layouts accross multiple browsers, including older browsers.  The newest,
universal implementation of the flexible box model is used when available (see
`Modern browsers` comments below).  Browsers that are known to implement this 
new spec completely include:

    Firefox 28.0+
    Chrome 29.0+
    Internet Explorer 11+ 
    Opera 17.0+

Browsers not listed, including Safari, are supported via the styling under the
`Old browsers` comments below.
*/
.hbox {
  /* Old browsers */
  display: -webkit-box;
  -webkit-box-orient: horizontal;
  -webkit-box-align: stretch;
  display: -moz-box;
  -moz-box-orient: horizontal;
  -moz-box-align: stretch;
  display: box;
  box-orient: horizontal;
  box-align: stretch;
  /* Modern browsers */
  display: flex;
  flex-direction: row;
  align-items: stretch;
}
.hbox > * {
  /* Old browsers */
  -webkit-box-flex: 0;
  -moz-box-flex: 0;
  box-flex: 0;
  /* Modern browsers */
  flex: none;
}
.vbox {
  /* Old browsers */
  display: -webkit-box;
  -webkit-box-orient: vertical;
  -webkit-box-align: stretch;
  display: -moz-box;
  -moz-box-orient: vertical;
  -moz-box-align: stretch;
  display: box;
  box-orient: vertical;
  box-align: stretch;
  /* Modern browsers */
  display: flex;
  flex-direction: column;
  align-items: stretch;
}
.vbox > * {
  /* Old browsers */
  -webkit-box-flex: 0;
  -moz-box-flex: 0;
  box-flex: 0;
  /* Modern browsers */
  flex: none;
}
.hbox.reverse,
.vbox.reverse,
.reverse {
  /* Old browsers */
  -webkit-box-direction: reverse;
  -moz-box-direction: reverse;
  box-direction: reverse;
  /* Modern browsers */
  flex-direction: row-reverse;
}
.hbox.box-flex0,
.vbox.box-flex0,
.box-flex0 {
  /* Old browsers */
  -webkit-box-flex: 0;
  -moz-box-flex: 0;
  box-flex: 0;
  /* Modern browsers */
  flex: none;
  width: auto;
}
.hbox.box-flex1,
.vbox.box-flex1,
.box-flex1 {
  /* Old browsers */
  -webkit-box-flex: 1;
  -moz-box-flex: 1;
  box-flex: 1;
  /* Modern browsers */
  flex: 1;
}
.hbox.box-flex,
.vbox.box-flex,
.box-flex {
  /* Old browsers */
  /* Old browsers */
  -webkit-box-flex: 1;
  -moz-box-flex: 1;
  box-flex: 1;
  /* Modern browsers */
  flex: 1;
}
.hbox.box-flex2,
.vbox.box-flex2,
.box-flex2 {
  /* Old browsers */
  -webkit-box-flex: 2;
  -moz-box-flex: 2;
  box-flex: 2;
  /* Modern browsers */
  flex: 2;
}
.box-group1 {
  /*  Deprecated */
  -webkit-box-flex-group: 1;
  -moz-box-flex-group: 1;
  box-flex-group: 1;
}
.box-group2 {
  /* Deprecated */
  -webkit-box-flex-group: 2;
  -moz-box-flex-group: 2;
  box-flex-group: 2;
}
.hbox.start,
.vbox.start,
.start {
  /* Old browsers */
  -webkit-box-pack: start;
  -moz-box-pack: start;
  box-pack: start;
  /* Modern browsers */
  justify-content: flex-start;
}
.hbox.end,
.vbox.end,
.end {
  /* Old browsers */
  -webkit-box-pack: end;
  -moz-box-pack: end;
  box-pack: end;
  /* Modern browsers */
  justify-content: flex-end;
}
.hbox.center,
.vbox.center,
.center {
  /* Old browsers */
  -webkit-box-pack: center;
  -moz-box-pack: center;
  box-pack: center;
  /* Modern browsers */
  justify-content: center;
}
.hbox.baseline,
.vbox.baseline,
.baseline {
  /* Old browsers */
  -webkit-box-pack: baseline;
  -moz-box-pack: baseline;
  box-pack: baseline;
  /* Modern browsers */
  justify-content: baseline;
}
.hbox.stretch,
.vbox.stretch,
.stretch {
  /* Old browsers */
  -webkit-box-pack: stretch;
  -moz-box-pack: stretch;
  box-pack: stretch;
  /* Modern browsers */
  justify-content: stretch;
}
.hbox.align-start,
.vbox.align-start,
.align-start {
  /* Old browsers */
  -webkit-box-align: start;
  -moz-box-align: start;
  box-align: start;
  /* Modern browsers */
  align-items: flex-start;
}
.hbox.align-end,
.vbox.align-end,
.align-end {
  /* Old browsers */
  -webkit-box-align: end;
  -moz-box-align: end;
  box-align: end;
  /* Modern browsers */
  align-items: flex-end;
}
.hbox.align-center,
.vbox.align-center,
.align-center {
  /* Old browsers */
  -webkit-box-align: center;
  -moz-box-align: center;
  box-align: center;
  /* Modern browsers */
  align-items: center;
}
.hbox.align-baseline,
.vbox.align-baseline,
.align-baseline {
  /* Old browsers */
  -webkit-box-align: baseline;
  -moz-box-align: baseline;
  box-align: baseline;
  /* Modern browsers */
  align-items: baseline;
}
.hbox.align-stretch,
.vbox.align-stretch,
.align-stretch {
  /* Old browsers */
  -webkit-box-align: stretch;
  -moz-box-align: stretch;
  box-align: stretch;
  /* Modern browsers */
  align-items: stretch;
}
div.error {
  margin: 2em;
  text-align: center;
}
div.error > h1 {
  font-size: 500%;
  line-height: normal;
}
div.error > p {
  font-size: 200%;
  line-height: normal;
}
div.traceback-wrapper {
  text-align: left;
  max-width: 800px;
  margin: auto;
}
/**
 * Primary styles
 *
 * Author: Jupyter Development Team
 */
body {
  background-color: #fff;
  /* This makes sure that the body covers the entire window and needs to
       be in a different element than the display: box in wrapper below */
  position: absolute;
  left: 0px;
  right: 0px;
  top: 0px;
  bottom: 0px;
  overflow: visible;
}
body > #header {
  /* Initially hidden to prevent FLOUC */
  display: none;
  background-color: #fff;
  /* Display over codemirror */
  position: relative;
  z-index: 100;
}
body > #header #header-container {
  padding-bottom: 5px;
  padding-top: 5px;
  box-sizing: border-box;
  -moz-box-sizing: border-box;
  -webkit-box-sizing: border-box;
}
body > #header .header-bar {
  width: 100%;
  height: 1px;
  background: #e7e7e7;
  margin-bottom: -1px;
}
@media print {
  body > #header {
    display: none !important;
  }
}
#header-spacer {
  width: 100%;
  visibility: hidden;
}
@media print {
  #header-spacer {
    display: none;
  }
}
#ipython_notebook {
  padding-left: 0px;
  padding-top: 1px;
  padding-bottom: 1px;
}
@media (max-width: 991px) {
  #ipython_notebook {
    margin-left: 10px;
  }
}
[dir="rtl"] #ipython_notebook {
  float: right !important;
}
#noscript {
  width: auto;
  padding-top: 16px;
  padding-bottom: 16px;
  text-align: center;
  font-size: 22px;
  color: red;
  font-weight: bold;
}
#ipython_notebook img {
  height: 28px;
}
#site {
  width: 100%;
  display: none;
  box-sizing: border-box;
  -moz-box-sizing: border-box;
  -webkit-box-sizing: border-box;
  overflow: auto;
}
@media print {
  #site {
    height: auto !important;
  }
}
/* Smaller buttons */
.ui-button .ui-button-text {
  padding: 0.2em 0.8em;
  font-size: 77%;
}
input.ui-button {
  padding: 0.3em 0.9em;
}
span#login_widget {
  float: right;
}
span#login_widget > .button,
#logout {
  color: #333;
  background-color: #fff;
  border-color: #ccc;
}
span#login_widget > .button:focus,
#logout:focus,
span#login_widget > .button.focus,
#logout.focus {
  color: #333;
  background-color: #e6e6e6;
  border-color: #8c8c8c;
}
span#login_widget > .button:hover,
#logout:hover {
  color: #333;
  background-color: #e6e6e6;
  border-color: #adadad;
}
span#login_widget > .button:active,
#logout:active,
span#login_widget > .button.active,
#logout.active,
.open > .dropdown-togglespan#login_widget > .button,
.open > .dropdown-toggle#logout {
  color: #333;
  background-color: #e6e6e6;
  border-color: #adadad;
}
span#login_widget > .button:active:hover,
#logout:active:hover,
span#login_widget > .button.active:hover,
#logout.active:hover,
.open > .dropdown-togglespan#login_widget > .button:hover,
.open > .dropdown-toggle#logout:hover,
span#login_widget > .button:active:focus,
#logout:active:focus,
span#login_widget > .button.active:focus,
#logout.active:focus,
.open > .dropdown-togglespan#login_widget > .button:focus,
.open > .dropdown-toggle#logout:focus,
span#login_widget > .button:active.focus,
#logout:active.focus,
span#login_widget > .button.active.focus,
#logout.active.focus,
.open > .dropdown-togglespan#login_widget > .button.focus,
.open > .dropdown-toggle#logout.focus {
  color: #333;
  background-color: #d4d4d4;
  border-color: #8c8c8c;
}
span#login_widget > .button:active,
#logout:active,
span#login_widget > .button.active,
#logout.active,
.open > .dropdown-togglespan#login_widget > .button,
.open > .dropdown-toggle#logout {
  background-image: none;
}
span#login_widget > .button.disabled:hover,
#logout.disabled:hover,
span#login_widget > .button[disabled]:hover,
#logout[disabled]:hover,
fieldset[disabled] span#login_widget > .button:hover,
fieldset[disabled] #logout:hover,
span#login_widget > .button.disabled:focus,
#logout.disabled:focus,
span#login_widget > .button[disabled]:focus,
#logout[disabled]:focus,
fieldset[disabled] span#login_widget > .button:focus,
fieldset[disabled] #logout:focus,
span#login_widget > .button.disabled.focus,
#logout.disabled.focus,
span#login_widget > .button[disabled].focus,
#logout[disabled].focus,
fieldset[disabled] span#login_widget > .button.focus,
fieldset[disabled] #logout.focus {
  background-color: #fff;
  border-color: #ccc;
}
span#login_widget > .button .badge,
#logout .badge {
  color: #fff;
  background-color: #333;
}
.nav-header {
  text-transform: none;
}
#header > span {
  margin-top: 10px;
}
.modal_stretch .modal-dialog {
  /* Old browsers */
  display: -webkit-box;
  -webkit-box-orient: vertical;
  -webkit-box-align: stretch;
  display: -moz-box;
  -moz-box-orient: vertical;
  -moz-box-align: stretch;
  display: box;
  box-orient: vertical;
  box-align: stretch;
  /* Modern browsers */
  display: flex;
  flex-direction: column;
  align-items: stretch;
  min-height: 80vh;
}
.modal_stretch .modal-dialog .modal-body {
  max-height: calc(100vh - 200px);
  overflow: auto;
  flex: 1;
}
@media (min-width: 768px) {
  .modal .modal-dialog {
    width: 700px;
  }
}
@media (min-width: 768px) {
  select.form-control {
    margin-left: 12px;
    margin-right: 12px;
  }
}
/*!
*
* IPython auth
*
*/
.center-nav {
  display: inline-block;
  margin-bottom: -4px;
}
/*!
*
* IPython tree view
*
*/
/* We need an invisible input field on top of the sentense*/
/* "Drag file onto the list ..." */
.alternate_upload {
  background-color: none;
  display: inline;
}
.alternate_upload.form {
  padding: 0;
  margin: 0;
}
.alternate_upload input.fileinput {
  text-align: center;
  vertical-align: middle;
  display: inline;
  opacity: 0;
  z-index: 2;
  width: 12ex;
  margin-right: -12ex;
}
.alternate_upload .btn-upload {
  height: 22px;
}
/**
 * Primary styles
 *
 * Author: Jupyter Development Team
 */
[dir="rtl"] #tabs li {
  float: right;
}
ul#tabs {
  margin-bottom: 4px;
}
[dir="rtl"] ul#tabs {
  margin-right: 0px;
}
ul#tabs a {
  padding-top: 6px;
  padding-bottom: 4px;
}
ul.breadcrumb a:focus,
ul.breadcrumb a:hover {
  text-decoration: none;
}
ul.breadcrumb i.icon-home {
  font-size: 16px;
  margin-right: 4px;
}
ul.breadcrumb span {
  color: #5e5e5e;
}
.list_toolbar {
  padding: 4px 0 4px 0;
  vertical-align: middle;
}
.list_toolbar .tree-buttons {
  padding-top: 1px;
}
[dir="rtl"] .list_toolbar .tree-buttons {
  float: left !important;
}
[dir="rtl"] .list_toolbar .pull-right {
  padding-top: 1px;
  float: left !important;
}
[dir="rtl"] .list_toolbar .pull-left {
  float: right !important;
}
.dynamic-buttons {
  padding-top: 3px;
  display: inline-block;
}
.list_toolbar [class*="span"] {
  min-height: 24px;
}
.list_header {
  font-weight: bold;
  background-color: #EEE;
}
.list_placeholder {
  font-weight: bold;
  padding-top: 4px;
  padding-bottom: 4px;
  padding-left: 7px;
  padding-right: 7px;
}
.list_container {
  margin-top: 4px;
  margin-bottom: 20px;
  border: 1px solid #ddd;
  border-radius: 2px;
}
.list_container > div {
  border-bottom: 1px solid #ddd;
}
.list_container > div:hover .list-item {
  background-color: red;
}
.list_container > div:last-child {
  border: none;
}
.list_item:hover .list_item {
  background-color: #ddd;
}
.list_item a {
  text-decoration: none;
}
.list_item:hover {
  background-color: #fafafa;
}
.list_header > div,
.list_item > div {
  padding-top: 4px;
  padding-bottom: 4px;
  padding-left: 7px;
  padding-right: 7px;
  line-height: 22px;
}
.list_header > div input,
.list_item > div input {
  margin-right: 7px;
  margin-left: 14px;
  vertical-align: baseline;
  line-height: 22px;
  position: relative;
  top: -1px;
}
.list_header > div .item_link,
.list_item > div .item_link {
  margin-left: -1px;
  vertical-align: baseline;
  line-height: 22px;
}
.new-file input[type=checkbox] {
  visibility: hidden;
}
.item_name {
  line-height: 22px;
  height: 24px;
}
.item_icon {
  font-size: 14px;
  color: #5e5e5e;
  margin-right: 7px;
  margin-left: 7px;
  line-height: 22px;
  vertical-align: baseline;
}
.item_buttons {
  line-height: 1em;
  margin-left: -5px;
}
.item_buttons .btn,
.item_buttons .btn-group,
.item_buttons .input-group {
  float: left;
}
.item_buttons > .btn,
.item_buttons > .btn-group,
.item_buttons > .input-group {
  margin-left: 5px;
}
.item_buttons .btn {
  min-width: 13ex;
}
.item_buttons .running-indicator {
  padding-top: 4px;
  color: #5cb85c;
}
.item_buttons .kernel-name {
  padding-top: 4px;
  color: #5bc0de;
  margin-right: 7px;
  float: left;
}
.toolbar_info {
  height: 24px;
  line-height: 24px;
}
.list_item input:not([type=checkbox]) {
  padding-top: 3px;
  padding-bottom: 3px;
  height: 22px;
  line-height: 14px;
  margin: 0px;
}
.highlight_text {
  color: blue;
}
#project_name {
  display: inline-block;
  padding-left: 7px;
  margin-left: -2px;
}
#project_name > .breadcrumb {
  padding: 0px;
  margin-bottom: 0px;
  background-color: transparent;
  font-weight: bold;
}
#tree-selector {
  padding-right: 0px;
}
[dir="rtl"] #tree-selector a {
  float: right;
}
#button-select-all {
  min-width: 50px;
}
#select-all {
  margin-left: 7px;
  margin-right: 2px;
}
.menu_icon {
  margin-right: 2px;
}
.tab-content .row {
  margin-left: 0px;
  margin-right: 0px;
}
.folder_icon:before {
  display: inline-block;
  font: normal normal normal 14px/1 FontAwesome;
  font-size: inherit;
  text-rendering: auto;
  -webkit-font-smoothing: antialiased;
  -moz-osx-font-smoothing: grayscale;
  content: "\f114";
}
.folder_icon:before.pull-left {
  margin-right: .3em;
}
.folder_icon:before.pull-right {
  margin-left: .3em;
}
.notebook_icon:before {
  display: inline-block;
  font: normal normal normal 14px/1 FontAwesome;
  font-size: inherit;
  text-rendering: auto;
  -webkit-font-smoothing: antialiased;
  -moz-osx-font-smoothing: grayscale;
  content: "\f02d";
  position: relative;
  top: -1px;
}
.notebook_icon:before.pull-left {
  margin-right: .3em;
}
.notebook_icon:before.pull-right {
  margin-left: .3em;
}
.running_notebook_icon:before {
  display: inline-block;
  font: normal normal normal 14px/1 FontAwesome;
  font-size: inherit;
  text-rendering: auto;
  -webkit-font-smoothing: antialiased;
  -moz-osx-font-smoothing: grayscale;
  content: "\f02d";
  position: relative;
  top: -1px;
  color: #5cb85c;
}
.running_notebook_icon:before.pull-left {
  margin-right: .3em;
}
.running_notebook_icon:before.pull-right {
  margin-left: .3em;
}
.file_icon:before {
  display: inline-block;
  font: normal normal normal 14px/1 FontAwesome;
  font-size: inherit;
  text-rendering: auto;
  -webkit-font-smoothing: antialiased;
  -moz-osx-font-smoothing: grayscale;
  content: "\f016";
  position: relative;
  top: -2px;
}
.file_icon:before.pull-left {
  margin-right: .3em;
}
.file_icon:before.pull-right {
  margin-left: .3em;
}
#notebook_toolbar .pull-right {
  padding-top: 0px;
  margin-right: -1px;
}
ul#new-menu {
  left: auto;
  right: 0;
}
[dir="rtl"] #new-menu {
  text-align: right;
}
.kernel-menu-icon {
  padding-right: 12px;
  width: 24px;
  content: "\f096";
}
.kernel-menu-icon:before {
  content: "\f096";
}
.kernel-menu-icon-current:before {
  content: "\f00c";
}
#tab_content {
  padding-top: 20px;
}
#running .panel-group .panel {
  margin-top: 3px;
  margin-bottom: 1em;
}
#running .panel-group .panel .panel-heading {
  background-color: #EEE;
  padding-top: 4px;
  padding-bottom: 4px;
  padding-left: 7px;
  padding-right: 7px;
  line-height: 22px;
}
#running .panel-group .panel .panel-heading a:focus,
#running .panel-group .panel .panel-heading a:hover {
  text-decoration: none;
}
#running .panel-group .panel .panel-body {
  padding: 0px;
}
#running .panel-group .panel .panel-body .list_container {
  margin-top: 0px;
  margin-bottom: 0px;
  border: 0px;
  border-radius: 0px;
}
#running .panel-group .panel .panel-body .list_container .list_item {
  border-bottom: 1px solid #ddd;
}
#running .panel-group .panel .panel-body .list_container .list_item:last-child {
  border-bottom: 0px;
}
[dir="rtl"] #running .col-sm-8 {
  float: right !important;
}
.delete-button {
  display: none;
}
.duplicate-button {
  display: none;
}
.rename-button {
  display: none;
}
.shutdown-button {
  display: none;
}
.dynamic-instructions {
  display: inline-block;
  padding-top: 4px;
}
/*!
*
* IPython text editor webapp
*
*/
.selected-keymap i.fa {
  padding: 0px 5px;
}
.selected-keymap i.fa:before {
  content: "\f00c";
}
#mode-menu {
  overflow: auto;
  max-height: 20em;
}
.edit_app #header {
  -webkit-box-shadow: 0px 0px 12px 1px rgba(87, 87, 87, 0.2);
  box-shadow: 0px 0px 12px 1px rgba(87, 87, 87, 0.2);
}
.edit_app #menubar .navbar {
  /* Use a negative 1 bottom margin, so the border overlaps the border of the
    header */
  margin-bottom: -1px;
}
.dirty-indicator {
  display: inline-block;
  font: normal normal normal 14px/1 FontAwesome;
  font-size: inherit;
  text-rendering: auto;
  -webkit-font-smoothing: antialiased;
  -moz-osx-font-smoothing: grayscale;
  width: 20px;
}
.dirty-indicator.pull-left {
  margin-right: .3em;
}
.dirty-indicator.pull-right {
  margin-left: .3em;
}
.dirty-indicator-dirty {
  display: inline-block;
  font: normal normal normal 14px/1 FontAwesome;
  font-size: inherit;
  text-rendering: auto;
  -webkit-font-smoothing: antialiased;
  -moz-osx-font-smoothing: grayscale;
  width: 20px;
}
.dirty-indicator-dirty.pull-left {
  margin-right: .3em;
}
.dirty-indicator-dirty.pull-right {
  margin-left: .3em;
}
.dirty-indicator-clean {
  display: inline-block;
  font: normal normal normal 14px/1 FontAwesome;
  font-size: inherit;
  text-rendering: auto;
  -webkit-font-smoothing: antialiased;
  -moz-osx-font-smoothing: grayscale;
  width: 20px;
}
.dirty-indicator-clean.pull-left {
  margin-right: .3em;
}
.dirty-indicator-clean.pull-right {
  margin-left: .3em;
}
.dirty-indicator-clean:before {
  display: inline-block;
  font: normal normal normal 14px/1 FontAwesome;
  font-size: inherit;
  text-rendering: auto;
  -webkit-font-smoothing: antialiased;
  -moz-osx-font-smoothing: grayscale;
  content: "\f00c";
}
.dirty-indicator-clean:before.pull-left {
  margin-right: .3em;
}
.dirty-indicator-clean:before.pull-right {
  margin-left: .3em;
}
#filename {
  font-size: 16pt;
  display: table;
  padding: 0px 5px;
}
#current-mode {
  padding-left: 5px;
  padding-right: 5px;
}
#texteditor-backdrop {
  padding-top: 20px;
  padding-bottom: 20px;
}
@media not print {
  #texteditor-backdrop {
    background-color: #EEE;
  }
}
@media print {
  #texteditor-backdrop #texteditor-container .CodeMirror-gutter,
  #texteditor-backdrop #texteditor-container .CodeMirror-gutters {
    background-color: #fff;
  }
}
@media not print {
  #texteditor-backdrop #texteditor-container .CodeMirror-gutter,
  #texteditor-backdrop #texteditor-container .CodeMirror-gutters {
    background-color: #fff;
  }
}
@media not print {
  #texteditor-backdrop #texteditor-container {
    padding: 0px;
    background-color: #fff;
    -webkit-box-shadow: 0px 0px 12px 1px rgba(87, 87, 87, 0.2);
    box-shadow: 0px 0px 12px 1px rgba(87, 87, 87, 0.2);
  }
}
/*!
*
* IPython notebook
*
*/
/* CSS font colors for translated ANSI colors. */
.ansibold {
  font-weight: bold;
}
/* use dark versions for foreground, to improve visibility */
.ansiblack {
  color: black;
}
.ansired {
  color: darkred;
}
.ansigreen {
  color: darkgreen;
}
.ansiyellow {
  color: #c4a000;
}
.ansiblue {
  color: darkblue;
}
.ansipurple {
  color: darkviolet;
}
.ansicyan {
  color: steelblue;
}
.ansigray {
  color: gray;
}
/* and light for background, for the same reason */
.ansibgblack {
  background-color: black;
}
.ansibgred {
  background-color: red;
}
.ansibggreen {
  background-color: green;
}
.ansibgyellow {
  background-color: yellow;
}
.ansibgblue {
  background-color: blue;
}
.ansibgpurple {
  background-color: magenta;
}
.ansibgcyan {
  background-color: cyan;
}
.ansibggray {
  background-color: gray;
}
div.cell {
  /* Old browsers */
  display: -webkit-box;
  -webkit-box-orient: vertical;
  -webkit-box-align: stretch;
  display: -moz-box;
  -moz-box-orient: vertical;
  -moz-box-align: stretch;
  display: box;
  box-orient: vertical;
  box-align: stretch;
  /* Modern browsers */
  display: flex;
  flex-direction: column;
  align-items: stretch;
  border-radius: 2px;
  box-sizing: border-box;
  -moz-box-sizing: border-box;
  -webkit-box-sizing: border-box;
  border-width: 1px;
  border-style: solid;
  border-color: transparent;
  width: 100%;
  padding: 5px;
  /* This acts as a spacer between cells, that is outside the border */
  margin: 0px;
  outline: none;
  border-left-width: 1px;
  padding-left: 5px;
  background: linear-gradient(to right, transparent -40px, transparent 1px, transparent 1px, transparent 100%);
}
div.cell.jupyter-soft-selected {
  border-left-color: #90CAF9;
  border-left-color: #E3F2FD;
  border-left-width: 1px;
  padding-left: 5px;
  border-right-color: #E3F2FD;
  border-right-width: 1px;
  background: #E3F2FD;
}
@media print {
  div.cell.jupyter-soft-selected {
    border-color: transparent;
  }
}
div.cell.selected {
  border-color: #ababab;
  border-left-width: 0px;
  padding-left: 6px;
  background: linear-gradient(to right, #42A5F5 -40px, #42A5F5 5px, transparent 5px, transparent 100%);
}
@media print {
  div.cell.selected {
    border-color: transparent;
  }
}
div.cell.selected.jupyter-soft-selected {
  border-left-width: 0;
  padding-left: 6px;
  background: linear-gradient(to right, #42A5F5 -40px, #42A5F5 7px, #E3F2FD 7px, #E3F2FD 100%);
}
.edit_mode div.cell.selected {
  border-color: #66BB6A;
  border-left-width: 0px;
  padding-left: 6px;
  background: linear-gradient(to right, #66BB6A -40px, #66BB6A 5px, transparent 5px, transparent 100%);
}
@media print {
  .edit_mode div.cell.selected {
    border-color: transparent;
  }
}
.prompt {
  /* This needs to be wide enough for 3 digit prompt numbers: In[100]: */
  min-width: 14ex;
  /* This padding is tuned to match the padding on the CodeMirror editor. */
  padding: 0.4em;
  margin: 0px;
  font-family: monospace;
  text-align: right;
  /* This has to match that of the the CodeMirror class line-height below */
  line-height: 1.21429em;
  /* Don't highlight prompt number selection */
  -webkit-touch-callout: none;
  -webkit-user-select: none;
  -khtml-user-select: none;
  -moz-user-select: none;
  -ms-user-select: none;
  user-select: none;
  /* Use default cursor */
  cursor: default;
}
@media (max-width: 540px) {
  .prompt {
    text-align: left;
  }
}
div.inner_cell {
  min-width: 0;
  /* Old browsers */
  display: -webkit-box;
  -webkit-box-orient: vertical;
  -webkit-box-align: stretch;
  display: -moz-box;
  -moz-box-orient: vertical;
  -moz-box-align: stretch;
  display: box;
  box-orient: vertical;
  box-align: stretch;
  /* Modern browsers */
  display: flex;
  flex-direction: column;
  align-items: stretch;
  /* Old browsers */
  -webkit-box-flex: 1;
  -moz-box-flex: 1;
  box-flex: 1;
  /* Modern browsers */
  flex: 1;
}
/* input_area and input_prompt must match in top border and margin for alignment */
div.input_area {
  border: 1px solid #cfcfcf;
  border-radius: 2px;
  background: #f7f7f7;
  line-height: 1.21429em;
}
/* This is needed so that empty prompt areas can collapse to zero height when there
   is no content in the output_subarea and the prompt. The main purpose of this is
   to make sure that empty JavaScript output_subareas have no height. */
div.prompt:empty {
  padding-top: 0;
  padding-bottom: 0;
}
div.unrecognized_cell {
  padding: 5px 5px 5px 0px;
  /* Old browsers */
  display: -webkit-box;
  -webkit-box-orient: horizontal;
  -webkit-box-align: stretch;
  display: -moz-box;
  -moz-box-orient: horizontal;
  -moz-box-align: stretch;
  display: box;
  box-orient: horizontal;
  box-align: stretch;
  /* Modern browsers */
  display: flex;
  flex-direction: row;
  align-items: stretch;
}
div.unrecognized_cell .inner_cell {
  border-radius: 2px;
  padding: 5px;
  font-weight: bold;
  color: red;
  border: 1px solid #cfcfcf;
  background: #eaeaea;
}
div.unrecognized_cell .inner_cell a {
  color: inherit;
  text-decoration: none;
}
div.unrecognized_cell .inner_cell a:hover {
  color: inherit;
  text-decoration: none;
}
@media (max-width: 540px) {
  div.unrecognized_cell > div.prompt {
    display: none;
  }
}
div.code_cell {
  /* avoid page breaking on code cells when printing */
}
@media print {
  div.code_cell {
    page-break-inside: avoid;
  }
}
/* any special styling for code cells that are currently running goes here */
div.input {
  page-break-inside: avoid;
  /* Old browsers */
  display: -webkit-box;
  -webkit-box-orient: horizontal;
  -webkit-box-align: stretch;
  display: -moz-box;
  -moz-box-orient: horizontal;
  -moz-box-align: stretch;
  display: box;
  box-orient: horizontal;
  box-align: stretch;
  /* Modern browsers */
  display: flex;
  flex-direction: row;
  align-items: stretch;
}
@media (max-width: 540px) {
  div.input {
    /* Old browsers */
    display: -webkit-box;
    -webkit-box-orient: vertical;
    -webkit-box-align: stretch;
    display: -moz-box;
    -moz-box-orient: vertical;
    -moz-box-align: stretch;
    display: box;
    box-orient: vertical;
    box-align: stretch;
    /* Modern browsers */
    display: flex;
    flex-direction: column;
    align-items: stretch;
  }
}
/* input_area and input_prompt must match in top border and margin for alignment */
div.input_prompt {
  color: #303F9F;
  border-top: 1px solid transparent;
}
div.input_area > div.highlight {
  margin: 0.4em;
  border: none;
  padding: 0px;
  background-color: transparent;
}
div.input_area > div.highlight > pre {
  margin: 0px;
  border: none;
  padding: 0px;
  background-color: transparent;
}
/* The following gets added to the <head> if it is detected that the user has a
 * monospace font with inconsistent normal/bold/italic height.  See
 * notebookmain.js.  Such fonts will have keywords vertically offset with
 * respect to the rest of the text.  The user should select a better font.
 * See: https://github.com/ipython/ipython/issues/1503
 *
 * .CodeMirror span {
 *      vertical-align: bottom;
 * }
 */
.CodeMirror {
  line-height: 1.21429em;
  /* Changed from 1em to our global default */
  font-size: 14px;
  height: auto;
  /* Changed to auto to autogrow */
  background: none;
  /* Changed from white to allow our bg to show through */
}
.CodeMirror-scroll {
  /*  The CodeMirror docs are a bit fuzzy on if overflow-y should be hidden or visible.*/
  /*  We have found that if it is visible, vertical scrollbars appear with font size changes.*/
  overflow-y: hidden;
  overflow-x: auto;
}
.CodeMirror-lines {
  /* In CM2, this used to be 0.4em, but in CM3 it went to 4px. We need the em value because */
  /* we have set a different line-height and want this to scale with that. */
  padding: 0.4em;
}
.CodeMirror-linenumber {
  padding: 0 8px 0 4px;
}
.CodeMirror-gutters {
  border-bottom-left-radius: 2px;
  border-top-left-radius: 2px;
}
.CodeMirror pre {
  /* In CM3 this went to 4px from 0 in CM2. We need the 0 value because of how we size */
  /* .CodeMirror-lines */
  padding: 0;
  border: 0;
  border-radius: 0;
}
/*

Original style from softwaremaniacs.org (c) Ivan Sagalaev <Maniac@SoftwareManiacs.Org>
Adapted from GitHub theme

*/
.highlight-base {
  color: #000;
}
.highlight-variable {
  color: #000;
}
.highlight-variable-2 {
  color: #1a1a1a;
}
.highlight-variable-3 {
  color: #333333;
}
.highlight-string {
  color: #BA2121;
}
.highlight-comment {
  color: #408080;
  font-style: italic;
}
.highlight-number {
  color: #080;
}
.highlight-atom {
  color: #88F;
}
.highlight-keyword {
  color: #008000;
  font-weight: bold;
}
.highlight-builtin {
  color: #008000;
}
.highlight-error {
  color: #f00;
}
.highlight-operator {
  color: #AA22FF;
  font-weight: bold;
}
.highlight-meta {
  color: #AA22FF;
}
/* previously not defined, copying from default codemirror */
.highlight-def {
  color: #00f;
}
.highlight-string-2 {
  color: #f50;
}
.highlight-qualifier {
  color: #555;
}
.highlight-bracket {
  color: #997;
}
.highlight-tag {
  color: #170;
}
.highlight-attribute {
  color: #00c;
}
.highlight-header {
  color: blue;
}
.highlight-quote {
  color: #090;
}
.highlight-link {
  color: #00c;
}
/* apply the same style to codemirror */
.cm-s-ipython span.cm-keyword {
  color: #008000;
  font-weight: bold;
}
.cm-s-ipython span.cm-atom {
  color: #88F;
}
.cm-s-ipython span.cm-number {
  color: #080;
}
.cm-s-ipython span.cm-def {
  color: #00f;
}
.cm-s-ipython span.cm-variable {
  color: #000;
}
.cm-s-ipython span.cm-operator {
  color: #AA22FF;
  font-weight: bold;
}
.cm-s-ipython span.cm-variable-2 {
  color: #1a1a1a;
}
.cm-s-ipython span.cm-variable-3 {
  color: #333333;
}
.cm-s-ipython span.cm-comment {
  color: #408080;
  font-style: italic;
}
.cm-s-ipython span.cm-string {
  color: #BA2121;
}
.cm-s-ipython span.cm-string-2 {
  color: #f50;
}
.cm-s-ipython span.cm-meta {
  color: #AA22FF;
}
.cm-s-ipython span.cm-qualifier {
  color: #555;
}
.cm-s-ipython span.cm-builtin {
  color: #008000;
}
.cm-s-ipython span.cm-bracket {
  color: #997;
}
.cm-s-ipython span.cm-tag {
  color: #170;
}
.cm-s-ipython span.cm-attribute {
  color: #00c;
}
.cm-s-ipython span.cm-header {
  color: blue;
}
.cm-s-ipython span.cm-quote {
  color: #090;
}
.cm-s-ipython span.cm-link {
  color: #00c;
}
.cm-s-ipython span.cm-error {
  color: #f00;
}
.cm-s-ipython span.cm-tab {
  background: url(data:image/png;base64,iVBORw0KGgoAAAANSUhEUgAAADAAAAAMCAYAAAAkuj5RAAAAAXNSR0IArs4c6QAAAGFJREFUSMft1LsRQFAQheHPowAKoACx3IgEKtaEHujDjORSgWTH/ZOdnZOcM/sgk/kFFWY0qV8foQwS4MKBCS3qR6ixBJvElOobYAtivseIE120FaowJPN75GMu8j/LfMwNjh4HUpwg4LUAAAAASUVORK5CYII=);
  background-position: right;
  background-repeat: no-repeat;
}
div.output_wrapper {
  /* this position must be relative to enable descendents to be absolute within it */
  position: relative;
  /* Old browsers */
  display: -webkit-box;
  -webkit-box-orient: vertical;
  -webkit-box-align: stretch;
  display: -moz-box;
  -moz-box-orient: vertical;
  -moz-box-align: stretch;
  display: box;
  box-orient: vertical;
  box-align: stretch;
  /* Modern browsers */
  display: flex;
  flex-direction: column;
  align-items: stretch;
  z-index: 1;
}
/* class for the output area when it should be height-limited */
div.output_scroll {
  /* ideally, this would be max-height, but FF barfs all over that */
  height: 24em;
  /* FF needs this *and the wrapper* to specify full width, or it will shrinkwrap */
  width: 100%;
  overflow: auto;
  border-radius: 2px;
  -webkit-box-shadow: inset 0 2px 8px rgba(0, 0, 0, 0.8);
  box-shadow: inset 0 2px 8px rgba(0, 0, 0, 0.8);
  display: block;
}
/* output div while it is collapsed */
div.output_collapsed {
  margin: 0px;
  padding: 0px;
  /* Old browsers */
  display: -webkit-box;
  -webkit-box-orient: vertical;
  -webkit-box-align: stretch;
  display: -moz-box;
  -moz-box-orient: vertical;
  -moz-box-align: stretch;
  display: box;
  box-orient: vertical;
  box-align: stretch;
  /* Modern browsers */
  display: flex;
  flex-direction: column;
  align-items: stretch;
}
div.out_prompt_overlay {
  height: 100%;
  padding: 0px 0.4em;
  position: absolute;
  border-radius: 2px;
}
div.out_prompt_overlay:hover {
  /* use inner shadow to get border that is computed the same on WebKit/FF */
  -webkit-box-shadow: inset 0 0 1px #000;
  box-shadow: inset 0 0 1px #000;
  background: rgba(240, 240, 240, 0.5);
}
div.output_prompt {
  color: #D84315;
}
/* This class is the outer container of all output sections. */
div.output_area {
  padding: 0px;
  page-break-inside: avoid;
  /* Old browsers */
  display: -webkit-box;
  -webkit-box-orient: horizontal;
  -webkit-box-align: stretch;
  display: -moz-box;
  -moz-box-orient: horizontal;
  -moz-box-align: stretch;
  display: box;
  box-orient: horizontal;
  box-align: stretch;
  /* Modern browsers */
  display: flex;
  flex-direction: row;
  align-items: stretch;
}
div.output_area .MathJax_Display {
  text-align: left !important;
}
div.output_area .rendered_html table {
  margin-left: 0;
  margin-right: 0;
}
div.output_area .rendered_html img {
  margin-left: 0;
  margin-right: 0;
}
div.output_area img,
div.output_area svg {
  max-width: 100%;
  height: auto;
}
div.output_area img.unconfined,
div.output_area svg.unconfined {
  max-width: none;
}
/* This is needed to protect the pre formating from global settings such
   as that of bootstrap */
.output {
  /* Old browsers */
  display: -webkit-box;
  -webkit-box-orient: vertical;
  -webkit-box-align: stretch;
  display: -moz-box;
  -moz-box-orient: vertical;
  -moz-box-align: stretch;
  display: box;
  box-orient: vertical;
  box-align: stretch;
  /* Modern browsers */
  display: flex;
  flex-direction: column;
  align-items: stretch;
}
@media (max-width: 540px) {
  div.output_area {
    /* Old browsers */
    display: -webkit-box;
    -webkit-box-orient: vertical;
    -webkit-box-align: stretch;
    display: -moz-box;
    -moz-box-orient: vertical;
    -moz-box-align: stretch;
    display: box;
    box-orient: vertical;
    box-align: stretch;
    /* Modern browsers */
    display: flex;
    flex-direction: column;
    align-items: stretch;
  }
}
div.output_area pre {
  margin: 0;
  padding: 0;
  border: 0;
  vertical-align: baseline;
  color: black;
  background-color: transparent;
  border-radius: 0;
}
/* This class is for the output subarea inside the output_area and after
   the prompt div. */
div.output_subarea {
  overflow-x: auto;
  padding: 0.4em;
  /* Old browsers */
  -webkit-box-flex: 1;
  -moz-box-flex: 1;
  box-flex: 1;
  /* Modern browsers */
  flex: 1;
  max-width: calc(100% - 14ex);
}
div.output_scroll div.output_subarea {
  overflow-x: visible;
}
/* The rest of the output_* classes are for special styling of the different
   output types */
/* all text output has this class: */
div.output_text {
  text-align: left;
  color: #000;
  /* This has to match that of the the CodeMirror class line-height below */
  line-height: 1.21429em;
}
/* stdout/stderr are 'text' as well as 'stream', but execute_result/error are *not* streams */
div.output_stderr {
  background: #fdd;
  /* very light red background for stderr */
}
div.output_latex {
  text-align: left;
}
/* Empty output_javascript divs should have no height */
div.output_javascript:empty {
  padding: 0;
}
.js-error {
  color: darkred;
}
/* raw_input styles */
div.raw_input_container {
  line-height: 1.21429em;
  padding-top: 5px;
}
pre.raw_input_prompt {
  /* nothing needed here. */
}
input.raw_input {
  font-family: monospace;
  font-size: inherit;
  color: inherit;
  width: auto;
  /* make sure input baseline aligns with prompt */
  vertical-align: baseline;
  /* padding + margin = 0.5em between prompt and cursor */
  padding: 0em 0.25em;
  margin: 0em 0.25em;
}
input.raw_input:focus {
  box-shadow: none;
}
p.p-space {
  margin-bottom: 10px;
}
div.output_unrecognized {
  padding: 5px;
  font-weight: bold;
  color: red;
}
div.output_unrecognized a {
  color: inherit;
  text-decoration: none;
}
div.output_unrecognized a:hover {
  color: inherit;
  text-decoration: none;
}
.rendered_html {
  color: #000;
  /* any extras will just be numbers: */
}
.rendered_html em {
  font-style: italic;
}
.rendered_html strong {
  font-weight: bold;
}
.rendered_html u {
  text-decoration: underline;
}
.rendered_html :link {
  text-decoration: underline;
}
.rendered_html :visited {
  text-decoration: underline;
}
.rendered_html h1 {
  font-size: 185.7%;
  margin: 1.08em 0 0 0;
  font-weight: bold;
  line-height: 1.0;
}
.rendered_html h2 {
  font-size: 157.1%;
  margin: 1.27em 0 0 0;
  font-weight: bold;
  line-height: 1.0;
}
.rendered_html h3 {
  font-size: 128.6%;
  margin: 1.55em 0 0 0;
  font-weight: bold;
  line-height: 1.0;
}
.rendered_html h4 {
  font-size: 100%;
  margin: 2em 0 0 0;
  font-weight: bold;
  line-height: 1.0;
}
.rendered_html h5 {
  font-size: 100%;
  margin: 2em 0 0 0;
  font-weight: bold;
  line-height: 1.0;
  font-style: italic;
}
.rendered_html h6 {
  font-size: 100%;
  margin: 2em 0 0 0;
  font-weight: bold;
  line-height: 1.0;
  font-style: italic;
}
.rendered_html h1:first-child {
  margin-top: 0.538em;
}
.rendered_html h2:first-child {
  margin-top: 0.636em;
}
.rendered_html h3:first-child {
  margin-top: 0.777em;
}
.rendered_html h4:first-child {
  margin-top: 1em;
}
.rendered_html h5:first-child {
  margin-top: 1em;
}
.rendered_html h6:first-child {
  margin-top: 1em;
}
.rendered_html ul {
  list-style: disc;
  margin: 0em 2em;
  padding-left: 0px;
}
.rendered_html ul ul {
  list-style: square;
  margin: 0em 2em;
}
.rendered_html ul ul ul {
  list-style: circle;
  margin: 0em 2em;
}
.rendered_html ol {
  list-style: decimal;
  margin: 0em 2em;
  padding-left: 0px;
}
.rendered_html ol ol {
  list-style: upper-alpha;
  margin: 0em 2em;
}
.rendered_html ol ol ol {
  list-style: lower-alpha;
  margin: 0em 2em;
}
.rendered_html ol ol ol ol {
  list-style: lower-roman;
  margin: 0em 2em;
}
.rendered_html ol ol ol ol ol {
  list-style: decimal;
  margin: 0em 2em;
}
.rendered_html * + ul {
  margin-top: 1em;
}
.rendered_html * + ol {
  margin-top: 1em;
}
.rendered_html hr {
  color: black;
  background-color: black;
}
.rendered_html pre {
  margin: 1em 2em;
}
.rendered_html pre,
.rendered_html code {
  border: 0;
  background-color: #fff;
  color: #000;
  font-size: 100%;
  padding: 0px;
}
.rendered_html blockquote {
  margin: 1em 2em;
}
.rendered_html table {
  margin-left: auto;
  margin-right: auto;
  border: 1px solid black;
  border-collapse: collapse;
}
.rendered_html tr,
.rendered_html th,
.rendered_html td {
  border: 1px solid black;
  border-collapse: collapse;
  margin: 1em 2em;
}
.rendered_html td,
.rendered_html th {
  text-align: left;
  vertical-align: middle;
  padding: 4px;
}
.rendered_html th {
  font-weight: bold;
}
.rendered_html * + table {
  margin-top: 1em;
}
.rendered_html p {
  text-align: left;
}
.rendered_html * + p {
  margin-top: 1em;
}
.rendered_html img {
  display: block;
  margin-left: auto;
  margin-right: auto;
}
.rendered_html * + img {
  margin-top: 1em;
}
.rendered_html img,
.rendered_html svg {
  max-width: 100%;
  height: auto;
}
.rendered_html img.unconfined,
.rendered_html svg.unconfined {
  max-width: none;
}
div.text_cell {
  /* Old browsers */
  display: -webkit-box;
  -webkit-box-orient: horizontal;
  -webkit-box-align: stretch;
  display: -moz-box;
  -moz-box-orient: horizontal;
  -moz-box-align: stretch;
  display: box;
  box-orient: horizontal;
  box-align: stretch;
  /* Modern browsers */
  display: flex;
  flex-direction: row;
  align-items: stretch;
}
@media (max-width: 540px) {
  div.text_cell > div.prompt {
    display: none;
  }
}
div.text_cell_render {
  /*font-family: "Helvetica Neue", Arial, Helvetica, Geneva, sans-serif;*/
  outline: none;
  resize: none;
  width: inherit;
  border-style: none;
  padding: 0.5em 0.5em 0.5em 0.4em;
  color: #000;
  box-sizing: border-box;
  -moz-box-sizing: border-box;
  -webkit-box-sizing: border-box;
}
a.anchor-link:link {
  text-decoration: none;
  padding: 0px 20px;
  visibility: hidden;
}
h1:hover .anchor-link,
h2:hover .anchor-link,
h3:hover .anchor-link,
h4:hover .anchor-link,
h5:hover .anchor-link,
h6:hover .anchor-link {
  visibility: visible;
}
.text_cell.rendered .input_area {
  display: none;
}
.text_cell.rendered .rendered_html {
  overflow-x: auto;
  overflow-y: hidden;
}
.text_cell.unrendered .text_cell_render {
  display: none;
}
.cm-header-1,
.cm-header-2,
.cm-header-3,
.cm-header-4,
.cm-header-5,
.cm-header-6 {
  font-weight: bold;
  font-family: "Helvetica Neue", Helvetica, Arial, sans-serif;
}
.cm-header-1 {
  font-size: 185.7%;
}
.cm-header-2 {
  font-size: 157.1%;
}
.cm-header-3 {
  font-size: 128.6%;
}
.cm-header-4 {
  font-size: 110%;
}
.cm-header-5 {
  font-size: 100%;
  font-style: italic;
}
.cm-header-6 {
  font-size: 100%;
  font-style: italic;
}
/*!
*
* IPython notebook webapp
*
*/
@media (max-width: 767px) {
  .notebook_app {
    padding-left: 0px;
    padding-right: 0px;
  }
}
#ipython-main-app {
  box-sizing: border-box;
  -moz-box-sizing: border-box;
  -webkit-box-sizing: border-box;
  height: 100%;
}
div#notebook_panel {
  margin: 0px;
  padding: 0px;
  box-sizing: border-box;
  -moz-box-sizing: border-box;
  -webkit-box-sizing: border-box;
  height: 100%;
}
div#notebook {
  font-size: 14px;
  line-height: 20px;
  overflow-y: hidden;
  overflow-x: auto;
  width: 100%;
  /* This spaces the page away from the edge of the notebook area */
  padding-top: 20px;
  margin: 0px;
  outline: none;
  box-sizing: border-box;
  -moz-box-sizing: border-box;
  -webkit-box-sizing: border-box;
  min-height: 100%;
}
@media not print {
  #notebook-container {
    padding: 15px;
    background-color: #fff;
    min-height: 0;
    -webkit-box-shadow: 0px 0px 12px 1px rgba(87, 87, 87, 0.2);
    box-shadow: 0px 0px 12px 1px rgba(87, 87, 87, 0.2);
  }
}
@media print {
  #notebook-container {
    width: 100%;
  }
}
div.ui-widget-content {
  border: 1px solid #ababab;
  outline: none;
}
pre.dialog {
  background-color: #f7f7f7;
  border: 1px solid #ddd;
  border-radius: 2px;
  padding: 0.4em;
  padding-left: 2em;
}
p.dialog {
  padding: 0.2em;
}
/* Word-wrap output correctly.  This is the CSS3 spelling, though Firefox seems
   to not honor it correctly.  Webkit browsers (Chrome, rekonq, Safari) do.
 */
pre,
code,
kbd,
samp {
  white-space: pre-wrap;
}
#fonttest {
  font-family: monospace;
}
p {
  margin-bottom: 0;
}
.end_space {
  min-height: 100px;
  transition: height .2s ease;
}
.notebook_app > #header {
  -webkit-box-shadow: 0px 0px 12px 1px rgba(87, 87, 87, 0.2);
  box-shadow: 0px 0px 12px 1px rgba(87, 87, 87, 0.2);
}
@media not print {
  .notebook_app {
    background-color: #EEE;
  }
}
kbd {
  border-style: solid;
  border-width: 1px;
  box-shadow: none;
  margin: 2px;
  padding-left: 2px;
  padding-right: 2px;
  padding-top: 1px;
  padding-bottom: 1px;
}
/* CSS for the cell toolbar */
.celltoolbar {
  border: thin solid #CFCFCF;
  border-bottom: none;
  background: #EEE;
  border-radius: 2px 2px 0px 0px;
  width: 100%;
  height: 29px;
  padding-right: 4px;
  /* Old browsers */
  display: -webkit-box;
  -webkit-box-orient: horizontal;
  -webkit-box-align: stretch;
  display: -moz-box;
  -moz-box-orient: horizontal;
  -moz-box-align: stretch;
  display: box;
  box-orient: horizontal;
  box-align: stretch;
  /* Modern browsers */
  display: flex;
  flex-direction: row;
  align-items: stretch;
  /* Old browsers */
  -webkit-box-pack: end;
  -moz-box-pack: end;
  box-pack: end;
  /* Modern browsers */
  justify-content: flex-end;
  display: -webkit-flex;
}
@media print {
  .celltoolbar {
    display: none;
  }
}
.ctb_hideshow {
  display: none;
  vertical-align: bottom;
}
/* ctb_show is added to the ctb_hideshow div to show the cell toolbar.
   Cell toolbars are only shown when the ctb_global_show class is also set.
*/
.ctb_global_show .ctb_show.ctb_hideshow {
  display: block;
}
.ctb_global_show .ctb_show + .input_area,
.ctb_global_show .ctb_show + div.text_cell_input,
.ctb_global_show .ctb_show ~ div.text_cell_render {
  border-top-right-radius: 0px;
  border-top-left-radius: 0px;
}
.ctb_global_show .ctb_show ~ div.text_cell_render {
  border: 1px solid #cfcfcf;
}
.celltoolbar {
  font-size: 87%;
  padding-top: 3px;
}
.celltoolbar select {
  display: block;
  width: 100%;
  height: 32px;
  padding: 6px 12px;
  font-size: 13px;
  line-height: 1.42857143;
  color: #555555;
  background-color: #fff;
  background-image: none;
  border: 1px solid #ccc;
  border-radius: 2px;
  -webkit-box-shadow: inset 0 1px 1px rgba(0, 0, 0, 0.075);
  box-shadow: inset 0 1px 1px rgba(0, 0, 0, 0.075);
  -webkit-transition: border-color ease-in-out .15s, box-shadow ease-in-out .15s;
  -o-transition: border-color ease-in-out .15s, box-shadow ease-in-out .15s;
  transition: border-color ease-in-out .15s, box-shadow ease-in-out .15s;
  height: 30px;
  padding: 5px 10px;
  font-size: 12px;
  line-height: 1.5;
  border-radius: 1px;
  width: inherit;
  font-size: inherit;
  height: 22px;
  padding: 0px;
  display: inline-block;
}
.celltoolbar select:focus {
  border-color: #66afe9;
  outline: 0;
  -webkit-box-shadow: inset 0 1px 1px rgba(0,0,0,.075), 0 0 8px rgba(102, 175, 233, 0.6);
  box-shadow: inset 0 1px 1px rgba(0,0,0,.075), 0 0 8px rgba(102, 175, 233, 0.6);
}
.celltoolbar select::-moz-placeholder {
  color: #999;
  opacity: 1;
}
.celltoolbar select:-ms-input-placeholder {
  color: #999;
}
.celltoolbar select::-webkit-input-placeholder {
  color: #999;
}
.celltoolbar select::-ms-expand {
  border: 0;
  background-color: transparent;
}
.celltoolbar select[disabled],
.celltoolbar select[readonly],
fieldset[disabled] .celltoolbar select {
  background-color: #eeeeee;
  opacity: 1;
}
.celltoolbar select[disabled],
fieldset[disabled] .celltoolbar select {
  cursor: not-allowed;
}
textarea.celltoolbar select {
  height: auto;
}
select.celltoolbar select {
  height: 30px;
  line-height: 30px;
}
textarea.celltoolbar select,
select[multiple].celltoolbar select {
  height: auto;
}
.celltoolbar label {
  margin-left: 5px;
  margin-right: 5px;
}
.completions {
  position: absolute;
  z-index: 110;
  overflow: hidden;
  border: 1px solid #ababab;
  border-radius: 2px;
  -webkit-box-shadow: 0px 6px 10px -1px #adadad;
  box-shadow: 0px 6px 10px -1px #adadad;
  line-height: 1;
}
.completions select {
  background: white;
  outline: none;
  border: none;
  padding: 0px;
  margin: 0px;
  overflow: auto;
  font-family: monospace;
  font-size: 110%;
  color: #000;
  width: auto;
}
.completions select option.context {
  color: #286090;
}
#kernel_logo_widget {
  float: right !important;
  float: right;
}
#kernel_logo_widget .current_kernel_logo {
  display: none;
  margin-top: -1px;
  margin-bottom: -1px;
  width: 32px;
  height: 32px;
}
#menubar {
  box-sizing: border-box;
  -moz-box-sizing: border-box;
  -webkit-box-sizing: border-box;
  margin-top: 1px;
}
#menubar .navbar {
  border-top: 1px;
  border-radius: 0px 0px 2px 2px;
  margin-bottom: 0px;
}
#menubar .navbar-toggle {
  float: left;
  padding-top: 7px;
  padding-bottom: 7px;
  border: none;
}
#menubar .navbar-collapse {
  clear: left;
}
.nav-wrapper {
  border-bottom: 1px solid #e7e7e7;
}
i.menu-icon {
  padding-top: 4px;
}
ul#help_menu li a {
  overflow: hidden;
  padding-right: 2.2em;
}
ul#help_menu li a i {
  margin-right: -1.2em;
}
.dropdown-submenu {
  position: relative;
}
.dropdown-submenu > .dropdown-menu {
  top: 0;
  left: 100%;
  margin-top: -6px;
  margin-left: -1px;
}
.dropdown-submenu:hover > .dropdown-menu {
  display: block;
}
.dropdown-submenu > a:after {
  display: inline-block;
  font: normal normal normal 14px/1 FontAwesome;
  font-size: inherit;
  text-rendering: auto;
  -webkit-font-smoothing: antialiased;
  -moz-osx-font-smoothing: grayscale;
  display: block;
  content: "\f0da";
  float: right;
  color: #333333;
  margin-top: 2px;
  margin-right: -10px;
}
.dropdown-submenu > a:after.pull-left {
  margin-right: .3em;
}
.dropdown-submenu > a:after.pull-right {
  margin-left: .3em;
}
.dropdown-submenu:hover > a:after {
  color: #262626;
}
.dropdown-submenu.pull-left {
  float: none;
}
.dropdown-submenu.pull-left > .dropdown-menu {
  left: -100%;
  margin-left: 10px;
}
#notification_area {
  float: right !important;
  float: right;
  z-index: 10;
}
.indicator_area {
  float: right !important;
  float: right;
  color: #777;
  margin-left: 5px;
  margin-right: 5px;
  width: 11px;
  z-index: 10;
  text-align: center;
  width: auto;
}
#kernel_indicator {
  float: right !important;
  float: right;
  color: #777;
  margin-left: 5px;
  margin-right: 5px;
  width: 11px;
  z-index: 10;
  text-align: center;
  width: auto;
  border-left: 1px solid;
}
#kernel_indicator .kernel_indicator_name {
  padding-left: 5px;
  padding-right: 5px;
}
#modal_indicator {
  float: right !important;
  float: right;
  color: #777;
  margin-left: 5px;
  margin-right: 5px;
  width: 11px;
  z-index: 10;
  text-align: center;
  width: auto;
}
#readonly-indicator {
  float: right !important;
  float: right;
  color: #777;
  margin-left: 5px;
  margin-right: 5px;
  width: 11px;
  z-index: 10;
  text-align: center;
  width: auto;
  margin-top: 2px;
  margin-bottom: 0px;
  margin-left: 0px;
  margin-right: 0px;
  display: none;
}
.modal_indicator:before {
  width: 1.28571429em;
  text-align: center;
}
.edit_mode .modal_indicator:before {
  display: inline-block;
  font: normal normal normal 14px/1 FontAwesome;
  font-size: inherit;
  text-rendering: auto;
  -webkit-font-smoothing: antialiased;
  -moz-osx-font-smoothing: grayscale;
  content: "\f040";
}
.edit_mode .modal_indicator:before.pull-left {
  margin-right: .3em;
}
.edit_mode .modal_indicator:before.pull-right {
  margin-left: .3em;
}
.command_mode .modal_indicator:before {
  display: inline-block;
  font: normal normal normal 14px/1 FontAwesome;
  font-size: inherit;
  text-rendering: auto;
  -webkit-font-smoothing: antialiased;
  -moz-osx-font-smoothing: grayscale;
  content: ' ';
}
.command_mode .modal_indicator:before.pull-left {
  margin-right: .3em;
}
.command_mode .modal_indicator:before.pull-right {
  margin-left: .3em;
}
.kernel_idle_icon:before {
  display: inline-block;
  font: normal normal normal 14px/1 FontAwesome;
  font-size: inherit;
  text-rendering: auto;
  -webkit-font-smoothing: antialiased;
  -moz-osx-font-smoothing: grayscale;
  content: "\f10c";
}
.kernel_idle_icon:before.pull-left {
  margin-right: .3em;
}
.kernel_idle_icon:before.pull-right {
  margin-left: .3em;
}
.kernel_busy_icon:before {
  display: inline-block;
  font: normal normal normal 14px/1 FontAwesome;
  font-size: inherit;
  text-rendering: auto;
  -webkit-font-smoothing: antialiased;
  -moz-osx-font-smoothing: grayscale;
  content: "\f111";
}
.kernel_busy_icon:before.pull-left {
  margin-right: .3em;
}
.kernel_busy_icon:before.pull-right {
  margin-left: .3em;
}
.kernel_dead_icon:before {
  display: inline-block;
  font: normal normal normal 14px/1 FontAwesome;
  font-size: inherit;
  text-rendering: auto;
  -webkit-font-smoothing: antialiased;
  -moz-osx-font-smoothing: grayscale;
  content: "\f1e2";
}
.kernel_dead_icon:before.pull-left {
  margin-right: .3em;
}
.kernel_dead_icon:before.pull-right {
  margin-left: .3em;
}
.kernel_disconnected_icon:before {
  display: inline-block;
  font: normal normal normal 14px/1 FontAwesome;
  font-size: inherit;
  text-rendering: auto;
  -webkit-font-smoothing: antialiased;
  -moz-osx-font-smoothing: grayscale;
  content: "\f127";
}
.kernel_disconnected_icon:before.pull-left {
  margin-right: .3em;
}
.kernel_disconnected_icon:before.pull-right {
  margin-left: .3em;
}
.notification_widget {
  color: #777;
  z-index: 10;
  background: rgba(240, 240, 240, 0.5);
  margin-right: 4px;
  color: #333;
  background-color: #fff;
  border-color: #ccc;
}
.notification_widget:focus,
.notification_widget.focus {
  color: #333;
  background-color: #e6e6e6;
  border-color: #8c8c8c;
}
.notification_widget:hover {
  color: #333;
  background-color: #e6e6e6;
  border-color: #adadad;
}
.notification_widget:active,
.notification_widget.active,
.open > .dropdown-toggle.notification_widget {
  color: #333;
  background-color: #e6e6e6;
  border-color: #adadad;
}
.notification_widget:active:hover,
.notification_widget.active:hover,
.open > .dropdown-toggle.notification_widget:hover,
.notification_widget:active:focus,
.notification_widget.active:focus,
.open > .dropdown-toggle.notification_widget:focus,
.notification_widget:active.focus,
.notification_widget.active.focus,
.open > .dropdown-toggle.notification_widget.focus {
  color: #333;
  background-color: #d4d4d4;
  border-color: #8c8c8c;
}
.notification_widget:active,
.notification_widget.active,
.open > .dropdown-toggle.notification_widget {
  background-image: none;
}
.notification_widget.disabled:hover,
.notification_widget[disabled]:hover,
fieldset[disabled] .notification_widget:hover,
.notification_widget.disabled:focus,
.notification_widget[disabled]:focus,
fieldset[disabled] .notification_widget:focus,
.notification_widget.disabled.focus,
.notification_widget[disabled].focus,
fieldset[disabled] .notification_widget.focus {
  background-color: #fff;
  border-color: #ccc;
}
.notification_widget .badge {
  color: #fff;
  background-color: #333;
}
.notification_widget.warning {
  color: #fff;
  background-color: #f0ad4e;
  border-color: #eea236;
}
.notification_widget.warning:focus,
.notification_widget.warning.focus {
  color: #fff;
  background-color: #ec971f;
  border-color: #985f0d;
}
.notification_widget.warning:hover {
  color: #fff;
  background-color: #ec971f;
  border-color: #d58512;
}
.notification_widget.warning:active,
.notification_widget.warning.active,
.open > .dropdown-toggle.notification_widget.warning {
  color: #fff;
  background-color: #ec971f;
  border-color: #d58512;
}
.notification_widget.warning:active:hover,
.notification_widget.warning.active:hover,
.open > .dropdown-toggle.notification_widget.warning:hover,
.notification_widget.warning:active:focus,
.notification_widget.warning.active:focus,
.open > .dropdown-toggle.notification_widget.warning:focus,
.notification_widget.warning:active.focus,
.notification_widget.warning.active.focus,
.open > .dropdown-toggle.notification_widget.warning.focus {
  color: #fff;
  background-color: #d58512;
  border-color: #985f0d;
}
.notification_widget.warning:active,
.notification_widget.warning.active,
.open > .dropdown-toggle.notification_widget.warning {
  background-image: none;
}
.notification_widget.warning.disabled:hover,
.notification_widget.warning[disabled]:hover,
fieldset[disabled] .notification_widget.warning:hover,
.notification_widget.warning.disabled:focus,
.notification_widget.warning[disabled]:focus,
fieldset[disabled] .notification_widget.warning:focus,
.notification_widget.warning.disabled.focus,
.notification_widget.warning[disabled].focus,
fieldset[disabled] .notification_widget.warning.focus {
  background-color: #f0ad4e;
  border-color: #eea236;
}
.notification_widget.warning .badge {
  color: #f0ad4e;
  background-color: #fff;
}
.notification_widget.success {
  color: #fff;
  background-color: #5cb85c;
  border-color: #4cae4c;
}
.notification_widget.success:focus,
.notification_widget.success.focus {
  color: #fff;
  background-color: #449d44;
  border-color: #255625;
}
.notification_widget.success:hover {
  color: #fff;
  background-color: #449d44;
  border-color: #398439;
}
.notification_widget.success:active,
.notification_widget.success.active,
.open > .dropdown-toggle.notification_widget.success {
  color: #fff;
  background-color: #449d44;
  border-color: #398439;
}
.notification_widget.success:active:hover,
.notification_widget.success.active:hover,
.open > .dropdown-toggle.notification_widget.success:hover,
.notification_widget.success:active:focus,
.notification_widget.success.active:focus,
.open > .dropdown-toggle.notification_widget.success:focus,
.notification_widget.success:active.focus,
.notification_widget.success.active.focus,
.open > .dropdown-toggle.notification_widget.success.focus {
  color: #fff;
  background-color: #398439;
  border-color: #255625;
}
.notification_widget.success:active,
.notification_widget.success.active,
.open > .dropdown-toggle.notification_widget.success {
  background-image: none;
}
.notification_widget.success.disabled:hover,
.notification_widget.success[disabled]:hover,
fieldset[disabled] .notification_widget.success:hover,
.notification_widget.success.disabled:focus,
.notification_widget.success[disabled]:focus,
fieldset[disabled] .notification_widget.success:focus,
.notification_widget.success.disabled.focus,
.notification_widget.success[disabled].focus,
fieldset[disabled] .notification_widget.success.focus {
  background-color: #5cb85c;
  border-color: #4cae4c;
}
.notification_widget.success .badge {
  color: #5cb85c;
  background-color: #fff;
}
.notification_widget.info {
  color: #fff;
  background-color: #5bc0de;
  border-color: #46b8da;
}
.notification_widget.info:focus,
.notification_widget.info.focus {
  color: #fff;
  background-color: #31b0d5;
  border-color: #1b6d85;
}
.notification_widget.info:hover {
  color: #fff;
  background-color: #31b0d5;
  border-color: #269abc;
}
.notification_widget.info:active,
.notification_widget.info.active,
.open > .dropdown-toggle.notification_widget.info {
  color: #fff;
  background-color: #31b0d5;
  border-color: #269abc;
}
.notification_widget.info:active:hover,
.notification_widget.info.active:hover,
.open > .dropdown-toggle.notification_widget.info:hover,
.notification_widget.info:active:focus,
.notification_widget.info.active:focus,
.open > .dropdown-toggle.notification_widget.info:focus,
.notification_widget.info:active.focus,
.notification_widget.info.active.focus,
.open > .dropdown-toggle.notification_widget.info.focus {
  color: #fff;
  background-color: #269abc;
  border-color: #1b6d85;
}
.notification_widget.info:active,
.notification_widget.info.active,
.open > .dropdown-toggle.notification_widget.info {
  background-image: none;
}
.notification_widget.info.disabled:hover,
.notification_widget.info[disabled]:hover,
fieldset[disabled] .notification_widget.info:hover,
.notification_widget.info.disabled:focus,
.notification_widget.info[disabled]:focus,
fieldset[disabled] .notification_widget.info:focus,
.notification_widget.info.disabled.focus,
.notification_widget.info[disabled].focus,
fieldset[disabled] .notification_widget.info.focus {
  background-color: #5bc0de;
  border-color: #46b8da;
}
.notification_widget.info .badge {
  color: #5bc0de;
  background-color: #fff;
}
.notification_widget.danger {
  color: #fff;
  background-color: #d9534f;
  border-color: #d43f3a;
}
.notification_widget.danger:focus,
.notification_widget.danger.focus {
  color: #fff;
  background-color: #c9302c;
  border-color: #761c19;
}
.notification_widget.danger:hover {
  color: #fff;
  background-color: #c9302c;
  border-color: #ac2925;
}
.notification_widget.danger:active,
.notification_widget.danger.active,
.open > .dropdown-toggle.notification_widget.danger {
  color: #fff;
  background-color: #c9302c;
  border-color: #ac2925;
}
.notification_widget.danger:active:hover,
.notification_widget.danger.active:hover,
.open > .dropdown-toggle.notification_widget.danger:hover,
.notification_widget.danger:active:focus,
.notification_widget.danger.active:focus,
.open > .dropdown-toggle.notification_widget.danger:focus,
.notification_widget.danger:active.focus,
.notification_widget.danger.active.focus,
.open > .dropdown-toggle.notification_widget.danger.focus {
  color: #fff;
  background-color: #ac2925;
  border-color: #761c19;
}
.notification_widget.danger:active,
.notification_widget.danger.active,
.open > .dropdown-toggle.notification_widget.danger {
  background-image: none;
}
.notification_widget.danger.disabled:hover,
.notification_widget.danger[disabled]:hover,
fieldset[disabled] .notification_widget.danger:hover,
.notification_widget.danger.disabled:focus,
.notification_widget.danger[disabled]:focus,
fieldset[disabled] .notification_widget.danger:focus,
.notification_widget.danger.disabled.focus,
.notification_widget.danger[disabled].focus,
fieldset[disabled] .notification_widget.danger.focus {
  background-color: #d9534f;
  border-color: #d43f3a;
}
.notification_widget.danger .badge {
  color: #d9534f;
  background-color: #fff;
}
div#pager {
  background-color: #fff;
  font-size: 14px;
  line-height: 20px;
  overflow: hidden;
  display: none;
  position: fixed;
  bottom: 0px;
  width: 100%;
  max-height: 50%;
  padding-top: 8px;
  -webkit-box-shadow: 0px 0px 12px 1px rgba(87, 87, 87, 0.2);
  box-shadow: 0px 0px 12px 1px rgba(87, 87, 87, 0.2);
  /* Display over codemirror */
  z-index: 100;
  /* Hack which prevents jquery ui resizable from changing top. */
  top: auto !important;
}
div#pager pre {
  line-height: 1.21429em;
  color: #000;
  background-color: #f7f7f7;
  padding: 0.4em;
}
div#pager #pager-button-area {
  position: absolute;
  top: 8px;
  right: 20px;
}
div#pager #pager-contents {
  position: relative;
  overflow: auto;
  width: 100%;
  height: 100%;
}
div#pager #pager-contents #pager-container {
  position: relative;
  padding: 15px 0px;
  box-sizing: border-box;
  -moz-box-sizing: border-box;
  -webkit-box-sizing: border-box;
}
div#pager .ui-resizable-handle {
  top: 0px;
  height: 8px;
  background: #f7f7f7;
  border-top: 1px solid #cfcfcf;
  border-bottom: 1px solid #cfcfcf;
  /* This injects handle bars (a short, wide = symbol) for 
        the resize handle. */
}
div#pager .ui-resizable-handle::after {
  content: '';
  top: 2px;
  left: 50%;
  height: 3px;
  width: 30px;
  margin-left: -15px;
  position: absolute;
  border-top: 1px solid #cfcfcf;
}
.quickhelp {
  /* Old browsers */
  display: -webkit-box;
  -webkit-box-orient: horizontal;
  -webkit-box-align: stretch;
  display: -moz-box;
  -moz-box-orient: horizontal;
  -moz-box-align: stretch;
  display: box;
  box-orient: horizontal;
  box-align: stretch;
  /* Modern browsers */
  display: flex;
  flex-direction: row;
  align-items: stretch;
  line-height: 1.8em;
}
.shortcut_key {
  display: inline-block;
  width: 21ex;
  text-align: right;
  font-family: monospace;
}
.shortcut_descr {
  display: inline-block;
  /* Old browsers */
  -webkit-box-flex: 1;
  -moz-box-flex: 1;
  box-flex: 1;
  /* Modern browsers */
  flex: 1;
}
span.save_widget {
  margin-top: 6px;
}
span.save_widget span.filename {
  height: 1em;
  line-height: 1em;
  padding: 3px;
  margin-left: 16px;
  border: none;
  font-size: 146.5%;
  border-radius: 2px;
}
span.save_widget span.filename:hover {
  background-color: #e6e6e6;
}
span.checkpoint_status,
span.autosave_status {
  font-size: small;
}
@media (max-width: 767px) {
  span.save_widget {
    font-size: small;
  }
  span.checkpoint_status,
  span.autosave_status {
    display: none;
  }
}
@media (min-width: 768px) and (max-width: 991px) {
  span.checkpoint_status {
    display: none;
  }
  span.autosave_status {
    font-size: x-small;
  }
}
.toolbar {
  padding: 0px;
  margin-left: -5px;
  margin-top: 2px;
  margin-bottom: 5px;
  box-sizing: border-box;
  -moz-box-sizing: border-box;
  -webkit-box-sizing: border-box;
}
.toolbar select,
.toolbar label {
  width: auto;
  vertical-align: middle;
  margin-right: 2px;
  margin-bottom: 0px;
  display: inline;
  font-size: 92%;
  margin-left: 0.3em;
  margin-right: 0.3em;
  padding: 0px;
  padding-top: 3px;
}
.toolbar .btn {
  padding: 2px 8px;
}
.toolbar .btn-group {
  margin-top: 0px;
  margin-left: 5px;
}
#maintoolbar {
  margin-bottom: -3px;
  margin-top: -8px;
  border: 0px;
  min-height: 27px;
  margin-left: 0px;
  padding-top: 11px;
  padding-bottom: 3px;
}
#maintoolbar .navbar-text {
  float: none;
  vertical-align: middle;
  text-align: right;
  margin-left: 5px;
  margin-right: 0px;
  margin-top: 0px;
}
.select-xs {
  height: 24px;
}
.pulse,
.dropdown-menu > li > a.pulse,
li.pulse > a.dropdown-toggle,
li.pulse.open > a.dropdown-toggle {
  background-color: #F37626;
  color: white;
}
/**
 * Primary styles
 *
 * Author: Jupyter Development Team
 */
/** WARNING IF YOU ARE EDITTING THIS FILE, if this is a .css file, It has a lot
 * of chance of beeing generated from the ../less/[samename].less file, you can
 * try to get back the less file by reverting somme commit in history
 **/
/*
 * We'll try to get something pretty, so we
 * have some strange css to have the scroll bar on
 * the left with fix button on the top right of the tooltip
 */
@-moz-keyframes fadeOut {
  from {
    opacity: 1;
  }
  to {
    opacity: 0;
  }
}
@-webkit-keyframes fadeOut {
  from {
    opacity: 1;
  }
  to {
    opacity: 0;
  }
}
@-moz-keyframes fadeIn {
  from {
    opacity: 0;
  }
  to {
    opacity: 1;
  }
}
@-webkit-keyframes fadeIn {
  from {
    opacity: 0;
  }
  to {
    opacity: 1;
  }
}
/*properties of tooltip after "expand"*/
.bigtooltip {
  overflow: auto;
  height: 200px;
  -webkit-transition-property: height;
  -webkit-transition-duration: 500ms;
  -moz-transition-property: height;
  -moz-transition-duration: 500ms;
  transition-property: height;
  transition-duration: 500ms;
}
/*properties of tooltip before "expand"*/
.smalltooltip {
  -webkit-transition-property: height;
  -webkit-transition-duration: 500ms;
  -moz-transition-property: height;
  -moz-transition-duration: 500ms;
  transition-property: height;
  transition-duration: 500ms;
  text-overflow: ellipsis;
  overflow: hidden;
  height: 80px;
}
.tooltipbuttons {
  position: absolute;
  padding-right: 15px;
  top: 0px;
  right: 0px;
}
.tooltiptext {
  /*avoid the button to overlap on some docstring*/
  padding-right: 30px;
}
.ipython_tooltip {
  max-width: 700px;
  /*fade-in animation when inserted*/
  -webkit-animation: fadeOut 400ms;
  -moz-animation: fadeOut 400ms;
  animation: fadeOut 400ms;
  -webkit-animation: fadeIn 400ms;
  -moz-animation: fadeIn 400ms;
  animation: fadeIn 400ms;
  vertical-align: middle;
  background-color: #f7f7f7;
  overflow: visible;
  border: #ababab 1px solid;
  outline: none;
  padding: 3px;
  margin: 0px;
  padding-left: 7px;
  font-family: monospace;
  min-height: 50px;
  -moz-box-shadow: 0px 6px 10px -1px #adadad;
  -webkit-box-shadow: 0px 6px 10px -1px #adadad;
  box-shadow: 0px 6px 10px -1px #adadad;
  border-radius: 2px;
  position: absolute;
  z-index: 1000;
}
.ipython_tooltip a {
  float: right;
}
.ipython_tooltip .tooltiptext pre {
  border: 0;
  border-radius: 0;
  font-size: 100%;
  background-color: #f7f7f7;
}
.pretooltiparrow {
  left: 0px;
  margin: 0px;
  top: -16px;
  width: 40px;
  height: 16px;
  overflow: hidden;
  position: absolute;
}
.pretooltiparrow:before {
  background-color: #f7f7f7;
  border: 1px #ababab solid;
  z-index: 11;
  content: "";
  position: absolute;
  left: 15px;
  top: 10px;
  width: 25px;
  height: 25px;
  -webkit-transform: rotate(45deg);
  -moz-transform: rotate(45deg);
  -ms-transform: rotate(45deg);
  -o-transform: rotate(45deg);
}
ul.typeahead-list i {
  margin-left: -10px;
  width: 18px;
}
ul.typeahead-list {
  max-height: 80vh;
  overflow: auto;
}
ul.typeahead-list > li > a {
  /** Firefox bug **/
  /* see https://github.com/jupyter/notebook/issues/559 */
  white-space: normal;
}
.cmd-palette .modal-body {
  padding: 7px;
}
.cmd-palette form {
  background: white;
}
.cmd-palette input {
  outline: none;
}
.no-shortcut {
  display: none;
}
.command-shortcut:before {
  content: "(command)";
  padding-right: 3px;
  color: #777777;
}
.edit-shortcut:before {
  content: "(edit)";
  padding-right: 3px;
  color: #777777;
}
#find-and-replace #replace-preview .match,
#find-and-replace #replace-preview .insert {
  background-color: #BBDEFB;
  border-color: #90CAF9;
  border-style: solid;
  border-width: 1px;
  border-radius: 0px;
}
#find-and-replace #replace-preview .replace .match {
  background-color: #FFCDD2;
  border-color: #EF9A9A;
  border-radius: 0px;
}
#find-and-replace #replace-preview .replace .insert {
  background-color: #C8E6C9;
  border-color: #A5D6A7;
  border-radius: 0px;
}
#find-and-replace #replace-preview {
  max-height: 60vh;
  overflow: auto;
}
#find-and-replace #replace-preview pre {
  padding: 5px 10px;
}
.terminal-app {
  background: #EEE;
}
.terminal-app #header {
  background: #fff;
  -webkit-box-shadow: 0px 0px 12px 1px rgba(87, 87, 87, 0.2);
  box-shadow: 0px 0px 12px 1px rgba(87, 87, 87, 0.2);
}
.terminal-app .terminal {
  width: 100%;
  float: left;
  font-family: monospace;
  color: white;
  background: black;
  padding: 0.4em;
  border-radius: 2px;
  -webkit-box-shadow: 0px 0px 12px 1px rgba(87, 87, 87, 0.4);
  box-shadow: 0px 0px 12px 1px rgba(87, 87, 87, 0.4);
}
.terminal-app .terminal,
.terminal-app .terminal dummy-screen {
  line-height: 1em;
  font-size: 14px;
}
.terminal-app .terminal .xterm-rows {
  padding: 10px;
}
.terminal-app .terminal-cursor {
  color: black;
  background: white;
}
.terminal-app #terminado-container {
  margin-top: 20px;
}
/*# sourceMappingURL=style.min.css.map */
    </style>
<style type="text/css">
    .highlight .hll { background-color: #ffffcc }
.highlight  { background: #f8f8f8; }
.highlight .c { color: #408080; font-style: italic } /* Comment */
.highlight .err { border: 1px solid #FF0000 } /* Error */
.highlight .k { color: #008000; font-weight: bold } /* Keyword */
.highlight .o { color: #666666 } /* Operator */
.highlight .ch { color: #408080; font-style: italic } /* Comment.Hashbang */
.highlight .cm { color: #408080; font-style: italic } /* Comment.Multiline */
.highlight .cp { color: #BC7A00 } /* Comment.Preproc */
.highlight .cpf { color: #408080; font-style: italic } /* Comment.PreprocFile */
.highlight .c1 { color: #408080; font-style: italic } /* Comment.Single */
.highlight .cs { color: #408080; font-style: italic } /* Comment.Special */
.highlight .gd { color: #A00000 } /* Generic.Deleted */
.highlight .ge { font-style: italic } /* Generic.Emph */
.highlight .gr { color: #FF0000 } /* Generic.Error */
.highlight .gh { color: #000080; font-weight: bold } /* Generic.Heading */
.highlight .gi { color: #00A000 } /* Generic.Inserted */
.highlight .go { color: #888888 } /* Generic.Output */
.highlight .gp { color: #000080; font-weight: bold } /* Generic.Prompt */
.highlight .gs { font-weight: bold } /* Generic.Strong */
.highlight .gu { color: #800080; font-weight: bold } /* Generic.Subheading */
.highlight .gt { color: #0044DD } /* Generic.Traceback */
.highlight .kc { color: #008000; font-weight: bold } /* Keyword.Constant */
.highlight .kd { color: #008000; font-weight: bold } /* Keyword.Declaration */
.highlight .kn { color: #008000; font-weight: bold } /* Keyword.Namespace */
.highlight .kp { color: #008000 } /* Keyword.Pseudo */
.highlight .kr { color: #008000; font-weight: bold } /* Keyword.Reserved */
.highlight .kt { color: #B00040 } /* Keyword.Type */
.highlight .m { color: #666666 } /* Literal.Number */
.highlight .s { color: #BA2121 } /* Literal.String */
.highlight .na { color: #7D9029 } /* Name.Attribute */
.highlight .nb { color: #008000 } /* Name.Builtin */
.highlight .nc { color: #0000FF; font-weight: bold } /* Name.Class */
.highlight .no { color: #880000 } /* Name.Constant */
.highlight .nd { color: #AA22FF } /* Name.Decorator */
.highlight .ni { color: #999999; font-weight: bold } /* Name.Entity */
.highlight .ne { color: #D2413A; font-weight: bold } /* Name.Exception */
.highlight .nf { color: #0000FF } /* Name.Function */
.highlight .nl { color: #A0A000 } /* Name.Label */
.highlight .nn { color: #0000FF; font-weight: bold } /* Name.Namespace */
.highlight .nt { color: #008000; font-weight: bold } /* Name.Tag */
.highlight .nv { color: #19177C } /* Name.Variable */
.highlight .ow { color: #AA22FF; font-weight: bold } /* Operator.Word */
.highlight .w { color: #bbbbbb } /* Text.Whitespace */
.highlight .mb { color: #666666 } /* Literal.Number.Bin */
.highlight .mf { color: #666666 } /* Literal.Number.Float */
.highlight .mh { color: #666666 } /* Literal.Number.Hex */
.highlight .mi { color: #666666 } /* Literal.Number.Integer */
.highlight .mo { color: #666666 } /* Literal.Number.Oct */
.highlight .sa { color: #BA2121 } /* Literal.String.Affix */
.highlight .sb { color: #BA2121 } /* Literal.String.Backtick */
.highlight .sc { color: #BA2121 } /* Literal.String.Char */
.highlight .dl { color: #BA2121 } /* Literal.String.Delimiter */
.highlight .sd { color: #BA2121; font-style: italic } /* Literal.String.Doc */
.highlight .s2 { color: #BA2121 } /* Literal.String.Double */
.highlight .se { color: #BB6622; font-weight: bold } /* Literal.String.Escape */
.highlight .sh { color: #BA2121 } /* Literal.String.Heredoc */
.highlight .si { color: #BB6688; font-weight: bold } /* Literal.String.Interpol */
.highlight .sx { color: #008000 } /* Literal.String.Other */
.highlight .sr { color: #BB6688 } /* Literal.String.Regex */
.highlight .s1 { color: #BA2121 } /* Literal.String.Single */
.highlight .ss { color: #19177C } /* Literal.String.Symbol */
.highlight .bp { color: #008000 } /* Name.Builtin.Pseudo */
.highlight .fm { color: #0000FF } /* Name.Function.Magic */
.highlight .vc { color: #19177C } /* Name.Variable.Class */
.highlight .vg { color: #19177C } /* Name.Variable.Global */
.highlight .vi { color: #19177C } /* Name.Variable.Instance */
.highlight .vm { color: #19177C } /* Name.Variable.Magic */
.highlight .il { color: #666666 } /* Literal.Number.Integer.Long */
    </style>
<style type="text/css">
    
/* Temporary definitions which will become obsolete with Notebook release 5.0 */
.ansi-black-fg { color: #3E424D; }
.ansi-black-bg { background-color: #3E424D; }
.ansi-black-intense-fg { color: #282C36; }
.ansi-black-intense-bg { background-color: #282C36; }
.ansi-red-fg { color: #E75C58; }
.ansi-red-bg { background-color: #E75C58; }
.ansi-red-intense-fg { color: #B22B31; }
.ansi-red-intense-bg { background-color: #B22B31; }
.ansi-green-fg { color: #00A250; }
.ansi-green-bg { background-color: #00A250; }
.ansi-green-intense-fg { color: #007427; }
.ansi-green-intense-bg { background-color: #007427; }
.ansi-yellow-fg { color: #DDB62B; }
.ansi-yellow-bg { background-color: #DDB62B; }
.ansi-yellow-intense-fg { color: #B27D12; }
.ansi-yellow-intense-bg { background-color: #B27D12; }
.ansi-blue-fg { color: #208FFB; }
.ansi-blue-bg { background-color: #208FFB; }
.ansi-blue-intense-fg { color: #0065CA; }
.ansi-blue-intense-bg { background-color: #0065CA; }
.ansi-magenta-fg { color: #D160C4; }
.ansi-magenta-bg { background-color: #D160C4; }
.ansi-magenta-intense-fg { color: #A03196; }
.ansi-magenta-intense-bg { background-color: #A03196; }
.ansi-cyan-fg { color: #60C6C8; }
.ansi-cyan-bg { background-color: #60C6C8; }
.ansi-cyan-intense-fg { color: #258F8F; }
.ansi-cyan-intense-bg { background-color: #258F8F; }
.ansi-white-fg { color: #C5C1B4; }
.ansi-white-bg { background-color: #C5C1B4; }
.ansi-white-intense-fg { color: #A1A6B2; }
.ansi-white-intense-bg { background-color: #A1A6B2; }

.ansi-bold { font-weight: bold; }

    </style>


<style type="text/css">
/* Overrides of notebook CSS for static HTML export */
body {
  overflow: visible;
  padding: 8px;
}

div#notebook {
  overflow: visible;
  border-top: none;
}@media print {
  div.cell {
    display: block;
    page-break-inside: avoid;
  } 
  div.output_wrapper { 
    display: block;
    page-break-inside: avoid; 
  }
  div.output { 
    display: block;
    page-break-inside: avoid; 
  }
}
</style>

<!-- Custom stylesheet, it must be in the same directory as the html file -->
<link rel="stylesheet" href="custom.css">

<!-- Loading mathjax macro -->
<!-- Load mathjax -->
    <script src="https://cdnjs.cloudflare.com/ajax/libs/mathjax/2.7.1/MathJax.js?config=TeX-AMS_HTML"></script>
    <!-- MathJax configuration -->
    <script type="text/x-mathjax-config">
    MathJax.Hub.Config({
        tex2jax: {
            inlineMath: [ ['$','$'], ["\\(","\\)"] ],
            displayMath: [ ['$$','$$'], ["\\[","\\]"] ],
            processEscapes: true,
            processEnvironments: true
        },
        // Center justify equations in code and markdown cells. Elsewhere
        // we use CSS to left justify single line equations in code cells.
        displayAlign: 'center',
        "HTML-CSS": {
            styles: {'.MathJax_Display': {"margin": 0}},
            linebreaks: { automatic: true }
        }
    });
    </script>
    <!-- End of mathjax configuration --></head>
<body>
  <div tabindex="-1" id="notebook" class="border-box-sizing">
    <div class="container" id="notebook-container">

<div class="cell border-box-sizing code_cell rendered">
<div class="input">
<div class="prompt input_prompt">In&nbsp;[13]:</div>
<div class="inner_cell">
    <div class="input_area">
<div class=" highlight hl-ipython3"><pre><span></span><span class="kn">import</span> <span class="nn">numpy</span> <span class="k">as</span> <span class="nn">np</span>
<span class="kn">import</span> <span class="nn">pandas</span> <span class="k">as</span> <span class="nn">pd</span>
<span class="kn">import</span> <span class="nn">matplotlib.pyplot</span> <span class="k">as</span> <span class="nn">plt</span>
<span class="o">%</span><span class="k">matplotlib</span> inline
</pre></div>

</div>
</div>
</div>

</div>
<div class="cell border-box-sizing code_cell rendered">
<div class="input">
<div class="prompt input_prompt">In&nbsp;[47]:</div>
<div class="inner_cell">
    <div class="input_area">
<div class=" highlight hl-ipython3"><pre><span></span><span class="n">rand1</span> <span class="o">=</span> <span class="n">np</span><span class="o">.</span><span class="n">random</span><span class="o">.</span><span class="n">binomial</span><span class="p">(</span><span class="mi">50</span><span class="p">,</span> <span class="mf">0.5</span><span class="p">,</span> <span class="mi">100</span><span class="p">)</span>
<span class="n">plt</span><span class="o">.</span><span class="n">hist</span><span class="p">(</span><span class="n">rand1</span><span class="p">)</span>
</pre></div>

</div>
</div>
</div>

<div class="output_wrapper">
<div class="output">


<div class="output_area">

<div class="prompt output_prompt">Out[47]:</div>




<div class="output_text output_subarea output_execute_result">
<pre>(array([ 1.,  4.,  6., 11., 22., 17., 16., 16.,  5.,  2.]),
 array([15. , 16.9, 18.8, 20.7, 22.6, 24.5, 26.4, 28.3, 30.2, 32.1, 34. ]),
 &lt;a list of 10 Patch objects&gt;)</pre>
</div>

</div>

<div class="output_area">

<div class="prompt"></div>




<div class="output_png output_subarea ">
<img src="data:image/png;base64,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
"
>
</div>

</div>

</div>
</div>

</div>
<div class="cell border-box-sizing code_cell rendered">
<div class="input">
<div class="prompt input_prompt">In&nbsp;[46]:</div>
<div class="inner_cell">
    <div class="input_area">
<div class=" highlight hl-ipython3"><pre><span></span><span class="n">plt</span><span class="o">.</span><span class="n">hist</span><span class="p">(</span><span class="n">rand1</span><span class="p">,</span> <span class="n">bins</span><span class="o">=</span><span class="mi">20</span><span class="p">,</span> <span class="n">color</span><span class="o">=</span><span class="s1">&#39;c&#39;</span><span class="p">)</span>
<span class="n">plt</span><span class="o">.</span><span class="n">axvline</span><span class="p">(</span><span class="n">rand1</span><span class="o">.</span><span class="n">mean</span><span class="p">(),</span> <span class="n">color</span><span class="o">=</span><span class="s1">&#39;b&#39;</span><span class="p">,</span> <span class="n">linestyle</span><span class="o">=</span><span class="s1">&#39;solid&#39;</span><span class="p">,</span> <span class="n">linewidth</span><span class="o">=</span><span class="mi">2</span><span class="p">)</span>
<span class="n">plt</span><span class="o">.</span><span class="n">axvline</span><span class="p">(</span><span class="n">rand1</span><span class="o">.</span><span class="n">mean</span><span class="p">()</span> <span class="o">+</span> <span class="n">rand1</span><span class="o">.</span><span class="n">std</span><span class="p">(),</span> <span class="n">color</span><span class="o">=</span><span class="s1">&#39;b&#39;</span><span class="p">,</span> <span class="n">linestyle</span><span class="o">=</span><span class="s1">&#39;dashed&#39;</span><span class="p">,</span> <span class="n">linewidth</span><span class="o">=</span><span class="mi">2</span><span class="p">)</span>
<span class="n">plt</span><span class="o">.</span><span class="n">axvline</span><span class="p">(</span><span class="n">rand1</span><span class="o">.</span><span class="n">mean</span><span class="p">()</span> <span class="o">-</span> <span class="n">rand1</span><span class="o">.</span><span class="n">std</span><span class="p">(),</span> <span class="n">color</span><span class="o">=</span><span class="s1">&#39;b&#39;</span><span class="p">,</span> <span class="n">linestyle</span><span class="o">=</span><span class="s1">&#39;dashed&#39;</span><span class="p">,</span> <span class="n">linewidth</span><span class="o">=</span><span class="mi">2</span><span class="p">)</span>
</pre></div>

</div>
</div>
</div>

<div class="output_wrapper">
<div class="output">


<div class="output_area">

<div class="prompt output_prompt">Out[46]:</div>




<div class="output_text output_subarea output_execute_result">
<pre>&lt;matplotlib.lines.Line2D at 0x11d67e9b0&gt;</pre>
</div>

</div>

<div class="output_area">

<div class="prompt"></div>




<div class="output_png output_subarea ">
<img src="data:image/png;base64,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
"
>
</div>

</div>

</div>
</div>

</div>
<div class="cell border-box-sizing code_cell rendered">
<div class="input">
<div class="prompt input_prompt">In&nbsp;[&nbsp;]:</div>
<div class="inner_cell">
    <div class="input_area">
<div class=" highlight hl-ipython3"><pre><span></span><span class="c1"># A binomial distribution is different from a normal distribution. </span>
<span class="c1">#A binomial distribution is discrete. There are only two possible outcomes,</span>
<span class="c1">#success and failure. With 100 repetitions and a propability of 0.5 the Mean is 50 the descriptive statistics prove useful</span>
<span class="c1"># it looks like apporx 67% of the data falss within one standard deviation of the mean. </span>
<span class="c1">#There are two peaks which cluster around the mean.  </span>
</pre></div>

</div>
</div>
</div>

</div>
<div class="cell border-box-sizing code_cell rendered">
<div class="input">
<div class="prompt input_prompt">In&nbsp;[29]:</div>
<div class="inner_cell">
    <div class="input_area">
<div class=" highlight hl-ipython3"><pre><span></span><span class="n">logistic</span> <span class="o">=</span> <span class="n">np</span><span class="o">.</span><span class="n">random</span><span class="o">.</span><span class="n">logistic</span><span class="p">(</span><span class="mi">0</span><span class="p">,</span> <span class="mi">1</span><span class="p">,</span> <span class="mi">100</span><span class="p">)</span>
<span class="n">plt</span><span class="o">.</span><span class="n">hist</span><span class="p">(</span><span class="n">logistic</span><span class="p">)</span>
</pre></div>

</div>
</div>
</div>

<div class="output_wrapper">
<div class="output">


<div class="output_area">

<div class="prompt output_prompt">Out[29]:</div>




<div class="output_text output_subarea output_execute_result">
<pre>(array([ 3.,  3.,  9., 22., 17., 18., 12.,  8.,  4.,  4.]),
 array([-3.51212932, -2.74514399, -1.97815866, -1.21117334, -0.44418801,
         0.32279732,  1.08978265,  1.85676798,  2.62375331,  3.39073864,
         4.15772397]),
 &lt;a list of 10 Patch objects&gt;)</pre>
</div>

</div>

<div class="output_area">

<div class="prompt"></div>




<div class="output_png output_subarea ">
<img src="data:image/png;base64,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
"
>
</div>

</div>

</div>
</div>

</div>
<div class="cell border-box-sizing code_cell rendered">
<div class="input">
<div class="prompt input_prompt">In&nbsp;[37]:</div>
<div class="inner_cell">
    <div class="input_area">
<div class=" highlight hl-ipython3"><pre><span></span><span class="n">plt</span><span class="o">.</span><span class="n">hist</span><span class="p">(</span><span class="n">logistic</span><span class="p">,</span> <span class="n">bins</span><span class="o">=</span><span class="mi">30</span><span class="p">,</span> <span class="n">color</span><span class="o">=</span><span class="s1">&#39;c&#39;</span><span class="p">)</span>
<span class="n">plt</span><span class="o">.</span><span class="n">axvline</span><span class="p">(</span><span class="n">logistic</span><span class="o">.</span><span class="n">mean</span><span class="p">(),</span> <span class="n">color</span><span class="o">=</span><span class="s1">&#39;b&#39;</span><span class="p">,</span> <span class="n">linestyle</span><span class="o">=</span><span class="s1">&#39;solid&#39;</span><span class="p">,</span> <span class="n">linewidth</span><span class="o">=</span><span class="mi">2</span><span class="p">)</span>
<span class="n">plt</span><span class="o">.</span><span class="n">axvline</span><span class="p">(</span><span class="n">logistic</span><span class="o">.</span><span class="n">mean</span><span class="p">()</span> <span class="o">+</span> <span class="n">logistic</span><span class="o">.</span><span class="n">std</span><span class="p">(),</span> <span class="n">color</span><span class="o">=</span><span class="s1">&#39;b&#39;</span><span class="p">,</span> <span class="n">linestyle</span><span class="o">=</span><span class="s1">&#39;dashed&#39;</span><span class="p">,</span> <span class="n">linewidth</span><span class="o">=</span><span class="mi">2</span><span class="p">)</span>
<span class="n">plt</span><span class="o">.</span><span class="n">axvline</span><span class="p">(</span><span class="n">logistic</span><span class="o">.</span><span class="n">mean</span><span class="p">()</span> <span class="o">-</span> <span class="n">logistic</span><span class="o">.</span><span class="n">std</span><span class="p">(),</span> <span class="n">color</span><span class="o">=</span><span class="s1">&#39;b&#39;</span><span class="p">,</span> <span class="n">linestyle</span><span class="o">=</span><span class="s1">&#39;dashed&#39;</span><span class="p">,</span> <span class="n">linewidth</span><span class="o">=</span><span class="mi">2</span><span class="p">)</span>
</pre></div>

</div>
</div>
</div>

<div class="output_wrapper">
<div class="output">


<div class="output_area">

<div class="prompt output_prompt">Out[37]:</div>




<div class="output_text output_subarea output_execute_result">
<pre>&lt;matplotlib.lines.Line2D at 0x11ce9e9b0&gt;</pre>
</div>

</div>

<div class="output_area">

<div class="prompt"></div>




<div class="output_png output_subarea ">
<img src="data:image/png;base64,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
"
>
</div>

</div>

</div>
</div>

</div>
<div class="cell border-box-sizing code_cell rendered">
<div class="input">
<div class="prompt input_prompt">In&nbsp;[32]:</div>
<div class="inner_cell">
    <div class="input_area">
<div class=" highlight hl-ipython3"><pre><span></span><span class="n">beta</span> <span class="o">=</span> <span class="n">np</span><span class="o">.</span><span class="n">random</span><span class="o">.</span><span class="n">beta</span><span class="p">(</span><span class="mi">10</span><span class="p">,</span> <span class="mi">20</span><span class="p">,</span> <span class="mi">100</span><span class="p">)</span>
<span class="n">plt</span><span class="o">.</span><span class="n">hist</span><span class="p">(</span><span class="n">beta</span><span class="p">)</span>
</pre></div>

</div>
</div>
</div>

<div class="output_wrapper">
<div class="output">


<div class="output_area">

<div class="prompt output_prompt">Out[32]:</div>




<div class="output_text output_subarea output_execute_result">
<pre>(array([ 2., 15., 16., 16., 17., 15.,  9.,  6.,  3.,  1.]),
 array([0.15041572, 0.19327522, 0.23613471, 0.2789942 , 0.32185369,
        0.36471318, 0.40757267, 0.45043216, 0.49329165, 0.53615114,
        0.57901064]),
 &lt;a list of 10 Patch objects&gt;)</pre>
</div>

</div>

<div class="output_area">

<div class="prompt"></div>




<div class="output_png output_subarea ">
<img src="data:image/png;base64,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
"
>
</div>

</div>

</div>
</div>

</div>
<div class="cell border-box-sizing code_cell rendered">
<div class="input">
<div class="prompt input_prompt">In&nbsp;[38]:</div>
<div class="inner_cell">
    <div class="input_area">
<div class=" highlight hl-ipython3"><pre><span></span><span class="n">plt</span><span class="o">.</span><span class="n">hist</span><span class="p">(</span><span class="n">beta</span><span class="p">,</span> <span class="n">bins</span><span class="o">=</span><span class="mi">20</span><span class="p">,</span> <span class="n">color</span><span class="o">=</span><span class="s1">&#39;c&#39;</span><span class="p">)</span>
<span class="n">plt</span><span class="o">.</span><span class="n">axvline</span><span class="p">(</span><span class="n">beta</span><span class="o">.</span><span class="n">mean</span><span class="p">(),</span> <span class="n">color</span><span class="o">=</span><span class="s1">&#39;b&#39;</span><span class="p">,</span> <span class="n">linestyle</span><span class="o">=</span><span class="s1">&#39;solid&#39;</span><span class="p">,</span> <span class="n">linewidth</span><span class="o">=</span><span class="mi">2</span><span class="p">)</span>
<span class="n">plt</span><span class="o">.</span><span class="n">axvline</span><span class="p">(</span><span class="n">beta</span><span class="o">.</span><span class="n">mean</span><span class="p">()</span> <span class="o">+</span> <span class="n">beta</span><span class="o">.</span><span class="n">std</span><span class="p">(),</span> <span class="n">color</span><span class="o">=</span><span class="s1">&#39;b&#39;</span><span class="p">,</span> <span class="n">linestyle</span><span class="o">=</span><span class="s1">&#39;dashed&#39;</span><span class="p">,</span> <span class="n">linewidth</span><span class="o">=</span><span class="mi">2</span><span class="p">)</span>
<span class="n">plt</span><span class="o">.</span><span class="n">axvline</span><span class="p">(</span><span class="n">beta</span><span class="o">.</span><span class="n">mean</span><span class="p">()</span> <span class="o">-</span> <span class="n">beta</span><span class="o">.</span><span class="n">std</span><span class="p">(),</span> <span class="n">color</span><span class="o">=</span><span class="s1">&#39;b&#39;</span><span class="p">,</span> <span class="n">linestyle</span><span class="o">=</span><span class="s1">&#39;dashed&#39;</span><span class="p">,</span> <span class="n">linewidth</span><span class="o">=</span><span class="mi">2</span><span class="p">)</span>
</pre></div>

</div>
</div>
</div>

<div class="output_wrapper">
<div class="output">


<div class="output_area">

<div class="prompt output_prompt">Out[38]:</div>




<div class="output_text output_subarea output_execute_result">
<pre>&lt;matplotlib.lines.Line2D at 0x11cf89e48&gt;</pre>
</div>

</div>

<div class="output_area">

<div class="prompt"></div>




<div class="output_png output_subarea ">
<img src="data:image/png;base64,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
"
>
</div>

</div>

</div>
</div>

</div>
<div class="cell border-box-sizing code_cell rendered">
<div class="input">
<div class="prompt input_prompt">In&nbsp;[36]:</div>
<div class="inner_cell">
    <div class="input_area">
<div class=" highlight hl-ipython3"><pre><span></span><span class="n">lognormal</span> <span class="o">=</span> <span class="n">np</span><span class="o">.</span><span class="n">random</span><span class="o">.</span><span class="n">lognormal</span><span class="p">(</span><span class="mi">0</span><span class="p">,</span> <span class="mi">1</span><span class="p">,</span> <span class="mi">100</span><span class="p">)</span>
<span class="n">plt</span><span class="o">.</span><span class="n">hist</span><span class="p">(</span><span class="n">lognormal</span><span class="p">)</span>
</pre></div>

</div>
</div>
</div>

<div class="output_wrapper">
<div class="output">


<div class="output_area">

<div class="prompt output_prompt">Out[36]:</div>




<div class="output_text output_subarea output_execute_result">
<pre>(array([70., 20.,  6.,  1.,  0.,  1.,  1.,  0.,  0.,  1.]),
 array([ 0.05114315,  1.26837765,  2.48561216,  3.70284667,  4.92008117,
         6.13731568,  7.35455018,  8.57178469,  9.7890192 , 11.0062537 ,
        12.22348821]),
 &lt;a list of 10 Patch objects&gt;)</pre>
</div>

</div>

<div class="output_area">

<div class="prompt"></div>




<div class="output_png output_subarea ">
<img src="data:image/png;base64,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
"
>
</div>

</div>

</div>
</div>

</div>
<div class="cell border-box-sizing code_cell rendered">
<div class="input">
<div class="prompt input_prompt">In&nbsp;[39]:</div>
<div class="inner_cell">
    <div class="input_area">
<div class=" highlight hl-ipython3"><pre><span></span><span class="n">plt</span><span class="o">.</span><span class="n">hist</span><span class="p">(</span><span class="n">lognormal</span><span class="p">,</span> <span class="n">bins</span><span class="o">=</span><span class="mi">20</span><span class="p">,</span> <span class="n">color</span><span class="o">=</span><span class="s1">&#39;c&#39;</span><span class="p">)</span>
<span class="n">plt</span><span class="o">.</span><span class="n">axvline</span><span class="p">(</span><span class="n">lognormal</span><span class="o">.</span><span class="n">mean</span><span class="p">(),</span> <span class="n">color</span><span class="o">=</span><span class="s1">&#39;b&#39;</span><span class="p">,</span> <span class="n">linestyle</span><span class="o">=</span><span class="s1">&#39;solid&#39;</span><span class="p">,</span> <span class="n">linewidth</span><span class="o">=</span><span class="mi">2</span><span class="p">)</span>
<span class="n">plt</span><span class="o">.</span><span class="n">axvline</span><span class="p">(</span><span class="n">lognormal</span><span class="o">.</span><span class="n">mean</span><span class="p">()</span> <span class="o">+</span> <span class="n">lognormal</span><span class="o">.</span><span class="n">std</span><span class="p">(),</span> <span class="n">color</span><span class="o">=</span><span class="s1">&#39;b&#39;</span><span class="p">,</span> <span class="n">linestyle</span><span class="o">=</span><span class="s1">&#39;dashed&#39;</span><span class="p">,</span> <span class="n">linewidth</span><span class="o">=</span><span class="mi">2</span><span class="p">)</span>
<span class="n">plt</span><span class="o">.</span><span class="n">axvline</span><span class="p">(</span><span class="n">lognormal</span><span class="o">.</span><span class="n">mean</span><span class="p">()</span> <span class="o">-</span> <span class="n">lognormal</span><span class="o">.</span><span class="n">std</span><span class="p">(),</span> <span class="n">color</span><span class="o">=</span><span class="s1">&#39;b&#39;</span><span class="p">,</span> <span class="n">linestyle</span><span class="o">=</span><span class="s1">&#39;dashed&#39;</span><span class="p">,</span> <span class="n">linewidth</span><span class="o">=</span><span class="mi">2</span><span class="p">)</span>
</pre></div>

</div>
</div>
</div>

<div class="output_wrapper">
<div class="output">


<div class="output_area">

<div class="prompt output_prompt">Out[39]:</div>




<div class="output_text output_subarea output_execute_result">
<pre>&lt;matplotlib.lines.Line2D at 0x11d075940&gt;</pre>
</div>

</div>

<div class="output_area">

<div class="prompt"></div>




<div class="output_png output_subarea ">
<img src="data:image/png;base64,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
"
>
</div>

</div>

</div>
</div>

</div>
<div class="cell border-box-sizing code_cell rendered">
<div class="input">
<div class="prompt input_prompt">In&nbsp;[40]:</div>
<div class="inner_cell">
    <div class="input_area">
<div class=" highlight hl-ipython3"><pre><span></span><span class="n">binomial</span> <span class="o">=</span> <span class="n">np</span><span class="o">.</span><span class="n">random</span><span class="o">.</span><span class="n">binomial</span><span class="p">(</span><span class="mi">50</span><span class="p">,</span> <span class="o">.</span><span class="mi">5</span><span class="p">,</span> <span class="mi">100</span><span class="p">)</span>
<span class="n">plt</span><span class="o">.</span><span class="n">hist</span><span class="p">(</span><span class="n">binomial</span><span class="p">)</span>
</pre></div>

</div>
</div>
</div>

<div class="output_wrapper">
<div class="output">


<div class="output_area">

<div class="prompt output_prompt">Out[40]:</div>




<div class="output_text output_subarea output_execute_result">
<pre>(array([ 2.,  5.,  4., 24., 14., 16., 16., 14.,  4.,  1.]),
 array([16. , 17.8, 19.6, 21.4, 23.2, 25. , 26.8, 28.6, 30.4, 32.2, 34. ]),
 &lt;a list of 10 Patch objects&gt;)</pre>
</div>

</div>

<div class="output_area">

<div class="prompt"></div>




<div class="output_png output_subarea ">
<img src="data:image/png;base64,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
"
>
</div>

</div>

</div>
</div>

</div>
<div class="cell border-box-sizing code_cell rendered">
<div class="input">
<div class="prompt input_prompt">In&nbsp;[41]:</div>
<div class="inner_cell">
    <div class="input_area">
<div class=" highlight hl-ipython3"><pre><span></span><span class="n">plt</span><span class="o">.</span><span class="n">hist</span><span class="p">(</span><span class="n">binomial</span><span class="p">,</span> <span class="n">bins</span><span class="o">=</span><span class="mi">20</span><span class="p">,</span> <span class="n">color</span><span class="o">=</span><span class="s1">&#39;c&#39;</span><span class="p">)</span>
<span class="n">plt</span><span class="o">.</span><span class="n">axvline</span><span class="p">(</span><span class="n">binomial</span><span class="o">.</span><span class="n">mean</span><span class="p">(),</span> <span class="n">color</span><span class="o">=</span><span class="s1">&#39;b&#39;</span><span class="p">,</span> <span class="n">linestyle</span><span class="o">=</span><span class="s1">&#39;solid&#39;</span><span class="p">,</span> <span class="n">linewidth</span><span class="o">=</span><span class="mi">2</span><span class="p">)</span>
<span class="n">plt</span><span class="o">.</span><span class="n">axvline</span><span class="p">(</span><span class="n">binomial</span><span class="o">.</span><span class="n">mean</span><span class="p">()</span> <span class="o">+</span> <span class="n">binomial</span><span class="o">.</span><span class="n">std</span><span class="p">(),</span> <span class="n">color</span><span class="o">=</span><span class="s1">&#39;b&#39;</span><span class="p">,</span> <span class="n">linestyle</span><span class="o">=</span><span class="s1">&#39;dashed&#39;</span><span class="p">,</span> <span class="n">linewidth</span><span class="o">=</span><span class="mi">2</span><span class="p">)</span>
<span class="n">plt</span><span class="o">.</span><span class="n">axvline</span><span class="p">(</span><span class="n">binomial</span><span class="o">.</span><span class="n">mean</span><span class="p">()</span> <span class="o">-</span> <span class="n">binomial</span><span class="o">.</span><span class="n">std</span><span class="p">(),</span> <span class="n">color</span><span class="o">=</span><span class="s1">&#39;b&#39;</span><span class="p">,</span> <span class="n">linestyle</span><span class="o">=</span><span class="s1">&#39;dashed&#39;</span><span class="p">,</span> <span class="n">linewidth</span><span class="o">=</span><span class="mi">2</span><span class="p">)</span>
</pre></div>

</div>
</div>
</div>

<div class="output_wrapper">
<div class="output">


<div class="output_area">

<div class="prompt output_prompt">Out[41]:</div>




<div class="output_text output_subarea output_execute_result">
<pre>&lt;matplotlib.lines.Line2D at 0x11d234400&gt;</pre>
</div>

</div>

<div class="output_area">

<div class="prompt"></div>




<div class="output_png output_subarea ">
<img src="data:image/png;base64,iVBORw0KGgoAAAANSUhEUgAAAXQAAAD8CAYAAABn919SAAAABHNCSVQICAgIfAhkiAAAAAlwSFlzAAALEgAACxIB0t1+/AAAADl0RVh0U29mdHdhcmUAbWF0cGxvdGxpYiB2ZXJzaW9uIDIuMi4yLCBodHRwOi8vbWF0cGxvdGxpYi5vcmcvhp/UCwAAEtFJREFUeJzt3X+MJ3V9x/HXq3f8UKHh6K3mELYHBK6lxMrdt8ZKtQcInqBgm6bhWg1VyqqpVmuJYkiKbdLEH5TapK2w6BVSCWoRK1ZULpQNbcIPd0+Qw+M4RIInJ7eEGqG20tN3/5i5dl3muz++M/Od3fc+H8nku9/5sfPa+cy+d/bznR+OCAEAlr+f6zoAAKAZFHQASIKCDgBJUNABIAkKOgAkQUEHgCQo6ACQBAUdAJKgoANAEquHubK1a9fG+vXrh7lKDGhqqnjdtKnbHMPCz4ulbGpq6qmIGJlvPg/z0v9erxeTk5NDWx8GZxevK+XOEPy8WMpsT0VEb7756HIBgCQo6ACQBAUdAJKgoANAEkM9ywXLBx+W5Ub75jTvEbrtbbb32945a/y7be+2/aDtj7YXEQCwEAvpcrlO0paZI2yfIekCSS+LiF+RdGXz0QAAizFvQY+IOyU9PWv0OyV9OCJ+XM6zv4Vs6NCmTVx0khntm9OgfegnS3q17b+U9N+SLo2IrzcXC13bsaPrBGgT7ZvToAV9taQ1kl4p6dckfc72CVFx2antMUljkjQ6OjpoTiwjnpgYeNnYvLmxHMBKM+hpi3sl3RyFeyX9VNLaqhkjYjwiehHRGxmZ91YEAIABDVrQ/1nSmZJk+2RJh0p6qqlQAIDFm7fLxfaNkjZLWmt7r6QrJG2TtK08lfE5SRdVdbcAAIZn3oIeEVv7THpzw1kAADVwpSgqXXJJ1wnQJto3Jwo6Ko2Pd50AbaJ9c+LmXACQBAUdlaam/v8xZciH9s2JLhdU6pUPu+LcpZxo35w4QgeAJCjoAJAEBR0AkqCgA0ASFHQASIKCDgBJcNoiKk1Odp0AbaJ9c6KgoxKPJ8uN9s2JLhcASIKCjkpjY8WAnGjfnDzM51L0er2YpPNuWbCL10F2j+X4TNE6P+9ytNJ+3uXO9lRE9OabjyN0AEhi3oJue5vt/eXj5mZPu9R22K58QDQAYHgWcoR+naQts0faPk7S2ZIebzgTAGAA8xb0iLhT0tMVk/5a0vsl0QsHAEvAQH3ots+X9L2IuL/hPACAAS36wiLbL5R0uaRzFjj/mKQxSRodHV3s6tCRjRu7We9yPENmOeqqfdGuQa4UPVHS8ZLud3Hu07GSdth+RUR8f/bMETEuaVwqTluskRVDxOPJcqN9c1p0QY+IByS9+OB7249J6kXEUw3mAgAs0kJOW7xR0l2SNtjea/vi9mMBABZr3iP0iNg6z/T1jaXBksGVhLnRvjlxpSgAJEFBB4AkKOgAkAQFHQCSoKADQBIUdABIgmeKotI113SdAG2ifXOioKMSjyfLjfbNiS4XAEiCgo5K4+PFgJxo35x4SDQqdfWQ6Drq3D53pV0Kv9J+3uWOh0QDwApDQQeAJCjoAJAEBR0AkqCgA0ASFHQASGIhj6DbZnu/7Z0zxn3M9kO2v2n7C7aPajcmhi2CU9oyo31zWsgR+nWStswat13SqRHxMkkPS/pgw7kAAIs0b0GPiDslPT1r3G0RcaB8e7ekY1vIBgBYhCb60N8m6Sv9Jtoesz1pe3J6erqB1WEYNm0qBuRE++ZU626Lti+XdEDSDf3miYhxSeNScel/nfVheHbs6DoB2kT75jRwQbd9kaQ3SDorhnlDGABApYEKuu0tkj4g6Tcj4kfNRgIADGIhpy3eKOkuSRts77V9saS/lXSkpO2277N9dcs5AQDzmPcIPSK2Voz+VAtZAAA1cKUoACTBM0VR6ZJLuk6ANtG+OVHQUYnHk+VG++ZElwsAJEFBR6WpqWJATrRvTnS5oFKvfBwtl4zlRPvmxBE6ACTBETrQMU9MDLxsbN7cWA4sfxyhA0ASFHQASIKCDgBJUNABIAk+FEWlycmuE6BNtG9OFHRU4vFkudG+OdHlAgBJUNBRaWysGJAT7ZsTBR2Vrr22GJAT7ZvTQh5Bt832fts7Z4w72vZ223vK1zXtxgQAzGchR+jXSdoya9xlkm6PiJMk3V6+BwB0aN6CHhF3Snp61ugLJF1ffn29pDc1nAsAsEiD9qG/JCL2SVL5+uJ+M9oesz1pe3J6enrA1QEA5tP6h6IRMR4RvYjojYyMtL06AFixBr2w6Enb6yJin+11kvY3GQrd27ix6wRoE+2b06AF/RZJF0n6cPn6xcYSYUng8WS50b45LeS0xRsl3SVpg+29ti9WUcjPtr1H0tnlewBAh+Y9Qo+IrX0mndVwFgBADVwpikp2MSAn2jcnCjoAJEFBB4AkKOgAkAQFHQCSoKADQBIUdABIgmeKotI113SdAG2ifXOioKMSjyfLjfbNiS4XAEiCgo5K4+PFgJxo35zockGlt7+9eOVf85xo35w4QgeAJCjoAJAEBR0AkqCgA0ASFHQASKJWQbf9J7YftL3T9o22D28qGABgcQYu6LZfKumPJfUi4lRJqyRd2FQwdCuiGJAT7ZtT3S6X1ZJeYHu1pBdKeqJ+JADAIAa+sCgivmf7SkmPS/ovSbdFxG2z57M9JmlMkkZHRwddHYbIExNdR+jMSv7ZsfzV6XJZI+kCScdLOkbSi2y/efZ8ETEeEb2I6I2MjAyeFMM1tqkYkNKmTcWAXOpc+v9aSd+JiGlJsn2zpFdJ+nQTwdCxPUd2nQAt2rGj6wRoQ50+9MclvdL2C21b0lmSdjUTCwCwWAMX9Ii4R9JNknZIeqD8Xty/DQA6UutuixFxhaQrGsoCAKiBK0UBIAkKOgAkwQMuUO08rhHL7JJLuk6ANlDQUe3Sh7tOgBbx+Lmc6HIBgCQo6Ki2+4hiQEpTU8WAXOhyQbV39IrXOyY6jYF29Mrm5Y6LuVDQgRWsq5uRxebNnaw3O7pcACAJCjoAJEFBB4AkKOgAkAQFHQCS4CwXVLt6susEaNHkpNSbpI2zoaCj2oZnu06AFm3aJOkZ2jgbulwAIIlaBd32UbZvsv2Q7V22f72pYOjYlScXA1IaGxPtm1DdI/S/kfTViPglSb8qnimax5ePKQakdO21on0TGrgP3fbPS3qNpD+QpIh4TtJzzcQCACxWnSP0EyRNS/oH29+w/UnbL2ooFwBgkeoU9NWSNkr6REScJuk/JV02eybbY7YnbU9OT0/XWB0AYC51CvpeSXsj4p7y/U0qCvzPiIjxiOhFRG9kZKTG6gAAcxm4oEfE9yV91/aGctRZkr7VSCoAwKLVvbDo3ZJusH2opEclvbV+JCwJJz3TdQK0aONGaccztHE2tQp6RNwnqddQFiwl4zyfLLOpKckTtHE2XCkKAElQ0AEgCQo6qp2xuRiQki3aNyEKOgAkQUEHgCQo6ACQBAUdAJKgoANAEjyCDljGPDEx4JKbG0yBpYKCjmrv2911ArSJ9k2Jgo5qb9zXdQK0ifZNiT50AEiCgo5qX1pXDMiJ9k2JLhdUu6q8zT3/mudE+6bEEToAJEFBB4AkKOgAkETtgm57le1v2P6XJgIBAAbTxBH6eyTtauD7AABqqFXQbR8r6TxJn2wmDgBgUHVPW/y4pPdLOrKBLFhK7pjoOgHaRPumNPARuu03SNofEXM+Otz2mO1J25PT09ODrg4AMI86XS6nSzrf9mOSPiPpTNufnj1TRIxHRC8ieiMjIzVWBwCYy8AFPSI+GBHHRsR6SRdK+teIeHNjydCtsU3FgJxo35S49B/V9vCxSGq0b0qNFPSImJA00cT3AgAMhitFASAJCjoAJEFBB4AkKOgAkARnuaDaeU90nQBton1ToqCj2qUPd50AbaJ9U6LLBQCSoKCj2u4jigE50b4p0eXSMk9MdLLe2Ly53jd4R6945a58OdG+KXGEDgBJUNABIAkKOgAkQUEHgCQo6ACQBAUdAJLgtEVUu3qy6wRoE+2bEgUd1TY823UCtIn2TWngLhfbx9m+w/Yu2w/afk+TwQAAi1PnCP2ApD+NiB22j5Q0ZXt7RHyroWzo0pUnF6/cxCkn2jelgY/QI2JfROwov35G0i5JL20qGDr25WOKATnRvik1cpaL7fWSTpN0TxPfDwCweLU/FLV9hKTPS3pvRPywYvqYpDFJGh0dHXw9NW5yVfdGVV3dYAvIatnetG6Jq3WEbvsQFcX8hoi4uWqeiBiPiF5E9EZGRuqsDgAwhzpnuVjSpyTtioirmosEABhEnSP00yW9RdKZtu8rh3MbygUAWKSB+9Aj4t8lucEsWEpOeqbrBGgT7ZsSV4qi2vhU1wnQJto3JW7OBQBJUNABIAkKOqqdsbkYkBPtmxIFHQCSoKADQBIUdABIgoIOAElwHnpS3FAMaFbd36lh3BiMI3QASIIjdFR73+6uE6BNtG9KFHRUe+O+rhOgTbRvSnS5AEASFHRU+9K6YkBOtG9KdLmg2lUbilf+Nc+J9k2JI3QASIKCDgBJ1H1I9Bbbu20/YvuypkIBABavzkOiV0n6O0mvl3SKpK22T2kqGABgceocob9C0iMR8WhEPCfpM5IuaCYWAGCx6hT0l0r67oz3e8txAIAO1Dlt0RXj4nkz2WOSxsq3z9oe+jXHVUHnsFbSU60EadZwcp5R+zsMbXsusp1nK3LW/3mHoblt2u7Pu+R+l/rsI0PJWXP//MWFzFSnoO+VdNyM98dKemL2TBExLmm8xnqGyvZkRPS6zjEfcjZrueSUlk9Wcg5fnS6Xr0s6yfbxtg+VdKGkW5qJBQBYrIGP0CPigO13SfqapFWStkXEg40lAwAsSq1L/yPiVkm3NpRlqVgu3UPkbNZyySktn6zkHDJHPO9zTADAMsSl/wCQxIoo6La32d5ve+eMcZ+1fV85PGb7vj7LPmb7gXK+yZZzHmf7Dtu7bD9o+z3l+KNtb7e9p3xd02f5i8p59ti+qKOsH7P9kO1v2v6C7aP6LD+U7TpHzg/Z/t6MfeDcPssP5fYWc+Rcivvp4bbvtX1/mfXPy/HH276n3P8+W54sUbX8B8vtudv26zrIeUO57p1lbTikz/I/mbHtl8cJHxGRfpD0GkkbJe3sM/2vJP1Zn2mPSVo7pJzrJG0svz5S0sMqbqvwUUmXleMvk/SRimWPlvRo+bqm/HpNB1nPkbS6HP+RqqzD3K5z5PyQpEvnWXaVpG9LOkHSoZLul3TKMHMu0f3Uko4ovz5E0j2SXinpc5IuLMdfLemdFcueUm7HwyQdX27fVUPOeW45zZJurMpZLvPsMLZnk8OKOEKPiDslPV01zbYl/a6Khu1UROyLiB3l189I2qXi6tsLJF1fzna9pDdVLP46Sdsj4umI+A9J2yVtGXbWiLgtIg6Us92t4vqEzsyxTRdiaLe3mC/nEttPIyKeLd8eUg4h6UxJN5Xj++2nF0j6TET8OCK+I+kRFdt5aDkj4tZyWki6Vx3vo01aEQV9Hq+W9GRE7OkzPSTdZnuqvOp1KGyvl3SaiqOKl0TEPqn4xZf04opFOrsVw6ysM71N0lf6LDb07VqR811l19C2Pt1YnWzTPttzSe2ntleV3T/7VRw8fFvSD2b8Me+3rYa6TWfnjIh7Zkw7RNJbJH21z+KH2560fbftqj9OSw4FXdqquY96To+IjSruKvlHtl/TdiDbR0j6vKT3RsQPF7pYxbjWT2Hql9X25ZIOSLqhz6JD3a4VOT8h6URJL5e0T0V3xvMWqxjX6jado+2X1H4aET+JiJerOLp9haRfrpqtYtxQt+nsnLZPnTH57yXdGRH/1mfx0SiuIP09SR+3fWJbOZuyogu67dWSflvSZ/vNExFPlK/7JX1BLf17OCPTISp+oW+IiJvL0U/aXldOX6fiaGO2Bd2KYQhZVX4g+wZJv1/+W/s8w9yuVTkj4snyl/2nkq7ts/6hbtM5tueS209nrPcHkiZU9E0fVWaV+m+roe+n0s/k3CJJtq+QNCLpfXMsc3CbPloue1rbOeta0QVd0mslPRQRe6sm2n6R7SMPfq3iA7+dVfM2oewn/ZSkXRFx1YxJt0g6eNbKRZK+WLH41ySdY3tN2X1wTjluqFltb5H0AUnnR8SP+iw7tO06R86ZT0j+rT7rH9rtLeZoe2np7acjLs9esv2CMt8uSXdI+p1ytn776S2SLrR9mO3jJZ2koh97WDkfsv2HKj5z2lr+Qa9ado3tw8qv10o6XdK32sjZqK4/lR3GoOJf1X2S/kfFEcLF5fjrJL1j1rzHSLq1/PoEFZ/I3y/pQUmXt5zzN1T8+/lNSfeVw7mSfkHS7ZL2lK9Hl/P3JH1yxvJvU/Eh0yOS3tpR1kdU9JEeHHd1l9t1jpz/KOmBcvwtktbNzlm+P1fFGSff7iLnEt1PXybpG2XWnSrPvClz3FvuA/8k6bBy/PmS/mLG8peX23O3pNd3kPNAuf6D2/ng+P/7fZL0qnL/uL98vbjNbdrUwJWiAJDESu9yAYA0KOgAkAQFHQCSoKADQBIUdABIgoIOAElQ0AEgCQo6ACTxv406Cm1K71e4AAAAAElFTkSuQmCC
"
>
</div>

</div>

</div>
</div>

</div>
<div class="cell border-box-sizing code_cell rendered">
<div class="input">
<div class="prompt input_prompt">In&nbsp;[43]:</div>
<div class="inner_cell">
    <div class="input_area">
<div class=" highlight hl-ipython3"><pre><span></span><span class="n">wald</span> <span class="o">=</span> <span class="n">np</span><span class="o">.</span><span class="n">random</span><span class="o">.</span><span class="n">wald</span><span class="p">(</span><span class="mi">5</span><span class="p">,</span> <span class="mi">1</span><span class="p">,</span> <span class="mi">100</span><span class="p">)</span>
<span class="n">plt</span><span class="o">.</span><span class="n">hist</span><span class="p">(</span><span class="n">wald</span><span class="p">)</span>
</pre></div>

</div>
</div>
</div>

<div class="output_wrapper">
<div class="output">


<div class="output_area">

<div class="prompt output_prompt">Out[43]:</div>




<div class="output_text output_subarea output_execute_result">
<pre>(array([80.,  6.,  5.,  3.,  1.,  0.,  3.,  1.,  0.,  1.]),
 array([ 0.09646099,  6.21229726, 12.32813353, 18.4439698 , 24.55980607,
        30.67564234, 36.79147861, 42.90731488, 49.02315115, 55.13898742,
        61.25482369]),
 &lt;a list of 10 Patch objects&gt;)</pre>
</div>

</div>

<div class="output_area">

<div class="prompt"></div>




<div class="output_png output_subarea ">
<img src="data:image/png;base64,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
"
>
</div>

</div>

</div>
</div>

</div>
<div class="cell border-box-sizing code_cell rendered">
<div class="input">
<div class="prompt input_prompt">In&nbsp;[44]:</div>
<div class="inner_cell">
    <div class="input_area">
<div class=" highlight hl-ipython3"><pre><span></span><span class="n">plt</span><span class="o">.</span><span class="n">hist</span><span class="p">(</span><span class="n">wald</span><span class="p">,</span> <span class="n">bins</span><span class="o">=</span><span class="mi">20</span><span class="p">,</span> <span class="n">color</span><span class="o">=</span><span class="s1">&#39;c&#39;</span><span class="p">)</span>
<span class="n">plt</span><span class="o">.</span><span class="n">axvline</span><span class="p">(</span><span class="n">wald</span><span class="o">.</span><span class="n">mean</span><span class="p">(),</span> <span class="n">color</span><span class="o">=</span><span class="s1">&#39;b&#39;</span><span class="p">,</span> <span class="n">linestyle</span><span class="o">=</span><span class="s1">&#39;solid&#39;</span><span class="p">,</span> <span class="n">linewidth</span><span class="o">=</span><span class="mi">2</span><span class="p">)</span>
<span class="n">plt</span><span class="o">.</span><span class="n">axvline</span><span class="p">(</span><span class="n">wald</span><span class="o">.</span><span class="n">mean</span><span class="p">()</span> <span class="o">+</span> <span class="n">wald</span><span class="o">.</span><span class="n">std</span><span class="p">(),</span> <span class="n">color</span><span class="o">=</span><span class="s1">&#39;b&#39;</span><span class="p">,</span> <span class="n">linestyle</span><span class="o">=</span><span class="s1">&#39;dashed&#39;</span><span class="p">,</span> <span class="n">linewidth</span><span class="o">=</span><span class="mi">2</span><span class="p">)</span>
<span class="n">plt</span><span class="o">.</span><span class="n">axvline</span><span class="p">(</span><span class="n">wald</span><span class="o">.</span><span class="n">mean</span><span class="p">()</span> <span class="o">-</span> <span class="n">wald</span><span class="o">.</span><span class="n">std</span><span class="p">(),</span> <span class="n">color</span><span class="o">=</span><span class="s1">&#39;b&#39;</span><span class="p">,</span> <span class="n">linestyle</span><span class="o">=</span><span class="s1">&#39;dashed&#39;</span><span class="p">,</span> <span class="n">linewidth</span><span class="o">=</span><span class="mi">2</span><span class="p">)</span>
</pre></div>

</div>
</div>
</div>

<div class="output_wrapper">
<div class="output">


<div class="output_area">

<div class="prompt output_prompt">Out[44]:</div>




<div class="output_text output_subarea output_execute_result">
<pre>&lt;matplotlib.lines.Line2D at 0x11d4c0cf8&gt;</pre>
</div>

</div>

<div class="output_area">

<div class="prompt"></div>




<div class="output_png output_subarea ">
<img src="data:image/png;base64,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
"
>
</div>

</div>

</div>
</div>

</div>
<div class="cell border-box-sizing code_cell rendered">
<div class="input">
<div class="prompt input_prompt">In&nbsp;[48]:</div>
<div class="inner_cell">
    <div class="input_area">
<div class=" highlight hl-ipython3"><pre><span></span><span class="c1"># Generate two normally-distributed variables, one with a mean of 5 and standard deviation of 0.5, </span>
<span class="c1">#and the other with a mean of 10 and standard deviation of 1.</span>

<span class="n">rand1</span> <span class="o">=</span> <span class="n">np</span><span class="o">.</span><span class="n">random</span><span class="o">.</span><span class="n">normal</span><span class="p">(</span><span class="mi">5</span><span class="p">,</span> <span class="mi">0</span><span class="p">,</span> <span class="mi">100</span><span class="p">)</span>
<span class="n">rand2</span> <span class="o">=</span> <span class="n">np</span><span class="o">.</span><span class="n">random</span><span class="o">.</span><span class="n">normal</span><span class="p">(</span><span class="mi">10</span><span class="p">,</span> <span class="mi">1</span><span class="p">,</span> <span class="mi">100</span><span class="p">)</span>

<span class="c1">#Add them together to create a third variable.</span>

<span class="n">rand3</span> <span class="o">=</span> <span class="n">rand1</span> <span class="o">+</span> <span class="n">rand2</span>

<span class="c1">#Graph the third variable using a histogram.</span>
<span class="n">plt</span><span class="o">.</span><span class="n">hist</span><span class="p">(</span><span class="n">rand3</span><span class="p">)</span>
</pre></div>

</div>
</div>
</div>

<div class="output_wrapper">
<div class="output">


<div class="output_area">

<div class="prompt output_prompt">Out[48]:</div>




<div class="output_text output_subarea output_execute_result">
<pre>(array([ 6., 11., 11., 13., 22., 14., 12.,  4.,  5.,  2.]),
 array([13.04788491, 13.51999793, 13.99211095, 14.46422397, 14.93633699,
        15.40845001, 15.88056303, 16.35267605, 16.82478907, 17.29690209,
        17.76901511]),
 &lt;a list of 10 Patch objects&gt;)</pre>
</div>

</div>

<div class="output_area">

<div class="prompt"></div>




<div class="output_png output_subarea ">
<img src="data:image/png;base64,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
"
>
</div>

</div>

</div>
</div>

</div>
<div class="cell border-box-sizing code_cell rendered">
<div class="input">
<div class="prompt input_prompt">In&nbsp;[51]:</div>
<div class="inner_cell">
    <div class="input_area">
<div class=" highlight hl-ipython3"><pre><span></span><span class="c1">#Compute the mean and standard deviation and plot them as vertical lines on the histogram.</span>
<span class="n">plt</span><span class="o">.</span><span class="n">hist</span><span class="p">(</span><span class="n">rand3</span><span class="p">)</span>
<span class="n">plt</span><span class="o">.</span><span class="n">axvline</span><span class="p">(</span><span class="n">rand3</span><span class="o">.</span><span class="n">mean</span><span class="p">(),</span> <span class="n">color</span><span class="o">=</span><span class="s1">&#39;b&#39;</span><span class="p">,</span> <span class="n">linestyle</span><span class="o">=</span><span class="s1">&#39;solid&#39;</span><span class="p">,</span> <span class="n">linewidth</span><span class="o">=</span><span class="mi">2</span><span class="p">)</span>
<span class="n">plt</span><span class="o">.</span><span class="n">axvline</span><span class="p">(</span><span class="n">rand3</span><span class="o">.</span><span class="n">mean</span><span class="p">()</span> <span class="o">+</span> <span class="n">rand3</span><span class="o">.</span><span class="n">std</span><span class="p">(),</span> <span class="n">color</span><span class="o">=</span><span class="s1">&#39;b&#39;</span><span class="p">,</span> <span class="n">linestyle</span><span class="o">=</span><span class="s1">&#39;dashed&#39;</span><span class="p">,</span> <span class="n">linewidth</span><span class="o">=</span><span class="mi">2</span><span class="p">)</span>
<span class="n">plt</span><span class="o">.</span><span class="n">axvline</span><span class="p">(</span><span class="n">rand3</span><span class="o">.</span><span class="n">mean</span><span class="p">()</span> <span class="o">-</span> <span class="n">rand3</span><span class="o">.</span><span class="n">std</span><span class="p">(),</span> <span class="n">color</span><span class="o">=</span><span class="s1">&#39;b&#39;</span><span class="p">,</span> <span class="n">linestyle</span><span class="o">=</span><span class="s1">&#39;dashed&#39;</span><span class="p">,</span> <span class="n">linewidth</span><span class="o">=</span><span class="mi">2</span><span class="p">)</span>
</pre></div>

</div>
</div>
</div>

<div class="output_wrapper">
<div class="output">


<div class="output_area">

<div class="prompt output_prompt">Out[51]:</div>




<div class="output_text output_subarea output_execute_result">
<pre>&lt;matplotlib.lines.Line2D at 0x11d9d6518&gt;</pre>
</div>

</div>

<div class="output_area">

<div class="prompt"></div>




<div class="output_png output_subarea ">
<img src="data:image/png;base64,iVBORw0KGgoAAAANSUhEUgAAAXYAAAD8CAYAAABjAo9vAAAABHNCSVQICAgIfAhkiAAAAAlwSFlzAAALEgAACxIB0t1+/AAAADl0RVh0U29mdHdhcmUAbWF0cGxvdGxpYiB2ZXJzaW9uIDIuMi4yLCBodHRwOi8vbWF0cGxvdGxpYi5vcmcvhp/UCwAADq9JREFUeJzt3W2MXOV5xvHraiiRChiZeLHd1M5GiCClATb21qoUrDpJKW5cBaVV2qAoMlLqdSIRNVFfcBMpSVW1svNS1A9VxFpY6w8JTaqQBhVkglBTgtSm3bVsXgQREVqDw9peQArmQ42Aux/mWN4+3tmdnZmd55xn/j9pNC97ZuY+43svP/vMeXFECABQjl/JXQAAoL8IdgAoDMEOAIUh2AGgMAQ7ABSGYAeAwhDsAFAYgh0ACkOwA0BhLhnkm61bty5GR0cH+ZbFmJlpXW/dmreOuuDzuIDPonwzMzMvRcRIp8t7kIcUGB8fj+np6YG9X0ns1jVHgGjh87iAz6J8tmciYrzT5ZmKAYDCEOwAUBiCHQAKQ7ADQGEGulUMuscXY2iH3kCKETsAFIZgB4DCEOwNsXUrO6BgcfQGUsyxN8TRo7krQF3RG0gR7KiV0X0PdLjkrhUuv7TZ/bv68jpAHTAVAwCFIdgBoDAEOwAUhmAHgMLw5WlD7NmTuwLUFb2BFMHeEJOTuStAXdEbSDEVAwCFIdgbYmbmwinQgIXoDaSYimmI8eqkWBzJDyl6AylG7ABQGIIdAApDsANAYQh2ACgMwQ4AhVk22G1vsv3vtp+2/ZTtP6sev8r2w7afra7Xrn65AIDldLK54xuS/jwijtq+QtKM7Ycl3S7pkYjYb3ufpH2S7ly9Uofb9HTuClBX9AZSywZ7RMxJmqtun7X9tKR3SrpV0o5qscOSfiyCfdVw6jO0Q28gtaI5dtujkt4v6aeS1lehfz78r+53cQCAles42G1fLun7kj4fEa+u4HkTtqdtT8/Pz3dTIyRNTLQuQIreQKqjYLf9q2qF+rcj4r7q4dO2N1Y/3yjpzGLPjYjJiBiPiPGRkZF+1DyUDh5sXYAUvYFUJ1vFWNI9kp6OiH9Y8KP7Je2ubu+W9MP+lwcAWKlOtor5gKRPSXrC9rHqsS9K2i/pe7Y/Lel5SR9fnRIBACvRyVYxj0lymx9/uL/lAAB6xZ6nAFAYgh0ACsOJNhpiy5bcFaCu6A2kCPaG4NRnaIfeQIqpGAAoDMEOAIUh2BvCbl2AFL2BFMEOAIUh2AGgMAQ7ABSGYAeAwhDsAFAYgh0ACsOepw1x9925K0Bd0RtIEewNwanP0A69gRRTMQBQGIK9ISYnWxcgRW8gxVRMQ+zd27rmz26k6A2kGLEDQGEIdgAoDMEOAIUh2AGgMAQ7ABSGYAeAwrC5Y0NE5K4AdUVvIMWIHQAKQ7ADQGEI9obYurV1AVL0BlLMsTfE0aO5K0Bd0RtIMWIHgMIQ7ABQGIIdAApDsANAYQh2ACgMW8U0xJ49uStAXdEbSBHsDcGpz9AOvYEUUzEAUBiCvSFmZloXIEVvILXsVIztQ5L+QNKZiHhf9dhXJe2RNF8t9sWIeHC1ioQ0Pt665kh+SNEbSHUyYp+StHORx++KiLHqQqgDQE0sG+wR8aikVwZQCwCgD3qZY7/D9uO2D9le27eKAAA96TbYvyXpGkljkuYkfbPdgrYnbE/bnp6fn2+3GACgT7oK9og4HRFvRsRbkg5K2rbEspMRMR4R4yMjI93WCQDoUFfBbnvjgrsfk/Rkf8oBAPSqk80d75W0Q9I62yclfUXSDttjkkLSrKS9q1gjJE1P564AdUVvILVssEfEbYs8fM8q1IIlcOoztENvIMWepwBQGIK9ISYmWhcgRW8gRbA3xMGDrQuQojeQItgBoDAcjx2QNLrvgWzvPbt/V7b3RpkYsQNAYQh2ACgMwQ4AhWGOvSG2bMldAeqK3kCKYG8ITn2GdugNpJiKAYDCEOwAUBiCvSHs1gVI0RtIMceOi+TcWQdA7xixA0BhCHYAKAzBDgCFIdgBoDAEOwAUhq1iGuLuu3NXgLqiN5Ai2BuCU5+hHXoDKaZiAKAwBHtDTE62LkCK3kCKqZiG2Lu3dc2f3eXpdU/fEwdap9b7++dW9jqckq9cjNgBoDAEOwAUhmAHgMIQ7ABQGIIdAApDsANAYdjcsSEicleAunrXnZwYBf8fI3YAKAwj9g5wqjgATcKIvSHmpm7S3NRNuctADdEbSDFib4jXT1+ZuwTUFL2BFCN2ACgMwQ4AhSHYAaAwywa77UO2z9h+csFjV9l+2Paz1fXa1S0TANCpTkbsU5J2Jo/tk/RIRFwr6ZHqPgCgBpbdKiYiHrU9mjx8q6Qd1e3Dkn4s6c4+1oXE5Tc+n7sE1BS9gVS3mzuuj4g5SYqIOdtX97EmLOIdO5/IXQJqit5AatW/PLU9YXva9vT8/Pxqvx0ADL1ug/207Y2SVF2fabdgRExGxHhEjI+MjHT5djh3ao3OnVqTuwzUEL2BVLfBfr+k3dXt3ZJ+2J9y0M6pw9t16vD23GWghugNpDrZ3PFeSf8p6TrbJ21/WtJ+STfbflbSzdV9AEANdLJVzG1tfvThPtcCAOgD9jwFgMIQ7ABQGIIdAApDsANAYTjRRkNs2P2T3CWgpugNpAj2hnj7hldzl4CaojeQYioGAApDsDfEy0eu18tHrs9dBmqI3kCKYG+I145v1mvHN+cuAzVEbyBFsANAYQh2ACgMwQ4AhSHYAaAwBDsAFIYdlBri0vW/zF0CaoreQIpgb4iNtz+WuwTUFL2BFFMxAFAYgh0ACkOwN8SJA7t04sCu3GWghugNpAh2ACgMwQ4AhSHYAaAwBDsAFIZgB4DCEOwAUBj2PG2Iq255PHcJqCl6AymCvSGuGHshdwmoKXoDKaZiAKAwBHtDnD22SWePbcpdBmqI3kCKqZiGeOWhGyTxZzcuRm8gxYgdAApDsANAYRozFTO674HcJQBAIzBiB4DCEOwAUBiCHQAK05g59mH3rjv5jgGLozeQYsQOAIXpacRue1bSWUlvSnojIsb7URQAoHv9mIr5YES81IfXwRLmpm6SJG28/bHMlaBu6A2kmGNviNdPX5m7BNQUvYFUr3PsIelHtmdsT/SjIABAb3odsX8gIl60fbWkh20/ExGPLlygCvwJSdq8eXOPbwegBLn2JJ/dvyvL+w5aTyP2iHixuj4j6QeSti2yzGREjEfE+MjISC9vBwDoQNfBbvsy21ecvy3p9yQ92a/CAADd6WUqZr2kH9g+/zrfiYgjfakKANC1roM9Ip6TdGMfa8ESLr/x+dwloKboDaTY3LEh3rHzidwloKboDaQ4pAAAFIZgb4hzp9bo3Kk1uctADdEbSBHsDXHq8HadOrw9dxmoIXoDKebYgSHF6SbLxYgdAApDsANAYQh2ACgMwQ4AhSHYAaAwbBXTEBt2/yR3CagpegMpgr0h3r7h1dwloKboDaSYigGAwhDsDfHykev18pHrc5eBGqI3kCLYG+K145v12nFOLYiL0RtIEewAUBiCHQAKQ7ADQGEIdgAoDMEOAIVhB6WGuHT9L3OXgJqiN5Ai2Bti4+2P5S4BNUVvIMVUDAAUhhE7gKGR83SAs/t3Dey9GLE3xIkDu3TiwOAaA81BbyBFsANAYQh2ACgMwQ4AhSHYAaAwBDsAFIZgB4DCsB17Q1x1y+O5S0BN0RtIEewNccXYC7lLQE3RG0gxFQMAhSHYG+LssU06e2xT7jJQQ/QGUkzFNMQrD90giT+7cTF6AylG7ABQGIIdAArTU7Db3mn7Z7Z/bntfv4oCAHSv62C3/TZJ/yTp9yW9V9Jttt/br8IAAN3pZcS+TdLPI+K5iHhd0j9LurU/ZQEAutVLsL9T0sKv4U9WjwEAMnJEdPdE++OSbomIP63uf0rStoj4XLLchKSJ6u51kn62grdZJ+mlrgosx7B/Bqz/cK+/xGewTtJlETHS6RN62Y79pKSFe0X8hqQX04UiYlLSZDdvYHs6Isa7K68Mw/4ZsP7Dvf4Sn0G1/qMreU4vUzH/I+la2++2famkT0i6v4fXAwD0Qdcj9oh4w/Ydkh6S9DZJhyLiqb5VBgDoSk+HFIiIByU92KdaFtPVFE5hhv0zYP0x7J/Bite/6y9PAQD1xCEFAKAwtQl224dsn7H95ILH/tb247aP2f6R7V/PWeNqWmz9F/zsL2yH7XU5ahuUNj3wVdu/qHrgmO2P5KxxNbXrAdufqw7d8ZTtr+WqbxDa9MB3F/z7z9o+lrPG1dRm/cds/1e1/tO2ty33OrUJdklTknYmj309Im6IiDFJ/ybpywOvanCmdPH6y/YmSTdLen7QBWUwpUU+A0l3RcRYdVnN73Rym1Ky/rY/qNYe3TdExG9K+kaGugZpSslnEBF/cv7fX9L3Jd2Xo7ABmdLFvwNfk/Q31fp/ubq/pNoEe0Q8KumV5LFXF9y9TFKxXwgstv6VuyT9lQpe9/OW+AyGQpv1/6yk/RFxrlrmzMALG6ClesC2Jf2xpHsHWtQAtVn/kLSmun2lFtlfKFWbYG/H9t/ZfkHSJ1X2iP0itj8q6RcRcTx3LZndUU3JHbK9NncxA/YeSdtt/9T2f9j+rdwFZbRd0umIeDZ3IQP2eUlfr3LwG5L+erkn1D7YI+JLEbFJ0rcl3ZG7nkGx/WuSvqQh+89sEd+SdI2kMUlzkr6Zt5yBu0TSWkm/LekvJX2vGrkOo9tU8Gh9CZ+V9IUqB78g6Z7lnlD7YF/gO5L+KHcRA3SNpHdLOm57Vq1DNhy1vSFrVQMWEacj4s2IeEvSQbWOKjpMTkq6L1r+W9Jbah07ZKjYvkTSH0r6bu5aMtitC98r/Is6+B2odbDbvnbB3Y9KeiZXLYMWEU9ExNURMVodJ+KkpC0RcSpzaQNle+OCux+TdNFWQ4X7V0kfkiTb75F0qYbzgFi/K+mZiDiZu5AMXpT0O9XtD0ladiqqNieztn2vpB2S1tk+Kekrkj5i+zq1RiknJH0mX4Wra7H1j4hl/+QqSZse2GF7TK0vkGYl7c1W4Cprs/6HJB2qNn97XdLuKHivwiV+Dz6hIZiGadMDeyT9Y/VXy//qwtFy279OwT0CAEOp1lMxAICVI9gBoDAEOwAUhmAHgMIQ7ABQGIIdAApDsANAYQh2ACjM/wGJQ63WogdYWQAAAABJRU5ErkJggg==
"
>
</div>

</div>

</div>
</div>

</div>
    </div>
  </div>
</body>

 


</html>
