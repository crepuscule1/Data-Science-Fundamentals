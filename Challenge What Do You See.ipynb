<!DOCTYPE html>
<html>
<head><meta charset="utf-8" />
<title>Challenge What Do You See</title><script src="https://cdnjs.cloudflare.com/ajax/libs/require.js/2.1.10/require.min.js"></script>
<script src="https://cdnjs.cloudflare.com/ajax/libs/jquery/2.0.3/jquery.min.js"></script>

<style type="text/css">
    /*!
*
* Twitter Bootstrap
*
*/
/*!
 * Bootstrap v3.3.7 (http://getbootstrap.com)
 * Copyright 2011-2016 Twitter, Inc.
 * Licensed under MIT (https://github.com/twbs/bootstrap/blob/master/LICENSE)
 */
/*! normalize.css v3.0.3 | MIT License | github.com/necolas/normalize.css */
html {
  font-family: sans-serif;
  -ms-text-size-adjust: 100%;
  -webkit-text-size-adjust: 100%;
}
body {
  margin: 0;
}
article,
aside,
details,
figcaption,
figure,
footer,
header,
hgroup,
main,
menu,
nav,
section,
summary {
  display: block;
}
audio,
canvas,
progress,
video {
  display: inline-block;
  vertical-align: baseline;
}
audio:not([controls]) {
  display: none;
  height: 0;
}
[hidden],
template {
  display: none;
}
a {
  background-color: transparent;
}
a:active,
a:hover {
  outline: 0;
}
abbr[title] {
  border-bottom: 1px dotted;
}
b,
strong {
  font-weight: bold;
}
dfn {
  font-style: italic;
}
h1 {
  font-size: 2em;
  margin: 0.67em 0;
}
mark {
  background: #ff0;
  color: #000;
}
small {
  font-size: 80%;
}
sub,
sup {
  font-size: 75%;
  line-height: 0;
  position: relative;
  vertical-align: baseline;
}
sup {
  top: -0.5em;
}
sub {
  bottom: -0.25em;
}
img {
  border: 0;
}
svg:not(:root) {
  overflow: hidden;
}
figure {
  margin: 1em 40px;
}
hr {
  box-sizing: content-box;
  height: 0;
}
pre {
  overflow: auto;
}
code,
kbd,
pre,
samp {
  font-family: monospace, monospace;
  font-size: 1em;
}
button,
input,
optgroup,
select,
textarea {
  color: inherit;
  font: inherit;
  margin: 0;
}
button {
  overflow: visible;
}
button,
select {
  text-transform: none;
}
button,
html input[type="button"],
input[type="reset"],
input[type="submit"] {
  -webkit-appearance: button;
  cursor: pointer;
}
button[disabled],
html input[disabled] {
  cursor: default;
}
button::-moz-focus-inner,
input::-moz-focus-inner {
  border: 0;
  padding: 0;
}
input {
  line-height: normal;
}
input[type="checkbox"],
input[type="radio"] {
  box-sizing: border-box;
  padding: 0;
}
input[type="number"]::-webkit-inner-spin-button,
input[type="number"]::-webkit-outer-spin-button {
  height: auto;
}
input[type="search"] {
  -webkit-appearance: textfield;
  box-sizing: content-box;
}
input[type="search"]::-webkit-search-cancel-button,
input[type="search"]::-webkit-search-decoration {
  -webkit-appearance: none;
}
fieldset {
  border: 1px solid #c0c0c0;
  margin: 0 2px;
  padding: 0.35em 0.625em 0.75em;
}
legend {
  border: 0;
  padding: 0;
}
textarea {
  overflow: auto;
}
optgroup {
  font-weight: bold;
}
table {
  border-collapse: collapse;
  border-spacing: 0;
}
td,
th {
  padding: 0;
}
/*! Source: https://github.com/h5bp/html5-boilerplate/blob/master/src/css/main.css */
@media print {
  *,
  *:before,
  *:after {
    background: transparent !important;
    color: #000 !important;
    box-shadow: none !important;
    text-shadow: none !important;
  }
  a,
  a:visited {
    text-decoration: underline;
  }
  a[href]:after {
    content: " (" attr(href) ")";
  }
  abbr[title]:after {
    content: " (" attr(title) ")";
  }
  a[href^="#"]:after,
  a[href^="javascript:"]:after {
    content: "";
  }
  pre,
  blockquote {
    border: 1px solid #999;
    page-break-inside: avoid;
  }
  thead {
    display: table-header-group;
  }
  tr,
  img {
    page-break-inside: avoid;
  }
  img {
    max-width: 100% !important;
  }
  p,
  h2,
  h3 {
    orphans: 3;
    widows: 3;
  }
  h2,
  h3 {
    page-break-after: avoid;
  }
  .navbar {
    display: none;
  }
  .btn > .caret,
  .dropup > .btn > .caret {
    border-top-color: #000 !important;
  }
  .label {
    border: 1px solid #000;
  }
  .table {
    border-collapse: collapse !important;
  }
  .table td,
  .table th {
    background-color: #fff !important;
  }
  .table-bordered th,
  .table-bordered td {
    border: 1px solid #ddd !important;
  }
}
@font-face {
  font-family: 'Glyphicons Halflings';
  src: url('../components/bootstrap/fonts/glyphicons-halflings-regular.eot');
  src: url('../components/bootstrap/fonts/glyphicons-halflings-regular.eot?#iefix') format('embedded-opentype'), url('../components/bootstrap/fonts/glyphicons-halflings-regular.woff2') format('woff2'), url('../components/bootstrap/fonts/glyphicons-halflings-regular.woff') format('woff'), url('../components/bootstrap/fonts/glyphicons-halflings-regular.ttf') format('truetype'), url('../components/bootstrap/fonts/glyphicons-halflings-regular.svg#glyphicons_halflingsregular') format('svg');
}
.glyphicon {
  position: relative;
  top: 1px;
  display: inline-block;
  font-family: 'Glyphicons Halflings';
  font-style: normal;
  font-weight: normal;
  line-height: 1;
  -webkit-font-smoothing: antialiased;
  -moz-osx-font-smoothing: grayscale;
}
.glyphicon-asterisk:before {
  content: "\002a";
}
.glyphicon-plus:before {
  content: "\002b";
}
.glyphicon-euro:before,
.glyphicon-eur:before {
  content: "\20ac";
}
.glyphicon-minus:before {
  content: "\2212";
}
.glyphicon-cloud:before {
  content: "\2601";
}
.glyphicon-envelope:before {
  content: "\2709";
}
.glyphicon-pencil:before {
  content: "\270f";
}
.glyphicon-glass:before {
  content: "\e001";
}
.glyphicon-music:before {
  content: "\e002";
}
.glyphicon-search:before {
  content: "\e003";
}
.glyphicon-heart:before {
  content: "\e005";
}
.glyphicon-star:before {
  content: "\e006";
}
.glyphicon-star-empty:before {
  content: "\e007";
}
.glyphicon-user:before {
  content: "\e008";
}
.glyphicon-film:before {
  content: "\e009";
}
.glyphicon-th-large:before {
  content: "\e010";
}
.glyphicon-th:before {
  content: "\e011";
}
.glyphicon-th-list:before {
  content: "\e012";
}
.glyphicon-ok:before {
  content: "\e013";
}
.glyphicon-remove:before {
  content: "\e014";
}
.glyphicon-zoom-in:before {
  content: "\e015";
}
.glyphicon-zoom-out:before {
  content: "\e016";
}
.glyphicon-off:before {
  content: "\e017";
}
.glyphicon-signal:before {
  content: "\e018";
}
.glyphicon-cog:before {
  content: "\e019";
}
.glyphicon-trash:before {
  content: "\e020";
}
.glyphicon-home:before {
  content: "\e021";
}
.glyphicon-file:before {
  content: "\e022";
}
.glyphicon-time:before {
  content: "\e023";
}
.glyphicon-road:before {
  content: "\e024";
}
.glyphicon-download-alt:before {
  content: "\e025";
}
.glyphicon-download:before {
  content: "\e026";
}
.glyphicon-upload:before {
  content: "\e027";
}
.glyphicon-inbox:before {
  content: "\e028";
}
.glyphicon-play-circle:before {
  content: "\e029";
}
.glyphicon-repeat:before {
  content: "\e030";
}
.glyphicon-refresh:before {
  content: "\e031";
}
.glyphicon-list-alt:before {
  content: "\e032";
}
.glyphicon-lock:before {
  content: "\e033";
}
.glyphicon-flag:before {
  content: "\e034";
}
.glyphicon-headphones:before {
  content: "\e035";
}
.glyphicon-volume-off:before {
  content: "\e036";
}
.glyphicon-volume-down:before {
  content: "\e037";
}
.glyphicon-volume-up:before {
  content: "\e038";
}
.glyphicon-qrcode:before {
  content: "\e039";
}
.glyphicon-barcode:before {
  content: "\e040";
}
.glyphicon-tag:before {
  content: "\e041";
}
.glyphicon-tags:before {
  content: "\e042";
}
.glyphicon-book:before {
  content: "\e043";
}
.glyphicon-bookmark:before {
  content: "\e044";
}
.glyphicon-print:before {
  content: "\e045";
}
.glyphicon-camera:before {
  content: "\e046";
}
.glyphicon-font:before {
  content: "\e047";
}
.glyphicon-bold:before {
  content: "\e048";
}
.glyphicon-italic:before {
  content: "\e049";
}
.glyphicon-text-height:before {
  content: "\e050";
}
.glyphicon-text-width:before {
  content: "\e051";
}
.glyphicon-align-left:before {
  content: "\e052";
}
.glyphicon-align-center:before {
  content: "\e053";
}
.glyphicon-align-right:before {
  content: "\e054";
}
.glyphicon-align-justify:before {
  content: "\e055";
}
.glyphicon-list:before {
  content: "\e056";
}
.glyphicon-indent-left:before {
  content: "\e057";
}
.glyphicon-indent-right:before {
  content: "\e058";
}
.glyphicon-facetime-video:before {
  content: "\e059";
}
.glyphicon-picture:before {
  content: "\e060";
}
.glyphicon-map-marker:before {
  content: "\e062";
}
.glyphicon-adjust:before {
  content: "\e063";
}
.glyphicon-tint:before {
  content: "\e064";
}
.glyphicon-edit:before {
  content: "\e065";
}
.glyphicon-share:before {
  content: "\e066";
}
.glyphicon-check:before {
  content: "\e067";
}
.glyphicon-move:before {
  content: "\e068";
}
.glyphicon-step-backward:before {
  content: "\e069";
}
.glyphicon-fast-backward:before {
  content: "\e070";
}
.glyphicon-backward:before {
  content: "\e071";
}
.glyphicon-play:before {
  content: "\e072";
}
.glyphicon-pause:before {
  content: "\e073";
}
.glyphicon-stop:before {
  content: "\e074";
}
.glyphicon-forward:before {
  content: "\e075";
}
.glyphicon-fast-forward:before {
  content: "\e076";
}
.glyphicon-step-forward:before {
  content: "\e077";
}
.glyphicon-eject:before {
  content: "\e078";
}
.glyphicon-chevron-left:before {
  content: "\e079";
}
.glyphicon-chevron-right:before {
  content: "\e080";
}
.glyphicon-plus-sign:before {
  content: "\e081";
}
.glyphicon-minus-sign:before {
  content: "\e082";
}
.glyphicon-remove-sign:before {
  content: "\e083";
}
.glyphicon-ok-sign:before {
  content: "\e084";
}
.glyphicon-question-sign:before {
  content: "\e085";
}
.glyphicon-info-sign:before {
  content: "\e086";
}
.glyphicon-screenshot:before {
  content: "\e087";
}
.glyphicon-remove-circle:before {
  content: "\e088";
}
.glyphicon-ok-circle:before {
  content: "\e089";
}
.glyphicon-ban-circle:before {
  content: "\e090";
}
.glyphicon-arrow-left:before {
  content: "\e091";
}
.glyphicon-arrow-right:before {
  content: "\e092";
}
.glyphicon-arrow-up:before {
  content: "\e093";
}
.glyphicon-arrow-down:before {
  content: "\e094";
}
.glyphicon-share-alt:before {
  content: "\e095";
}
.glyphicon-resize-full:before {
  content: "\e096";
}
.glyphicon-resize-small:before {
  content: "\e097";
}
.glyphicon-exclamation-sign:before {
  content: "\e101";
}
.glyphicon-gift:before {
  content: "\e102";
}
.glyphicon-leaf:before {
  content: "\e103";
}
.glyphicon-fire:before {
  content: "\e104";
}
.glyphicon-eye-open:before {
  content: "\e105";
}
.glyphicon-eye-close:before {
  content: "\e106";
}
.glyphicon-warning-sign:before {
  content: "\e107";
}
.glyphicon-plane:before {
  content: "\e108";
}
.glyphicon-calendar:before {
  content: "\e109";
}
.glyphicon-random:before {
  content: "\e110";
}
.glyphicon-comment:before {
  content: "\e111";
}
.glyphicon-magnet:before {
  content: "\e112";
}
.glyphicon-chevron-up:before {
  content: "\e113";
}
.glyphicon-chevron-down:before {
  content: "\e114";
}
.glyphicon-retweet:before {
  content: "\e115";
}
.glyphicon-shopping-cart:before {
  content: "\e116";
}
.glyphicon-folder-close:before {
  content: "\e117";
}
.glyphicon-folder-open:before {
  content: "\e118";
}
.glyphicon-resize-vertical:before {
  content: "\e119";
}
.glyphicon-resize-horizontal:before {
  content: "\e120";
}
.glyphicon-hdd:before {
  content: "\e121";
}
.glyphicon-bullhorn:before {
  content: "\e122";
}
.glyphicon-bell:before {
  content: "\e123";
}
.glyphicon-certificate:before {
  content: "\e124";
}
.glyphicon-thumbs-up:before {
  content: "\e125";
}
.glyphicon-thumbs-down:before {
  content: "\e126";
}
.glyphicon-hand-right:before {
  content: "\e127";
}
.glyphicon-hand-left:before {
  content: "\e128";
}
.glyphicon-hand-up:before {
  content: "\e129";
}
.glyphicon-hand-down:before {
  content: "\e130";
}
.glyphicon-circle-arrow-right:before {
  content: "\e131";
}
.glyphicon-circle-arrow-left:before {
  content: "\e132";
}
.glyphicon-circle-arrow-up:before {
  content: "\e133";
}
.glyphicon-circle-arrow-down:before {
  content: "\e134";
}
.glyphicon-globe:before {
  content: "\e135";
}
.glyphicon-wrench:before {
  content: "\e136";
}
.glyphicon-tasks:before {
  content: "\e137";
}
.glyphicon-filter:before {
  content: "\e138";
}
.glyphicon-briefcase:before {
  content: "\e139";
}
.glyphicon-fullscreen:before {
  content: "\e140";
}
.glyphicon-dashboard:before {
  content: "\e141";
}
.glyphicon-paperclip:before {
  content: "\e142";
}
.glyphicon-heart-empty:before {
  content: "\e143";
}
.glyphicon-link:before {
  content: "\e144";
}
.glyphicon-phone:before {
  content: "\e145";
}
.glyphicon-pushpin:before {
  content: "\e146";
}
.glyphicon-usd:before {
  content: "\e148";
}
.glyphicon-gbp:before {
  content: "\e149";
}
.glyphicon-sort:before {
  content: "\e150";
}
.glyphicon-sort-by-alphabet:before {
  content: "\e151";
}
.glyphicon-sort-by-alphabet-alt:before {
  content: "\e152";
}
.glyphicon-sort-by-order:before {
  content: "\e153";
}
.glyphicon-sort-by-order-alt:before {
  content: "\e154";
}
.glyphicon-sort-by-attributes:before {
  content: "\e155";
}
.glyphicon-sort-by-attributes-alt:before {
  content: "\e156";
}
.glyphicon-unchecked:before {
  content: "\e157";
}
.glyphicon-expand:before {
  content: "\e158";
}
.glyphicon-collapse-down:before {
  content: "\e159";
}
.glyphicon-collapse-up:before {
  content: "\e160";
}
.glyphicon-log-in:before {
  content: "\e161";
}
.glyphicon-flash:before {
  content: "\e162";
}
.glyphicon-log-out:before {
  content: "\e163";
}
.glyphicon-new-window:before {
  content: "\e164";
}
.glyphicon-record:before {
  content: "\e165";
}
.glyphicon-save:before {
  content: "\e166";
}
.glyphicon-open:before {
  content: "\e167";
}
.glyphicon-saved:before {
  content: "\e168";
}
.glyphicon-import:before {
  content: "\e169";
}
.glyphicon-export:before {
  content: "\e170";
}
.glyphicon-send:before {
  content: "\e171";
}
.glyphicon-floppy-disk:before {
  content: "\e172";
}
.glyphicon-floppy-saved:before {
  content: "\e173";
}
.glyphicon-floppy-remove:before {
  content: "\e174";
}
.glyphicon-floppy-save:before {
  content: "\e175";
}
.glyphicon-floppy-open:before {
  content: "\e176";
}
.glyphicon-credit-card:before {
  content: "\e177";
}
.glyphicon-transfer:before {
  content: "\e178";
}
.glyphicon-cutlery:before {
  content: "\e179";
}
.glyphicon-header:before {
  content: "\e180";
}
.glyphicon-compressed:before {
  content: "\e181";
}
.glyphicon-earphone:before {
  content: "\e182";
}
.glyphicon-phone-alt:before {
  content: "\e183";
}
.glyphicon-tower:before {
  content: "\e184";
}
.glyphicon-stats:before {
  content: "\e185";
}
.glyphicon-sd-video:before {
  content: "\e186";
}
.glyphicon-hd-video:before {
  content: "\e187";
}
.glyphicon-subtitles:before {
  content: "\e188";
}
.glyphicon-sound-stereo:before {
  content: "\e189";
}
.glyphicon-sound-dolby:before {
  content: "\e190";
}
.glyphicon-sound-5-1:before {
  content: "\e191";
}
.glyphicon-sound-6-1:before {
  content: "\e192";
}
.glyphicon-sound-7-1:before {
  content: "\e193";
}
.glyphicon-copyright-mark:before {
  content: "\e194";
}
.glyphicon-registration-mark:before {
  content: "\e195";
}
.glyphicon-cloud-download:before {
  content: "\e197";
}
.glyphicon-cloud-upload:before {
  content: "\e198";
}
.glyphicon-tree-conifer:before {
  content: "\e199";
}
.glyphicon-tree-deciduous:before {
  content: "\e200";
}
.glyphicon-cd:before {
  content: "\e201";
}
.glyphicon-save-file:before {
  content: "\e202";
}
.glyphicon-open-file:before {
  content: "\e203";
}
.glyphicon-level-up:before {
  content: "\e204";
}
.glyphicon-copy:before {
  content: "\e205";
}
.glyphicon-paste:before {
  content: "\e206";
}
.glyphicon-alert:before {
  content: "\e209";
}
.glyphicon-equalizer:before {
  content: "\e210";
}
.glyphicon-king:before {
  content: "\e211";
}
.glyphicon-queen:before {
  content: "\e212";
}
.glyphicon-pawn:before {
  content: "\e213";
}
.glyphicon-bishop:before {
  content: "\e214";
}
.glyphicon-knight:before {
  content: "\e215";
}
.glyphicon-baby-formula:before {
  content: "\e216";
}
.glyphicon-tent:before {
  content: "\26fa";
}
.glyphicon-blackboard:before {
  content: "\e218";
}
.glyphicon-bed:before {
  content: "\e219";
}
.glyphicon-apple:before {
  content: "\f8ff";
}
.glyphicon-erase:before {
  content: "\e221";
}
.glyphicon-hourglass:before {
  content: "\231b";
}
.glyphicon-lamp:before {
  content: "\e223";
}
.glyphicon-duplicate:before {
  content: "\e224";
}
.glyphicon-piggy-bank:before {
  content: "\e225";
}
.glyphicon-scissors:before {
  content: "\e226";
}
.glyphicon-bitcoin:before {
  content: "\e227";
}
.glyphicon-btc:before {
  content: "\e227";
}
.glyphicon-xbt:before {
  content: "\e227";
}
.glyphicon-yen:before {
  content: "\00a5";
}
.glyphicon-jpy:before {
  content: "\00a5";
}
.glyphicon-ruble:before {
  content: "\20bd";
}
.glyphicon-rub:before {
  content: "\20bd";
}
.glyphicon-scale:before {
  content: "\e230";
}
.glyphicon-ice-lolly:before {
  content: "\e231";
}
.glyphicon-ice-lolly-tasted:before {
  content: "\e232";
}
.glyphicon-education:before {
  content: "\e233";
}
.glyphicon-option-horizontal:before {
  content: "\e234";
}
.glyphicon-option-vertical:before {
  content: "\e235";
}
.glyphicon-menu-hamburger:before {
  content: "\e236";
}
.glyphicon-modal-window:before {
  content: "\e237";
}
.glyphicon-oil:before {
  content: "\e238";
}
.glyphicon-grain:before {
  content: "\e239";
}
.glyphicon-sunglasses:before {
  content: "\e240";
}
.glyphicon-text-size:before {
  content: "\e241";
}
.glyphicon-text-color:before {
  content: "\e242";
}
.glyphicon-text-background:before {
  content: "\e243";
}
.glyphicon-object-align-top:before {
  content: "\e244";
}
.glyphicon-object-align-bottom:before {
  content: "\e245";
}
.glyphicon-object-align-horizontal:before {
  content: "\e246";
}
.glyphicon-object-align-left:before {
  content: "\e247";
}
.glyphicon-object-align-vertical:before {
  content: "\e248";
}
.glyphicon-object-align-right:before {
  content: "\e249";
}
.glyphicon-triangle-right:before {
  content: "\e250";
}
.glyphicon-triangle-left:before {
  content: "\e251";
}
.glyphicon-triangle-bottom:before {
  content: "\e252";
}
.glyphicon-triangle-top:before {
  content: "\e253";
}
.glyphicon-console:before {
  content: "\e254";
}
.glyphicon-superscript:before {
  content: "\e255";
}
.glyphicon-subscript:before {
  content: "\e256";
}
.glyphicon-menu-left:before {
  content: "\e257";
}
.glyphicon-menu-right:before {
  content: "\e258";
}
.glyphicon-menu-down:before {
  content: "\e259";
}
.glyphicon-menu-up:before {
  content: "\e260";
}
* {
  -webkit-box-sizing: border-box;
  -moz-box-sizing: border-box;
  box-sizing: border-box;
}
*:before,
*:after {
  -webkit-box-sizing: border-box;
  -moz-box-sizing: border-box;
  box-sizing: border-box;
}
html {
  font-size: 10px;
  -webkit-tap-highlight-color: rgba(0, 0, 0, 0);
}
body {
  font-family: "Helvetica Neue", Helvetica, Arial, sans-serif;
  font-size: 13px;
  line-height: 1.42857143;
  color: #000;
  background-color: #fff;
}
input,
button,
select,
textarea {
  font-family: inherit;
  font-size: inherit;
  line-height: inherit;
}
a {
  color: #337ab7;
  text-decoration: none;
}
a:hover,
a:focus {
  color: #23527c;
  text-decoration: underline;
}
a:focus {
  outline: 5px auto -webkit-focus-ring-color;
  outline-offset: -2px;
}
figure {
  margin: 0;
}
img {
  vertical-align: middle;
}
.img-responsive,
.thumbnail > img,
.thumbnail a > img,
.carousel-inner > .item > img,
.carousel-inner > .item > a > img {
  display: block;
  max-width: 100%;
  height: auto;
}
.img-rounded {
  border-radius: 3px;
}
.img-thumbnail {
  padding: 4px;
  line-height: 1.42857143;
  background-color: #fff;
  border: 1px solid #ddd;
  border-radius: 2px;
  -webkit-transition: all 0.2s ease-in-out;
  -o-transition: all 0.2s ease-in-out;
  transition: all 0.2s ease-in-out;
  display: inline-block;
  max-width: 100%;
  height: auto;
}
.img-circle {
  border-radius: 50%;
}
hr {
  margin-top: 18px;
  margin-bottom: 18px;
  border: 0;
  border-top: 1px solid #eeeeee;
}
.sr-only {
  position: absolute;
  width: 1px;
  height: 1px;
  margin: -1px;
  padding: 0;
  overflow: hidden;
  clip: rect(0, 0, 0, 0);
  border: 0;
}
.sr-only-focusable:active,
.sr-only-focusable:focus {
  position: static;
  width: auto;
  height: auto;
  margin: 0;
  overflow: visible;
  clip: auto;
}
[role="button"] {
  cursor: pointer;
}
h1,
h2,
h3,
h4,
h5,
h6,
.h1,
.h2,
.h3,
.h4,
.h5,
.h6 {
  font-family: inherit;
  font-weight: 500;
  line-height: 1.1;
  color: inherit;
}
h1 small,
h2 small,
h3 small,
h4 small,
h5 small,
h6 small,
.h1 small,
.h2 small,
.h3 small,
.h4 small,
.h5 small,
.h6 small,
h1 .small,
h2 .small,
h3 .small,
h4 .small,
h5 .small,
h6 .small,
.h1 .small,
.h2 .small,
.h3 .small,
.h4 .small,
.h5 .small,
.h6 .small {
  font-weight: normal;
  line-height: 1;
  color: #777777;
}
h1,
.h1,
h2,
.h2,
h3,
.h3 {
  margin-top: 18px;
  margin-bottom: 9px;
}
h1 small,
.h1 small,
h2 small,
.h2 small,
h3 small,
.h3 small,
h1 .small,
.h1 .small,
h2 .small,
.h2 .small,
h3 .small,
.h3 .small {
  font-size: 65%;
}
h4,
.h4,
h5,
.h5,
h6,
.h6 {
  margin-top: 9px;
  margin-bottom: 9px;
}
h4 small,
.h4 small,
h5 small,
.h5 small,
h6 small,
.h6 small,
h4 .small,
.h4 .small,
h5 .small,
.h5 .small,
h6 .small,
.h6 .small {
  font-size: 75%;
}
h1,
.h1 {
  font-size: 33px;
}
h2,
.h2 {
  font-size: 27px;
}
h3,
.h3 {
  font-size: 23px;
}
h4,
.h4 {
  font-size: 17px;
}
h5,
.h5 {
  font-size: 13px;
}
h6,
.h6 {
  font-size: 12px;
}
p {
  margin: 0 0 9px;
}
.lead {
  margin-bottom: 18px;
  font-size: 14px;
  font-weight: 300;
  line-height: 1.4;
}
@media (min-width: 768px) {
  .lead {
    font-size: 19.5px;
  }
}
small,
.small {
  font-size: 92%;
}
mark,
.mark {
  background-color: #fcf8e3;
  padding: .2em;
}
.text-left {
  text-align: left;
}
.text-right {
  text-align: right;
}
.text-center {
  text-align: center;
}
.text-justify {
  text-align: justify;
}
.text-nowrap {
  white-space: nowrap;
}
.text-lowercase {
  text-transform: lowercase;
}
.text-uppercase {
  text-transform: uppercase;
}
.text-capitalize {
  text-transform: capitalize;
}
.text-muted {
  color: #777777;
}
.text-primary {
  color: #337ab7;
}
a.text-primary:hover,
a.text-primary:focus {
  color: #286090;
}
.text-success {
  color: #3c763d;
}
a.text-success:hover,
a.text-success:focus {
  color: #2b542c;
}
.text-info {
  color: #31708f;
}
a.text-info:hover,
a.text-info:focus {
  color: #245269;
}
.text-warning {
  color: #8a6d3b;
}
a.text-warning:hover,
a.text-warning:focus {
  color: #66512c;
}
.text-danger {
  color: #a94442;
}
a.text-danger:hover,
a.text-danger:focus {
  color: #843534;
}
.bg-primary {
  color: #fff;
  background-color: #337ab7;
}
a.bg-primary:hover,
a.bg-primary:focus {
  background-color: #286090;
}
.bg-success {
  background-color: #dff0d8;
}
a.bg-success:hover,
a.bg-success:focus {
  background-color: #c1e2b3;
}
.bg-info {
  background-color: #d9edf7;
}
a.bg-info:hover,
a.bg-info:focus {
  background-color: #afd9ee;
}
.bg-warning {
  background-color: #fcf8e3;
}
a.bg-warning:hover,
a.bg-warning:focus {
  background-color: #f7ecb5;
}
.bg-danger {
  background-color: #f2dede;
}
a.bg-danger:hover,
a.bg-danger:focus {
  background-color: #e4b9b9;
}
.page-header {
  padding-bottom: 8px;
  margin: 36px 0 18px;
  border-bottom: 1px solid #eeeeee;
}
ul,
ol {
  margin-top: 0;
  margin-bottom: 9px;
}
ul ul,
ol ul,
ul ol,
ol ol {
  margin-bottom: 0;
}
.list-unstyled {
  padding-left: 0;
  list-style: none;
}
.list-inline {
  padding-left: 0;
  list-style: none;
  margin-left: -5px;
}
.list-inline > li {
  display: inline-block;
  padding-left: 5px;
  padding-right: 5px;
}
dl {
  margin-top: 0;
  margin-bottom: 18px;
}
dt,
dd {
  line-height: 1.42857143;
}
dt {
  font-weight: bold;
}
dd {
  margin-left: 0;
}
@media (min-width: 541px) {
  .dl-horizontal dt {
    float: left;
    width: 160px;
    clear: left;
    text-align: right;
    overflow: hidden;
    text-overflow: ellipsis;
    white-space: nowrap;
  }
  .dl-horizontal dd {
    margin-left: 180px;
  }
}
abbr[title],
abbr[data-original-title] {
  cursor: help;
  border-bottom: 1px dotted #777777;
}
.initialism {
  font-size: 90%;
  text-transform: uppercase;
}
blockquote {
  padding: 9px 18px;
  margin: 0 0 18px;
  font-size: inherit;
  border-left: 5px solid #eeeeee;
}
blockquote p:last-child,
blockquote ul:last-child,
blockquote ol:last-child {
  margin-bottom: 0;
}
blockquote footer,
blockquote small,
blockquote .small {
  display: block;
  font-size: 80%;
  line-height: 1.42857143;
  color: #777777;
}
blockquote footer:before,
blockquote small:before,
blockquote .small:before {
  content: '\2014 \00A0';
}
.blockquote-reverse,
blockquote.pull-right {
  padding-right: 15px;
  padding-left: 0;
  border-right: 5px solid #eeeeee;
  border-left: 0;
  text-align: right;
}
.blockquote-reverse footer:before,
blockquote.pull-right footer:before,
.blockquote-reverse small:before,
blockquote.pull-right small:before,
.blockquote-reverse .small:before,
blockquote.pull-right .small:before {
  content: '';
}
.blockquote-reverse footer:after,
blockquote.pull-right footer:after,
.blockquote-reverse small:after,
blockquote.pull-right small:after,
.blockquote-reverse .small:after,
blockquote.pull-right .small:after {
  content: '\00A0 \2014';
}
address {
  margin-bottom: 18px;
  font-style: normal;
  line-height: 1.42857143;
}
code,
kbd,
pre,
samp {
  font-family: monospace;
}
code {
  padding: 2px 4px;
  font-size: 90%;
  color: #c7254e;
  background-color: #f9f2f4;
  border-radius: 2px;
}
kbd {
  padding: 2px 4px;
  font-size: 90%;
  color: #888;
  background-color: transparent;
  border-radius: 1px;
  box-shadow: inset 0 -1px 0 rgba(0, 0, 0, 0.25);
}
kbd kbd {
  padding: 0;
  font-size: 100%;
  font-weight: bold;
  box-shadow: none;
}
pre {
  display: block;
  padding: 8.5px;
  margin: 0 0 9px;
  font-size: 12px;
  line-height: 1.42857143;
  word-break: break-all;
  word-wrap: break-word;
  color: #333333;
  background-color: #f5f5f5;
  border: 1px solid #ccc;
  border-radius: 2px;
}
pre code {
  padding: 0;
  font-size: inherit;
  color: inherit;
  white-space: pre-wrap;
  background-color: transparent;
  border-radius: 0;
}
.pre-scrollable {
  max-height: 340px;
  overflow-y: scroll;
}
.container {
  margin-right: auto;
  margin-left: auto;
  padding-left: 0px;
  padding-right: 0px;
}
@media (min-width: 768px) {
  .container {
    width: 768px;
  }
}
@media (min-width: 992px) {
  .container {
    width: 940px;
  }
}
@media (min-width: 1200px) {
  .container {
    width: 1140px;
  }
}
.container-fluid {
  margin-right: auto;
  margin-left: auto;
  padding-left: 0px;
  padding-right: 0px;
}
.row {
  margin-left: 0px;
  margin-right: 0px;
}
.col-xs-1, .col-sm-1, .col-md-1, .col-lg-1, .col-xs-2, .col-sm-2, .col-md-2, .col-lg-2, .col-xs-3, .col-sm-3, .col-md-3, .col-lg-3, .col-xs-4, .col-sm-4, .col-md-4, .col-lg-4, .col-xs-5, .col-sm-5, .col-md-5, .col-lg-5, .col-xs-6, .col-sm-6, .col-md-6, .col-lg-6, .col-xs-7, .col-sm-7, .col-md-7, .col-lg-7, .col-xs-8, .col-sm-8, .col-md-8, .col-lg-8, .col-xs-9, .col-sm-9, .col-md-9, .col-lg-9, .col-xs-10, .col-sm-10, .col-md-10, .col-lg-10, .col-xs-11, .col-sm-11, .col-md-11, .col-lg-11, .col-xs-12, .col-sm-12, .col-md-12, .col-lg-12 {
  position: relative;
  min-height: 1px;
  padding-left: 0px;
  padding-right: 0px;
}
.col-xs-1, .col-xs-2, .col-xs-3, .col-xs-4, .col-xs-5, .col-xs-6, .col-xs-7, .col-xs-8, .col-xs-9, .col-xs-10, .col-xs-11, .col-xs-12 {
  float: left;
}
.col-xs-12 {
  width: 100%;
}
.col-xs-11 {
  width: 91.66666667%;
}
.col-xs-10 {
  width: 83.33333333%;
}
.col-xs-9 {
  width: 75%;
}
.col-xs-8 {
  width: 66.66666667%;
}
.col-xs-7 {
  width: 58.33333333%;
}
.col-xs-6 {
  width: 50%;
}
.col-xs-5 {
  width: 41.66666667%;
}
.col-xs-4 {
  width: 33.33333333%;
}
.col-xs-3 {
  width: 25%;
}
.col-xs-2 {
  width: 16.66666667%;
}
.col-xs-1 {
  width: 8.33333333%;
}
.col-xs-pull-12 {
  right: 100%;
}
.col-xs-pull-11 {
  right: 91.66666667%;
}
.col-xs-pull-10 {
  right: 83.33333333%;
}
.col-xs-pull-9 {
  right: 75%;
}
.col-xs-pull-8 {
  right: 66.66666667%;
}
.col-xs-pull-7 {
  right: 58.33333333%;
}
.col-xs-pull-6 {
  right: 50%;
}
.col-xs-pull-5 {
  right: 41.66666667%;
}
.col-xs-pull-4 {
  right: 33.33333333%;
}
.col-xs-pull-3 {
  right: 25%;
}
.col-xs-pull-2 {
  right: 16.66666667%;
}
.col-xs-pull-1 {
  right: 8.33333333%;
}
.col-xs-pull-0 {
  right: auto;
}
.col-xs-push-12 {
  left: 100%;
}
.col-xs-push-11 {
  left: 91.66666667%;
}
.col-xs-push-10 {
  left: 83.33333333%;
}
.col-xs-push-9 {
  left: 75%;
}
.col-xs-push-8 {
  left: 66.66666667%;
}
.col-xs-push-7 {
  left: 58.33333333%;
}
.col-xs-push-6 {
  left: 50%;
}
.col-xs-push-5 {
  left: 41.66666667%;
}
.col-xs-push-4 {
  left: 33.33333333%;
}
.col-xs-push-3 {
  left: 25%;
}
.col-xs-push-2 {
  left: 16.66666667%;
}
.col-xs-push-1 {
  left: 8.33333333%;
}
.col-xs-push-0 {
  left: auto;
}
.col-xs-offset-12 {
  margin-left: 100%;
}
.col-xs-offset-11 {
  margin-left: 91.66666667%;
}
.col-xs-offset-10 {
  margin-left: 83.33333333%;
}
.col-xs-offset-9 {
  margin-left: 75%;
}
.col-xs-offset-8 {
  margin-left: 66.66666667%;
}
.col-xs-offset-7 {
  margin-left: 58.33333333%;
}
.col-xs-offset-6 {
  margin-left: 50%;
}
.col-xs-offset-5 {
  margin-left: 41.66666667%;
}
.col-xs-offset-4 {
  margin-left: 33.33333333%;
}
.col-xs-offset-3 {
  margin-left: 25%;
}
.col-xs-offset-2 {
  margin-left: 16.66666667%;
}
.col-xs-offset-1 {
  margin-left: 8.33333333%;
}
.col-xs-offset-0 {
  margin-left: 0%;
}
@media (min-width: 768px) {
  .col-sm-1, .col-sm-2, .col-sm-3, .col-sm-4, .col-sm-5, .col-sm-6, .col-sm-7, .col-sm-8, .col-sm-9, .col-sm-10, .col-sm-11, .col-sm-12 {
    float: left;
  }
  .col-sm-12 {
    width: 100%;
  }
  .col-sm-11 {
    width: 91.66666667%;
  }
  .col-sm-10 {
    width: 83.33333333%;
  }
  .col-sm-9 {
    width: 75%;
  }
  .col-sm-8 {
    width: 66.66666667%;
  }
  .col-sm-7 {
    width: 58.33333333%;
  }
  .col-sm-6 {
    width: 50%;
  }
  .col-sm-5 {
    width: 41.66666667%;
  }
  .col-sm-4 {
    width: 33.33333333%;
  }
  .col-sm-3 {
    width: 25%;
  }
  .col-sm-2 {
    width: 16.66666667%;
  }
  .col-sm-1 {
    width: 8.33333333%;
  }
  .col-sm-pull-12 {
    right: 100%;
  }
  .col-sm-pull-11 {
    right: 91.66666667%;
  }
  .col-sm-pull-10 {
    right: 83.33333333%;
  }
  .col-sm-pull-9 {
    right: 75%;
  }
  .col-sm-pull-8 {
    right: 66.66666667%;
  }
  .col-sm-pull-7 {
    right: 58.33333333%;
  }
  .col-sm-pull-6 {
    right: 50%;
  }
  .col-sm-pull-5 {
    right: 41.66666667%;
  }
  .col-sm-pull-4 {
    right: 33.33333333%;
  }
  .col-sm-pull-3 {
    right: 25%;
  }
  .col-sm-pull-2 {
    right: 16.66666667%;
  }
  .col-sm-pull-1 {
    right: 8.33333333%;
  }
  .col-sm-pull-0 {
    right: auto;
  }
  .col-sm-push-12 {
    left: 100%;
  }
  .col-sm-push-11 {
    left: 91.66666667%;
  }
  .col-sm-push-10 {
    left: 83.33333333%;
  }
  .col-sm-push-9 {
    left: 75%;
  }
  .col-sm-push-8 {
    left: 66.66666667%;
  }
  .col-sm-push-7 {
    left: 58.33333333%;
  }
  .col-sm-push-6 {
    left: 50%;
  }
  .col-sm-push-5 {
    left: 41.66666667%;
  }
  .col-sm-push-4 {
    left: 33.33333333%;
  }
  .col-sm-push-3 {
    left: 25%;
  }
  .col-sm-push-2 {
    left: 16.66666667%;
  }
  .col-sm-push-1 {
    left: 8.33333333%;
  }
  .col-sm-push-0 {
    left: auto;
  }
  .col-sm-offset-12 {
    margin-left: 100%;
  }
  .col-sm-offset-11 {
    margin-left: 91.66666667%;
  }
  .col-sm-offset-10 {
    margin-left: 83.33333333%;
  }
  .col-sm-offset-9 {
    margin-left: 75%;
  }
  .col-sm-offset-8 {
    margin-left: 66.66666667%;
  }
  .col-sm-offset-7 {
    margin-left: 58.33333333%;
  }
  .col-sm-offset-6 {
    margin-left: 50%;
  }
  .col-sm-offset-5 {
    margin-left: 41.66666667%;
  }
  .col-sm-offset-4 {
    margin-left: 33.33333333%;
  }
  .col-sm-offset-3 {
    margin-left: 25%;
  }
  .col-sm-offset-2 {
    margin-left: 16.66666667%;
  }
  .col-sm-offset-1 {
    margin-left: 8.33333333%;
  }
  .col-sm-offset-0 {
    margin-left: 0%;
  }
}
@media (min-width: 992px) {
  .col-md-1, .col-md-2, .col-md-3, .col-md-4, .col-md-5, .col-md-6, .col-md-7, .col-md-8, .col-md-9, .col-md-10, .col-md-11, .col-md-12 {
    float: left;
  }
  .col-md-12 {
    width: 100%;
  }
  .col-md-11 {
    width: 91.66666667%;
  }
  .col-md-10 {
    width: 83.33333333%;
  }
  .col-md-9 {
    width: 75%;
  }
  .col-md-8 {
    width: 66.66666667%;
  }
  .col-md-7 {
    width: 58.33333333%;
  }
  .col-md-6 {
    width: 50%;
  }
  .col-md-5 {
    width: 41.66666667%;
  }
  .col-md-4 {
    width: 33.33333333%;
  }
  .col-md-3 {
    width: 25%;
  }
  .col-md-2 {
    width: 16.66666667%;
  }
  .col-md-1 {
    width: 8.33333333%;
  }
  .col-md-pull-12 {
    right: 100%;
  }
  .col-md-pull-11 {
    right: 91.66666667%;
  }
  .col-md-pull-10 {
    right: 83.33333333%;
  }
  .col-md-pull-9 {
    right: 75%;
  }
  .col-md-pull-8 {
    right: 66.66666667%;
  }
  .col-md-pull-7 {
    right: 58.33333333%;
  }
  .col-md-pull-6 {
    right: 50%;
  }
  .col-md-pull-5 {
    right: 41.66666667%;
  }
  .col-md-pull-4 {
    right: 33.33333333%;
  }
  .col-md-pull-3 {
    right: 25%;
  }
  .col-md-pull-2 {
    right: 16.66666667%;
  }
  .col-md-pull-1 {
    right: 8.33333333%;
  }
  .col-md-pull-0 {
    right: auto;
  }
  .col-md-push-12 {
    left: 100%;
  }
  .col-md-push-11 {
    left: 91.66666667%;
  }
  .col-md-push-10 {
    left: 83.33333333%;
  }
  .col-md-push-9 {
    left: 75%;
  }
  .col-md-push-8 {
    left: 66.66666667%;
  }
  .col-md-push-7 {
    left: 58.33333333%;
  }
  .col-md-push-6 {
    left: 50%;
  }
  .col-md-push-5 {
    left: 41.66666667%;
  }
  .col-md-push-4 {
    left: 33.33333333%;
  }
  .col-md-push-3 {
    left: 25%;
  }
  .col-md-push-2 {
    left: 16.66666667%;
  }
  .col-md-push-1 {
    left: 8.33333333%;
  }
  .col-md-push-0 {
    left: auto;
  }
  .col-md-offset-12 {
    margin-left: 100%;
  }
  .col-md-offset-11 {
    margin-left: 91.66666667%;
  }
  .col-md-offset-10 {
    margin-left: 83.33333333%;
  }
  .col-md-offset-9 {
    margin-left: 75%;
  }
  .col-md-offset-8 {
    margin-left: 66.66666667%;
  }
  .col-md-offset-7 {
    margin-left: 58.33333333%;
  }
  .col-md-offset-6 {
    margin-left: 50%;
  }
  .col-md-offset-5 {
    margin-left: 41.66666667%;
  }
  .col-md-offset-4 {
    margin-left: 33.33333333%;
  }
  .col-md-offset-3 {
    margin-left: 25%;
  }
  .col-md-offset-2 {
    margin-left: 16.66666667%;
  }
  .col-md-offset-1 {
    margin-left: 8.33333333%;
  }
  .col-md-offset-0 {
    margin-left: 0%;
  }
}
@media (min-width: 1200px) {
  .col-lg-1, .col-lg-2, .col-lg-3, .col-lg-4, .col-lg-5, .col-lg-6, .col-lg-7, .col-lg-8, .col-lg-9, .col-lg-10, .col-lg-11, .col-lg-12 {
    float: left;
  }
  .col-lg-12 {
    width: 100%;
  }
  .col-lg-11 {
    width: 91.66666667%;
  }
  .col-lg-10 {
    width: 83.33333333%;
  }
  .col-lg-9 {
    width: 75%;
  }
  .col-lg-8 {
    width: 66.66666667%;
  }
  .col-lg-7 {
    width: 58.33333333%;
  }
  .col-lg-6 {
    width: 50%;
  }
  .col-lg-5 {
    width: 41.66666667%;
  }
  .col-lg-4 {
    width: 33.33333333%;
  }
  .col-lg-3 {
    width: 25%;
  }
  .col-lg-2 {
    width: 16.66666667%;
  }
  .col-lg-1 {
    width: 8.33333333%;
  }
  .col-lg-pull-12 {
    right: 100%;
  }
  .col-lg-pull-11 {
    right: 91.66666667%;
  }
  .col-lg-pull-10 {
    right: 83.33333333%;
  }
  .col-lg-pull-9 {
    right: 75%;
  }
  .col-lg-pull-8 {
    right: 66.66666667%;
  }
  .col-lg-pull-7 {
    right: 58.33333333%;
  }
  .col-lg-pull-6 {
    right: 50%;
  }
  .col-lg-pull-5 {
    right: 41.66666667%;
  }
  .col-lg-pull-4 {
    right: 33.33333333%;
  }
  .col-lg-pull-3 {
    right: 25%;
  }
  .col-lg-pull-2 {
    right: 16.66666667%;
  }
  .col-lg-pull-1 {
    right: 8.33333333%;
  }
  .col-lg-pull-0 {
    right: auto;
  }
  .col-lg-push-12 {
    left: 100%;
  }
  .col-lg-push-11 {
    left: 91.66666667%;
  }
  .col-lg-push-10 {
    left: 83.33333333%;
  }
  .col-lg-push-9 {
    left: 75%;
  }
  .col-lg-push-8 {
    left: 66.66666667%;
  }
  .col-lg-push-7 {
    left: 58.33333333%;
  }
  .col-lg-push-6 {
    left: 50%;
  }
  .col-lg-push-5 {
    left: 41.66666667%;
  }
  .col-lg-push-4 {
    left: 33.33333333%;
  }
  .col-lg-push-3 {
    left: 25%;
  }
  .col-lg-push-2 {
    left: 16.66666667%;
  }
  .col-lg-push-1 {
    left: 8.33333333%;
  }
  .col-lg-push-0 {
    left: auto;
  }
  .col-lg-offset-12 {
    margin-left: 100%;
  }
  .col-lg-offset-11 {
    margin-left: 91.66666667%;
  }
  .col-lg-offset-10 {
    margin-left: 83.33333333%;
  }
  .col-lg-offset-9 {
    margin-left: 75%;
  }
  .col-lg-offset-8 {
    margin-left: 66.66666667%;
  }
  .col-lg-offset-7 {
    margin-left: 58.33333333%;
  }
  .col-lg-offset-6 {
    margin-left: 50%;
  }
  .col-lg-offset-5 {
    margin-left: 41.66666667%;
  }
  .col-lg-offset-4 {
    margin-left: 33.33333333%;
  }
  .col-lg-offset-3 {
    margin-left: 25%;
  }
  .col-lg-offset-2 {
    margin-left: 16.66666667%;
  }
  .col-lg-offset-1 {
    margin-left: 8.33333333%;
  }
  .col-lg-offset-0 {
    margin-left: 0%;
  }
}
table {
  background-color: transparent;
}
caption {
  padding-top: 8px;
  padding-bottom: 8px;
  color: #777777;
  text-align: left;
}
th {
  text-align: left;
}
.table {
  width: 100%;
  max-width: 100%;
  margin-bottom: 18px;
}
.table > thead > tr > th,
.table > tbody > tr > th,
.table > tfoot > tr > th,
.table > thead > tr > td,
.table > tbody > tr > td,
.table > tfoot > tr > td {
  padding: 8px;
  line-height: 1.42857143;
  vertical-align: top;
  border-top: 1px solid #ddd;
}
.table > thead > tr > th {
  vertical-align: bottom;
  border-bottom: 2px solid #ddd;
}
.table > caption + thead > tr:first-child > th,
.table > colgroup + thead > tr:first-child > th,
.table > thead:first-child > tr:first-child > th,
.table > caption + thead > tr:first-child > td,
.table > colgroup + thead > tr:first-child > td,
.table > thead:first-child > tr:first-child > td {
  border-top: 0;
}
.table > tbody + tbody {
  border-top: 2px solid #ddd;
}
.table .table {
  background-color: #fff;
}
.table-condensed > thead > tr > th,
.table-condensed > tbody > tr > th,
.table-condensed > tfoot > tr > th,
.table-condensed > thead > tr > td,
.table-condensed > tbody > tr > td,
.table-condensed > tfoot > tr > td {
  padding: 5px;
}
.table-bordered {
  border: 1px solid #ddd;
}
.table-bordered > thead > tr > th,
.table-bordered > tbody > tr > th,
.table-bordered > tfoot > tr > th,
.table-bordered > thead > tr > td,
.table-bordered > tbody > tr > td,
.table-bordered > tfoot > tr > td {
  border: 1px solid #ddd;
}
.table-bordered > thead > tr > th,
.table-bordered > thead > tr > td {
  border-bottom-width: 2px;
}
.table-striped > tbody > tr:nth-of-type(odd) {
  background-color: #f9f9f9;
}
.table-hover > tbody > tr:hover {
  background-color: #f5f5f5;
}
table col[class*="col-"] {
  position: static;
  float: none;
  display: table-column;
}
table td[class*="col-"],
table th[class*="col-"] {
  position: static;
  float: none;
  display: table-cell;
}
.table > thead > tr > td.active,
.table > tbody > tr > td.active,
.table > tfoot > tr > td.active,
.table > thead > tr > th.active,
.table > tbody > tr > th.active,
.table > tfoot > tr > th.active,
.table > thead > tr.active > td,
.table > tbody > tr.active > td,
.table > tfoot > tr.active > td,
.table > thead > tr.active > th,
.table > tbody > tr.active > th,
.table > tfoot > tr.active > th {
  background-color: #f5f5f5;
}
.table-hover > tbody > tr > td.active:hover,
.table-hover > tbody > tr > th.active:hover,
.table-hover > tbody > tr.active:hover > td,
.table-hover > tbody > tr:hover > .active,
.table-hover > tbody > tr.active:hover > th {
  background-color: #e8e8e8;
}
.table > thead > tr > td.success,
.table > tbody > tr > td.success,
.table > tfoot > tr > td.success,
.table > thead > tr > th.success,
.table > tbody > tr > th.success,
.table > tfoot > tr > th.success,
.table > thead > tr.success > td,
.table > tbody > tr.success > td,
.table > tfoot > tr.success > td,
.table > thead > tr.success > th,
.table > tbody > tr.success > th,
.table > tfoot > tr.success > th {
  background-color: #dff0d8;
}
.table-hover > tbody > tr > td.success:hover,
.table-hover > tbody > tr > th.success:hover,
.table-hover > tbody > tr.success:hover > td,
.table-hover > tbody > tr:hover > .success,
.table-hover > tbody > tr.success:hover > th {
  background-color: #d0e9c6;
}
.table > thead > tr > td.info,
.table > tbody > tr > td.info,
.table > tfoot > tr > td.info,
.table > thead > tr > th.info,
.table > tbody > tr > th.info,
.table > tfoot > tr > th.info,
.table > thead > tr.info > td,
.table > tbody > tr.info > td,
.table > tfoot > tr.info > td,
.table > thead > tr.info > th,
.table > tbody > tr.info > th,
.table > tfoot > tr.info > th {
  background-color: #d9edf7;
}
.table-hover > tbody > tr > td.info:hover,
.table-hover > tbody > tr > th.info:hover,
.table-hover > tbody > tr.info:hover > td,
.table-hover > tbody > tr:hover > .info,
.table-hover > tbody > tr.info:hover > th {
  background-color: #c4e3f3;
}
.table > thead > tr > td.warning,
.table > tbody > tr > td.warning,
.table > tfoot > tr > td.warning,
.table > thead > tr > th.warning,
.table > tbody > tr > th.warning,
.table > tfoot > tr > th.warning,
.table > thead > tr.warning > td,
.table > tbody > tr.warning > td,
.table > tfoot > tr.warning > td,
.table > thead > tr.warning > th,
.table > tbody > tr.warning > th,
.table > tfoot > tr.warning > th {
  background-color: #fcf8e3;
}
.table-hover > tbody > tr > td.warning:hover,
.table-hover > tbody > tr > th.warning:hover,
.table-hover > tbody > tr.warning:hover > td,
.table-hover > tbody > tr:hover > .warning,
.table-hover > tbody > tr.warning:hover > th {
  background-color: #faf2cc;
}
.table > thead > tr > td.danger,
.table > tbody > tr > td.danger,
.table > tfoot > tr > td.danger,
.table > thead > tr > th.danger,
.table > tbody > tr > th.danger,
.table > tfoot > tr > th.danger,
.table > thead > tr.danger > td,
.table > tbody > tr.danger > td,
.table > tfoot > tr.danger > td,
.table > thead > tr.danger > th,
.table > tbody > tr.danger > th,
.table > tfoot > tr.danger > th {
  background-color: #f2dede;
}
.table-hover > tbody > tr > td.danger:hover,
.table-hover > tbody > tr > th.danger:hover,
.table-hover > tbody > tr.danger:hover > td,
.table-hover > tbody > tr:hover > .danger,
.table-hover > tbody > tr.danger:hover > th {
  background-color: #ebcccc;
}
.table-responsive {
  overflow-x: auto;
  min-height: 0.01%;
}
@media screen and (max-width: 767px) {
  .table-responsive {
    width: 100%;
    margin-bottom: 13.5px;
    overflow-y: hidden;
    -ms-overflow-style: -ms-autohiding-scrollbar;
    border: 1px solid #ddd;
  }
  .table-responsive > .table {
    margin-bottom: 0;
  }
  .table-responsive > .table > thead > tr > th,
  .table-responsive > .table > tbody > tr > th,
  .table-responsive > .table > tfoot > tr > th,
  .table-responsive > .table > thead > tr > td,
  .table-responsive > .table > tbody > tr > td,
  .table-responsive > .table > tfoot > tr > td {
    white-space: nowrap;
  }
  .table-responsive > .table-bordered {
    border: 0;
  }
  .table-responsive > .table-bordered > thead > tr > th:first-child,
  .table-responsive > .table-bordered > tbody > tr > th:first-child,
  .table-responsive > .table-bordered > tfoot > tr > th:first-child,
  .table-responsive > .table-bordered > thead > tr > td:first-child,
  .table-responsive > .table-bordered > tbody > tr > td:first-child,
  .table-responsive > .table-bordered > tfoot > tr > td:first-child {
    border-left: 0;
  }
  .table-responsive > .table-bordered > thead > tr > th:last-child,
  .table-responsive > .table-bordered > tbody > tr > th:last-child,
  .table-responsive > .table-bordered > tfoot > tr > th:last-child,
  .table-responsive > .table-bordered > thead > tr > td:last-child,
  .table-responsive > .table-bordered > tbody > tr > td:last-child,
  .table-responsive > .table-bordered > tfoot > tr > td:last-child {
    border-right: 0;
  }
  .table-responsive > .table-bordered > tbody > tr:last-child > th,
  .table-responsive > .table-bordered > tfoot > tr:last-child > th,
  .table-responsive > .table-bordered > tbody > tr:last-child > td,
  .table-responsive > .table-bordered > tfoot > tr:last-child > td {
    border-bottom: 0;
  }
}
fieldset {
  padding: 0;
  margin: 0;
  border: 0;
  min-width: 0;
}
legend {
  display: block;
  width: 100%;
  padding: 0;
  margin-bottom: 18px;
  font-size: 19.5px;
  line-height: inherit;
  color: #333333;
  border: 0;
  border-bottom: 1px solid #e5e5e5;
}
label {
  display: inline-block;
  max-width: 100%;
  margin-bottom: 5px;
  font-weight: bold;
}
input[type="search"] {
  -webkit-box-sizing: border-box;
  -moz-box-sizing: border-box;
  box-sizing: border-box;
}
input[type="radio"],
input[type="checkbox"] {
  margin: 4px 0 0;
  margin-top: 1px \9;
  line-height: normal;
}
input[type="file"] {
  display: block;
}
input[type="range"] {
  display: block;
  width: 100%;
}
select[multiple],
select[size] {
  height: auto;
}
input[type="file"]:focus,
input[type="radio"]:focus,
input[type="checkbox"]:focus {
  outline: 5px auto -webkit-focus-ring-color;
  outline-offset: -2px;
}
output {
  display: block;
  padding-top: 7px;
  font-size: 13px;
  line-height: 1.42857143;
  color: #555555;
}
.form-control {
  display: block;
  width: 100%;
  height: 32px;
  padding: 6px 12px;
  font-size: 13px;
  line-height: 1.42857143;
  color: #555555;
  background-color: #fff;
  background-image: none;
  border: 1px solid #ccc;
  border-radius: 2px;
  -webkit-box-shadow: inset 0 1px 1px rgba(0, 0, 0, 0.075);
  box-shadow: inset 0 1px 1px rgba(0, 0, 0, 0.075);
  -webkit-transition: border-color ease-in-out .15s, box-shadow ease-in-out .15s;
  -o-transition: border-color ease-in-out .15s, box-shadow ease-in-out .15s;
  transition: border-color ease-in-out .15s, box-shadow ease-in-out .15s;
}
.form-control:focus {
  border-color: #66afe9;
  outline: 0;
  -webkit-box-shadow: inset 0 1px 1px rgba(0,0,0,.075), 0 0 8px rgba(102, 175, 233, 0.6);
  box-shadow: inset 0 1px 1px rgba(0,0,0,.075), 0 0 8px rgba(102, 175, 233, 0.6);
}
.form-control::-moz-placeholder {
  color: #999;
  opacity: 1;
}
.form-control:-ms-input-placeholder {
  color: #999;
}
.form-control::-webkit-input-placeholder {
  color: #999;
}
.form-control::-ms-expand {
  border: 0;
  background-color: transparent;
}
.form-control[disabled],
.form-control[readonly],
fieldset[disabled] .form-control {
  background-color: #eeeeee;
  opacity: 1;
}
.form-control[disabled],
fieldset[disabled] .form-control {
  cursor: not-allowed;
}
textarea.form-control {
  height: auto;
}
input[type="search"] {
  -webkit-appearance: none;
}
@media screen and (-webkit-min-device-pixel-ratio: 0) {
  input[type="date"].form-control,
  input[type="time"].form-control,
  input[type="datetime-local"].form-control,
  input[type="month"].form-control {
    line-height: 32px;
  }
  input[type="date"].input-sm,
  input[type="time"].input-sm,
  input[type="datetime-local"].input-sm,
  input[type="month"].input-sm,
  .input-group-sm input[type="date"],
  .input-group-sm input[type="time"],
  .input-group-sm input[type="datetime-local"],
  .input-group-sm input[type="month"] {
    line-height: 30px;
  }
  input[type="date"].input-lg,
  input[type="time"].input-lg,
  input[type="datetime-local"].input-lg,
  input[type="month"].input-lg,
  .input-group-lg input[type="date"],
  .input-group-lg input[type="time"],
  .input-group-lg input[type="datetime-local"],
  .input-group-lg input[type="month"] {
    line-height: 45px;
  }
}
.form-group {
  margin-bottom: 15px;
}
.radio,
.checkbox {
  position: relative;
  display: block;
  margin-top: 10px;
  margin-bottom: 10px;
}
.radio label,
.checkbox label {
  min-height: 18px;
  padding-left: 20px;
  margin-bottom: 0;
  font-weight: normal;
  cursor: pointer;
}
.radio input[type="radio"],
.radio-inline input[type="radio"],
.checkbox input[type="checkbox"],
.checkbox-inline input[type="checkbox"] {
  position: absolute;
  margin-left: -20px;
  margin-top: 4px \9;
}
.radio + .radio,
.checkbox + .checkbox {
  margin-top: -5px;
}
.radio-inline,
.checkbox-inline {
  position: relative;
  display: inline-block;
  padding-left: 20px;
  margin-bottom: 0;
  vertical-align: middle;
  font-weight: normal;
  cursor: pointer;
}
.radio-inline + .radio-inline,
.checkbox-inline + .checkbox-inline {
  margin-top: 0;
  margin-left: 10px;
}
input[type="radio"][disabled],
input[type="checkbox"][disabled],
input[type="radio"].disabled,
input[type="checkbox"].disabled,
fieldset[disabled] input[type="radio"],
fieldset[disabled] input[type="checkbox"] {
  cursor: not-allowed;
}
.radio-inline.disabled,
.checkbox-inline.disabled,
fieldset[disabled] .radio-inline,
fieldset[disabled] .checkbox-inline {
  cursor: not-allowed;
}
.radio.disabled label,
.checkbox.disabled label,
fieldset[disabled] .radio label,
fieldset[disabled] .checkbox label {
  cursor: not-allowed;
}
.form-control-static {
  padding-top: 7px;
  padding-bottom: 7px;
  margin-bottom: 0;
  min-height: 31px;
}
.form-control-static.input-lg,
.form-control-static.input-sm {
  padding-left: 0;
  padding-right: 0;
}
.input-sm {
  height: 30px;
  padding: 5px 10px;
  font-size: 12px;
  line-height: 1.5;
  border-radius: 1px;
}
select.input-sm {
  height: 30px;
  line-height: 30px;
}
textarea.input-sm,
select[multiple].input-sm {
  height: auto;
}
.form-group-sm .form-control {
  height: 30px;
  padding: 5px 10px;
  font-size: 12px;
  line-height: 1.5;
  border-radius: 1px;
}
.form-group-sm select.form-control {
  height: 30px;
  line-height: 30px;
}
.form-group-sm textarea.form-control,
.form-group-sm select[multiple].form-control {
  height: auto;
}
.form-group-sm .form-control-static {
  height: 30px;
  min-height: 30px;
  padding: 6px 10px;
  font-size: 12px;
  line-height: 1.5;
}
.input-lg {
  height: 45px;
  padding: 10px 16px;
  font-size: 17px;
  line-height: 1.3333333;
  border-radius: 3px;
}
select.input-lg {
  height: 45px;
  line-height: 45px;
}
textarea.input-lg,
select[multiple].input-lg {
  height: auto;
}
.form-group-lg .form-control {
  height: 45px;
  padding: 10px 16px;
  font-size: 17px;
  line-height: 1.3333333;
  border-radius: 3px;
}
.form-group-lg select.form-control {
  height: 45px;
  line-height: 45px;
}
.form-group-lg textarea.form-control,
.form-group-lg select[multiple].form-control {
  height: auto;
}
.form-group-lg .form-control-static {
  height: 45px;
  min-height: 35px;
  padding: 11px 16px;
  font-size: 17px;
  line-height: 1.3333333;
}
.has-feedback {
  position: relative;
}
.has-feedback .form-control {
  padding-right: 40px;
}
.form-control-feedback {
  position: absolute;
  top: 0;
  right: 0;
  z-index: 2;
  display: block;
  width: 32px;
  height: 32px;
  line-height: 32px;
  text-align: center;
  pointer-events: none;
}
.input-lg + .form-control-feedback,
.input-group-lg + .form-control-feedback,
.form-group-lg .form-control + .form-control-feedback {
  width: 45px;
  height: 45px;
  line-height: 45px;
}
.input-sm + .form-control-feedback,
.input-group-sm + .form-control-feedback,
.form-group-sm .form-control + .form-control-feedback {
  width: 30px;
  height: 30px;
  line-height: 30px;
}
.has-success .help-block,
.has-success .control-label,
.has-success .radio,
.has-success .checkbox,
.has-success .radio-inline,
.has-success .checkbox-inline,
.has-success.radio label,
.has-success.checkbox label,
.has-success.radio-inline label,
.has-success.checkbox-inline label {
  color: #3c763d;
}
.has-success .form-control {
  border-color: #3c763d;
  -webkit-box-shadow: inset 0 1px 1px rgba(0, 0, 0, 0.075);
  box-shadow: inset 0 1px 1px rgba(0, 0, 0, 0.075);
}
.has-success .form-control:focus {
  border-color: #2b542c;
  -webkit-box-shadow: inset 0 1px 1px rgba(0, 0, 0, 0.075), 0 0 6px #67b168;
  box-shadow: inset 0 1px 1px rgba(0, 0, 0, 0.075), 0 0 6px #67b168;
}
.has-success .input-group-addon {
  color: #3c763d;
  border-color: #3c763d;
  background-color: #dff0d8;
}
.has-success .form-control-feedback {
  color: #3c763d;
}
.has-warning .help-block,
.has-warning .control-label,
.has-warning .radio,
.has-warning .checkbox,
.has-warning .radio-inline,
.has-warning .checkbox-inline,
.has-warning.radio label,
.has-warning.checkbox label,
.has-warning.radio-inline label,
.has-warning.checkbox-inline label {
  color: #8a6d3b;
}
.has-warning .form-control {
  border-color: #8a6d3b;
  -webkit-box-shadow: inset 0 1px 1px rgba(0, 0, 0, 0.075);
  box-shadow: inset 0 1px 1px rgba(0, 0, 0, 0.075);
}
.has-warning .form-control:focus {
  border-color: #66512c;
  -webkit-box-shadow: inset 0 1px 1px rgba(0, 0, 0, 0.075), 0 0 6px #c0a16b;
  box-shadow: inset 0 1px 1px rgba(0, 0, 0, 0.075), 0 0 6px #c0a16b;
}
.has-warning .input-group-addon {
  color: #8a6d3b;
  border-color: #8a6d3b;
  background-color: #fcf8e3;
}
.has-warning .form-control-feedback {
  color: #8a6d3b;
}
.has-error .help-block,
.has-error .control-label,
.has-error .radio,
.has-error .checkbox,
.has-error .radio-inline,
.has-error .checkbox-inline,
.has-error.radio label,
.has-error.checkbox label,
.has-error.radio-inline label,
.has-error.checkbox-inline label {
  color: #a94442;
}
.has-error .form-control {
  border-color: #a94442;
  -webkit-box-shadow: inset 0 1px 1px rgba(0, 0, 0, 0.075);
  box-shadow: inset 0 1px 1px rgba(0, 0, 0, 0.075);
}
.has-error .form-control:focus {
  border-color: #843534;
  -webkit-box-shadow: inset 0 1px 1px rgba(0, 0, 0, 0.075), 0 0 6px #ce8483;
  box-shadow: inset 0 1px 1px rgba(0, 0, 0, 0.075), 0 0 6px #ce8483;
}
.has-error .input-group-addon {
  color: #a94442;
  border-color: #a94442;
  background-color: #f2dede;
}
.has-error .form-control-feedback {
  color: #a94442;
}
.has-feedback label ~ .form-control-feedback {
  top: 23px;
}
.has-feedback label.sr-only ~ .form-control-feedback {
  top: 0;
}
.help-block {
  display: block;
  margin-top: 5px;
  margin-bottom: 10px;
  color: #404040;
}
@media (min-width: 768px) {
  .form-inline .form-group {
    display: inline-block;
    margin-bottom: 0;
    vertical-align: middle;
  }
  .form-inline .form-control {
    display: inline-block;
    width: auto;
    vertical-align: middle;
  }
  .form-inline .form-control-static {
    display: inline-block;
  }
  .form-inline .input-group {
    display: inline-table;
    vertical-align: middle;
  }
  .form-inline .input-group .input-group-addon,
  .form-inline .input-group .input-group-btn,
  .form-inline .input-group .form-control {
    width: auto;
  }
  .form-inline .input-group > .form-control {
    width: 100%;
  }
  .form-inline .control-label {
    margin-bottom: 0;
    vertical-align: middle;
  }
  .form-inline .radio,
  .form-inline .checkbox {
    display: inline-block;
    margin-top: 0;
    margin-bottom: 0;
    vertical-align: middle;
  }
  .form-inline .radio label,
  .form-inline .checkbox label {
    padding-left: 0;
  }
  .form-inline .radio input[type="radio"],
  .form-inline .checkbox input[type="checkbox"] {
    position: relative;
    margin-left: 0;
  }
  .form-inline .has-feedback .form-control-feedback {
    top: 0;
  }
}
.form-horizontal .radio,
.form-horizontal .checkbox,
.form-horizontal .radio-inline,
.form-horizontal .checkbox-inline {
  margin-top: 0;
  margin-bottom: 0;
  padding-top: 7px;
}
.form-horizontal .radio,
.form-horizontal .checkbox {
  min-height: 25px;
}
.form-horizontal .form-group {
  margin-left: 0px;
  margin-right: 0px;
}
@media (min-width: 768px) {
  .form-horizontal .control-label {
    text-align: right;
    margin-bottom: 0;
    padding-top: 7px;
  }
}
.form-horizontal .has-feedback .form-control-feedback {
  right: 0px;
}
@media (min-width: 768px) {
  .form-horizontal .form-group-lg .control-label {
    padding-top: 11px;
    font-size: 17px;
  }
}
@media (min-width: 768px) {
  .form-horizontal .form-group-sm .control-label {
    padding-top: 6px;
    font-size: 12px;
  }
}
.btn {
  display: inline-block;
  margin-bottom: 0;
  font-weight: normal;
  text-align: center;
  vertical-align: middle;
  touch-action: manipulation;
  cursor: pointer;
  background-image: none;
  border: 1px solid transparent;
  white-space: nowrap;
  padding: 6px 12px;
  font-size: 13px;
  line-height: 1.42857143;
  border-radius: 2px;
  -webkit-user-select: none;
  -moz-user-select: none;
  -ms-user-select: none;
  user-select: none;
}
.btn:focus,
.btn:active:focus,
.btn.active:focus,
.btn.focus,
.btn:active.focus,
.btn.active.focus {
  outline: 5px auto -webkit-focus-ring-color;
  outline-offset: -2px;
}
.btn:hover,
.btn:focus,
.btn.focus {
  color: #333;
  text-decoration: none;
}
.btn:active,
.btn.active {
  outline: 0;
  background-image: none;
  -webkit-box-shadow: inset 0 3px 5px rgba(0, 0, 0, 0.125);
  box-shadow: inset 0 3px 5px rgba(0, 0, 0, 0.125);
}
.btn.disabled,
.btn[disabled],
fieldset[disabled] .btn {
  cursor: not-allowed;
  opacity: 0.65;
  filter: alpha(opacity=65);
  -webkit-box-shadow: none;
  box-shadow: none;
}
a.btn.disabled,
fieldset[disabled] a.btn {
  pointer-events: none;
}
.btn-default {
  color: #333;
  background-color: #fff;
  border-color: #ccc;
}
.btn-default:focus,
.btn-default.focus {
  color: #333;
  background-color: #e6e6e6;
  border-color: #8c8c8c;
}
.btn-default:hover {
  color: #333;
  background-color: #e6e6e6;
  border-color: #adadad;
}
.btn-default:active,
.btn-default.active,
.open > .dropdown-toggle.btn-default {
  color: #333;
  background-color: #e6e6e6;
  border-color: #adadad;
}
.btn-default:active:hover,
.btn-default.active:hover,
.open > .dropdown-toggle.btn-default:hover,
.btn-default:active:focus,
.btn-default.active:focus,
.open > .dropdown-toggle.btn-default:focus,
.btn-default:active.focus,
.btn-default.active.focus,
.open > .dropdown-toggle.btn-default.focus {
  color: #333;
  background-color: #d4d4d4;
  border-color: #8c8c8c;
}
.btn-default:active,
.btn-default.active,
.open > .dropdown-toggle.btn-default {
  background-image: none;
}
.btn-default.disabled:hover,
.btn-default[disabled]:hover,
fieldset[disabled] .btn-default:hover,
.btn-default.disabled:focus,
.btn-default[disabled]:focus,
fieldset[disabled] .btn-default:focus,
.btn-default.disabled.focus,
.btn-default[disabled].focus,
fieldset[disabled] .btn-default.focus {
  background-color: #fff;
  border-color: #ccc;
}
.btn-default .badge {
  color: #fff;
  background-color: #333;
}
.btn-primary {
  color: #fff;
  background-color: #337ab7;
  border-color: #2e6da4;
}
.btn-primary:focus,
.btn-primary.focus {
  color: #fff;
  background-color: #286090;
  border-color: #122b40;
}
.btn-primary:hover {
  color: #fff;
  background-color: #286090;
  border-color: #204d74;
}
.btn-primary:active,
.btn-primary.active,
.open > .dropdown-toggle.btn-primary {
  color: #fff;
  background-color: #286090;
  border-color: #204d74;
}
.btn-primary:active:hover,
.btn-primary.active:hover,
.open > .dropdown-toggle.btn-primary:hover,
.btn-primary:active:focus,
.btn-primary.active:focus,
.open > .dropdown-toggle.btn-primary:focus,
.btn-primary:active.focus,
.btn-primary.active.focus,
.open > .dropdown-toggle.btn-primary.focus {
  color: #fff;
  background-color: #204d74;
  border-color: #122b40;
}
.btn-primary:active,
.btn-primary.active,
.open > .dropdown-toggle.btn-primary {
  background-image: none;
}
.btn-primary.disabled:hover,
.btn-primary[disabled]:hover,
fieldset[disabled] .btn-primary:hover,
.btn-primary.disabled:focus,
.btn-primary[disabled]:focus,
fieldset[disabled] .btn-primary:focus,
.btn-primary.disabled.focus,
.btn-primary[disabled].focus,
fieldset[disabled] .btn-primary.focus {
  background-color: #337ab7;
  border-color: #2e6da4;
}
.btn-primary .badge {
  color: #337ab7;
  background-color: #fff;
}
.btn-success {
  color: #fff;
  background-color: #5cb85c;
  border-color: #4cae4c;
}
.btn-success:focus,
.btn-success.focus {
  color: #fff;
  background-color: #449d44;
  border-color: #255625;
}
.btn-success:hover {
  color: #fff;
  background-color: #449d44;
  border-color: #398439;
}
.btn-success:active,
.btn-success.active,
.open > .dropdown-toggle.btn-success {
  color: #fff;
  background-color: #449d44;
  border-color: #398439;
}
.btn-success:active:hover,
.btn-success.active:hover,
.open > .dropdown-toggle.btn-success:hover,
.btn-success:active:focus,
.btn-success.active:focus,
.open > .dropdown-toggle.btn-success:focus,
.btn-success:active.focus,
.btn-success.active.focus,
.open > .dropdown-toggle.btn-success.focus {
  color: #fff;
  background-color: #398439;
  border-color: #255625;
}
.btn-success:active,
.btn-success.active,
.open > .dropdown-toggle.btn-success {
  background-image: none;
}
.btn-success.disabled:hover,
.btn-success[disabled]:hover,
fieldset[disabled] .btn-success:hover,
.btn-success.disabled:focus,
.btn-success[disabled]:focus,
fieldset[disabled] .btn-success:focus,
.btn-success.disabled.focus,
.btn-success[disabled].focus,
fieldset[disabled] .btn-success.focus {
  background-color: #5cb85c;
  border-color: #4cae4c;
}
.btn-success .badge {
  color: #5cb85c;
  background-color: #fff;
}
.btn-info {
  color: #fff;
  background-color: #5bc0de;
  border-color: #46b8da;
}
.btn-info:focus,
.btn-info.focus {
  color: #fff;
  background-color: #31b0d5;
  border-color: #1b6d85;
}
.btn-info:hover {
  color: #fff;
  background-color: #31b0d5;
  border-color: #269abc;
}
.btn-info:active,
.btn-info.active,
.open > .dropdown-toggle.btn-info {
  color: #fff;
  background-color: #31b0d5;
  border-color: #269abc;
}
.btn-info:active:hover,
.btn-info.active:hover,
.open > .dropdown-toggle.btn-info:hover,
.btn-info:active:focus,
.btn-info.active:focus,
.open > .dropdown-toggle.btn-info:focus,
.btn-info:active.focus,
.btn-info.active.focus,
.open > .dropdown-toggle.btn-info.focus {
  color: #fff;
  background-color: #269abc;
  border-color: #1b6d85;
}
.btn-info:active,
.btn-info.active,
.open > .dropdown-toggle.btn-info {
  background-image: none;
}
.btn-info.disabled:hover,
.btn-info[disabled]:hover,
fieldset[disabled] .btn-info:hover,
.btn-info.disabled:focus,
.btn-info[disabled]:focus,
fieldset[disabled] .btn-info:focus,
.btn-info.disabled.focus,
.btn-info[disabled].focus,
fieldset[disabled] .btn-info.focus {
  background-color: #5bc0de;
  border-color: #46b8da;
}
.btn-info .badge {
  color: #5bc0de;
  background-color: #fff;
}
.btn-warning {
  color: #fff;
  background-color: #f0ad4e;
  border-color: #eea236;
}
.btn-warning:focus,
.btn-warning.focus {
  color: #fff;
  background-color: #ec971f;
  border-color: #985f0d;
}
.btn-warning:hover {
  color: #fff;
  background-color: #ec971f;
  border-color: #d58512;
}
.btn-warning:active,
.btn-warning.active,
.open > .dropdown-toggle.btn-warning {
  color: #fff;
  background-color: #ec971f;
  border-color: #d58512;
}
.btn-warning:active:hover,
.btn-warning.active:hover,
.open > .dropdown-toggle.btn-warning:hover,
.btn-warning:active:focus,
.btn-warning.active:focus,
.open > .dropdown-toggle.btn-warning:focus,
.btn-warning:active.focus,
.btn-warning.active.focus,
.open > .dropdown-toggle.btn-warning.focus {
  color: #fff;
  background-color: #d58512;
  border-color: #985f0d;
}
.btn-warning:active,
.btn-warning.active,
.open > .dropdown-toggle.btn-warning {
  background-image: none;
}
.btn-warning.disabled:hover,
.btn-warning[disabled]:hover,
fieldset[disabled] .btn-warning:hover,
.btn-warning.disabled:focus,
.btn-warning[disabled]:focus,
fieldset[disabled] .btn-warning:focus,
.btn-warning.disabled.focus,
.btn-warning[disabled].focus,
fieldset[disabled] .btn-warning.focus {
  background-color: #f0ad4e;
  border-color: #eea236;
}
.btn-warning .badge {
  color: #f0ad4e;
  background-color: #fff;
}
.btn-danger {
  color: #fff;
  background-color: #d9534f;
  border-color: #d43f3a;
}
.btn-danger:focus,
.btn-danger.focus {
  color: #fff;
  background-color: #c9302c;
  border-color: #761c19;
}
.btn-danger:hover {
  color: #fff;
  background-color: #c9302c;
  border-color: #ac2925;
}
.btn-danger:active,
.btn-danger.active,
.open > .dropdown-toggle.btn-danger {
  color: #fff;
  background-color: #c9302c;
  border-color: #ac2925;
}
.btn-danger:active:hover,
.btn-danger.active:hover,
.open > .dropdown-toggle.btn-danger:hover,
.btn-danger:active:focus,
.btn-danger.active:focus,
.open > .dropdown-toggle.btn-danger:focus,
.btn-danger:active.focus,
.btn-danger.active.focus,
.open > .dropdown-toggle.btn-danger.focus {
  color: #fff;
  background-color: #ac2925;
  border-color: #761c19;
}
.btn-danger:active,
.btn-danger.active,
.open > .dropdown-toggle.btn-danger {
  background-image: none;
}
.btn-danger.disabled:hover,
.btn-danger[disabled]:hover,
fieldset[disabled] .btn-danger:hover,
.btn-danger.disabled:focus,
.btn-danger[disabled]:focus,
fieldset[disabled] .btn-danger:focus,
.btn-danger.disabled.focus,
.btn-danger[disabled].focus,
fieldset[disabled] .btn-danger.focus {
  background-color: #d9534f;
  border-color: #d43f3a;
}
.btn-danger .badge {
  color: #d9534f;
  background-color: #fff;
}
.btn-link {
  color: #337ab7;
  font-weight: normal;
  border-radius: 0;
}
.btn-link,
.btn-link:active,
.btn-link.active,
.btn-link[disabled],
fieldset[disabled] .btn-link {
  background-color: transparent;
  -webkit-box-shadow: none;
  box-shadow: none;
}
.btn-link,
.btn-link:hover,
.btn-link:focus,
.btn-link:active {
  border-color: transparent;
}
.btn-link:hover,
.btn-link:focus {
  color: #23527c;
  text-decoration: underline;
  background-color: transparent;
}
.btn-link[disabled]:hover,
fieldset[disabled] .btn-link:hover,
.btn-link[disabled]:focus,
fieldset[disabled] .btn-link:focus {
  color: #777777;
  text-decoration: none;
}
.btn-lg,
.btn-group-lg > .btn {
  padding: 10px 16px;
  font-size: 17px;
  line-height: 1.3333333;
  border-radius: 3px;
}
.btn-sm,
.btn-group-sm > .btn {
  padding: 5px 10px;
  font-size: 12px;
  line-height: 1.5;
  border-radius: 1px;
}
.btn-xs,
.btn-group-xs > .btn {
  padding: 1px 5px;
  font-size: 12px;
  line-height: 1.5;
  border-radius: 1px;
}
.btn-block {
  display: block;
  width: 100%;
}
.btn-block + .btn-block {
  margin-top: 5px;
}
input[type="submit"].btn-block,
input[type="reset"].btn-block,
input[type="button"].btn-block {
  width: 100%;
}
.fade {
  opacity: 0;
  -webkit-transition: opacity 0.15s linear;
  -o-transition: opacity 0.15s linear;
  transition: opacity 0.15s linear;
}
.fade.in {
  opacity: 1;
}
.collapse {
  display: none;
}
.collapse.in {
  display: block;
}
tr.collapse.in {
  display: table-row;
}
tbody.collapse.in {
  display: table-row-group;
}
.collapsing {
  position: relative;
  height: 0;
  overflow: hidden;
  -webkit-transition-property: height, visibility;
  transition-property: height, visibility;
  -webkit-transition-duration: 0.35s;
  transition-duration: 0.35s;
  -webkit-transition-timing-function: ease;
  transition-timing-function: ease;
}
.caret {
  display: inline-block;
  width: 0;
  height: 0;
  margin-left: 2px;
  vertical-align: middle;
  border-top: 4px dashed;
  border-top: 4px solid \9;
  border-right: 4px solid transparent;
  border-left: 4px solid transparent;
}
.dropup,
.dropdown {
  position: relative;
}
.dropdown-toggle:focus {
  outline: 0;
}
.dropdown-menu {
  position: absolute;
  top: 100%;
  left: 0;
  z-index: 1000;
  display: none;
  float: left;
  min-width: 160px;
  padding: 5px 0;
  margin: 2px 0 0;
  list-style: none;
  font-size: 13px;
  text-align: left;
  background-color: #fff;
  border: 1px solid #ccc;
  border: 1px solid rgba(0, 0, 0, 0.15);
  border-radius: 2px;
  -webkit-box-shadow: 0 6px 12px rgba(0, 0, 0, 0.175);
  box-shadow: 0 6px 12px rgba(0, 0, 0, 0.175);
  background-clip: padding-box;
}
.dropdown-menu.pull-right {
  right: 0;
  left: auto;
}
.dropdown-menu .divider {
  height: 1px;
  margin: 8px 0;
  overflow: hidden;
  background-color: #e5e5e5;
}
.dropdown-menu > li > a {
  display: block;
  padding: 3px 20px;
  clear: both;
  font-weight: normal;
  line-height: 1.42857143;
  color: #333333;
  white-space: nowrap;
}
.dropdown-menu > li > a:hover,
.dropdown-menu > li > a:focus {
  text-decoration: none;
  color: #262626;
  background-color: #f5f5f5;
}
.dropdown-menu > .active > a,
.dropdown-menu > .active > a:hover,
.dropdown-menu > .active > a:focus {
  color: #fff;
  text-decoration: none;
  outline: 0;
  background-color: #337ab7;
}
.dropdown-menu > .disabled > a,
.dropdown-menu > .disabled > a:hover,
.dropdown-menu > .disabled > a:focus {
  color: #777777;
}
.dropdown-menu > .disabled > a:hover,
.dropdown-menu > .disabled > a:focus {
  text-decoration: none;
  background-color: transparent;
  background-image: none;
  filter: progid:DXImageTransform.Microsoft.gradient(enabled = false);
  cursor: not-allowed;
}
.open > .dropdown-menu {
  display: block;
}
.open > a {
  outline: 0;
}
.dropdown-menu-right {
  left: auto;
  right: 0;
}
.dropdown-menu-left {
  left: 0;
  right: auto;
}
.dropdown-header {
  display: block;
  padding: 3px 20px;
  font-size: 12px;
  line-height: 1.42857143;
  color: #777777;
  white-space: nowrap;
}
.dropdown-backdrop {
  position: fixed;
  left: 0;
  right: 0;
  bottom: 0;
  top: 0;
  z-index: 990;
}
.pull-right > .dropdown-menu {
  right: 0;
  left: auto;
}
.dropup .caret,
.navbar-fixed-bottom .dropdown .caret {
  border-top: 0;
  border-bottom: 4px dashed;
  border-bottom: 4px solid \9;
  content: "";
}
.dropup .dropdown-menu,
.navbar-fixed-bottom .dropdown .dropdown-menu {
  top: auto;
  bottom: 100%;
  margin-bottom: 2px;
}
@media (min-width: 541px) {
  .navbar-right .dropdown-menu {
    left: auto;
    right: 0;
  }
  .navbar-right .dropdown-menu-left {
    left: 0;
    right: auto;
  }
}
.btn-group,
.btn-group-vertical {
  position: relative;
  display: inline-block;
  vertical-align: middle;
}
.btn-group > .btn,
.btn-group-vertical > .btn {
  position: relative;
  float: left;
}
.btn-group > .btn:hover,
.btn-group-vertical > .btn:hover,
.btn-group > .btn:focus,
.btn-group-vertical > .btn:focus,
.btn-group > .btn:active,
.btn-group-vertical > .btn:active,
.btn-group > .btn.active,
.btn-group-vertical > .btn.active {
  z-index: 2;
}
.btn-group .btn + .btn,
.btn-group .btn + .btn-group,
.btn-group .btn-group + .btn,
.btn-group .btn-group + .btn-group {
  margin-left: -1px;
}
.btn-toolbar {
  margin-left: -5px;
}
.btn-toolbar .btn,
.btn-toolbar .btn-group,
.btn-toolbar .input-group {
  float: left;
}
.btn-toolbar > .btn,
.btn-toolbar > .btn-group,
.btn-toolbar > .input-group {
  margin-left: 5px;
}
.btn-group > .btn:not(:first-child):not(:last-child):not(.dropdown-toggle) {
  border-radius: 0;
}
.btn-group > .btn:first-child {
  margin-left: 0;
}
.btn-group > .btn:first-child:not(:last-child):not(.dropdown-toggle) {
  border-bottom-right-radius: 0;
  border-top-right-radius: 0;
}
.btn-group > .btn:last-child:not(:first-child),
.btn-group > .dropdown-toggle:not(:first-child) {
  border-bottom-left-radius: 0;
  border-top-left-radius: 0;
}
.btn-group > .btn-group {
  float: left;
}
.btn-group > .btn-group:not(:first-child):not(:last-child) > .btn {
  border-radius: 0;
}
.btn-group > .btn-group:first-child:not(:last-child) > .btn:last-child,
.btn-group > .btn-group:first-child:not(:last-child) > .dropdown-toggle {
  border-bottom-right-radius: 0;
  border-top-right-radius: 0;
}
.btn-group > .btn-group:last-child:not(:first-child) > .btn:first-child {
  border-bottom-left-radius: 0;
  border-top-left-radius: 0;
}
.btn-group .dropdown-toggle:active,
.btn-group.open .dropdown-toggle {
  outline: 0;
}
.btn-group > .btn + .dropdown-toggle {
  padding-left: 8px;
  padding-right: 8px;
}
.btn-group > .btn-lg + .dropdown-toggle {
  padding-left: 12px;
  padding-right: 12px;
}
.btn-group.open .dropdown-toggle {
  -webkit-box-shadow: inset 0 3px 5px rgba(0, 0, 0, 0.125);
  box-shadow: inset 0 3px 5px rgba(0, 0, 0, 0.125);
}
.btn-group.open .dropdown-toggle.btn-link {
  -webkit-box-shadow: none;
  box-shadow: none;
}
.btn .caret {
  margin-left: 0;
}
.btn-lg .caret {
  border-width: 5px 5px 0;
  border-bottom-width: 0;
}
.dropup .btn-lg .caret {
  border-width: 0 5px 5px;
}
.btn-group-vertical > .btn,
.btn-group-vertical > .btn-group,
.btn-group-vertical > .btn-group > .btn {
  display: block;
  float: none;
  width: 100%;
  max-width: 100%;
}
.btn-group-vertical > .btn-group > .btn {
  float: none;
}
.btn-group-vertical > .btn + .btn,
.btn-group-vertical > .btn + .btn-group,
.btn-group-vertical > .btn-group + .btn,
.btn-group-vertical > .btn-group + .btn-group {
  margin-top: -1px;
  margin-left: 0;
}
.btn-group-vertical > .btn:not(:first-child):not(:last-child) {
  border-radius: 0;
}
.btn-group-vertical > .btn:first-child:not(:last-child) {
  border-top-right-radius: 2px;
  border-top-left-radius: 2px;
  border-bottom-right-radius: 0;
  border-bottom-left-radius: 0;
}
.btn-group-vertical > .btn:last-child:not(:first-child) {
  border-top-right-radius: 0;
  border-top-left-radius: 0;
  border-bottom-right-radius: 2px;
  border-bottom-left-radius: 2px;
}
.btn-group-vertical > .btn-group:not(:first-child):not(:last-child) > .btn {
  border-radius: 0;
}
.btn-group-vertical > .btn-group:first-child:not(:last-child) > .btn:last-child,
.btn-group-vertical > .btn-group:first-child:not(:last-child) > .dropdown-toggle {
  border-bottom-right-radius: 0;
  border-bottom-left-radius: 0;
}
.btn-group-vertical > .btn-group:last-child:not(:first-child) > .btn:first-child {
  border-top-right-radius: 0;
  border-top-left-radius: 0;
}
.btn-group-justified {
  display: table;
  width: 100%;
  table-layout: fixed;
  border-collapse: separate;
}
.btn-group-justified > .btn,
.btn-group-justified > .btn-group {
  float: none;
  display: table-cell;
  width: 1%;
}
.btn-group-justified > .btn-group .btn {
  width: 100%;
}
.btn-group-justified > .btn-group .dropdown-menu {
  left: auto;
}
[data-toggle="buttons"] > .btn input[type="radio"],
[data-toggle="buttons"] > .btn-group > .btn input[type="radio"],
[data-toggle="buttons"] > .btn input[type="checkbox"],
[data-toggle="buttons"] > .btn-group > .btn input[type="checkbox"] {
  position: absolute;
  clip: rect(0, 0, 0, 0);
  pointer-events: none;
}
.input-group {
  position: relative;
  display: table;
  border-collapse: separate;
}
.input-group[class*="col-"] {
  float: none;
  padding-left: 0;
  padding-right: 0;
}
.input-group .form-control {
  position: relative;
  z-index: 2;
  float: left;
  width: 100%;
  margin-bottom: 0;
}
.input-group .form-control:focus {
  z-index: 3;
}
.input-group-lg > .form-control,
.input-group-lg > .input-group-addon,
.input-group-lg > .input-group-btn > .btn {
  height: 45px;
  padding: 10px 16px;
  font-size: 17px;
  line-height: 1.3333333;
  border-radius: 3px;
}
select.input-group-lg > .form-control,
select.input-group-lg > .input-group-addon,
select.input-group-lg > .input-group-btn > .btn {
  height: 45px;
  line-height: 45px;
}
textarea.input-group-lg > .form-control,
textarea.input-group-lg > .input-group-addon,
textarea.input-group-lg > .input-group-btn > .btn,
select[multiple].input-group-lg > .form-control,
select[multiple].input-group-lg > .input-group-addon,
select[multiple].input-group-lg > .input-group-btn > .btn {
  height: auto;
}
.input-group-sm > .form-control,
.input-group-sm > .input-group-addon,
.input-group-sm > .input-group-btn > .btn {
  height: 30px;
  padding: 5px 10px;
  font-size: 12px;
  line-height: 1.5;
  border-radius: 1px;
}
select.input-group-sm > .form-control,
select.input-group-sm > .input-group-addon,
select.input-group-sm > .input-group-btn > .btn {
  height: 30px;
  line-height: 30px;
}
textarea.input-group-sm > .form-control,
textarea.input-group-sm > .input-group-addon,
textarea.input-group-sm > .input-group-btn > .btn,
select[multiple].input-group-sm > .form-control,
select[multiple].input-group-sm > .input-group-addon,
select[multiple].input-group-sm > .input-group-btn > .btn {
  height: auto;
}
.input-group-addon,
.input-group-btn,
.input-group .form-control {
  display: table-cell;
}
.input-group-addon:not(:first-child):not(:last-child),
.input-group-btn:not(:first-child):not(:last-child),
.input-group .form-control:not(:first-child):not(:last-child) {
  border-radius: 0;
}
.input-group-addon,
.input-group-btn {
  width: 1%;
  white-space: nowrap;
  vertical-align: middle;
}
.input-group-addon {
  padding: 6px 12px;
  font-size: 13px;
  font-weight: normal;
  line-height: 1;
  color: #555555;
  text-align: center;
  background-color: #eeeeee;
  border: 1px solid #ccc;
  border-radius: 2px;
}
.input-group-addon.input-sm {
  padding: 5px 10px;
  font-size: 12px;
  border-radius: 1px;
}
.input-group-addon.input-lg {
  padding: 10px 16px;
  font-size: 17px;
  border-radius: 3px;
}
.input-group-addon input[type="radio"],
.input-group-addon input[type="checkbox"] {
  margin-top: 0;
}
.input-group .form-control:first-child,
.input-group-addon:first-child,
.input-group-btn:first-child > .btn,
.input-group-btn:first-child > .btn-group > .btn,
.input-group-btn:first-child > .dropdown-toggle,
.input-group-btn:last-child > .btn:not(:last-child):not(.dropdown-toggle),
.input-group-btn:last-child > .btn-group:not(:last-child) > .btn {
  border-bottom-right-radius: 0;
  border-top-right-radius: 0;
}
.input-group-addon:first-child {
  border-right: 0;
}
.input-group .form-control:last-child,
.input-group-addon:last-child,
.input-group-btn:last-child > .btn,
.input-group-btn:last-child > .btn-group > .btn,
.input-group-btn:last-child > .dropdown-toggle,
.input-group-btn:first-child > .btn:not(:first-child),
.input-group-btn:first-child > .btn-group:not(:first-child) > .btn {
  border-bottom-left-radius: 0;
  border-top-left-radius: 0;
}
.input-group-addon:last-child {
  border-left: 0;
}
.input-group-btn {
  position: relative;
  font-size: 0;
  white-space: nowrap;
}
.input-group-btn > .btn {
  position: relative;
}
.input-group-btn > .btn + .btn {
  margin-left: -1px;
}
.input-group-btn > .btn:hover,
.input-group-btn > .btn:focus,
.input-group-btn > .btn:active {
  z-index: 2;
}
.input-group-btn:first-child > .btn,
.input-group-btn:first-child > .btn-group {
  margin-right: -1px;
}
.input-group-btn:last-child > .btn,
.input-group-btn:last-child > .btn-group {
  z-index: 2;
  margin-left: -1px;
}
.nav {
  margin-bottom: 0;
  padding-left: 0;
  list-style: none;
}
.nav > li {
  position: relative;
  display: block;
}
.nav > li > a {
  position: relative;
  display: block;
  padding: 10px 15px;
}
.nav > li > a:hover,
.nav > li > a:focus {
  text-decoration: none;
  background-color: #eeeeee;
}
.nav > li.disabled > a {
  color: #777777;
}
.nav > li.disabled > a:hover,
.nav > li.disabled > a:focus {
  color: #777777;
  text-decoration: none;
  background-color: transparent;
  cursor: not-allowed;
}
.nav .open > a,
.nav .open > a:hover,
.nav .open > a:focus {
  background-color: #eeeeee;
  border-color: #337ab7;
}
.nav .nav-divider {
  height: 1px;
  margin: 8px 0;
  overflow: hidden;
  background-color: #e5e5e5;
}
.nav > li > a > img {
  max-width: none;
}
.nav-tabs {
  border-bottom: 1px solid #ddd;
}
.nav-tabs > li {
  float: left;
  margin-bottom: -1px;
}
.nav-tabs > li > a {
  margin-right: 2px;
  line-height: 1.42857143;
  border: 1px solid transparent;
  border-radius: 2px 2px 0 0;
}
.nav-tabs > li > a:hover {
  border-color: #eeeeee #eeeeee #ddd;
}
.nav-tabs > li.active > a,
.nav-tabs > li.active > a:hover,
.nav-tabs > li.active > a:focus {
  color: #555555;
  background-color: #fff;
  border: 1px solid #ddd;
  border-bottom-color: transparent;
  cursor: default;
}
.nav-tabs.nav-justified {
  width: 100%;
  border-bottom: 0;
}
.nav-tabs.nav-justified > li {
  float: none;
}
.nav-tabs.nav-justified > li > a {
  text-align: center;
  margin-bottom: 5px;
}
.nav-tabs.nav-justified > .dropdown .dropdown-menu {
  top: auto;
  left: auto;
}
@media (min-width: 768px) {
  .nav-tabs.nav-justified > li {
    display: table-cell;
    width: 1%;
  }
  .nav-tabs.nav-justified > li > a {
    margin-bottom: 0;
  }
}
.nav-tabs.nav-justified > li > a {
  margin-right: 0;
  border-radius: 2px;
}
.nav-tabs.nav-justified > .active > a,
.nav-tabs.nav-justified > .active > a:hover,
.nav-tabs.nav-justified > .active > a:focus {
  border: 1px solid #ddd;
}
@media (min-width: 768px) {
  .nav-tabs.nav-justified > li > a {
    border-bottom: 1px solid #ddd;
    border-radius: 2px 2px 0 0;
  }
  .nav-tabs.nav-justified > .active > a,
  .nav-tabs.nav-justified > .active > a:hover,
  .nav-tabs.nav-justified > .active > a:focus {
    border-bottom-color: #fff;
  }
}
.nav-pills > li {
  float: left;
}
.nav-pills > li > a {
  border-radius: 2px;
}
.nav-pills > li + li {
  margin-left: 2px;
}
.nav-pills > li.active > a,
.nav-pills > li.active > a:hover,
.nav-pills > li.active > a:focus {
  color: #fff;
  background-color: #337ab7;
}
.nav-stacked > li {
  float: none;
}
.nav-stacked > li + li {
  margin-top: 2px;
  margin-left: 0;
}
.nav-justified {
  width: 100%;
}
.nav-justified > li {
  float: none;
}
.nav-justified > li > a {
  text-align: center;
  margin-bottom: 5px;
}
.nav-justified > .dropdown .dropdown-menu {
  top: auto;
  left: auto;
}
@media (min-width: 768px) {
  .nav-justified > li {
    display: table-cell;
    width: 1%;
  }
  .nav-justified > li > a {
    margin-bottom: 0;
  }
}
.nav-tabs-justified {
  border-bottom: 0;
}
.nav-tabs-justified > li > a {
  margin-right: 0;
  border-radius: 2px;
}
.nav-tabs-justified > .active > a,
.nav-tabs-justified > .active > a:hover,
.nav-tabs-justified > .active > a:focus {
  border: 1px solid #ddd;
}
@media (min-width: 768px) {
  .nav-tabs-justified > li > a {
    border-bottom: 1px solid #ddd;
    border-radius: 2px 2px 0 0;
  }
  .nav-tabs-justified > .active > a,
  .nav-tabs-justified > .active > a:hover,
  .nav-tabs-justified > .active > a:focus {
    border-bottom-color: #fff;
  }
}
.tab-content > .tab-pane {
  display: none;
}
.tab-content > .active {
  display: block;
}
.nav-tabs .dropdown-menu {
  margin-top: -1px;
  border-top-right-radius: 0;
  border-top-left-radius: 0;
}
.navbar {
  position: relative;
  min-height: 30px;
  margin-bottom: 18px;
  border: 1px solid transparent;
}
@media (min-width: 541px) {
  .navbar {
    border-radius: 2px;
  }
}
@media (min-width: 541px) {
  .navbar-header {
    float: left;
  }
}
.navbar-collapse {
  overflow-x: visible;
  padding-right: 0px;
  padding-left: 0px;
  border-top: 1px solid transparent;
  box-shadow: inset 0 1px 0 rgba(255, 255, 255, 0.1);
  -webkit-overflow-scrolling: touch;
}
.navbar-collapse.in {
  overflow-y: auto;
}
@media (min-width: 541px) {
  .navbar-collapse {
    width: auto;
    border-top: 0;
    box-shadow: none;
  }
  .navbar-collapse.collapse {
    display: block !important;
    height: auto !important;
    padding-bottom: 0;
    overflow: visible !important;
  }
  .navbar-collapse.in {
    overflow-y: visible;
  }
  .navbar-fixed-top .navbar-collapse,
  .navbar-static-top .navbar-collapse,
  .navbar-fixed-bottom .navbar-collapse {
    padding-left: 0;
    padding-right: 0;
  }
}
.navbar-fixed-top .navbar-collapse,
.navbar-fixed-bottom .navbar-collapse {
  max-height: 340px;
}
@media (max-device-width: 540px) and (orientation: landscape) {
  .navbar-fixed-top .navbar-collapse,
  .navbar-fixed-bottom .navbar-collapse {
    max-height: 200px;
  }
}
.container > .navbar-header,
.container-fluid > .navbar-header,
.container > .navbar-collapse,
.container-fluid > .navbar-collapse {
  margin-right: 0px;
  margin-left: 0px;
}
@media (min-width: 541px) {
  .container > .navbar-header,
  .container-fluid > .navbar-header,
  .container > .navbar-collapse,
  .container-fluid > .navbar-collapse {
    margin-right: 0;
    margin-left: 0;
  }
}
.navbar-static-top {
  z-index: 1000;
  border-width: 0 0 1px;
}
@media (min-width: 541px) {
  .navbar-static-top {
    border-radius: 0;
  }
}
.navbar-fixed-top,
.navbar-fixed-bottom {
  position: fixed;
  right: 0;
  left: 0;
  z-index: 1030;
}
@media (min-width: 541px) {
  .navbar-fixed-top,
  .navbar-fixed-bottom {
    border-radius: 0;
  }
}
.navbar-fixed-top {
  top: 0;
  border-width: 0 0 1px;
}
.navbar-fixed-bottom {
  bottom: 0;
  margin-bottom: 0;
  border-width: 1px 0 0;
}
.navbar-brand {
  float: left;
  padding: 6px 0px;
  font-size: 17px;
  line-height: 18px;
  height: 30px;
}
.navbar-brand:hover,
.navbar-brand:focus {
  text-decoration: none;
}
.navbar-brand > img {
  display: block;
}
@media (min-width: 541px) {
  .navbar > .container .navbar-brand,
  .navbar > .container-fluid .navbar-brand {
    margin-left: 0px;
  }
}
.navbar-toggle {
  position: relative;
  float: right;
  margin-right: 0px;
  padding: 9px 10px;
  margin-top: -2px;
  margin-bottom: -2px;
  background-color: transparent;
  background-image: none;
  border: 1px solid transparent;
  border-radius: 2px;
}
.navbar-toggle:focus {
  outline: 0;
}
.navbar-toggle .icon-bar {
  display: block;
  width: 22px;
  height: 2px;
  border-radius: 1px;
}
.navbar-toggle .icon-bar + .icon-bar {
  margin-top: 4px;
}
@media (min-width: 541px) {
  .navbar-toggle {
    display: none;
  }
}
.navbar-nav {
  margin: 3px 0px;
}
.navbar-nav > li > a {
  padding-top: 10px;
  padding-bottom: 10px;
  line-height: 18px;
}
@media (max-width: 540px) {
  .navbar-nav .open .dropdown-menu {
    position: static;
    float: none;
    width: auto;
    margin-top: 0;
    background-color: transparent;
    border: 0;
    box-shadow: none;
  }
  .navbar-nav .open .dropdown-menu > li > a,
  .navbar-nav .open .dropdown-menu .dropdown-header {
    padding: 5px 15px 5px 25px;
  }
  .navbar-nav .open .dropdown-menu > li > a {
    line-height: 18px;
  }
  .navbar-nav .open .dropdown-menu > li > a:hover,
  .navbar-nav .open .dropdown-menu > li > a:focus {
    background-image: none;
  }
}
@media (min-width: 541px) {
  .navbar-nav {
    float: left;
    margin: 0;
  }
  .navbar-nav > li {
    float: left;
  }
  .navbar-nav > li > a {
    padding-top: 6px;
    padding-bottom: 6px;
  }
}
.navbar-form {
  margin-left: 0px;
  margin-right: 0px;
  padding: 10px 0px;
  border-top: 1px solid transparent;
  border-bottom: 1px solid transparent;
  -webkit-box-shadow: inset 0 1px 0 rgba(255, 255, 255, 0.1), 0 1px 0 rgba(255, 255, 255, 0.1);
  box-shadow: inset 0 1px 0 rgba(255, 255, 255, 0.1), 0 1px 0 rgba(255, 255, 255, 0.1);
  margin-top: -1px;
  margin-bottom: -1px;
}
@media (min-width: 768px) {
  .navbar-form .form-group {
    display: inline-block;
    margin-bottom: 0;
    vertical-align: middle;
  }
  .navbar-form .form-control {
    display: inline-block;
    width: auto;
    vertical-align: middle;
  }
  .navbar-form .form-control-static {
    display: inline-block;
  }
  .navbar-form .input-group {
    display: inline-table;
    vertical-align: middle;
  }
  .navbar-form .input-group .input-group-addon,
  .navbar-form .input-group .input-group-btn,
  .navbar-form .input-group .form-control {
    width: auto;
  }
  .navbar-form .input-group > .form-control {
    width: 100%;
  }
  .navbar-form .control-label {
    margin-bottom: 0;
    vertical-align: middle;
  }
  .navbar-form .radio,
  .navbar-form .checkbox {
    display: inline-block;
    margin-top: 0;
    margin-bottom: 0;
    vertical-align: middle;
  }
  .navbar-form .radio label,
  .navbar-form .checkbox label {
    padding-left: 0;
  }
  .navbar-form .radio input[type="radio"],
  .navbar-form .checkbox input[type="checkbox"] {
    position: relative;
    margin-left: 0;
  }
  .navbar-form .has-feedback .form-control-feedback {
    top: 0;
  }
}
@media (max-width: 540px) {
  .navbar-form .form-group {
    margin-bottom: 5px;
  }
  .navbar-form .form-group:last-child {
    margin-bottom: 0;
  }
}
@media (min-width: 541px) {
  .navbar-form {
    width: auto;
    border: 0;
    margin-left: 0;
    margin-right: 0;
    padding-top: 0;
    padding-bottom: 0;
    -webkit-box-shadow: none;
    box-shadow: none;
  }
}
.navbar-nav > li > .dropdown-menu {
  margin-top: 0;
  border-top-right-radius: 0;
  border-top-left-radius: 0;
}
.navbar-fixed-bottom .navbar-nav > li > .dropdown-menu {
  margin-bottom: 0;
  border-top-right-radius: 2px;
  border-top-left-radius: 2px;
  border-bottom-right-radius: 0;
  border-bottom-left-radius: 0;
}
.navbar-btn {
  margin-top: -1px;
  margin-bottom: -1px;
}
.navbar-btn.btn-sm {
  margin-top: 0px;
  margin-bottom: 0px;
}
.navbar-btn.btn-xs {
  margin-top: 4px;
  margin-bottom: 4px;
}
.navbar-text {
  margin-top: 6px;
  margin-bottom: 6px;
}
@media (min-width: 541px) {
  .navbar-text {
    float: left;
    margin-left: 0px;
    margin-right: 0px;
  }
}
@media (min-width: 541px) {
  .navbar-left {
    float: left !important;
    float: left;
  }
  .navbar-right {
    float: right !important;
    float: right;
    margin-right: 0px;
  }
  .navbar-right ~ .navbar-right {
    margin-right: 0;
  }
}
.navbar-default {
  background-color: #f8f8f8;
  border-color: #e7e7e7;
}
.navbar-default .navbar-brand {
  color: #777;
}
.navbar-default .navbar-brand:hover,
.navbar-default .navbar-brand:focus {
  color: #5e5e5e;
  background-color: transparent;
}
.navbar-default .navbar-text {
  color: #777;
}
.navbar-default .navbar-nav > li > a {
  color: #777;
}
.navbar-default .navbar-nav > li > a:hover,
.navbar-default .navbar-nav > li > a:focus {
  color: #333;
  background-color: transparent;
}
.navbar-default .navbar-nav > .active > a,
.navbar-default .navbar-nav > .active > a:hover,
.navbar-default .navbar-nav > .active > a:focus {
  color: #555;
  background-color: #e7e7e7;
}
.navbar-default .navbar-nav > .disabled > a,
.navbar-default .navbar-nav > .disabled > a:hover,
.navbar-default .navbar-nav > .disabled > a:focus {
  color: #ccc;
  background-color: transparent;
}
.navbar-default .navbar-toggle {
  border-color: #ddd;
}
.navbar-default .navbar-toggle:hover,
.navbar-default .navbar-toggle:focus {
  background-color: #ddd;
}
.navbar-default .navbar-toggle .icon-bar {
  background-color: #888;
}
.navbar-default .navbar-collapse,
.navbar-default .navbar-form {
  border-color: #e7e7e7;
}
.navbar-default .navbar-nav > .open > a,
.navbar-default .navbar-nav > .open > a:hover,
.navbar-default .navbar-nav > .open > a:focus {
  background-color: #e7e7e7;
  color: #555;
}
@media (max-width: 540px) {
  .navbar-default .navbar-nav .open .dropdown-menu > li > a {
    color: #777;
  }
  .navbar-default .navbar-nav .open .dropdown-menu > li > a:hover,
  .navbar-default .navbar-nav .open .dropdown-menu > li > a:focus {
    color: #333;
    background-color: transparent;
  }
  .navbar-default .navbar-nav .open .dropdown-menu > .active > a,
  .navbar-default .navbar-nav .open .dropdown-menu > .active > a:hover,
  .navbar-default .navbar-nav .open .dropdown-menu > .active > a:focus {
    color: #555;
    background-color: #e7e7e7;
  }
  .navbar-default .navbar-nav .open .dropdown-menu > .disabled > a,
  .navbar-default .navbar-nav .open .dropdown-menu > .disabled > a:hover,
  .navbar-default .navbar-nav .open .dropdown-menu > .disabled > a:focus {
    color: #ccc;
    background-color: transparent;
  }
}
.navbar-default .navbar-link {
  color: #777;
}
.navbar-default .navbar-link:hover {
  color: #333;
}
.navbar-default .btn-link {
  color: #777;
}
.navbar-default .btn-link:hover,
.navbar-default .btn-link:focus {
  color: #333;
}
.navbar-default .btn-link[disabled]:hover,
fieldset[disabled] .navbar-default .btn-link:hover,
.navbar-default .btn-link[disabled]:focus,
fieldset[disabled] .navbar-default .btn-link:focus {
  color: #ccc;
}
.navbar-inverse {
  background-color: #222;
  border-color: #080808;
}
.navbar-inverse .navbar-brand {
  color: #9d9d9d;
}
.navbar-inverse .navbar-brand:hover,
.navbar-inverse .navbar-brand:focus {
  color: #fff;
  background-color: transparent;
}
.navbar-inverse .navbar-text {
  color: #9d9d9d;
}
.navbar-inverse .navbar-nav > li > a {
  color: #9d9d9d;
}
.navbar-inverse .navbar-nav > li > a:hover,
.navbar-inverse .navbar-nav > li > a:focus {
  color: #fff;
  background-color: transparent;
}
.navbar-inverse .navbar-nav > .active > a,
.navbar-inverse .navbar-nav > .active > a:hover,
.navbar-inverse .navbar-nav > .active > a:focus {
  color: #fff;
  background-color: #080808;
}
.navbar-inverse .navbar-nav > .disabled > a,
.navbar-inverse .navbar-nav > .disabled > a:hover,
.navbar-inverse .navbar-nav > .disabled > a:focus {
  color: #444;
  background-color: transparent;
}
.navbar-inverse .navbar-toggle {
  border-color: #333;
}
.navbar-inverse .navbar-toggle:hover,
.navbar-inverse .navbar-toggle:focus {
  background-color: #333;
}
.navbar-inverse .navbar-toggle .icon-bar {
  background-color: #fff;
}
.navbar-inverse .navbar-collapse,
.navbar-inverse .navbar-form {
  border-color: #101010;
}
.navbar-inverse .navbar-nav > .open > a,
.navbar-inverse .navbar-nav > .open > a:hover,
.navbar-inverse .navbar-nav > .open > a:focus {
  background-color: #080808;
  color: #fff;
}
@media (max-width: 540px) {
  .navbar-inverse .navbar-nav .open .dropdown-menu > .dropdown-header {
    border-color: #080808;
  }
  .navbar-inverse .navbar-nav .open .dropdown-menu .divider {
    background-color: #080808;
  }
  .navbar-inverse .navbar-nav .open .dropdown-menu > li > a {
    color: #9d9d9d;
  }
  .navbar-inverse .navbar-nav .open .dropdown-menu > li > a:hover,
  .navbar-inverse .navbar-nav .open .dropdown-menu > li > a:focus {
    color: #fff;
    background-color: transparent;
  }
  .navbar-inverse .navbar-nav .open .dropdown-menu > .active > a,
  .navbar-inverse .navbar-nav .open .dropdown-menu > .active > a:hover,
  .navbar-inverse .navbar-nav .open .dropdown-menu > .active > a:focus {
    color: #fff;
    background-color: #080808;
  }
  .navbar-inverse .navbar-nav .open .dropdown-menu > .disabled > a,
  .navbar-inverse .navbar-nav .open .dropdown-menu > .disabled > a:hover,
  .navbar-inverse .navbar-nav .open .dropdown-menu > .disabled > a:focus {
    color: #444;
    background-color: transparent;
  }
}
.navbar-inverse .navbar-link {
  color: #9d9d9d;
}
.navbar-inverse .navbar-link:hover {
  color: #fff;
}
.navbar-inverse .btn-link {
  color: #9d9d9d;
}
.navbar-inverse .btn-link:hover,
.navbar-inverse .btn-link:focus {
  color: #fff;
}
.navbar-inverse .btn-link[disabled]:hover,
fieldset[disabled] .navbar-inverse .btn-link:hover,
.navbar-inverse .btn-link[disabled]:focus,
fieldset[disabled] .navbar-inverse .btn-link:focus {
  color: #444;
}
.breadcrumb {
  padding: 8px 15px;
  margin-bottom: 18px;
  list-style: none;
  background-color: #f5f5f5;
  border-radius: 2px;
}
.breadcrumb > li {
  display: inline-block;
}
.breadcrumb > li + li:before {
  content: "/\00a0";
  padding: 0 5px;
  color: #5e5e5e;
}
.breadcrumb > .active {
  color: #777777;
}
.pagination {
  display: inline-block;
  padding-left: 0;
  margin: 18px 0;
  border-radius: 2px;
}
.pagination > li {
  display: inline;
}
.pagination > li > a,
.pagination > li > span {
  position: relative;
  float: left;
  padding: 6px 12px;
  line-height: 1.42857143;
  text-decoration: none;
  color: #337ab7;
  background-color: #fff;
  border: 1px solid #ddd;
  margin-left: -1px;
}
.pagination > li:first-child > a,
.pagination > li:first-child > span {
  margin-left: 0;
  border-bottom-left-radius: 2px;
  border-top-left-radius: 2px;
}
.pagination > li:last-child > a,
.pagination > li:last-child > span {
  border-bottom-right-radius: 2px;
  border-top-right-radius: 2px;
}
.pagination > li > a:hover,
.pagination > li > span:hover,
.pagination > li > a:focus,
.pagination > li > span:focus {
  z-index: 2;
  color: #23527c;
  background-color: #eeeeee;
  border-color: #ddd;
}
.pagination > .active > a,
.pagination > .active > span,
.pagination > .active > a:hover,
.pagination > .active > span:hover,
.pagination > .active > a:focus,
.pagination > .active > span:focus {
  z-index: 3;
  color: #fff;
  background-color: #337ab7;
  border-color: #337ab7;
  cursor: default;
}
.pagination > .disabled > span,
.pagination > .disabled > span:hover,
.pagination > .disabled > span:focus,
.pagination > .disabled > a,
.pagination > .disabled > a:hover,
.pagination > .disabled > a:focus {
  color: #777777;
  background-color: #fff;
  border-color: #ddd;
  cursor: not-allowed;
}
.pagination-lg > li > a,
.pagination-lg > li > span {
  padding: 10px 16px;
  font-size: 17px;
  line-height: 1.3333333;
}
.pagination-lg > li:first-child > a,
.pagination-lg > li:first-child > span {
  border-bottom-left-radius: 3px;
  border-top-left-radius: 3px;
}
.pagination-lg > li:last-child > a,
.pagination-lg > li:last-child > span {
  border-bottom-right-radius: 3px;
  border-top-right-radius: 3px;
}
.pagination-sm > li > a,
.pagination-sm > li > span {
  padding: 5px 10px;
  font-size: 12px;
  line-height: 1.5;
}
.pagination-sm > li:first-child > a,
.pagination-sm > li:first-child > span {
  border-bottom-left-radius: 1px;
  border-top-left-radius: 1px;
}
.pagination-sm > li:last-child > a,
.pagination-sm > li:last-child > span {
  border-bottom-right-radius: 1px;
  border-top-right-radius: 1px;
}
.pager {
  padding-left: 0;
  margin: 18px 0;
  list-style: none;
  text-align: center;
}
.pager li {
  display: inline;
}
.pager li > a,
.pager li > span {
  display: inline-block;
  padding: 5px 14px;
  background-color: #fff;
  border: 1px solid #ddd;
  border-radius: 15px;
}
.pager li > a:hover,
.pager li > a:focus {
  text-decoration: none;
  background-color: #eeeeee;
}
.pager .next > a,
.pager .next > span {
  float: right;
}
.pager .previous > a,
.pager .previous > span {
  float: left;
}
.pager .disabled > a,
.pager .disabled > a:hover,
.pager .disabled > a:focus,
.pager .disabled > span {
  color: #777777;
  background-color: #fff;
  cursor: not-allowed;
}
.label {
  display: inline;
  padding: .2em .6em .3em;
  font-size: 75%;
  font-weight: bold;
  line-height: 1;
  color: #fff;
  text-align: center;
  white-space: nowrap;
  vertical-align: baseline;
  border-radius: .25em;
}
a.label:hover,
a.label:focus {
  color: #fff;
  text-decoration: none;
  cursor: pointer;
}
.label:empty {
  display: none;
}
.btn .label {
  position: relative;
  top: -1px;
}
.label-default {
  background-color: #777777;
}
.label-default[href]:hover,
.label-default[href]:focus {
  background-color: #5e5e5e;
}
.label-primary {
  background-color: #337ab7;
}
.label-primary[href]:hover,
.label-primary[href]:focus {
  background-color: #286090;
}
.label-success {
  background-color: #5cb85c;
}
.label-success[href]:hover,
.label-success[href]:focus {
  background-color: #449d44;
}
.label-info {
  background-color: #5bc0de;
}
.label-info[href]:hover,
.label-info[href]:focus {
  background-color: #31b0d5;
}
.label-warning {
  background-color: #f0ad4e;
}
.label-warning[href]:hover,
.label-warning[href]:focus {
  background-color: #ec971f;
}
.label-danger {
  background-color: #d9534f;
}
.label-danger[href]:hover,
.label-danger[href]:focus {
  background-color: #c9302c;
}
.badge {
  display: inline-block;
  min-width: 10px;
  padding: 3px 7px;
  font-size: 12px;
  font-weight: bold;
  color: #fff;
  line-height: 1;
  vertical-align: middle;
  white-space: nowrap;
  text-align: center;
  background-color: #777777;
  border-radius: 10px;
}
.badge:empty {
  display: none;
}
.btn .badge {
  position: relative;
  top: -1px;
}
.btn-xs .badge,
.btn-group-xs > .btn .badge {
  top: 0;
  padding: 1px 5px;
}
a.badge:hover,
a.badge:focus {
  color: #fff;
  text-decoration: none;
  cursor: pointer;
}
.list-group-item.active > .badge,
.nav-pills > .active > a > .badge {
  color: #337ab7;
  background-color: #fff;
}
.list-group-item > .badge {
  float: right;
}
.list-group-item > .badge + .badge {
  margin-right: 5px;
}
.nav-pills > li > a > .badge {
  margin-left: 3px;
}
.jumbotron {
  padding-top: 30px;
  padding-bottom: 30px;
  margin-bottom: 30px;
  color: inherit;
  background-color: #eeeeee;
}
.jumbotron h1,
.jumbotron .h1 {
  color: inherit;
}
.jumbotron p {
  margin-bottom: 15px;
  font-size: 20px;
  font-weight: 200;
}
.jumbotron > hr {
  border-top-color: #d5d5d5;
}
.container .jumbotron,
.container-fluid .jumbotron {
  border-radius: 3px;
  padding-left: 0px;
  padding-right: 0px;
}
.jumbotron .container {
  max-width: 100%;
}
@media screen and (min-width: 768px) {
  .jumbotron {
    padding-top: 48px;
    padding-bottom: 48px;
  }
  .container .jumbotron,
  .container-fluid .jumbotron {
    padding-left: 60px;
    padding-right: 60px;
  }
  .jumbotron h1,
  .jumbotron .h1 {
    font-size: 59px;
  }
}
.thumbnail {
  display: block;
  padding: 4px;
  margin-bottom: 18px;
  line-height: 1.42857143;
  background-color: #fff;
  border: 1px solid #ddd;
  border-radius: 2px;
  -webkit-transition: border 0.2s ease-in-out;
  -o-transition: border 0.2s ease-in-out;
  transition: border 0.2s ease-in-out;
}
.thumbnail > img,
.thumbnail a > img {
  margin-left: auto;
  margin-right: auto;
}
a.thumbnail:hover,
a.thumbnail:focus,
a.thumbnail.active {
  border-color: #337ab7;
}
.thumbnail .caption {
  padding: 9px;
  color: #000;
}
.alert {
  padding: 15px;
  margin-bottom: 18px;
  border: 1px solid transparent;
  border-radius: 2px;
}
.alert h4 {
  margin-top: 0;
  color: inherit;
}
.alert .alert-link {
  font-weight: bold;
}
.alert > p,
.alert > ul {
  margin-bottom: 0;
}
.alert > p + p {
  margin-top: 5px;
}
.alert-dismissable,
.alert-dismissible {
  padding-right: 35px;
}
.alert-dismissable .close,
.alert-dismissible .close {
  position: relative;
  top: -2px;
  right: -21px;
  color: inherit;
}
.alert-success {
  background-color: #dff0d8;
  border-color: #d6e9c6;
  color: #3c763d;
}
.alert-success hr {
  border-top-color: #c9e2b3;
}
.alert-success .alert-link {
  color: #2b542c;
}
.alert-info {
  background-color: #d9edf7;
  border-color: #bce8f1;
  color: #31708f;
}
.alert-info hr {
  border-top-color: #a6e1ec;
}
.alert-info .alert-link {
  color: #245269;
}
.alert-warning {
  background-color: #fcf8e3;
  border-color: #faebcc;
  color: #8a6d3b;
}
.alert-warning hr {
  border-top-color: #f7e1b5;
}
.alert-warning .alert-link {
  color: #66512c;
}
.alert-danger {
  background-color: #f2dede;
  border-color: #ebccd1;
  color: #a94442;
}
.alert-danger hr {
  border-top-color: #e4b9c0;
}
.alert-danger .alert-link {
  color: #843534;
}
@-webkit-keyframes progress-bar-stripes {
  from {
    background-position: 40px 0;
  }
  to {
    background-position: 0 0;
  }
}
@keyframes progress-bar-stripes {
  from {
    background-position: 40px 0;
  }
  to {
    background-position: 0 0;
  }
}
.progress {
  overflow: hidden;
  height: 18px;
  margin-bottom: 18px;
  background-color: #f5f5f5;
  border-radius: 2px;
  -webkit-box-shadow: inset 0 1px 2px rgba(0, 0, 0, 0.1);
  box-shadow: inset 0 1px 2px rgba(0, 0, 0, 0.1);
}
.progress-bar {
  float: left;
  width: 0%;
  height: 100%;
  font-size: 12px;
  line-height: 18px;
  color: #fff;
  text-align: center;
  background-color: #337ab7;
  -webkit-box-shadow: inset 0 -1px 0 rgba(0, 0, 0, 0.15);
  box-shadow: inset 0 -1px 0 rgba(0, 0, 0, 0.15);
  -webkit-transition: width 0.6s ease;
  -o-transition: width 0.6s ease;
  transition: width 0.6s ease;
}
.progress-striped .progress-bar,
.progress-bar-striped {
  background-image: -webkit-linear-gradient(45deg, rgba(255, 255, 255, 0.15) 25%, transparent 25%, transparent 50%, rgba(255, 255, 255, 0.15) 50%, rgba(255, 255, 255, 0.15) 75%, transparent 75%, transparent);
  background-image: -o-linear-gradient(45deg, rgba(255, 255, 255, 0.15) 25%, transparent 25%, transparent 50%, rgba(255, 255, 255, 0.15) 50%, rgba(255, 255, 255, 0.15) 75%, transparent 75%, transparent);
  background-image: linear-gradient(45deg, rgba(255, 255, 255, 0.15) 25%, transparent 25%, transparent 50%, rgba(255, 255, 255, 0.15) 50%, rgba(255, 255, 255, 0.15) 75%, transparent 75%, transparent);
  background-size: 40px 40px;
}
.progress.active .progress-bar,
.progress-bar.active {
  -webkit-animation: progress-bar-stripes 2s linear infinite;
  -o-animation: progress-bar-stripes 2s linear infinite;
  animation: progress-bar-stripes 2s linear infinite;
}
.progress-bar-success {
  background-color: #5cb85c;
}
.progress-striped .progress-bar-success {
  background-image: -webkit-linear-gradient(45deg, rgba(255, 255, 255, 0.15) 25%, transparent 25%, transparent 50%, rgba(255, 255, 255, 0.15) 50%, rgba(255, 255, 255, 0.15) 75%, transparent 75%, transparent);
  background-image: -o-linear-gradient(45deg, rgba(255, 255, 255, 0.15) 25%, transparent 25%, transparent 50%, rgba(255, 255, 255, 0.15) 50%, rgba(255, 255, 255, 0.15) 75%, transparent 75%, transparent);
  background-image: linear-gradient(45deg, rgba(255, 255, 255, 0.15) 25%, transparent 25%, transparent 50%, rgba(255, 255, 255, 0.15) 50%, rgba(255, 255, 255, 0.15) 75%, transparent 75%, transparent);
}
.progress-bar-info {
  background-color: #5bc0de;
}
.progress-striped .progress-bar-info {
  background-image: -webkit-linear-gradient(45deg, rgba(255, 255, 255, 0.15) 25%, transparent 25%, transparent 50%, rgba(255, 255, 255, 0.15) 50%, rgba(255, 255, 255, 0.15) 75%, transparent 75%, transparent);
  background-image: -o-linear-gradient(45deg, rgba(255, 255, 255, 0.15) 25%, transparent 25%, transparent 50%, rgba(255, 255, 255, 0.15) 50%, rgba(255, 255, 255, 0.15) 75%, transparent 75%, transparent);
  background-image: linear-gradient(45deg, rgba(255, 255, 255, 0.15) 25%, transparent 25%, transparent 50%, rgba(255, 255, 255, 0.15) 50%, rgba(255, 255, 255, 0.15) 75%, transparent 75%, transparent);
}
.progress-bar-warning {
  background-color: #f0ad4e;
}
.progress-striped .progress-bar-warning {
  background-image: -webkit-linear-gradient(45deg, rgba(255, 255, 255, 0.15) 25%, transparent 25%, transparent 50%, rgba(255, 255, 255, 0.15) 50%, rgba(255, 255, 255, 0.15) 75%, transparent 75%, transparent);
  background-image: -o-linear-gradient(45deg, rgba(255, 255, 255, 0.15) 25%, transparent 25%, transparent 50%, rgba(255, 255, 255, 0.15) 50%, rgba(255, 255, 255, 0.15) 75%, transparent 75%, transparent);
  background-image: linear-gradient(45deg, rgba(255, 255, 255, 0.15) 25%, transparent 25%, transparent 50%, rgba(255, 255, 255, 0.15) 50%, rgba(255, 255, 255, 0.15) 75%, transparent 75%, transparent);
}
.progress-bar-danger {
  background-color: #d9534f;
}
.progress-striped .progress-bar-danger {
  background-image: -webkit-linear-gradient(45deg, rgba(255, 255, 255, 0.15) 25%, transparent 25%, transparent 50%, rgba(255, 255, 255, 0.15) 50%, rgba(255, 255, 255, 0.15) 75%, transparent 75%, transparent);
  background-image: -o-linear-gradient(45deg, rgba(255, 255, 255, 0.15) 25%, transparent 25%, transparent 50%, rgba(255, 255, 255, 0.15) 50%, rgba(255, 255, 255, 0.15) 75%, transparent 75%, transparent);
  background-image: linear-gradient(45deg, rgba(255, 255, 255, 0.15) 25%, transparent 25%, transparent 50%, rgba(255, 255, 255, 0.15) 50%, rgba(255, 255, 255, 0.15) 75%, transparent 75%, transparent);
}
.media {
  margin-top: 15px;
}
.media:first-child {
  margin-top: 0;
}
.media,
.media-body {
  zoom: 1;
  overflow: hidden;
}
.media-body {
  width: 10000px;
}
.media-object {
  display: block;
}
.media-object.img-thumbnail {
  max-width: none;
}
.media-right,
.media > .pull-right {
  padding-left: 10px;
}
.media-left,
.media > .pull-left {
  padding-right: 10px;
}
.media-left,
.media-right,
.media-body {
  display: table-cell;
  vertical-align: top;
}
.media-middle {
  vertical-align: middle;
}
.media-bottom {
  vertical-align: bottom;
}
.media-heading {
  margin-top: 0;
  margin-bottom: 5px;
}
.media-list {
  padding-left: 0;
  list-style: none;
}
.list-group {
  margin-bottom: 20px;
  padding-left: 0;
}
.list-group-item {
  position: relative;
  display: block;
  padding: 10px 15px;
  margin-bottom: -1px;
  background-color: #fff;
  border: 1px solid #ddd;
}
.list-group-item:first-child {
  border-top-right-radius: 2px;
  border-top-left-radius: 2px;
}
.list-group-item:last-child {
  margin-bottom: 0;
  border-bottom-right-radius: 2px;
  border-bottom-left-radius: 2px;
}
a.list-group-item,
button.list-group-item {
  color: #555;
}
a.list-group-item .list-group-item-heading,
button.list-group-item .list-group-item-heading {
  color: #333;
}
a.list-group-item:hover,
button.list-group-item:hover,
a.list-group-item:focus,
button.list-group-item:focus {
  text-decoration: none;
  color: #555;
  background-color: #f5f5f5;
}
button.list-group-item {
  width: 100%;
  text-align: left;
}
.list-group-item.disabled,
.list-group-item.disabled:hover,
.list-group-item.disabled:focus {
  background-color: #eeeeee;
  color: #777777;
  cursor: not-allowed;
}
.list-group-item.disabled .list-group-item-heading,
.list-group-item.disabled:hover .list-group-item-heading,
.list-group-item.disabled:focus .list-group-item-heading {
  color: inherit;
}
.list-group-item.disabled .list-group-item-text,
.list-group-item.disabled:hover .list-group-item-text,
.list-group-item.disabled:focus .list-group-item-text {
  color: #777777;
}
.list-group-item.active,
.list-group-item.active:hover,
.list-group-item.active:focus {
  z-index: 2;
  color: #fff;
  background-color: #337ab7;
  border-color: #337ab7;
}
.list-group-item.active .list-group-item-heading,
.list-group-item.active:hover .list-group-item-heading,
.list-group-item.active:focus .list-group-item-heading,
.list-group-item.active .list-group-item-heading > small,
.list-group-item.active:hover .list-group-item-heading > small,
.list-group-item.active:focus .list-group-item-heading > small,
.list-group-item.active .list-group-item-heading > .small,
.list-group-item.active:hover .list-group-item-heading > .small,
.list-group-item.active:focus .list-group-item-heading > .small {
  color: inherit;
}
.list-group-item.active .list-group-item-text,
.list-group-item.active:hover .list-group-item-text,
.list-group-item.active:focus .list-group-item-text {
  color: #c7ddef;
}
.list-group-item-success {
  color: #3c763d;
  background-color: #dff0d8;
}
a.list-group-item-success,
button.list-group-item-success {
  color: #3c763d;
}
a.list-group-item-success .list-group-item-heading,
button.list-group-item-success .list-group-item-heading {
  color: inherit;
}
a.list-group-item-success:hover,
button.list-group-item-success:hover,
a.list-group-item-success:focus,
button.list-group-item-success:focus {
  color: #3c763d;
  background-color: #d0e9c6;
}
a.list-group-item-success.active,
button.list-group-item-success.active,
a.list-group-item-success.active:hover,
button.list-group-item-success.active:hover,
a.list-group-item-success.active:focus,
button.list-group-item-success.active:focus {
  color: #fff;
  background-color: #3c763d;
  border-color: #3c763d;
}
.list-group-item-info {
  color: #31708f;
  background-color: #d9edf7;
}
a.list-group-item-info,
button.list-group-item-info {
  color: #31708f;
}
a.list-group-item-info .list-group-item-heading,
button.list-group-item-info .list-group-item-heading {
  color: inherit;
}
a.list-group-item-info:hover,
button.list-group-item-info:hover,
a.list-group-item-info:focus,
button.list-group-item-info:focus {
  color: #31708f;
  background-color: #c4e3f3;
}
a.list-group-item-info.active,
button.list-group-item-info.active,
a.list-group-item-info.active:hover,
button.list-group-item-info.active:hover,
a.list-group-item-info.active:focus,
button.list-group-item-info.active:focus {
  color: #fff;
  background-color: #31708f;
  border-color: #31708f;
}
.list-group-item-warning {
  color: #8a6d3b;
  background-color: #fcf8e3;
}
a.list-group-item-warning,
button.list-group-item-warning {
  color: #8a6d3b;
}
a.list-group-item-warning .list-group-item-heading,
button.list-group-item-warning .list-group-item-heading {
  color: inherit;
}
a.list-group-item-warning:hover,
button.list-group-item-warning:hover,
a.list-group-item-warning:focus,
button.list-group-item-warning:focus {
  color: #8a6d3b;
  background-color: #faf2cc;
}
a.list-group-item-warning.active,
button.list-group-item-warning.active,
a.list-group-item-warning.active:hover,
button.list-group-item-warning.active:hover,
a.list-group-item-warning.active:focus,
button.list-group-item-warning.active:focus {
  color: #fff;
  background-color: #8a6d3b;
  border-color: #8a6d3b;
}
.list-group-item-danger {
  color: #a94442;
  background-color: #f2dede;
}
a.list-group-item-danger,
button.list-group-item-danger {
  color: #a94442;
}
a.list-group-item-danger .list-group-item-heading,
button.list-group-item-danger .list-group-item-heading {
  color: inherit;
}
a.list-group-item-danger:hover,
button.list-group-item-danger:hover,
a.list-group-item-danger:focus,
button.list-group-item-danger:focus {
  color: #a94442;
  background-color: #ebcccc;
}
a.list-group-item-danger.active,
button.list-group-item-danger.active,
a.list-group-item-danger.active:hover,
button.list-group-item-danger.active:hover,
a.list-group-item-danger.active:focus,
button.list-group-item-danger.active:focus {
  color: #fff;
  background-color: #a94442;
  border-color: #a94442;
}
.list-group-item-heading {
  margin-top: 0;
  margin-bottom: 5px;
}
.list-group-item-text {
  margin-bottom: 0;
  line-height: 1.3;
}
.panel {
  margin-bottom: 18px;
  background-color: #fff;
  border: 1px solid transparent;
  border-radius: 2px;
  -webkit-box-shadow: 0 1px 1px rgba(0, 0, 0, 0.05);
  box-shadow: 0 1px 1px rgba(0, 0, 0, 0.05);
}
.panel-body {
  padding: 15px;
}
.panel-heading {
  padding: 10px 15px;
  border-bottom: 1px solid transparent;
  border-top-right-radius: 1px;
  border-top-left-radius: 1px;
}
.panel-heading > .dropdown .dropdown-toggle {
  color: inherit;
}
.panel-title {
  margin-top: 0;
  margin-bottom: 0;
  font-size: 15px;
  color: inherit;
}
.panel-title > a,
.panel-title > small,
.panel-title > .small,
.panel-title > small > a,
.panel-title > .small > a {
  color: inherit;
}
.panel-footer {
  padding: 10px 15px;
  background-color: #f5f5f5;
  border-top: 1px solid #ddd;
  border-bottom-right-radius: 1px;
  border-bottom-left-radius: 1px;
}
.panel > .list-group,
.panel > .panel-collapse > .list-group {
  margin-bottom: 0;
}
.panel > .list-group .list-group-item,
.panel > .panel-collapse > .list-group .list-group-item {
  border-width: 1px 0;
  border-radius: 0;
}
.panel > .list-group:first-child .list-group-item:first-child,
.panel > .panel-collapse > .list-group:first-child .list-group-item:first-child {
  border-top: 0;
  border-top-right-radius: 1px;
  border-top-left-radius: 1px;
}
.panel > .list-group:last-child .list-group-item:last-child,
.panel > .panel-collapse > .list-group:last-child .list-group-item:last-child {
  border-bottom: 0;
  border-bottom-right-radius: 1px;
  border-bottom-left-radius: 1px;
}
.panel > .panel-heading + .panel-collapse > .list-group .list-group-item:first-child {
  border-top-right-radius: 0;
  border-top-left-radius: 0;
}
.panel-heading + .list-group .list-group-item:first-child {
  border-top-width: 0;
}
.list-group + .panel-footer {
  border-top-width: 0;
}
.panel > .table,
.panel > .table-responsive > .table,
.panel > .panel-collapse > .table {
  margin-bottom: 0;
}
.panel > .table caption,
.panel > .table-responsive > .table caption,
.panel > .panel-collapse > .table caption {
  padding-left: 15px;
  padding-right: 15px;
}
.panel > .table:first-child,
.panel > .table-responsive:first-child > .table:first-child {
  border-top-right-radius: 1px;
  border-top-left-radius: 1px;
}
.panel > .table:first-child > thead:first-child > tr:first-child,
.panel > .table-responsive:first-child > .table:first-child > thead:first-child > tr:first-child,
.panel > .table:first-child > tbody:first-child > tr:first-child,
.panel > .table-responsive:first-child > .table:first-child > tbody:first-child > tr:first-child {
  border-top-left-radius: 1px;
  border-top-right-radius: 1px;
}
.panel > .table:first-child > thead:first-child > tr:first-child td:first-child,
.panel > .table-responsive:first-child > .table:first-child > thead:first-child > tr:first-child td:first-child,
.panel > .table:first-child > tbody:first-child > tr:first-child td:first-child,
.panel > .table-responsive:first-child > .table:first-child > tbody:first-child > tr:first-child td:first-child,
.panel > .table:first-child > thead:first-child > tr:first-child th:first-child,
.panel > .table-responsive:first-child > .table:first-child > thead:first-child > tr:first-child th:first-child,
.panel > .table:first-child > tbody:first-child > tr:first-child th:first-child,
.panel > .table-responsive:first-child > .table:first-child > tbody:first-child > tr:first-child th:first-child {
  border-top-left-radius: 1px;
}
.panel > .table:first-child > thead:first-child > tr:first-child td:last-child,
.panel > .table-responsive:first-child > .table:first-child > thead:first-child > tr:first-child td:last-child,
.panel > .table:first-child > tbody:first-child > tr:first-child td:last-child,
.panel > .table-responsive:first-child > .table:first-child > tbody:first-child > tr:first-child td:last-child,
.panel > .table:first-child > thead:first-child > tr:first-child th:last-child,
.panel > .table-responsive:first-child > .table:first-child > thead:first-child > tr:first-child th:last-child,
.panel > .table:first-child > tbody:first-child > tr:first-child th:last-child,
.panel > .table-responsive:first-child > .table:first-child > tbody:first-child > tr:first-child th:last-child {
  border-top-right-radius: 1px;
}
.panel > .table:last-child,
.panel > .table-responsive:last-child > .table:last-child {
  border-bottom-right-radius: 1px;
  border-bottom-left-radius: 1px;
}
.panel > .table:last-child > tbody:last-child > tr:last-child,
.panel > .table-responsive:last-child > .table:last-child > tbody:last-child > tr:last-child,
.panel > .table:last-child > tfoot:last-child > tr:last-child,
.panel > .table-responsive:last-child > .table:last-child > tfoot:last-child > tr:last-child {
  border-bottom-left-radius: 1px;
  border-bottom-right-radius: 1px;
}
.panel > .table:last-child > tbody:last-child > tr:last-child td:first-child,
.panel > .table-responsive:last-child > .table:last-child > tbody:last-child > tr:last-child td:first-child,
.panel > .table:last-child > tfoot:last-child > tr:last-child td:first-child,
.panel > .table-responsive:last-child > .table:last-child > tfoot:last-child > tr:last-child td:first-child,
.panel > .table:last-child > tbody:last-child > tr:last-child th:first-child,
.panel > .table-responsive:last-child > .table:last-child > tbody:last-child > tr:last-child th:first-child,
.panel > .table:last-child > tfoot:last-child > tr:last-child th:first-child,
.panel > .table-responsive:last-child > .table:last-child > tfoot:last-child > tr:last-child th:first-child {
  border-bottom-left-radius: 1px;
}
.panel > .table:last-child > tbody:last-child > tr:last-child td:last-child,
.panel > .table-responsive:last-child > .table:last-child > tbody:last-child > tr:last-child td:last-child,
.panel > .table:last-child > tfoot:last-child > tr:last-child td:last-child,
.panel > .table-responsive:last-child > .table:last-child > tfoot:last-child > tr:last-child td:last-child,
.panel > .table:last-child > tbody:last-child > tr:last-child th:last-child,
.panel > .table-responsive:last-child > .table:last-child > tbody:last-child > tr:last-child th:last-child,
.panel > .table:last-child > tfoot:last-child > tr:last-child th:last-child,
.panel > .table-responsive:last-child > .table:last-child > tfoot:last-child > tr:last-child th:last-child {
  border-bottom-right-radius: 1px;
}
.panel > .panel-body + .table,
.panel > .panel-body + .table-responsive,
.panel > .table + .panel-body,
.panel > .table-responsive + .panel-body {
  border-top: 1px solid #ddd;
}
.panel > .table > tbody:first-child > tr:first-child th,
.panel > .table > tbody:first-child > tr:first-child td {
  border-top: 0;
}
.panel > .table-bordered,
.panel > .table-responsive > .table-bordered {
  border: 0;
}
.panel > .table-bordered > thead > tr > th:first-child,
.panel > .table-responsive > .table-bordered > thead > tr > th:first-child,
.panel > .table-bordered > tbody > tr > th:first-child,
.panel > .table-responsive > .table-bordered > tbody > tr > th:first-child,
.panel > .table-bordered > tfoot > tr > th:first-child,
.panel > .table-responsive > .table-bordered > tfoot > tr > th:first-child,
.panel > .table-bordered > thead > tr > td:first-child,
.panel > .table-responsive > .table-bordered > thead > tr > td:first-child,
.panel > .table-bordered > tbody > tr > td:first-child,
.panel > .table-responsive > .table-bordered > tbody > tr > td:first-child,
.panel > .table-bordered > tfoot > tr > td:first-child,
.panel > .table-responsive > .table-bordered > tfoot > tr > td:first-child {
  border-left: 0;
}
.panel > .table-bordered > thead > tr > th:last-child,
.panel > .table-responsive > .table-bordered > thead > tr > th:last-child,
.panel > .table-bordered > tbody > tr > th:last-child,
.panel > .table-responsive > .table-bordered > tbody > tr > th:last-child,
.panel > .table-bordered > tfoot > tr > th:last-child,
.panel > .table-responsive > .table-bordered > tfoot > tr > th:last-child,
.panel > .table-bordered > thead > tr > td:last-child,
.panel > .table-responsive > .table-bordered > thead > tr > td:last-child,
.panel > .table-bordered > tbody > tr > td:last-child,
.panel > .table-responsive > .table-bordered > tbody > tr > td:last-child,
.panel > .table-bordered > tfoot > tr > td:last-child,
.panel > .table-responsive > .table-bordered > tfoot > tr > td:last-child {
  border-right: 0;
}
.panel > .table-bordered > thead > tr:first-child > td,
.panel > .table-responsive > .table-bordered > thead > tr:first-child > td,
.panel > .table-bordered > tbody > tr:first-child > td,
.panel > .table-responsive > .table-bordered > tbody > tr:first-child > td,
.panel > .table-bordered > thead > tr:first-child > th,
.panel > .table-responsive > .table-bordered > thead > tr:first-child > th,
.panel > .table-bordered > tbody > tr:first-child > th,
.panel > .table-responsive > .table-bordered > tbody > tr:first-child > th {
  border-bottom: 0;
}
.panel > .table-bordered > tbody > tr:last-child > td,
.panel > .table-responsive > .table-bordered > tbody > tr:last-child > td,
.panel > .table-bordered > tfoot > tr:last-child > td,
.panel > .table-responsive > .table-bordered > tfoot > tr:last-child > td,
.panel > .table-bordered > tbody > tr:last-child > th,
.panel > .table-responsive > .table-bordered > tbody > tr:last-child > th,
.panel > .table-bordered > tfoot > tr:last-child > th,
.panel > .table-responsive > .table-bordered > tfoot > tr:last-child > th {
  border-bottom: 0;
}
.panel > .table-responsive {
  border: 0;
  margin-bottom: 0;
}
.panel-group {
  margin-bottom: 18px;
}
.panel-group .panel {
  margin-bottom: 0;
  border-radius: 2px;
}
.panel-group .panel + .panel {
  margin-top: 5px;
}
.panel-group .panel-heading {
  border-bottom: 0;
}
.panel-group .panel-heading + .panel-collapse > .panel-body,
.panel-group .panel-heading + .panel-collapse > .list-group {
  border-top: 1px solid #ddd;
}
.panel-group .panel-footer {
  border-top: 0;
}
.panel-group .panel-footer + .panel-collapse .panel-body {
  border-bottom: 1px solid #ddd;
}
.panel-default {
  border-color: #ddd;
}
.panel-default > .panel-heading {
  color: #333333;
  background-color: #f5f5f5;
  border-color: #ddd;
}
.panel-default > .panel-heading + .panel-collapse > .panel-body {
  border-top-color: #ddd;
}
.panel-default > .panel-heading .badge {
  color: #f5f5f5;
  background-color: #333333;
}
.panel-default > .panel-footer + .panel-collapse > .panel-body {
  border-bottom-color: #ddd;
}
.panel-primary {
  border-color: #337ab7;
}
.panel-primary > .panel-heading {
  color: #fff;
  background-color: #337ab7;
  border-color: #337ab7;
}
.panel-primary > .panel-heading + .panel-collapse > .panel-body {
  border-top-color: #337ab7;
}
.panel-primary > .panel-heading .badge {
  color: #337ab7;
  background-color: #fff;
}
.panel-primary > .panel-footer + .panel-collapse > .panel-body {
  border-bottom-color: #337ab7;
}
.panel-success {
  border-color: #d6e9c6;
}
.panel-success > .panel-heading {
  color: #3c763d;
  background-color: #dff0d8;
  border-color: #d6e9c6;
}
.panel-success > .panel-heading + .panel-collapse > .panel-body {
  border-top-color: #d6e9c6;
}
.panel-success > .panel-heading .badge {
  color: #dff0d8;
  background-color: #3c763d;
}
.panel-success > .panel-footer + .panel-collapse > .panel-body {
  border-bottom-color: #d6e9c6;
}
.panel-info {
  border-color: #bce8f1;
}
.panel-info > .panel-heading {
  color: #31708f;
  background-color: #d9edf7;
  border-color: #bce8f1;
}
.panel-info > .panel-heading + .panel-collapse > .panel-body {
  border-top-color: #bce8f1;
}
.panel-info > .panel-heading .badge {
  color: #d9edf7;
  background-color: #31708f;
}
.panel-info > .panel-footer + .panel-collapse > .panel-body {
  border-bottom-color: #bce8f1;
}
.panel-warning {
  border-color: #faebcc;
}
.panel-warning > .panel-heading {
  color: #8a6d3b;
  background-color: #fcf8e3;
  border-color: #faebcc;
}
.panel-warning > .panel-heading + .panel-collapse > .panel-body {
  border-top-color: #faebcc;
}
.panel-warning > .panel-heading .badge {
  color: #fcf8e3;
  background-color: #8a6d3b;
}
.panel-warning > .panel-footer + .panel-collapse > .panel-body {
  border-bottom-color: #faebcc;
}
.panel-danger {
  border-color: #ebccd1;
}
.panel-danger > .panel-heading {
  color: #a94442;
  background-color: #f2dede;
  border-color: #ebccd1;
}
.panel-danger > .panel-heading + .panel-collapse > .panel-body {
  border-top-color: #ebccd1;
}
.panel-danger > .panel-heading .badge {
  color: #f2dede;
  background-color: #a94442;
}
.panel-danger > .panel-footer + .panel-collapse > .panel-body {
  border-bottom-color: #ebccd1;
}
.embed-responsive {
  position: relative;
  display: block;
  height: 0;
  padding: 0;
  overflow: hidden;
}
.embed-responsive .embed-responsive-item,
.embed-responsive iframe,
.embed-responsive embed,
.embed-responsive object,
.embed-responsive video {
  position: absolute;
  top: 0;
  left: 0;
  bottom: 0;
  height: 100%;
  width: 100%;
  border: 0;
}
.embed-responsive-16by9 {
  padding-bottom: 56.25%;
}
.embed-responsive-4by3 {
  padding-bottom: 75%;
}
.well {
  min-height: 20px;
  padding: 19px;
  margin-bottom: 20px;
  background-color: #f5f5f5;
  border: 1px solid #e3e3e3;
  border-radius: 2px;
  -webkit-box-shadow: inset 0 1px 1px rgba(0, 0, 0, 0.05);
  box-shadow: inset 0 1px 1px rgba(0, 0, 0, 0.05);
}
.well blockquote {
  border-color: #ddd;
  border-color: rgba(0, 0, 0, 0.15);
}
.well-lg {
  padding: 24px;
  border-radius: 3px;
}
.well-sm {
  padding: 9px;
  border-radius: 1px;
}
.close {
  float: right;
  font-size: 19.5px;
  font-weight: bold;
  line-height: 1;
  color: #000;
  text-shadow: 0 1px 0 #fff;
  opacity: 0.2;
  filter: alpha(opacity=20);
}
.close:hover,
.close:focus {
  color: #000;
  text-decoration: none;
  cursor: pointer;
  opacity: 0.5;
  filter: alpha(opacity=50);
}
button.close {
  padding: 0;
  cursor: pointer;
  background: transparent;
  border: 0;
  -webkit-appearance: none;
}
.modal-open {
  overflow: hidden;
}
.modal {
  display: none;
  overflow: hidden;
  position: fixed;
  top: 0;
  right: 0;
  bottom: 0;
  left: 0;
  z-index: 1050;
  -webkit-overflow-scrolling: touch;
  outline: 0;
}
.modal.fade .modal-dialog {
  -webkit-transform: translate(0, -25%);
  -ms-transform: translate(0, -25%);
  -o-transform: translate(0, -25%);
  transform: translate(0, -25%);
  -webkit-transition: -webkit-transform 0.3s ease-out;
  -moz-transition: -moz-transform 0.3s ease-out;
  -o-transition: -o-transform 0.3s ease-out;
  transition: transform 0.3s ease-out;
}
.modal.in .modal-dialog {
  -webkit-transform: translate(0, 0);
  -ms-transform: translate(0, 0);
  -o-transform: translate(0, 0);
  transform: translate(0, 0);
}
.modal-open .modal {
  overflow-x: hidden;
  overflow-y: auto;
}
.modal-dialog {
  position: relative;
  width: auto;
  margin: 10px;
}
.modal-content {
  position: relative;
  background-color: #fff;
  border: 1px solid #999;
  border: 1px solid rgba(0, 0, 0, 0.2);
  border-radius: 3px;
  -webkit-box-shadow: 0 3px 9px rgba(0, 0, 0, 0.5);
  box-shadow: 0 3px 9px rgba(0, 0, 0, 0.5);
  background-clip: padding-box;
  outline: 0;
}
.modal-backdrop {
  position: fixed;
  top: 0;
  right: 0;
  bottom: 0;
  left: 0;
  z-index: 1040;
  background-color: #000;
}
.modal-backdrop.fade {
  opacity: 0;
  filter: alpha(opacity=0);
}
.modal-backdrop.in {
  opacity: 0.5;
  filter: alpha(opacity=50);
}
.modal-header {
  padding: 15px;
  border-bottom: 1px solid #e5e5e5;
}
.modal-header .close {
  margin-top: -2px;
}
.modal-title {
  margin: 0;
  line-height: 1.42857143;
}
.modal-body {
  position: relative;
  padding: 15px;
}
.modal-footer {
  padding: 15px;
  text-align: right;
  border-top: 1px solid #e5e5e5;
}
.modal-footer .btn + .btn {
  margin-left: 5px;
  margin-bottom: 0;
}
.modal-footer .btn-group .btn + .btn {
  margin-left: -1px;
}
.modal-footer .btn-block + .btn-block {
  margin-left: 0;
}
.modal-scrollbar-measure {
  position: absolute;
  top: -9999px;
  width: 50px;
  height: 50px;
  overflow: scroll;
}
@media (min-width: 768px) {
  .modal-dialog {
    width: 600px;
    margin: 30px auto;
  }
  .modal-content {
    -webkit-box-shadow: 0 5px 15px rgba(0, 0, 0, 0.5);
    box-shadow: 0 5px 15px rgba(0, 0, 0, 0.5);
  }
  .modal-sm {
    width: 300px;
  }
}
@media (min-width: 992px) {
  .modal-lg {
    width: 900px;
  }
}
.tooltip {
  position: absolute;
  z-index: 1070;
  display: block;
  font-family: "Helvetica Neue", Helvetica, Arial, sans-serif;
  font-style: normal;
  font-weight: normal;
  letter-spacing: normal;
  line-break: auto;
  line-height: 1.42857143;
  text-align: left;
  text-align: start;
  text-decoration: none;
  text-shadow: none;
  text-transform: none;
  white-space: normal;
  word-break: normal;
  word-spacing: normal;
  word-wrap: normal;
  font-size: 12px;
  opacity: 0;
  filter: alpha(opacity=0);
}
.tooltip.in {
  opacity: 0.9;
  filter: alpha(opacity=90);
}
.tooltip.top {
  margin-top: -3px;
  padding: 5px 0;
}
.tooltip.right {
  margin-left: 3px;
  padding: 0 5px;
}
.tooltip.bottom {
  margin-top: 3px;
  padding: 5px 0;
}
.tooltip.left {
  margin-left: -3px;
  padding: 0 5px;
}
.tooltip-inner {
  max-width: 200px;
  padding: 3px 8px;
  color: #fff;
  text-align: center;
  background-color: #000;
  border-radius: 2px;
}
.tooltip-arrow {
  position: absolute;
  width: 0;
  height: 0;
  border-color: transparent;
  border-style: solid;
}
.tooltip.top .tooltip-arrow {
  bottom: 0;
  left: 50%;
  margin-left: -5px;
  border-width: 5px 5px 0;
  border-top-color: #000;
}
.tooltip.top-left .tooltip-arrow {
  bottom: 0;
  right: 5px;
  margin-bottom: -5px;
  border-width: 5px 5px 0;
  border-top-color: #000;
}
.tooltip.top-right .tooltip-arrow {
  bottom: 0;
  left: 5px;
  margin-bottom: -5px;
  border-width: 5px 5px 0;
  border-top-color: #000;
}
.tooltip.right .tooltip-arrow {
  top: 50%;
  left: 0;
  margin-top: -5px;
  border-width: 5px 5px 5px 0;
  border-right-color: #000;
}
.tooltip.left .tooltip-arrow {
  top: 50%;
  right: 0;
  margin-top: -5px;
  border-width: 5px 0 5px 5px;
  border-left-color: #000;
}
.tooltip.bottom .tooltip-arrow {
  top: 0;
  left: 50%;
  margin-left: -5px;
  border-width: 0 5px 5px;
  border-bottom-color: #000;
}
.tooltip.bottom-left .tooltip-arrow {
  top: 0;
  right: 5px;
  margin-top: -5px;
  border-width: 0 5px 5px;
  border-bottom-color: #000;
}
.tooltip.bottom-right .tooltip-arrow {
  top: 0;
  left: 5px;
  margin-top: -5px;
  border-width: 0 5px 5px;
  border-bottom-color: #000;
}
.popover {
  position: absolute;
  top: 0;
  left: 0;
  z-index: 1060;
  display: none;
  max-width: 276px;
  padding: 1px;
  font-family: "Helvetica Neue", Helvetica, Arial, sans-serif;
  font-style: normal;
  font-weight: normal;
  letter-spacing: normal;
  line-break: auto;
  line-height: 1.42857143;
  text-align: left;
  text-align: start;
  text-decoration: none;
  text-shadow: none;
  text-transform: none;
  white-space: normal;
  word-break: normal;
  word-spacing: normal;
  word-wrap: normal;
  font-size: 13px;
  background-color: #fff;
  background-clip: padding-box;
  border: 1px solid #ccc;
  border: 1px solid rgba(0, 0, 0, 0.2);
  border-radius: 3px;
  -webkit-box-shadow: 0 5px 10px rgba(0, 0, 0, 0.2);
  box-shadow: 0 5px 10px rgba(0, 0, 0, 0.2);
}
.popover.top {
  margin-top: -10px;
}
.popover.right {
  margin-left: 10px;
}
.popover.bottom {
  margin-top: 10px;
}
.popover.left {
  margin-left: -10px;
}
.popover-title {
  margin: 0;
  padding: 8px 14px;
  font-size: 13px;
  background-color: #f7f7f7;
  border-bottom: 1px solid #ebebeb;
  border-radius: 2px 2px 0 0;
}
.popover-content {
  padding: 9px 14px;
}
.popover > .arrow,
.popover > .arrow:after {
  position: absolute;
  display: block;
  width: 0;
  height: 0;
  border-color: transparent;
  border-style: solid;
}
.popover > .arrow {
  border-width: 11px;
}
.popover > .arrow:after {
  border-width: 10px;
  content: "";
}
.popover.top > .arrow {
  left: 50%;
  margin-left: -11px;
  border-bottom-width: 0;
  border-top-color: #999999;
  border-top-color: rgba(0, 0, 0, 0.25);
  bottom: -11px;
}
.popover.top > .arrow:after {
  content: " ";
  bottom: 1px;
  margin-left: -10px;
  border-bottom-width: 0;
  border-top-color: #fff;
}
.popover.right > .arrow {
  top: 50%;
  left: -11px;
  margin-top: -11px;
  border-left-width: 0;
  border-right-color: #999999;
  border-right-color: rgba(0, 0, 0, 0.25);
}
.popover.right > .arrow:after {
  content: " ";
  left: 1px;
  bottom: -10px;
  border-left-width: 0;
  border-right-color: #fff;
}
.popover.bottom > .arrow {
  left: 50%;
  margin-left: -11px;
  border-top-width: 0;
  border-bottom-color: #999999;
  border-bottom-color: rgba(0, 0, 0, 0.25);
  top: -11px;
}
.popover.bottom > .arrow:after {
  content: " ";
  top: 1px;
  margin-left: -10px;
  border-top-width: 0;
  border-bottom-color: #fff;
}
.popover.left > .arrow {
  top: 50%;
  right: -11px;
  margin-top: -11px;
  border-right-width: 0;
  border-left-color: #999999;
  border-left-color: rgba(0, 0, 0, 0.25);
}
.popover.left > .arrow:after {
  content: " ";
  right: 1px;
  border-right-width: 0;
  border-left-color: #fff;
  bottom: -10px;
}
.carousel {
  position: relative;
}
.carousel-inner {
  position: relative;
  overflow: hidden;
  width: 100%;
}
.carousel-inner > .item {
  display: none;
  position: relative;
  -webkit-transition: 0.6s ease-in-out left;
  -o-transition: 0.6s ease-in-out left;
  transition: 0.6s ease-in-out left;
}
.carousel-inner > .item > img,
.carousel-inner > .item > a > img {
  line-height: 1;
}
@media all and (transform-3d), (-webkit-transform-3d) {
  .carousel-inner > .item {
    -webkit-transition: -webkit-transform 0.6s ease-in-out;
    -moz-transition: -moz-transform 0.6s ease-in-out;
    -o-transition: -o-transform 0.6s ease-in-out;
    transition: transform 0.6s ease-in-out;
    -webkit-backface-visibility: hidden;
    -moz-backface-visibility: hidden;
    backface-visibility: hidden;
    -webkit-perspective: 1000px;
    -moz-perspective: 1000px;
    perspective: 1000px;
  }
  .carousel-inner > .item.next,
  .carousel-inner > .item.active.right {
    -webkit-transform: translate3d(100%, 0, 0);
    transform: translate3d(100%, 0, 0);
    left: 0;
  }
  .carousel-inner > .item.prev,
  .carousel-inner > .item.active.left {
    -webkit-transform: translate3d(-100%, 0, 0);
    transform: translate3d(-100%, 0, 0);
    left: 0;
  }
  .carousel-inner > .item.next.left,
  .carousel-inner > .item.prev.right,
  .carousel-inner > .item.active {
    -webkit-transform: translate3d(0, 0, 0);
    transform: translate3d(0, 0, 0);
    left: 0;
  }
}
.carousel-inner > .active,
.carousel-inner > .next,
.carousel-inner > .prev {
  display: block;
}
.carousel-inner > .active {
  left: 0;
}
.carousel-inner > .next,
.carousel-inner > .prev {
  position: absolute;
  top: 0;
  width: 100%;
}
.carousel-inner > .next {
  left: 100%;
}
.carousel-inner > .prev {
  left: -100%;
}
.carousel-inner > .next.left,
.carousel-inner > .prev.right {
  left: 0;
}
.carousel-inner > .active.left {
  left: -100%;
}
.carousel-inner > .active.right {
  left: 100%;
}
.carousel-control {
  position: absolute;
  top: 0;
  left: 0;
  bottom: 0;
  width: 15%;
  opacity: 0.5;
  filter: alpha(opacity=50);
  font-size: 20px;
  color: #fff;
  text-align: center;
  text-shadow: 0 1px 2px rgba(0, 0, 0, 0.6);
  background-color: rgba(0, 0, 0, 0);
}
.carousel-control.left {
  background-image: -webkit-linear-gradient(left, rgba(0, 0, 0, 0.5) 0%, rgba(0, 0, 0, 0.0001) 100%);
  background-image: -o-linear-gradient(left, rgba(0, 0, 0, 0.5) 0%, rgba(0, 0, 0, 0.0001) 100%);
  background-image: linear-gradient(to right, rgba(0, 0, 0, 0.5) 0%, rgba(0, 0, 0, 0.0001) 100%);
  background-repeat: repeat-x;
  filter: progid:DXImageTransform.Microsoft.gradient(startColorstr='#80000000', endColorstr='#00000000', GradientType=1);
}
.carousel-control.right {
  left: auto;
  right: 0;
  background-image: -webkit-linear-gradient(left, rgba(0, 0, 0, 0.0001) 0%, rgba(0, 0, 0, 0.5) 100%);
  background-image: -o-linear-gradient(left, rgba(0, 0, 0, 0.0001) 0%, rgba(0, 0, 0, 0.5) 100%);
  background-image: linear-gradient(to right, rgba(0, 0, 0, 0.0001) 0%, rgba(0, 0, 0, 0.5) 100%);
  background-repeat: repeat-x;
  filter: progid:DXImageTransform.Microsoft.gradient(startColorstr='#00000000', endColorstr='#80000000', GradientType=1);
}
.carousel-control:hover,
.carousel-control:focus {
  outline: 0;
  color: #fff;
  text-decoration: none;
  opacity: 0.9;
  filter: alpha(opacity=90);
}
.carousel-control .icon-prev,
.carousel-control .icon-next,
.carousel-control .glyphicon-chevron-left,
.carousel-control .glyphicon-chevron-right {
  position: absolute;
  top: 50%;
  margin-top: -10px;
  z-index: 5;
  display: inline-block;
}
.carousel-control .icon-prev,
.carousel-control .glyphicon-chevron-left {
  left: 50%;
  margin-left: -10px;
}
.carousel-control .icon-next,
.carousel-control .glyphicon-chevron-right {
  right: 50%;
  margin-right: -10px;
}
.carousel-control .icon-prev,
.carousel-control .icon-next {
  width: 20px;
  height: 20px;
  line-height: 1;
  font-family: serif;
}
.carousel-control .icon-prev:before {
  content: '\2039';
}
.carousel-control .icon-next:before {
  content: '\203a';
}
.carousel-indicators {
  position: absolute;
  bottom: 10px;
  left: 50%;
  z-index: 15;
  width: 60%;
  margin-left: -30%;
  padding-left: 0;
  list-style: none;
  text-align: center;
}
.carousel-indicators li {
  display: inline-block;
  width: 10px;
  height: 10px;
  margin: 1px;
  text-indent: -999px;
  border: 1px solid #fff;
  border-radius: 10px;
  cursor: pointer;
  background-color: #000 \9;
  background-color: rgba(0, 0, 0, 0);
}
.carousel-indicators .active {
  margin: 0;
  width: 12px;
  height: 12px;
  background-color: #fff;
}
.carousel-caption {
  position: absolute;
  left: 15%;
  right: 15%;
  bottom: 20px;
  z-index: 10;
  padding-top: 20px;
  padding-bottom: 20px;
  color: #fff;
  text-align: center;
  text-shadow: 0 1px 2px rgba(0, 0, 0, 0.6);
}
.carousel-caption .btn {
  text-shadow: none;
}
@media screen and (min-width: 768px) {
  .carousel-control .glyphicon-chevron-left,
  .carousel-control .glyphicon-chevron-right,
  .carousel-control .icon-prev,
  .carousel-control .icon-next {
    width: 30px;
    height: 30px;
    margin-top: -10px;
    font-size: 30px;
  }
  .carousel-control .glyphicon-chevron-left,
  .carousel-control .icon-prev {
    margin-left: -10px;
  }
  .carousel-control .glyphicon-chevron-right,
  .carousel-control .icon-next {
    margin-right: -10px;
  }
  .carousel-caption {
    left: 20%;
    right: 20%;
    padding-bottom: 30px;
  }
  .carousel-indicators {
    bottom: 20px;
  }
}
.clearfix:before,
.clearfix:after,
.dl-horizontal dd:before,
.dl-horizontal dd:after,
.container:before,
.container:after,
.container-fluid:before,
.container-fluid:after,
.row:before,
.row:after,
.form-horizontal .form-group:before,
.form-horizontal .form-group:after,
.btn-toolbar:before,
.btn-toolbar:after,
.btn-group-vertical > .btn-group:before,
.btn-group-vertical > .btn-group:after,
.nav:before,
.nav:after,
.navbar:before,
.navbar:after,
.navbar-header:before,
.navbar-header:after,
.navbar-collapse:before,
.navbar-collapse:after,
.pager:before,
.pager:after,
.panel-body:before,
.panel-body:after,
.modal-header:before,
.modal-header:after,
.modal-footer:before,
.modal-footer:after,
.item_buttons:before,
.item_buttons:after {
  content: " ";
  display: table;
}
.clearfix:after,
.dl-horizontal dd:after,
.container:after,
.container-fluid:after,
.row:after,
.form-horizontal .form-group:after,
.btn-toolbar:after,
.btn-group-vertical > .btn-group:after,
.nav:after,
.navbar:after,
.navbar-header:after,
.navbar-collapse:after,
.pager:after,
.panel-body:after,
.modal-header:after,
.modal-footer:after,
.item_buttons:after {
  clear: both;
}
.center-block {
  display: block;
  margin-left: auto;
  margin-right: auto;
}
.pull-right {
  float: right !important;
}
.pull-left {
  float: left !important;
}
.hide {
  display: none !important;
}
.show {
  display: block !important;
}
.invisible {
  visibility: hidden;
}
.text-hide {
  font: 0/0 a;
  color: transparent;
  text-shadow: none;
  background-color: transparent;
  border: 0;
}
.hidden {
  display: none !important;
}
.affix {
  position: fixed;
}
@-ms-viewport {
  width: device-width;
}
.visible-xs,
.visible-sm,
.visible-md,
.visible-lg {
  display: none !important;
}
.visible-xs-block,
.visible-xs-inline,
.visible-xs-inline-block,
.visible-sm-block,
.visible-sm-inline,
.visible-sm-inline-block,
.visible-md-block,
.visible-md-inline,
.visible-md-inline-block,
.visible-lg-block,
.visible-lg-inline,
.visible-lg-inline-block {
  display: none !important;
}
@media (max-width: 767px) {
  .visible-xs {
    display: block !important;
  }
  table.visible-xs {
    display: table !important;
  }
  tr.visible-xs {
    display: table-row !important;
  }
  th.visible-xs,
  td.visible-xs {
    display: table-cell !important;
  }
}
@media (max-width: 767px) {
  .visible-xs-block {
    display: block !important;
  }
}
@media (max-width: 767px) {
  .visible-xs-inline {
    display: inline !important;
  }
}
@media (max-width: 767px) {
  .visible-xs-inline-block {
    display: inline-block !important;
  }
}
@media (min-width: 768px) and (max-width: 991px) {
  .visible-sm {
    display: block !important;
  }
  table.visible-sm {
    display: table !important;
  }
  tr.visible-sm {
    display: table-row !important;
  }
  th.visible-sm,
  td.visible-sm {
    display: table-cell !important;
  }
}
@media (min-width: 768px) and (max-width: 991px) {
  .visible-sm-block {
    display: block !important;
  }
}
@media (min-width: 768px) and (max-width: 991px) {
  .visible-sm-inline {
    display: inline !important;
  }
}
@media (min-width: 768px) and (max-width: 991px) {
  .visible-sm-inline-block {
    display: inline-block !important;
  }
}
@media (min-width: 992px) and (max-width: 1199px) {
  .visible-md {
    display: block !important;
  }
  table.visible-md {
    display: table !important;
  }
  tr.visible-md {
    display: table-row !important;
  }
  th.visible-md,
  td.visible-md {
    display: table-cell !important;
  }
}
@media (min-width: 992px) and (max-width: 1199px) {
  .visible-md-block {
    display: block !important;
  }
}
@media (min-width: 992px) and (max-width: 1199px) {
  .visible-md-inline {
    display: inline !important;
  }
}
@media (min-width: 992px) and (max-width: 1199px) {
  .visible-md-inline-block {
    display: inline-block !important;
  }
}
@media (min-width: 1200px) {
  .visible-lg {
    display: block !important;
  }
  table.visible-lg {
    display: table !important;
  }
  tr.visible-lg {
    display: table-row !important;
  }
  th.visible-lg,
  td.visible-lg {
    display: table-cell !important;
  }
}
@media (min-width: 1200px) {
  .visible-lg-block {
    display: block !important;
  }
}
@media (min-width: 1200px) {
  .visible-lg-inline {
    display: inline !important;
  }
}
@media (min-width: 1200px) {
  .visible-lg-inline-block {
    display: inline-block !important;
  }
}
@media (max-width: 767px) {
  .hidden-xs {
    display: none !important;
  }
}
@media (min-width: 768px) and (max-width: 991px) {
  .hidden-sm {
    display: none !important;
  }
}
@media (min-width: 992px) and (max-width: 1199px) {
  .hidden-md {
    display: none !important;
  }
}
@media (min-width: 1200px) {
  .hidden-lg {
    display: none !important;
  }
}
.visible-print {
  display: none !important;
}
@media print {
  .visible-print {
    display: block !important;
  }
  table.visible-print {
    display: table !important;
  }
  tr.visible-print {
    display: table-row !important;
  }
  th.visible-print,
  td.visible-print {
    display: table-cell !important;
  }
}
.visible-print-block {
  display: none !important;
}
@media print {
  .visible-print-block {
    display: block !important;
  }
}
.visible-print-inline {
  display: none !important;
}
@media print {
  .visible-print-inline {
    display: inline !important;
  }
}
.visible-print-inline-block {
  display: none !important;
}
@media print {
  .visible-print-inline-block {
    display: inline-block !important;
  }
}
@media print {
  .hidden-print {
    display: none !important;
  }
}
/*!
*
* Font Awesome
*
*/
/*!
 *  Font Awesome 4.2.0 by @davegandy - http://fontawesome.io - @fontawesome
 *  License - http://fontawesome.io/license (Font: SIL OFL 1.1, CSS: MIT License)
 */
/* FONT PATH
 * -------------------------- */
@font-face {
  font-family: 'FontAwesome';
  src: url('../components/font-awesome/fonts/fontawesome-webfont.eot?v=4.2.0');
  src: url('../components/font-awesome/fonts/fontawesome-webfont.eot?#iefix&v=4.2.0') format('embedded-opentype'), url('../components/font-awesome/fonts/fontawesome-webfont.woff?v=4.2.0') format('woff'), url('../components/font-awesome/fonts/fontawesome-webfont.ttf?v=4.2.0') format('truetype'), url('../components/font-awesome/fonts/fontawesome-webfont.svg?v=4.2.0#fontawesomeregular') format('svg');
  font-weight: normal;
  font-style: normal;
}
.fa {
  display: inline-block;
  font: normal normal normal 14px/1 FontAwesome;
  font-size: inherit;
  text-rendering: auto;
  -webkit-font-smoothing: antialiased;
  -moz-osx-font-smoothing: grayscale;
}
/* makes the font 33% larger relative to the icon container */
.fa-lg {
  font-size: 1.33333333em;
  line-height: 0.75em;
  vertical-align: -15%;
}
.fa-2x {
  font-size: 2em;
}
.fa-3x {
  font-size: 3em;
}
.fa-4x {
  font-size: 4em;
}
.fa-5x {
  font-size: 5em;
}
.fa-fw {
  width: 1.28571429em;
  text-align: center;
}
.fa-ul {
  padding-left: 0;
  margin-left: 2.14285714em;
  list-style-type: none;
}
.fa-ul > li {
  position: relative;
}
.fa-li {
  position: absolute;
  left: -2.14285714em;
  width: 2.14285714em;
  top: 0.14285714em;
  text-align: center;
}
.fa-li.fa-lg {
  left: -1.85714286em;
}
.fa-border {
  padding: .2em .25em .15em;
  border: solid 0.08em #eee;
  border-radius: .1em;
}
.pull-right {
  float: right;
}
.pull-left {
  float: left;
}
.fa.pull-left {
  margin-right: .3em;
}
.fa.pull-right {
  margin-left: .3em;
}
.fa-spin {
  -webkit-animation: fa-spin 2s infinite linear;
  animation: fa-spin 2s infinite linear;
}
@-webkit-keyframes fa-spin {
  0% {
    -webkit-transform: rotate(0deg);
    transform: rotate(0deg);
  }
  100% {
    -webkit-transform: rotate(359deg);
    transform: rotate(359deg);
  }
}
@keyframes fa-spin {
  0% {
    -webkit-transform: rotate(0deg);
    transform: rotate(0deg);
  }
  100% {
    -webkit-transform: rotate(359deg);
    transform: rotate(359deg);
  }
}
.fa-rotate-90 {
  filter: progid:DXImageTransform.Microsoft.BasicImage(rotation=1);
  -webkit-transform: rotate(90deg);
  -ms-transform: rotate(90deg);
  transform: rotate(90deg);
}
.fa-rotate-180 {
  filter: progid:DXImageTransform.Microsoft.BasicImage(rotation=2);
  -webkit-transform: rotate(180deg);
  -ms-transform: rotate(180deg);
  transform: rotate(180deg);
}
.fa-rotate-270 {
  filter: progid:DXImageTransform.Microsoft.BasicImage(rotation=3);
  -webkit-transform: rotate(270deg);
  -ms-transform: rotate(270deg);
  transform: rotate(270deg);
}
.fa-flip-horizontal {
  filter: progid:DXImageTransform.Microsoft.BasicImage(rotation=0, mirror=1);
  -webkit-transform: scale(-1, 1);
  -ms-transform: scale(-1, 1);
  transform: scale(-1, 1);
}
.fa-flip-vertical {
  filter: progid:DXImageTransform.Microsoft.BasicImage(rotation=2, mirror=1);
  -webkit-transform: scale(1, -1);
  -ms-transform: scale(1, -1);
  transform: scale(1, -1);
}
:root .fa-rotate-90,
:root .fa-rotate-180,
:root .fa-rotate-270,
:root .fa-flip-horizontal,
:root .fa-flip-vertical {
  filter: none;
}
.fa-stack {
  position: relative;
  display: inline-block;
  width: 2em;
  height: 2em;
  line-height: 2em;
  vertical-align: middle;
}
.fa-stack-1x,
.fa-stack-2x {
  position: absolute;
  left: 0;
  width: 100%;
  text-align: center;
}
.fa-stack-1x {
  line-height: inherit;
}
.fa-stack-2x {
  font-size: 2em;
}
.fa-inverse {
  color: #fff;
}
/* Font Awesome uses the Unicode Private Use Area (PUA) to ensure screen
   readers do not read off random characters that represent icons */
.fa-glass:before {
  content: "\f000";
}
.fa-music:before {
  content: "\f001";
}
.fa-search:before {
  content: "\f002";
}
.fa-envelope-o:before {
  content: "\f003";
}
.fa-heart:before {
  content: "\f004";
}
.fa-star:before {
  content: "\f005";
}
.fa-star-o:before {
  content: "\f006";
}
.fa-user:before {
  content: "\f007";
}
.fa-film:before {
  content: "\f008";
}
.fa-th-large:before {
  content: "\f009";
}
.fa-th:before {
  content: "\f00a";
}
.fa-th-list:before {
  content: "\f00b";
}
.fa-check:before {
  content: "\f00c";
}
.fa-remove:before,
.fa-close:before,
.fa-times:before {
  content: "\f00d";
}
.fa-search-plus:before {
  content: "\f00e";
}
.fa-search-minus:before {
  content: "\f010";
}
.fa-power-off:before {
  content: "\f011";
}
.fa-signal:before {
  content: "\f012";
}
.fa-gear:before,
.fa-cog:before {
  content: "\f013";
}
.fa-trash-o:before {
  content: "\f014";
}
.fa-home:before {
  content: "\f015";
}
.fa-file-o:before {
  content: "\f016";
}
.fa-clock-o:before {
  content: "\f017";
}
.fa-road:before {
  content: "\f018";
}
.fa-download:before {
  content: "\f019";
}
.fa-arrow-circle-o-down:before {
  content: "\f01a";
}
.fa-arrow-circle-o-up:before {
  content: "\f01b";
}
.fa-inbox:before {
  content: "\f01c";
}
.fa-play-circle-o:before {
  content: "\f01d";
}
.fa-rotate-right:before,
.fa-repeat:before {
  content: "\f01e";
}
.fa-refresh:before {
  content: "\f021";
}
.fa-list-alt:before {
  content: "\f022";
}
.fa-lock:before {
  content: "\f023";
}
.fa-flag:before {
  content: "\f024";
}
.fa-headphones:before {
  content: "\f025";
}
.fa-volume-off:before {
  content: "\f026";
}
.fa-volume-down:before {
  content: "\f027";
}
.fa-volume-up:before {
  content: "\f028";
}
.fa-qrcode:before {
  content: "\f029";
}
.fa-barcode:before {
  content: "\f02a";
}
.fa-tag:before {
  content: "\f02b";
}
.fa-tags:before {
  content: "\f02c";
}
.fa-book:before {
  content: "\f02d";
}
.fa-bookmark:before {
  content: "\f02e";
}
.fa-print:before {
  content: "\f02f";
}
.fa-camera:before {
  content: "\f030";
}
.fa-font:before {
  content: "\f031";
}
.fa-bold:before {
  content: "\f032";
}
.fa-italic:before {
  content: "\f033";
}
.fa-text-height:before {
  content: "\f034";
}
.fa-text-width:before {
  content: "\f035";
}
.fa-align-left:before {
  content: "\f036";
}
.fa-align-center:before {
  content: "\f037";
}
.fa-align-right:before {
  content: "\f038";
}
.fa-align-justify:before {
  content: "\f039";
}
.fa-list:before {
  content: "\f03a";
}
.fa-dedent:before,
.fa-outdent:before {
  content: "\f03b";
}
.fa-indent:before {
  content: "\f03c";
}
.fa-video-camera:before {
  content: "\f03d";
}
.fa-photo:before,
.fa-image:before,
.fa-picture-o:before {
  content: "\f03e";
}
.fa-pencil:before {
  content: "\f040";
}
.fa-map-marker:before {
  content: "\f041";
}
.fa-adjust:before {
  content: "\f042";
}
.fa-tint:before {
  content: "\f043";
}
.fa-edit:before,
.fa-pencil-square-o:before {
  content: "\f044";
}
.fa-share-square-o:before {
  content: "\f045";
}
.fa-check-square-o:before {
  content: "\f046";
}
.fa-arrows:before {
  content: "\f047";
}
.fa-step-backward:before {
  content: "\f048";
}
.fa-fast-backward:before {
  content: "\f049";
}
.fa-backward:before {
  content: "\f04a";
}
.fa-play:before {
  content: "\f04b";
}
.fa-pause:before {
  content: "\f04c";
}
.fa-stop:before {
  content: "\f04d";
}
.fa-forward:before {
  content: "\f04e";
}
.fa-fast-forward:before {
  content: "\f050";
}
.fa-step-forward:before {
  content: "\f051";
}
.fa-eject:before {
  content: "\f052";
}
.fa-chevron-left:before {
  content: "\f053";
}
.fa-chevron-right:before {
  content: "\f054";
}
.fa-plus-circle:before {
  content: "\f055";
}
.fa-minus-circle:before {
  content: "\f056";
}
.fa-times-circle:before {
  content: "\f057";
}
.fa-check-circle:before {
  content: "\f058";
}
.fa-question-circle:before {
  content: "\f059";
}
.fa-info-circle:before {
  content: "\f05a";
}
.fa-crosshairs:before {
  content: "\f05b";
}
.fa-times-circle-o:before {
  content: "\f05c";
}
.fa-check-circle-o:before {
  content: "\f05d";
}
.fa-ban:before {
  content: "\f05e";
}
.fa-arrow-left:before {
  content: "\f060";
}
.fa-arrow-right:before {
  content: "\f061";
}
.fa-arrow-up:before {
  content: "\f062";
}
.fa-arrow-down:before {
  content: "\f063";
}
.fa-mail-forward:before,
.fa-share:before {
  content: "\f064";
}
.fa-expand:before {
  content: "\f065";
}
.fa-compress:before {
  content: "\f066";
}
.fa-plus:before {
  content: "\f067";
}
.fa-minus:before {
  content: "\f068";
}
.fa-asterisk:before {
  content: "\f069";
}
.fa-exclamation-circle:before {
  content: "\f06a";
}
.fa-gift:before {
  content: "\f06b";
}
.fa-leaf:before {
  content: "\f06c";
}
.fa-fire:before {
  content: "\f06d";
}
.fa-eye:before {
  content: "\f06e";
}
.fa-eye-slash:before {
  content: "\f070";
}
.fa-warning:before,
.fa-exclamation-triangle:before {
  content: "\f071";
}
.fa-plane:before {
  content: "\f072";
}
.fa-calendar:before {
  content: "\f073";
}
.fa-random:before {
  content: "\f074";
}
.fa-comment:before {
  content: "\f075";
}
.fa-magnet:before {
  content: "\f076";
}
.fa-chevron-up:before {
  content: "\f077";
}
.fa-chevron-down:before {
  content: "\f078";
}
.fa-retweet:before {
  content: "\f079";
}
.fa-shopping-cart:before {
  content: "\f07a";
}
.fa-folder:before {
  content: "\f07b";
}
.fa-folder-open:before {
  content: "\f07c";
}
.fa-arrows-v:before {
  content: "\f07d";
}
.fa-arrows-h:before {
  content: "\f07e";
}
.fa-bar-chart-o:before,
.fa-bar-chart:before {
  content: "\f080";
}
.fa-twitter-square:before {
  content: "\f081";
}
.fa-facebook-square:before {
  content: "\f082";
}
.fa-camera-retro:before {
  content: "\f083";
}
.fa-key:before {
  content: "\f084";
}
.fa-gears:before,
.fa-cogs:before {
  content: "\f085";
}
.fa-comments:before {
  content: "\f086";
}
.fa-thumbs-o-up:before {
  content: "\f087";
}
.fa-thumbs-o-down:before {
  content: "\f088";
}
.fa-star-half:before {
  content: "\f089";
}
.fa-heart-o:before {
  content: "\f08a";
}
.fa-sign-out:before {
  content: "\f08b";
}
.fa-linkedin-square:before {
  content: "\f08c";
}
.fa-thumb-tack:before {
  content: "\f08d";
}
.fa-external-link:before {
  content: "\f08e";
}
.fa-sign-in:before {
  content: "\f090";
}
.fa-trophy:before {
  content: "\f091";
}
.fa-github-square:before {
  content: "\f092";
}
.fa-upload:before {
  content: "\f093";
}
.fa-lemon-o:before {
  content: "\f094";
}
.fa-phone:before {
  content: "\f095";
}
.fa-square-o:before {
  content: "\f096";
}
.fa-bookmark-o:before {
  content: "\f097";
}
.fa-phone-square:before {
  content: "\f098";
}
.fa-twitter:before {
  content: "\f099";
}
.fa-facebook:before {
  content: "\f09a";
}
.fa-github:before {
  content: "\f09b";
}
.fa-unlock:before {
  content: "\f09c";
}
.fa-credit-card:before {
  content: "\f09d";
}
.fa-rss:before {
  content: "\f09e";
}
.fa-hdd-o:before {
  content: "\f0a0";
}
.fa-bullhorn:before {
  content: "\f0a1";
}
.fa-bell:before {
  content: "\f0f3";
}
.fa-certificate:before {
  content: "\f0a3";
}
.fa-hand-o-right:before {
  content: "\f0a4";
}
.fa-hand-o-left:before {
  content: "\f0a5";
}
.fa-hand-o-up:before {
  content: "\f0a6";
}
.fa-hand-o-down:before {
  content: "\f0a7";
}
.fa-arrow-circle-left:before {
  content: "\f0a8";
}
.fa-arrow-circle-right:before {
  content: "\f0a9";
}
.fa-arrow-circle-up:before {
  content: "\f0aa";
}
.fa-arrow-circle-down:before {
  content: "\f0ab";
}
.fa-globe:before {
  content: "\f0ac";
}
.fa-wrench:before {
  content: "\f0ad";
}
.fa-tasks:before {
  content: "\f0ae";
}
.fa-filter:before {
  content: "\f0b0";
}
.fa-briefcase:before {
  content: "\f0b1";
}
.fa-arrows-alt:before {
  content: "\f0b2";
}
.fa-group:before,
.fa-users:before {
  content: "\f0c0";
}
.fa-chain:before,
.fa-link:before {
  content: "\f0c1";
}
.fa-cloud:before {
  content: "\f0c2";
}
.fa-flask:before {
  content: "\f0c3";
}
.fa-cut:before,
.fa-scissors:before {
  content: "\f0c4";
}
.fa-copy:before,
.fa-files-o:before {
  content: "\f0c5";
}
.fa-paperclip:before {
  content: "\f0c6";
}
.fa-save:before,
.fa-floppy-o:before {
  content: "\f0c7";
}
.fa-square:before {
  content: "\f0c8";
}
.fa-navicon:before,
.fa-reorder:before,
.fa-bars:before {
  content: "\f0c9";
}
.fa-list-ul:before {
  content: "\f0ca";
}
.fa-list-ol:before {
  content: "\f0cb";
}
.fa-strikethrough:before {
  content: "\f0cc";
}
.fa-underline:before {
  content: "\f0cd";
}
.fa-table:before {
  content: "\f0ce";
}
.fa-magic:before {
  content: "\f0d0";
}
.fa-truck:before {
  content: "\f0d1";
}
.fa-pinterest:before {
  content: "\f0d2";
}
.fa-pinterest-square:before {
  content: "\f0d3";
}
.fa-google-plus-square:before {
  content: "\f0d4";
}
.fa-google-plus:before {
  content: "\f0d5";
}
.fa-money:before {
  content: "\f0d6";
}
.fa-caret-down:before {
  content: "\f0d7";
}
.fa-caret-up:before {
  content: "\f0d8";
}
.fa-caret-left:before {
  content: "\f0d9";
}
.fa-caret-right:before {
  content: "\f0da";
}
.fa-columns:before {
  content: "\f0db";
}
.fa-unsorted:before,
.fa-sort:before {
  content: "\f0dc";
}
.fa-sort-down:before,
.fa-sort-desc:before {
  content: "\f0dd";
}
.fa-sort-up:before,
.fa-sort-asc:before {
  content: "\f0de";
}
.fa-envelope:before {
  content: "\f0e0";
}
.fa-linkedin:before {
  content: "\f0e1";
}
.fa-rotate-left:before,
.fa-undo:before {
  content: "\f0e2";
}
.fa-legal:before,
.fa-gavel:before {
  content: "\f0e3";
}
.fa-dashboard:before,
.fa-tachometer:before {
  content: "\f0e4";
}
.fa-comment-o:before {
  content: "\f0e5";
}
.fa-comments-o:before {
  content: "\f0e6";
}
.fa-flash:before,
.fa-bolt:before {
  content: "\f0e7";
}
.fa-sitemap:before {
  content: "\f0e8";
}
.fa-umbrella:before {
  content: "\f0e9";
}
.fa-paste:before,
.fa-clipboard:before {
  content: "\f0ea";
}
.fa-lightbulb-o:before {
  content: "\f0eb";
}
.fa-exchange:before {
  content: "\f0ec";
}
.fa-cloud-download:before {
  content: "\f0ed";
}
.fa-cloud-upload:before {
  content: "\f0ee";
}
.fa-user-md:before {
  content: "\f0f0";
}
.fa-stethoscope:before {
  content: "\f0f1";
}
.fa-suitcase:before {
  content: "\f0f2";
}
.fa-bell-o:before {
  content: "\f0a2";
}
.fa-coffee:before {
  content: "\f0f4";
}
.fa-cutlery:before {
  content: "\f0f5";
}
.fa-file-text-o:before {
  content: "\f0f6";
}
.fa-building-o:before {
  content: "\f0f7";
}
.fa-hospital-o:before {
  content: "\f0f8";
}
.fa-ambulance:before {
  content: "\f0f9";
}
.fa-medkit:before {
  content: "\f0fa";
}
.fa-fighter-jet:before {
  content: "\f0fb";
}
.fa-beer:before {
  content: "\f0fc";
}
.fa-h-square:before {
  content: "\f0fd";
}
.fa-plus-square:before {
  content: "\f0fe";
}
.fa-angle-double-left:before {
  content: "\f100";
}
.fa-angle-double-right:before {
  content: "\f101";
}
.fa-angle-double-up:before {
  content: "\f102";
}
.fa-angle-double-down:before {
  content: "\f103";
}
.fa-angle-left:before {
  content: "\f104";
}
.fa-angle-right:before {
  content: "\f105";
}
.fa-angle-up:before {
  content: "\f106";
}
.fa-angle-down:before {
  content: "\f107";
}
.fa-desktop:before {
  content: "\f108";
}
.fa-laptop:before {
  content: "\f109";
}
.fa-tablet:before {
  content: "\f10a";
}
.fa-mobile-phone:before,
.fa-mobile:before {
  content: "\f10b";
}
.fa-circle-o:before {
  content: "\f10c";
}
.fa-quote-left:before {
  content: "\f10d";
}
.fa-quote-right:before {
  content: "\f10e";
}
.fa-spinner:before {
  content: "\f110";
}
.fa-circle:before {
  content: "\f111";
}
.fa-mail-reply:before,
.fa-reply:before {
  content: "\f112";
}
.fa-github-alt:before {
  content: "\f113";
}
.fa-folder-o:before {
  content: "\f114";
}
.fa-folder-open-o:before {
  content: "\f115";
}
.fa-smile-o:before {
  content: "\f118";
}
.fa-frown-o:before {
  content: "\f119";
}
.fa-meh-o:before {
  content: "\f11a";
}
.fa-gamepad:before {
  content: "\f11b";
}
.fa-keyboard-o:before {
  content: "\f11c";
}
.fa-flag-o:before {
  content: "\f11d";
}
.fa-flag-checkered:before {
  content: "\f11e";
}
.fa-terminal:before {
  content: "\f120";
}
.fa-code:before {
  content: "\f121";
}
.fa-mail-reply-all:before,
.fa-reply-all:before {
  content: "\f122";
}
.fa-star-half-empty:before,
.fa-star-half-full:before,
.fa-star-half-o:before {
  content: "\f123";
}
.fa-location-arrow:before {
  content: "\f124";
}
.fa-crop:before {
  content: "\f125";
}
.fa-code-fork:before {
  content: "\f126";
}
.fa-unlink:before,
.fa-chain-broken:before {
  content: "\f127";
}
.fa-question:before {
  content: "\f128";
}
.fa-info:before {
  content: "\f129";
}
.fa-exclamation:before {
  content: "\f12a";
}
.fa-superscript:before {
  content: "\f12b";
}
.fa-subscript:before {
  content: "\f12c";
}
.fa-eraser:before {
  content: "\f12d";
}
.fa-puzzle-piece:before {
  content: "\f12e";
}
.fa-microphone:before {
  content: "\f130";
}
.fa-microphone-slash:before {
  content: "\f131";
}
.fa-shield:before {
  content: "\f132";
}
.fa-calendar-o:before {
  content: "\f133";
}
.fa-fire-extinguisher:before {
  content: "\f134";
}
.fa-rocket:before {
  content: "\f135";
}
.fa-maxcdn:before {
  content: "\f136";
}
.fa-chevron-circle-left:before {
  content: "\f137";
}
.fa-chevron-circle-right:before {
  content: "\f138";
}
.fa-chevron-circle-up:before {
  content: "\f139";
}
.fa-chevron-circle-down:before {
  content: "\f13a";
}
.fa-html5:before {
  content: "\f13b";
}
.fa-css3:before {
  content: "\f13c";
}
.fa-anchor:before {
  content: "\f13d";
}
.fa-unlock-alt:before {
  content: "\f13e";
}
.fa-bullseye:before {
  content: "\f140";
}
.fa-ellipsis-h:before {
  content: "\f141";
}
.fa-ellipsis-v:before {
  content: "\f142";
}
.fa-rss-square:before {
  content: "\f143";
}
.fa-play-circle:before {
  content: "\f144";
}
.fa-ticket:before {
  content: "\f145";
}
.fa-minus-square:before {
  content: "\f146";
}
.fa-minus-square-o:before {
  content: "\f147";
}
.fa-level-up:before {
  content: "\f148";
}
.fa-level-down:before {
  content: "\f149";
}
.fa-check-square:before {
  content: "\f14a";
}
.fa-pencil-square:before {
  content: "\f14b";
}
.fa-external-link-square:before {
  content: "\f14c";
}
.fa-share-square:before {
  content: "\f14d";
}
.fa-compass:before {
  content: "\f14e";
}
.fa-toggle-down:before,
.fa-caret-square-o-down:before {
  content: "\f150";
}
.fa-toggle-up:before,
.fa-caret-square-o-up:before {
  content: "\f151";
}
.fa-toggle-right:before,
.fa-caret-square-o-right:before {
  content: "\f152";
}
.fa-euro:before,
.fa-eur:before {
  content: "\f153";
}
.fa-gbp:before {
  content: "\f154";
}
.fa-dollar:before,
.fa-usd:before {
  content: "\f155";
}
.fa-rupee:before,
.fa-inr:before {
  content: "\f156";
}
.fa-cny:before,
.fa-rmb:before,
.fa-yen:before,
.fa-jpy:before {
  content: "\f157";
}
.fa-ruble:before,
.fa-rouble:before,
.fa-rub:before {
  content: "\f158";
}
.fa-won:before,
.fa-krw:before {
  content: "\f159";
}
.fa-bitcoin:before,
.fa-btc:before {
  content: "\f15a";
}
.fa-file:before {
  content: "\f15b";
}
.fa-file-text:before {
  content: "\f15c";
}
.fa-sort-alpha-asc:before {
  content: "\f15d";
}
.fa-sort-alpha-desc:before {
  content: "\f15e";
}
.fa-sort-amount-asc:before {
  content: "\f160";
}
.fa-sort-amount-desc:before {
  content: "\f161";
}
.fa-sort-numeric-asc:before {
  content: "\f162";
}
.fa-sort-numeric-desc:before {
  content: "\f163";
}
.fa-thumbs-up:before {
  content: "\f164";
}
.fa-thumbs-down:before {
  content: "\f165";
}
.fa-youtube-square:before {
  content: "\f166";
}
.fa-youtube:before {
  content: "\f167";
}
.fa-xing:before {
  content: "\f168";
}
.fa-xing-square:before {
  content: "\f169";
}
.fa-youtube-play:before {
  content: "\f16a";
}
.fa-dropbox:before {
  content: "\f16b";
}
.fa-stack-overflow:before {
  content: "\f16c";
}
.fa-instagram:before {
  content: "\f16d";
}
.fa-flickr:before {
  content: "\f16e";
}
.fa-adn:before {
  content: "\f170";
}
.fa-bitbucket:before {
  content: "\f171";
}
.fa-bitbucket-square:before {
  content: "\f172";
}
.fa-tumblr:before {
  content: "\f173";
}
.fa-tumblr-square:before {
  content: "\f174";
}
.fa-long-arrow-down:before {
  content: "\f175";
}
.fa-long-arrow-up:before {
  content: "\f176";
}
.fa-long-arrow-left:before {
  content: "\f177";
}
.fa-long-arrow-right:before {
  content: "\f178";
}
.fa-apple:before {
  content: "\f179";
}
.fa-windows:before {
  content: "\f17a";
}
.fa-android:before {
  content: "\f17b";
}
.fa-linux:before {
  content: "\f17c";
}
.fa-dribbble:before {
  content: "\f17d";
}
.fa-skype:before {
  content: "\f17e";
}
.fa-foursquare:before {
  content: "\f180";
}
.fa-trello:before {
  content: "\f181";
}
.fa-female:before {
  content: "\f182";
}
.fa-male:before {
  content: "\f183";
}
.fa-gittip:before {
  content: "\f184";
}
.fa-sun-o:before {
  content: "\f185";
}
.fa-moon-o:before {
  content: "\f186";
}
.fa-archive:before {
  content: "\f187";
}
.fa-bug:before {
  content: "\f188";
}
.fa-vk:before {
  content: "\f189";
}
.fa-weibo:before {
  content: "\f18a";
}
.fa-renren:before {
  content: "\f18b";
}
.fa-pagelines:before {
  content: "\f18c";
}
.fa-stack-exchange:before {
  content: "\f18d";
}
.fa-arrow-circle-o-right:before {
  content: "\f18e";
}
.fa-arrow-circle-o-left:before {
  content: "\f190";
}
.fa-toggle-left:before,
.fa-caret-square-o-left:before {
  content: "\f191";
}
.fa-dot-circle-o:before {
  content: "\f192";
}
.fa-wheelchair:before {
  content: "\f193";
}
.fa-vimeo-square:before {
  content: "\f194";
}
.fa-turkish-lira:before,
.fa-try:before {
  content: "\f195";
}
.fa-plus-square-o:before {
  content: "\f196";
}
.fa-space-shuttle:before {
  content: "\f197";
}
.fa-slack:before {
  content: "\f198";
}
.fa-envelope-square:before {
  content: "\f199";
}
.fa-wordpress:before {
  content: "\f19a";
}
.fa-openid:before {
  content: "\f19b";
}
.fa-institution:before,
.fa-bank:before,
.fa-university:before {
  content: "\f19c";
}
.fa-mortar-board:before,
.fa-graduation-cap:before {
  content: "\f19d";
}
.fa-yahoo:before {
  content: "\f19e";
}
.fa-google:before {
  content: "\f1a0";
}
.fa-reddit:before {
  content: "\f1a1";
}
.fa-reddit-square:before {
  content: "\f1a2";
}
.fa-stumbleupon-circle:before {
  content: "\f1a3";
}
.fa-stumbleupon:before {
  content: "\f1a4";
}
.fa-delicious:before {
  content: "\f1a5";
}
.fa-digg:before {
  content: "\f1a6";
}
.fa-pied-piper:before {
  content: "\f1a7";
}
.fa-pied-piper-alt:before {
  content: "\f1a8";
}
.fa-drupal:before {
  content: "\f1a9";
}
.fa-joomla:before {
  content: "\f1aa";
}
.fa-language:before {
  content: "\f1ab";
}
.fa-fax:before {
  content: "\f1ac";
}
.fa-building:before {
  content: "\f1ad";
}
.fa-child:before {
  content: "\f1ae";
}
.fa-paw:before {
  content: "\f1b0";
}
.fa-spoon:before {
  content: "\f1b1";
}
.fa-cube:before {
  content: "\f1b2";
}
.fa-cubes:before {
  content: "\f1b3";
}
.fa-behance:before {
  content: "\f1b4";
}
.fa-behance-square:before {
  content: "\f1b5";
}
.fa-steam:before {
  content: "\f1b6";
}
.fa-steam-square:before {
  content: "\f1b7";
}
.fa-recycle:before {
  content: "\f1b8";
}
.fa-automobile:before,
.fa-car:before {
  content: "\f1b9";
}
.fa-cab:before,
.fa-taxi:before {
  content: "\f1ba";
}
.fa-tree:before {
  content: "\f1bb";
}
.fa-spotify:before {
  content: "\f1bc";
}
.fa-deviantart:before {
  content: "\f1bd";
}
.fa-soundcloud:before {
  content: "\f1be";
}
.fa-database:before {
  content: "\f1c0";
}
.fa-file-pdf-o:before {
  content: "\f1c1";
}
.fa-file-word-o:before {
  content: "\f1c2";
}
.fa-file-excel-o:before {
  content: "\f1c3";
}
.fa-file-powerpoint-o:before {
  content: "\f1c4";
}
.fa-file-photo-o:before,
.fa-file-picture-o:before,
.fa-file-image-o:before {
  content: "\f1c5";
}
.fa-file-zip-o:before,
.fa-file-archive-o:before {
  content: "\f1c6";
}
.fa-file-sound-o:before,
.fa-file-audio-o:before {
  content: "\f1c7";
}
.fa-file-movie-o:before,
.fa-file-video-o:before {
  content: "\f1c8";
}
.fa-file-code-o:before {
  content: "\f1c9";
}
.fa-vine:before {
  content: "\f1ca";
}
.fa-codepen:before {
  content: "\f1cb";
}
.fa-jsfiddle:before {
  content: "\f1cc";
}
.fa-life-bouy:before,
.fa-life-buoy:before,
.fa-life-saver:before,
.fa-support:before,
.fa-life-ring:before {
  content: "\f1cd";
}
.fa-circle-o-notch:before {
  content: "\f1ce";
}
.fa-ra:before,
.fa-rebel:before {
  content: "\f1d0";
}
.fa-ge:before,
.fa-empire:before {
  content: "\f1d1";
}
.fa-git-square:before {
  content: "\f1d2";
}
.fa-git:before {
  content: "\f1d3";
}
.fa-hacker-news:before {
  content: "\f1d4";
}
.fa-tencent-weibo:before {
  content: "\f1d5";
}
.fa-qq:before {
  content: "\f1d6";
}
.fa-wechat:before,
.fa-weixin:before {
  content: "\f1d7";
}
.fa-send:before,
.fa-paper-plane:before {
  content: "\f1d8";
}
.fa-send-o:before,
.fa-paper-plane-o:before {
  content: "\f1d9";
}
.fa-history:before {
  content: "\f1da";
}
.fa-circle-thin:before {
  content: "\f1db";
}
.fa-header:before {
  content: "\f1dc";
}
.fa-paragraph:before {
  content: "\f1dd";
}
.fa-sliders:before {
  content: "\f1de";
}
.fa-share-alt:before {
  content: "\f1e0";
}
.fa-share-alt-square:before {
  content: "\f1e1";
}
.fa-bomb:before {
  content: "\f1e2";
}
.fa-soccer-ball-o:before,
.fa-futbol-o:before {
  content: "\f1e3";
}
.fa-tty:before {
  content: "\f1e4";
}
.fa-binoculars:before {
  content: "\f1e5";
}
.fa-plug:before {
  content: "\f1e6";
}
.fa-slideshare:before {
  content: "\f1e7";
}
.fa-twitch:before {
  content: "\f1e8";
}
.fa-yelp:before {
  content: "\f1e9";
}
.fa-newspaper-o:before {
  content: "\f1ea";
}
.fa-wifi:before {
  content: "\f1eb";
}
.fa-calculator:before {
  content: "\f1ec";
}
.fa-paypal:before {
  content: "\f1ed";
}
.fa-google-wallet:before {
  content: "\f1ee";
}
.fa-cc-visa:before {
  content: "\f1f0";
}
.fa-cc-mastercard:before {
  content: "\f1f1";
}
.fa-cc-discover:before {
  content: "\f1f2";
}
.fa-cc-amex:before {
  content: "\f1f3";
}
.fa-cc-paypal:before {
  content: "\f1f4";
}
.fa-cc-stripe:before {
  content: "\f1f5";
}
.fa-bell-slash:before {
  content: "\f1f6";
}
.fa-bell-slash-o:before {
  content: "\f1f7";
}
.fa-trash:before {
  content: "\f1f8";
}
.fa-copyright:before {
  content: "\f1f9";
}
.fa-at:before {
  content: "\f1fa";
}
.fa-eyedropper:before {
  content: "\f1fb";
}
.fa-paint-brush:before {
  content: "\f1fc";
}
.fa-birthday-cake:before {
  content: "\f1fd";
}
.fa-area-chart:before {
  content: "\f1fe";
}
.fa-pie-chart:before {
  content: "\f200";
}
.fa-line-chart:before {
  content: "\f201";
}
.fa-lastfm:before {
  content: "\f202";
}
.fa-lastfm-square:before {
  content: "\f203";
}
.fa-toggle-off:before {
  content: "\f204";
}
.fa-toggle-on:before {
  content: "\f205";
}
.fa-bicycle:before {
  content: "\f206";
}
.fa-bus:before {
  content: "\f207";
}
.fa-ioxhost:before {
  content: "\f208";
}
.fa-angellist:before {
  content: "\f209";
}
.fa-cc:before {
  content: "\f20a";
}
.fa-shekel:before,
.fa-sheqel:before,
.fa-ils:before {
  content: "\f20b";
}
.fa-meanpath:before {
  content: "\f20c";
}
/*!
*
* IPython base
*
*/
.modal.fade .modal-dialog {
  -webkit-transform: translate(0, 0);
  -ms-transform: translate(0, 0);
  -o-transform: translate(0, 0);
  transform: translate(0, 0);
}
code {
  color: #000;
}
pre {
  font-size: inherit;
  line-height: inherit;
}
label {
  font-weight: normal;
}
/* Make the page background atleast 100% the height of the view port */
/* Make the page itself atleast 70% the height of the view port */
.border-box-sizing {
  box-sizing: border-box;
  -moz-box-sizing: border-box;
  -webkit-box-sizing: border-box;
}
.corner-all {
  border-radius: 2px;
}
.no-padding {
  padding: 0px;
}
/* Flexible box model classes */
/* Taken from Alex Russell http://infrequently.org/2009/08/css-3-progress/ */
/* This file is a compatability layer.  It allows the usage of flexible box 
model layouts accross multiple browsers, including older browsers.  The newest,
universal implementation of the flexible box model is used when available (see
`Modern browsers` comments below).  Browsers that are known to implement this 
new spec completely include:

    Firefox 28.0+
    Chrome 29.0+
    Internet Explorer 11+ 
    Opera 17.0+

Browsers not listed, including Safari, are supported via the styling under the
`Old browsers` comments below.
*/
.hbox {
  /* Old browsers */
  display: -webkit-box;
  -webkit-box-orient: horizontal;
  -webkit-box-align: stretch;
  display: -moz-box;
  -moz-box-orient: horizontal;
  -moz-box-align: stretch;
  display: box;
  box-orient: horizontal;
  box-align: stretch;
  /* Modern browsers */
  display: flex;
  flex-direction: row;
  align-items: stretch;
}
.hbox > * {
  /* Old browsers */
  -webkit-box-flex: 0;
  -moz-box-flex: 0;
  box-flex: 0;
  /* Modern browsers */
  flex: none;
}
.vbox {
  /* Old browsers */
  display: -webkit-box;
  -webkit-box-orient: vertical;
  -webkit-box-align: stretch;
  display: -moz-box;
  -moz-box-orient: vertical;
  -moz-box-align: stretch;
  display: box;
  box-orient: vertical;
  box-align: stretch;
  /* Modern browsers */
  display: flex;
  flex-direction: column;
  align-items: stretch;
}
.vbox > * {
  /* Old browsers */
  -webkit-box-flex: 0;
  -moz-box-flex: 0;
  box-flex: 0;
  /* Modern browsers */
  flex: none;
}
.hbox.reverse,
.vbox.reverse,
.reverse {
  /* Old browsers */
  -webkit-box-direction: reverse;
  -moz-box-direction: reverse;
  box-direction: reverse;
  /* Modern browsers */
  flex-direction: row-reverse;
}
.hbox.box-flex0,
.vbox.box-flex0,
.box-flex0 {
  /* Old browsers */
  -webkit-box-flex: 0;
  -moz-box-flex: 0;
  box-flex: 0;
  /* Modern browsers */
  flex: none;
  width: auto;
}
.hbox.box-flex1,
.vbox.box-flex1,
.box-flex1 {
  /* Old browsers */
  -webkit-box-flex: 1;
  -moz-box-flex: 1;
  box-flex: 1;
  /* Modern browsers */
  flex: 1;
}
.hbox.box-flex,
.vbox.box-flex,
.box-flex {
  /* Old browsers */
  /* Old browsers */
  -webkit-box-flex: 1;
  -moz-box-flex: 1;
  box-flex: 1;
  /* Modern browsers */
  flex: 1;
}
.hbox.box-flex2,
.vbox.box-flex2,
.box-flex2 {
  /* Old browsers */
  -webkit-box-flex: 2;
  -moz-box-flex: 2;
  box-flex: 2;
  /* Modern browsers */
  flex: 2;
}
.box-group1 {
  /*  Deprecated */
  -webkit-box-flex-group: 1;
  -moz-box-flex-group: 1;
  box-flex-group: 1;
}
.box-group2 {
  /* Deprecated */
  -webkit-box-flex-group: 2;
  -moz-box-flex-group: 2;
  box-flex-group: 2;
}
.hbox.start,
.vbox.start,
.start {
  /* Old browsers */
  -webkit-box-pack: start;
  -moz-box-pack: start;
  box-pack: start;
  /* Modern browsers */
  justify-content: flex-start;
}
.hbox.end,
.vbox.end,
.end {
  /* Old browsers */
  -webkit-box-pack: end;
  -moz-box-pack: end;
  box-pack: end;
  /* Modern browsers */
  justify-content: flex-end;
}
.hbox.center,
.vbox.center,
.center {
  /* Old browsers */
  -webkit-box-pack: center;
  -moz-box-pack: center;
  box-pack: center;
  /* Modern browsers */
  justify-content: center;
}
.hbox.baseline,
.vbox.baseline,
.baseline {
  /* Old browsers */
  -webkit-box-pack: baseline;
  -moz-box-pack: baseline;
  box-pack: baseline;
  /* Modern browsers */
  justify-content: baseline;
}
.hbox.stretch,
.vbox.stretch,
.stretch {
  /* Old browsers */
  -webkit-box-pack: stretch;
  -moz-box-pack: stretch;
  box-pack: stretch;
  /* Modern browsers */
  justify-content: stretch;
}
.hbox.align-start,
.vbox.align-start,
.align-start {
  /* Old browsers */
  -webkit-box-align: start;
  -moz-box-align: start;
  box-align: start;
  /* Modern browsers */
  align-items: flex-start;
}
.hbox.align-end,
.vbox.align-end,
.align-end {
  /* Old browsers */
  -webkit-box-align: end;
  -moz-box-align: end;
  box-align: end;
  /* Modern browsers */
  align-items: flex-end;
}
.hbox.align-center,
.vbox.align-center,
.align-center {
  /* Old browsers */
  -webkit-box-align: center;
  -moz-box-align: center;
  box-align: center;
  /* Modern browsers */
  align-items: center;
}
.hbox.align-baseline,
.vbox.align-baseline,
.align-baseline {
  /* Old browsers */
  -webkit-box-align: baseline;
  -moz-box-align: baseline;
  box-align: baseline;
  /* Modern browsers */
  align-items: baseline;
}
.hbox.align-stretch,
.vbox.align-stretch,
.align-stretch {
  /* Old browsers */
  -webkit-box-align: stretch;
  -moz-box-align: stretch;
  box-align: stretch;
  /* Modern browsers */
  align-items: stretch;
}
div.error {
  margin: 2em;
  text-align: center;
}
div.error > h1 {
  font-size: 500%;
  line-height: normal;
}
div.error > p {
  font-size: 200%;
  line-height: normal;
}
div.traceback-wrapper {
  text-align: left;
  max-width: 800px;
  margin: auto;
}
/**
 * Primary styles
 *
 * Author: Jupyter Development Team
 */
body {
  background-color: #fff;
  /* This makes sure that the body covers the entire window and needs to
       be in a different element than the display: box in wrapper below */
  position: absolute;
  left: 0px;
  right: 0px;
  top: 0px;
  bottom: 0px;
  overflow: visible;
}
body > #header {
  /* Initially hidden to prevent FLOUC */
  display: none;
  background-color: #fff;
  /* Display over codemirror */
  position: relative;
  z-index: 100;
}
body > #header #header-container {
  padding-bottom: 5px;
  padding-top: 5px;
  box-sizing: border-box;
  -moz-box-sizing: border-box;
  -webkit-box-sizing: border-box;
}
body > #header .header-bar {
  width: 100%;
  height: 1px;
  background: #e7e7e7;
  margin-bottom: -1px;
}
@media print {
  body > #header {
    display: none !important;
  }
}
#header-spacer {
  width: 100%;
  visibility: hidden;
}
@media print {
  #header-spacer {
    display: none;
  }
}
#ipython_notebook {
  padding-left: 0px;
  padding-top: 1px;
  padding-bottom: 1px;
}
@media (max-width: 991px) {
  #ipython_notebook {
    margin-left: 10px;
  }
}
[dir="rtl"] #ipython_notebook {
  float: right !important;
}
#noscript {
  width: auto;
  padding-top: 16px;
  padding-bottom: 16px;
  text-align: center;
  font-size: 22px;
  color: red;
  font-weight: bold;
}
#ipython_notebook img {
  height: 28px;
}
#site {
  width: 100%;
  display: none;
  box-sizing: border-box;
  -moz-box-sizing: border-box;
  -webkit-box-sizing: border-box;
  overflow: auto;
}
@media print {
  #site {
    height: auto !important;
  }
}
/* Smaller buttons */
.ui-button .ui-button-text {
  padding: 0.2em 0.8em;
  font-size: 77%;
}
input.ui-button {
  padding: 0.3em 0.9em;
}
span#login_widget {
  float: right;
}
span#login_widget > .button,
#logout {
  color: #333;
  background-color: #fff;
  border-color: #ccc;
}
span#login_widget > .button:focus,
#logout:focus,
span#login_widget > .button.focus,
#logout.focus {
  color: #333;
  background-color: #e6e6e6;
  border-color: #8c8c8c;
}
span#login_widget > .button:hover,
#logout:hover {
  color: #333;
  background-color: #e6e6e6;
  border-color: #adadad;
}
span#login_widget > .button:active,
#logout:active,
span#login_widget > .button.active,
#logout.active,
.open > .dropdown-togglespan#login_widget > .button,
.open > .dropdown-toggle#logout {
  color: #333;
  background-color: #e6e6e6;
  border-color: #adadad;
}
span#login_widget > .button:active:hover,
#logout:active:hover,
span#login_widget > .button.active:hover,
#logout.active:hover,
.open > .dropdown-togglespan#login_widget > .button:hover,
.open > .dropdown-toggle#logout:hover,
span#login_widget > .button:active:focus,
#logout:active:focus,
span#login_widget > .button.active:focus,
#logout.active:focus,
.open > .dropdown-togglespan#login_widget > .button:focus,
.open > .dropdown-toggle#logout:focus,
span#login_widget > .button:active.focus,
#logout:active.focus,
span#login_widget > .button.active.focus,
#logout.active.focus,
.open > .dropdown-togglespan#login_widget > .button.focus,
.open > .dropdown-toggle#logout.focus {
  color: #333;
  background-color: #d4d4d4;
  border-color: #8c8c8c;
}
span#login_widget > .button:active,
#logout:active,
span#login_widget > .button.active,
#logout.active,
.open > .dropdown-togglespan#login_widget > .button,
.open > .dropdown-toggle#logout {
  background-image: none;
}
span#login_widget > .button.disabled:hover,
#logout.disabled:hover,
span#login_widget > .button[disabled]:hover,
#logout[disabled]:hover,
fieldset[disabled] span#login_widget > .button:hover,
fieldset[disabled] #logout:hover,
span#login_widget > .button.disabled:focus,
#logout.disabled:focus,
span#login_widget > .button[disabled]:focus,
#logout[disabled]:focus,
fieldset[disabled] span#login_widget > .button:focus,
fieldset[disabled] #logout:focus,
span#login_widget > .button.disabled.focus,
#logout.disabled.focus,
span#login_widget > .button[disabled].focus,
#logout[disabled].focus,
fieldset[disabled] span#login_widget > .button.focus,
fieldset[disabled] #logout.focus {
  background-color: #fff;
  border-color: #ccc;
}
span#login_widget > .button .badge,
#logout .badge {
  color: #fff;
  background-color: #333;
}
.nav-header {
  text-transform: none;
}
#header > span {
  margin-top: 10px;
}
.modal_stretch .modal-dialog {
  /* Old browsers */
  display: -webkit-box;
  -webkit-box-orient: vertical;
  -webkit-box-align: stretch;
  display: -moz-box;
  -moz-box-orient: vertical;
  -moz-box-align: stretch;
  display: box;
  box-orient: vertical;
  box-align: stretch;
  /* Modern browsers */
  display: flex;
  flex-direction: column;
  align-items: stretch;
  min-height: 80vh;
}
.modal_stretch .modal-dialog .modal-body {
  max-height: calc(100vh - 200px);
  overflow: auto;
  flex: 1;
}
@media (min-width: 768px) {
  .modal .modal-dialog {
    width: 700px;
  }
}
@media (min-width: 768px) {
  select.form-control {
    margin-left: 12px;
    margin-right: 12px;
  }
}
/*!
*
* IPython auth
*
*/
.center-nav {
  display: inline-block;
  margin-bottom: -4px;
}
/*!
*
* IPython tree view
*
*/
/* We need an invisible input field on top of the sentense*/
/* "Drag file onto the list ..." */
.alternate_upload {
  background-color: none;
  display: inline;
}
.alternate_upload.form {
  padding: 0;
  margin: 0;
}
.alternate_upload input.fileinput {
  text-align: center;
  vertical-align: middle;
  display: inline;
  opacity: 0;
  z-index: 2;
  width: 12ex;
  margin-right: -12ex;
}
.alternate_upload .btn-upload {
  height: 22px;
}
/**
 * Primary styles
 *
 * Author: Jupyter Development Team
 */
[dir="rtl"] #tabs li {
  float: right;
}
ul#tabs {
  margin-bottom: 4px;
}
[dir="rtl"] ul#tabs {
  margin-right: 0px;
}
ul#tabs a {
  padding-top: 6px;
  padding-bottom: 4px;
}
ul.breadcrumb a:focus,
ul.breadcrumb a:hover {
  text-decoration: none;
}
ul.breadcrumb i.icon-home {
  font-size: 16px;
  margin-right: 4px;
}
ul.breadcrumb span {
  color: #5e5e5e;
}
.list_toolbar {
  padding: 4px 0 4px 0;
  vertical-align: middle;
}
.list_toolbar .tree-buttons {
  padding-top: 1px;
}
[dir="rtl"] .list_toolbar .tree-buttons {
  float: left !important;
}
[dir="rtl"] .list_toolbar .pull-right {
  padding-top: 1px;
  float: left !important;
}
[dir="rtl"] .list_toolbar .pull-left {
  float: right !important;
}
.dynamic-buttons {
  padding-top: 3px;
  display: inline-block;
}
.list_toolbar [class*="span"] {
  min-height: 24px;
}
.list_header {
  font-weight: bold;
  background-color: #EEE;
}
.list_placeholder {
  font-weight: bold;
  padding-top: 4px;
  padding-bottom: 4px;
  padding-left: 7px;
  padding-right: 7px;
}
.list_container {
  margin-top: 4px;
  margin-bottom: 20px;
  border: 1px solid #ddd;
  border-radius: 2px;
}
.list_container > div {
  border-bottom: 1px solid #ddd;
}
.list_container > div:hover .list-item {
  background-color: red;
}
.list_container > div:last-child {
  border: none;
}
.list_item:hover .list_item {
  background-color: #ddd;
}
.list_item a {
  text-decoration: none;
}
.list_item:hover {
  background-color: #fafafa;
}
.list_header > div,
.list_item > div {
  padding-top: 4px;
  padding-bottom: 4px;
  padding-left: 7px;
  padding-right: 7px;
  line-height: 22px;
}
.list_header > div input,
.list_item > div input {
  margin-right: 7px;
  margin-left: 14px;
  vertical-align: baseline;
  line-height: 22px;
  position: relative;
  top: -1px;
}
.list_header > div .item_link,
.list_item > div .item_link {
  margin-left: -1px;
  vertical-align: baseline;
  line-height: 22px;
}
.new-file input[type=checkbox] {
  visibility: hidden;
}
.item_name {
  line-height: 22px;
  height: 24px;
}
.item_icon {
  font-size: 14px;
  color: #5e5e5e;
  margin-right: 7px;
  margin-left: 7px;
  line-height: 22px;
  vertical-align: baseline;
}
.item_buttons {
  line-height: 1em;
  margin-left: -5px;
}
.item_buttons .btn,
.item_buttons .btn-group,
.item_buttons .input-group {
  float: left;
}
.item_buttons > .btn,
.item_buttons > .btn-group,
.item_buttons > .input-group {
  margin-left: 5px;
}
.item_buttons .btn {
  min-width: 13ex;
}
.item_buttons .running-indicator {
  padding-top: 4px;
  color: #5cb85c;
}
.item_buttons .kernel-name {
  padding-top: 4px;
  color: #5bc0de;
  margin-right: 7px;
  float: left;
}
.toolbar_info {
  height: 24px;
  line-height: 24px;
}
.list_item input:not([type=checkbox]) {
  padding-top: 3px;
  padding-bottom: 3px;
  height: 22px;
  line-height: 14px;
  margin: 0px;
}
.highlight_text {
  color: blue;
}
#project_name {
  display: inline-block;
  padding-left: 7px;
  margin-left: -2px;
}
#project_name > .breadcrumb {
  padding: 0px;
  margin-bottom: 0px;
  background-color: transparent;
  font-weight: bold;
}
#tree-selector {
  padding-right: 0px;
}
[dir="rtl"] #tree-selector a {
  float: right;
}
#button-select-all {
  min-width: 50px;
}
#select-all {
  margin-left: 7px;
  margin-right: 2px;
}
.menu_icon {
  margin-right: 2px;
}
.tab-content .row {
  margin-left: 0px;
  margin-right: 0px;
}
.folder_icon:before {
  display: inline-block;
  font: normal normal normal 14px/1 FontAwesome;
  font-size: inherit;
  text-rendering: auto;
  -webkit-font-smoothing: antialiased;
  -moz-osx-font-smoothing: grayscale;
  content: "\f114";
}
.folder_icon:before.pull-left {
  margin-right: .3em;
}
.folder_icon:before.pull-right {
  margin-left: .3em;
}
.notebook_icon:before {
  display: inline-block;
  font: normal normal normal 14px/1 FontAwesome;
  font-size: inherit;
  text-rendering: auto;
  -webkit-font-smoothing: antialiased;
  -moz-osx-font-smoothing: grayscale;
  content: "\f02d";
  position: relative;
  top: -1px;
}
.notebook_icon:before.pull-left {
  margin-right: .3em;
}
.notebook_icon:before.pull-right {
  margin-left: .3em;
}
.running_notebook_icon:before {
  display: inline-block;
  font: normal normal normal 14px/1 FontAwesome;
  font-size: inherit;
  text-rendering: auto;
  -webkit-font-smoothing: antialiased;
  -moz-osx-font-smoothing: grayscale;
  content: "\f02d";
  position: relative;
  top: -1px;
  color: #5cb85c;
}
.running_notebook_icon:before.pull-left {
  margin-right: .3em;
}
.running_notebook_icon:before.pull-right {
  margin-left: .3em;
}
.file_icon:before {
  display: inline-block;
  font: normal normal normal 14px/1 FontAwesome;
  font-size: inherit;
  text-rendering: auto;
  -webkit-font-smoothing: antialiased;
  -moz-osx-font-smoothing: grayscale;
  content: "\f016";
  position: relative;
  top: -2px;
}
.file_icon:before.pull-left {
  margin-right: .3em;
}
.file_icon:before.pull-right {
  margin-left: .3em;
}
#notebook_toolbar .pull-right {
  padding-top: 0px;
  margin-right: -1px;
}
ul#new-menu {
  left: auto;
  right: 0;
}
[dir="rtl"] #new-menu {
  text-align: right;
}
.kernel-menu-icon {
  padding-right: 12px;
  width: 24px;
  content: "\f096";
}
.kernel-menu-icon:before {
  content: "\f096";
}
.kernel-menu-icon-current:before {
  content: "\f00c";
}
#tab_content {
  padding-top: 20px;
}
#running .panel-group .panel {
  margin-top: 3px;
  margin-bottom: 1em;
}
#running .panel-group .panel .panel-heading {
  background-color: #EEE;
  padding-top: 4px;
  padding-bottom: 4px;
  padding-left: 7px;
  padding-right: 7px;
  line-height: 22px;
}
#running .panel-group .panel .panel-heading a:focus,
#running .panel-group .panel .panel-heading a:hover {
  text-decoration: none;
}
#running .panel-group .panel .panel-body {
  padding: 0px;
}
#running .panel-group .panel .panel-body .list_container {
  margin-top: 0px;
  margin-bottom: 0px;
  border: 0px;
  border-radius: 0px;
}
#running .panel-group .panel .panel-body .list_container .list_item {
  border-bottom: 1px solid #ddd;
}
#running .panel-group .panel .panel-body .list_container .list_item:last-child {
  border-bottom: 0px;
}
[dir="rtl"] #running .col-sm-8 {
  float: right !important;
}
.delete-button {
  display: none;
}
.duplicate-button {
  display: none;
}
.rename-button {
  display: none;
}
.shutdown-button {
  display: none;
}
.dynamic-instructions {
  display: inline-block;
  padding-top: 4px;
}
/*!
*
* IPython text editor webapp
*
*/
.selected-keymap i.fa {
  padding: 0px 5px;
}
.selected-keymap i.fa:before {
  content: "\f00c";
}
#mode-menu {
  overflow: auto;
  max-height: 20em;
}
.edit_app #header {
  -webkit-box-shadow: 0px 0px 12px 1px rgba(87, 87, 87, 0.2);
  box-shadow: 0px 0px 12px 1px rgba(87, 87, 87, 0.2);
}
.edit_app #menubar .navbar {
  /* Use a negative 1 bottom margin, so the border overlaps the border of the
    header */
  margin-bottom: -1px;
}
.dirty-indicator {
  display: inline-block;
  font: normal normal normal 14px/1 FontAwesome;
  font-size: inherit;
  text-rendering: auto;
  -webkit-font-smoothing: antialiased;
  -moz-osx-font-smoothing: grayscale;
  width: 20px;
}
.dirty-indicator.pull-left {
  margin-right: .3em;
}
.dirty-indicator.pull-right {
  margin-left: .3em;
}
.dirty-indicator-dirty {
  display: inline-block;
  font: normal normal normal 14px/1 FontAwesome;
  font-size: inherit;
  text-rendering: auto;
  -webkit-font-smoothing: antialiased;
  -moz-osx-font-smoothing: grayscale;
  width: 20px;
}
.dirty-indicator-dirty.pull-left {
  margin-right: .3em;
}
.dirty-indicator-dirty.pull-right {
  margin-left: .3em;
}
.dirty-indicator-clean {
  display: inline-block;
  font: normal normal normal 14px/1 FontAwesome;
  font-size: inherit;
  text-rendering: auto;
  -webkit-font-smoothing: antialiased;
  -moz-osx-font-smoothing: grayscale;
  width: 20px;
}
.dirty-indicator-clean.pull-left {
  margin-right: .3em;
}
.dirty-indicator-clean.pull-right {
  margin-left: .3em;
}
.dirty-indicator-clean:before {
  display: inline-block;
  font: normal normal normal 14px/1 FontAwesome;
  font-size: inherit;
  text-rendering: auto;
  -webkit-font-smoothing: antialiased;
  -moz-osx-font-smoothing: grayscale;
  content: "\f00c";
}
.dirty-indicator-clean:before.pull-left {
  margin-right: .3em;
}
.dirty-indicator-clean:before.pull-right {
  margin-left: .3em;
}
#filename {
  font-size: 16pt;
  display: table;
  padding: 0px 5px;
}
#current-mode {
  padding-left: 5px;
  padding-right: 5px;
}
#texteditor-backdrop {
  padding-top: 20px;
  padding-bottom: 20px;
}
@media not print {
  #texteditor-backdrop {
    background-color: #EEE;
  }
}
@media print {
  #texteditor-backdrop #texteditor-container .CodeMirror-gutter,
  #texteditor-backdrop #texteditor-container .CodeMirror-gutters {
    background-color: #fff;
  }
}
@media not print {
  #texteditor-backdrop #texteditor-container .CodeMirror-gutter,
  #texteditor-backdrop #texteditor-container .CodeMirror-gutters {
    background-color: #fff;
  }
}
@media not print {
  #texteditor-backdrop #texteditor-container {
    padding: 0px;
    background-color: #fff;
    -webkit-box-shadow: 0px 0px 12px 1px rgba(87, 87, 87, 0.2);
    box-shadow: 0px 0px 12px 1px rgba(87, 87, 87, 0.2);
  }
}
/*!
*
* IPython notebook
*
*/
/* CSS font colors for translated ANSI colors. */
.ansibold {
  font-weight: bold;
}
/* use dark versions for foreground, to improve visibility */
.ansiblack {
  color: black;
}
.ansired {
  color: darkred;
}
.ansigreen {
  color: darkgreen;
}
.ansiyellow {
  color: #c4a000;
}
.ansiblue {
  color: darkblue;
}
.ansipurple {
  color: darkviolet;
}
.ansicyan {
  color: steelblue;
}
.ansigray {
  color: gray;
}
/* and light for background, for the same reason */
.ansibgblack {
  background-color: black;
}
.ansibgred {
  background-color: red;
}
.ansibggreen {
  background-color: green;
}
.ansibgyellow {
  background-color: yellow;
}
.ansibgblue {
  background-color: blue;
}
.ansibgpurple {
  background-color: magenta;
}
.ansibgcyan {
  background-color: cyan;
}
.ansibggray {
  background-color: gray;
}
div.cell {
  /* Old browsers */
  display: -webkit-box;
  -webkit-box-orient: vertical;
  -webkit-box-align: stretch;
  display: -moz-box;
  -moz-box-orient: vertical;
  -moz-box-align: stretch;
  display: box;
  box-orient: vertical;
  box-align: stretch;
  /* Modern browsers */
  display: flex;
  flex-direction: column;
  align-items: stretch;
  border-radius: 2px;
  box-sizing: border-box;
  -moz-box-sizing: border-box;
  -webkit-box-sizing: border-box;
  border-width: 1px;
  border-style: solid;
  border-color: transparent;
  width: 100%;
  padding: 5px;
  /* This acts as a spacer between cells, that is outside the border */
  margin: 0px;
  outline: none;
  border-left-width: 1px;
  padding-left: 5px;
  background: linear-gradient(to right, transparent -40px, transparent 1px, transparent 1px, transparent 100%);
}
div.cell.jupyter-soft-selected {
  border-left-color: #90CAF9;
  border-left-color: #E3F2FD;
  border-left-width: 1px;
  padding-left: 5px;
  border-right-color: #E3F2FD;
  border-right-width: 1px;
  background: #E3F2FD;
}
@media print {
  div.cell.jupyter-soft-selected {
    border-color: transparent;
  }
}
div.cell.selected {
  border-color: #ababab;
  border-left-width: 0px;
  padding-left: 6px;
  background: linear-gradient(to right, #42A5F5 -40px, #42A5F5 5px, transparent 5px, transparent 100%);
}
@media print {
  div.cell.selected {
    border-color: transparent;
  }
}
div.cell.selected.jupyter-soft-selected {
  border-left-width: 0;
  padding-left: 6px;
  background: linear-gradient(to right, #42A5F5 -40px, #42A5F5 7px, #E3F2FD 7px, #E3F2FD 100%);
}
.edit_mode div.cell.selected {
  border-color: #66BB6A;
  border-left-width: 0px;
  padding-left: 6px;
  background: linear-gradient(to right, #66BB6A -40px, #66BB6A 5px, transparent 5px, transparent 100%);
}
@media print {
  .edit_mode div.cell.selected {
    border-color: transparent;
  }
}
.prompt {
  /* This needs to be wide enough for 3 digit prompt numbers: In[100]: */
  min-width: 14ex;
  /* This padding is tuned to match the padding on the CodeMirror editor. */
  padding: 0.4em;
  margin: 0px;
  font-family: monospace;
  text-align: right;
  /* This has to match that of the the CodeMirror class line-height below */
  line-height: 1.21429em;
  /* Don't highlight prompt number selection */
  -webkit-touch-callout: none;
  -webkit-user-select: none;
  -khtml-user-select: none;
  -moz-user-select: none;
  -ms-user-select: none;
  user-select: none;
  /* Use default cursor */
  cursor: default;
}
@media (max-width: 540px) {
  .prompt {
    text-align: left;
  }
}
div.inner_cell {
  min-width: 0;
  /* Old browsers */
  display: -webkit-box;
  -webkit-box-orient: vertical;
  -webkit-box-align: stretch;
  display: -moz-box;
  -moz-box-orient: vertical;
  -moz-box-align: stretch;
  display: box;
  box-orient: vertical;
  box-align: stretch;
  /* Modern browsers */
  display: flex;
  flex-direction: column;
  align-items: stretch;
  /* Old browsers */
  -webkit-box-flex: 1;
  -moz-box-flex: 1;
  box-flex: 1;
  /* Modern browsers */
  flex: 1;
}
/* input_area and input_prompt must match in top border and margin for alignment */
div.input_area {
  border: 1px solid #cfcfcf;
  border-radius: 2px;
  background: #f7f7f7;
  line-height: 1.21429em;
}
/* This is needed so that empty prompt areas can collapse to zero height when there
   is no content in the output_subarea and the prompt. The main purpose of this is
   to make sure that empty JavaScript output_subareas have no height. */
div.prompt:empty {
  padding-top: 0;
  padding-bottom: 0;
}
div.unrecognized_cell {
  padding: 5px 5px 5px 0px;
  /* Old browsers */
  display: -webkit-box;
  -webkit-box-orient: horizontal;
  -webkit-box-align: stretch;
  display: -moz-box;
  -moz-box-orient: horizontal;
  -moz-box-align: stretch;
  display: box;
  box-orient: horizontal;
  box-align: stretch;
  /* Modern browsers */
  display: flex;
  flex-direction: row;
  align-items: stretch;
}
div.unrecognized_cell .inner_cell {
  border-radius: 2px;
  padding: 5px;
  font-weight: bold;
  color: red;
  border: 1px solid #cfcfcf;
  background: #eaeaea;
}
div.unrecognized_cell .inner_cell a {
  color: inherit;
  text-decoration: none;
}
div.unrecognized_cell .inner_cell a:hover {
  color: inherit;
  text-decoration: none;
}
@media (max-width: 540px) {
  div.unrecognized_cell > div.prompt {
    display: none;
  }
}
div.code_cell {
  /* avoid page breaking on code cells when printing */
}
@media print {
  div.code_cell {
    page-break-inside: avoid;
  }
}
/* any special styling for code cells that are currently running goes here */
div.input {
  page-break-inside: avoid;
  /* Old browsers */
  display: -webkit-box;
  -webkit-box-orient: horizontal;
  -webkit-box-align: stretch;
  display: -moz-box;
  -moz-box-orient: horizontal;
  -moz-box-align: stretch;
  display: box;
  box-orient: horizontal;
  box-align: stretch;
  /* Modern browsers */
  display: flex;
  flex-direction: row;
  align-items: stretch;
}
@media (max-width: 540px) {
  div.input {
    /* Old browsers */
    display: -webkit-box;
    -webkit-box-orient: vertical;
    -webkit-box-align: stretch;
    display: -moz-box;
    -moz-box-orient: vertical;
    -moz-box-align: stretch;
    display: box;
    box-orient: vertical;
    box-align: stretch;
    /* Modern browsers */
    display: flex;
    flex-direction: column;
    align-items: stretch;
  }
}
/* input_area and input_prompt must match in top border and margin for alignment */
div.input_prompt {
  color: #303F9F;
  border-top: 1px solid transparent;
}
div.input_area > div.highlight {
  margin: 0.4em;
  border: none;
  padding: 0px;
  background-color: transparent;
}
div.input_area > div.highlight > pre {
  margin: 0px;
  border: none;
  padding: 0px;
  background-color: transparent;
}
/* The following gets added to the <head> if it is detected that the user has a
 * monospace font with inconsistent normal/bold/italic height.  See
 * notebookmain.js.  Such fonts will have keywords vertically offset with
 * respect to the rest of the text.  The user should select a better font.
 * See: https://github.com/ipython/ipython/issues/1503
 *
 * .CodeMirror span {
 *      vertical-align: bottom;
 * }
 */
.CodeMirror {
  line-height: 1.21429em;
  /* Changed from 1em to our global default */
  font-size: 14px;
  height: auto;
  /* Changed to auto to autogrow */
  background: none;
  /* Changed from white to allow our bg to show through */
}
.CodeMirror-scroll {
  /*  The CodeMirror docs are a bit fuzzy on if overflow-y should be hidden or visible.*/
  /*  We have found that if it is visible, vertical scrollbars appear with font size changes.*/
  overflow-y: hidden;
  overflow-x: auto;
}
.CodeMirror-lines {
  /* In CM2, this used to be 0.4em, but in CM3 it went to 4px. We need the em value because */
  /* we have set a different line-height and want this to scale with that. */
  padding: 0.4em;
}
.CodeMirror-linenumber {
  padding: 0 8px 0 4px;
}
.CodeMirror-gutters {
  border-bottom-left-radius: 2px;
  border-top-left-radius: 2px;
}
.CodeMirror pre {
  /* In CM3 this went to 4px from 0 in CM2. We need the 0 value because of how we size */
  /* .CodeMirror-lines */
  padding: 0;
  border: 0;
  border-radius: 0;
}
/*

Original style from softwaremaniacs.org (c) Ivan Sagalaev <Maniac@SoftwareManiacs.Org>
Adapted from GitHub theme

*/
.highlight-base {
  color: #000;
}
.highlight-variable {
  color: #000;
}
.highlight-variable-2 {
  color: #1a1a1a;
}
.highlight-variable-3 {
  color: #333333;
}
.highlight-string {
  color: #BA2121;
}
.highlight-comment {
  color: #408080;
  font-style: italic;
}
.highlight-number {
  color: #080;
}
.highlight-atom {
  color: #88F;
}
.highlight-keyword {
  color: #008000;
  font-weight: bold;
}
.highlight-builtin {
  color: #008000;
}
.highlight-error {
  color: #f00;
}
.highlight-operator {
  color: #AA22FF;
  font-weight: bold;
}
.highlight-meta {
  color: #AA22FF;
}
/* previously not defined, copying from default codemirror */
.highlight-def {
  color: #00f;
}
.highlight-string-2 {
  color: #f50;
}
.highlight-qualifier {
  color: #555;
}
.highlight-bracket {
  color: #997;
}
.highlight-tag {
  color: #170;
}
.highlight-attribute {
  color: #00c;
}
.highlight-header {
  color: blue;
}
.highlight-quote {
  color: #090;
}
.highlight-link {
  color: #00c;
}
/* apply the same style to codemirror */
.cm-s-ipython span.cm-keyword {
  color: #008000;
  font-weight: bold;
}
.cm-s-ipython span.cm-atom {
  color: #88F;
}
.cm-s-ipython span.cm-number {
  color: #080;
}
.cm-s-ipython span.cm-def {
  color: #00f;
}
.cm-s-ipython span.cm-variable {
  color: #000;
}
.cm-s-ipython span.cm-operator {
  color: #AA22FF;
  font-weight: bold;
}
.cm-s-ipython span.cm-variable-2 {
  color: #1a1a1a;
}
.cm-s-ipython span.cm-variable-3 {
  color: #333333;
}
.cm-s-ipython span.cm-comment {
  color: #408080;
  font-style: italic;
}
.cm-s-ipython span.cm-string {
  color: #BA2121;
}
.cm-s-ipython span.cm-string-2 {
  color: #f50;
}
.cm-s-ipython span.cm-meta {
  color: #AA22FF;
}
.cm-s-ipython span.cm-qualifier {
  color: #555;
}
.cm-s-ipython span.cm-builtin {
  color: #008000;
}
.cm-s-ipython span.cm-bracket {
  color: #997;
}
.cm-s-ipython span.cm-tag {
  color: #170;
}
.cm-s-ipython span.cm-attribute {
  color: #00c;
}
.cm-s-ipython span.cm-header {
  color: blue;
}
.cm-s-ipython span.cm-quote {
  color: #090;
}
.cm-s-ipython span.cm-link {
  color: #00c;
}
.cm-s-ipython span.cm-error {
  color: #f00;
}
.cm-s-ipython span.cm-tab {
  background: url(data:image/png;base64,iVBORw0KGgoAAAANSUhEUgAAADAAAAAMCAYAAAAkuj5RAAAAAXNSR0IArs4c6QAAAGFJREFUSMft1LsRQFAQheHPowAKoACx3IgEKtaEHujDjORSgWTH/ZOdnZOcM/sgk/kFFWY0qV8foQwS4MKBCS3qR6ixBJvElOobYAtivseIE120FaowJPN75GMu8j/LfMwNjh4HUpwg4LUAAAAASUVORK5CYII=);
  background-position: right;
  background-repeat: no-repeat;
}
div.output_wrapper {
  /* this position must be relative to enable descendents to be absolute within it */
  position: relative;
  /* Old browsers */
  display: -webkit-box;
  -webkit-box-orient: vertical;
  -webkit-box-align: stretch;
  display: -moz-box;
  -moz-box-orient: vertical;
  -moz-box-align: stretch;
  display: box;
  box-orient: vertical;
  box-align: stretch;
  /* Modern browsers */
  display: flex;
  flex-direction: column;
  align-items: stretch;
  z-index: 1;
}
/* class for the output area when it should be height-limited */
div.output_scroll {
  /* ideally, this would be max-height, but FF barfs all over that */
  height: 24em;
  /* FF needs this *and the wrapper* to specify full width, or it will shrinkwrap */
  width: 100%;
  overflow: auto;
  border-radius: 2px;
  -webkit-box-shadow: inset 0 2px 8px rgba(0, 0, 0, 0.8);
  box-shadow: inset 0 2px 8px rgba(0, 0, 0, 0.8);
  display: block;
}
/* output div while it is collapsed */
div.output_collapsed {
  margin: 0px;
  padding: 0px;
  /* Old browsers */
  display: -webkit-box;
  -webkit-box-orient: vertical;
  -webkit-box-align: stretch;
  display: -moz-box;
  -moz-box-orient: vertical;
  -moz-box-align: stretch;
  display: box;
  box-orient: vertical;
  box-align: stretch;
  /* Modern browsers */
  display: flex;
  flex-direction: column;
  align-items: stretch;
}
div.out_prompt_overlay {
  height: 100%;
  padding: 0px 0.4em;
  position: absolute;
  border-radius: 2px;
}
div.out_prompt_overlay:hover {
  /* use inner shadow to get border that is computed the same on WebKit/FF */
  -webkit-box-shadow: inset 0 0 1px #000;
  box-shadow: inset 0 0 1px #000;
  background: rgba(240, 240, 240, 0.5);
}
div.output_prompt {
  color: #D84315;
}
/* This class is the outer container of all output sections. */
div.output_area {
  padding: 0px;
  page-break-inside: avoid;
  /* Old browsers */
  display: -webkit-box;
  -webkit-box-orient: horizontal;
  -webkit-box-align: stretch;
  display: -moz-box;
  -moz-box-orient: horizontal;
  -moz-box-align: stretch;
  display: box;
  box-orient: horizontal;
  box-align: stretch;
  /* Modern browsers */
  display: flex;
  flex-direction: row;
  align-items: stretch;
}
div.output_area .MathJax_Display {
  text-align: left !important;
}
div.output_area .rendered_html table {
  margin-left: 0;
  margin-right: 0;
}
div.output_area .rendered_html img {
  margin-left: 0;
  margin-right: 0;
}
div.output_area img,
div.output_area svg {
  max-width: 100%;
  height: auto;
}
div.output_area img.unconfined,
div.output_area svg.unconfined {
  max-width: none;
}
/* This is needed to protect the pre formating from global settings such
   as that of bootstrap */
.output {
  /* Old browsers */
  display: -webkit-box;
  -webkit-box-orient: vertical;
  -webkit-box-align: stretch;
  display: -moz-box;
  -moz-box-orient: vertical;
  -moz-box-align: stretch;
  display: box;
  box-orient: vertical;
  box-align: stretch;
  /* Modern browsers */
  display: flex;
  flex-direction: column;
  align-items: stretch;
}
@media (max-width: 540px) {
  div.output_area {
    /* Old browsers */
    display: -webkit-box;
    -webkit-box-orient: vertical;
    -webkit-box-align: stretch;
    display: -moz-box;
    -moz-box-orient: vertical;
    -moz-box-align: stretch;
    display: box;
    box-orient: vertical;
    box-align: stretch;
    /* Modern browsers */
    display: flex;
    flex-direction: column;
    align-items: stretch;
  }
}
div.output_area pre {
  margin: 0;
  padding: 0;
  border: 0;
  vertical-align: baseline;
  color: black;
  background-color: transparent;
  border-radius: 0;
}
/* This class is for the output subarea inside the output_area and after
   the prompt div. */
div.output_subarea {
  overflow-x: auto;
  padding: 0.4em;
  /* Old browsers */
  -webkit-box-flex: 1;
  -moz-box-flex: 1;
  box-flex: 1;
  /* Modern browsers */
  flex: 1;
  max-width: calc(100% - 14ex);
}
div.output_scroll div.output_subarea {
  overflow-x: visible;
}
/* The rest of the output_* classes are for special styling of the different
   output types */
/* all text output has this class: */
div.output_text {
  text-align: left;
  color: #000;
  /* This has to match that of the the CodeMirror class line-height below */
  line-height: 1.21429em;
}
/* stdout/stderr are 'text' as well as 'stream', but execute_result/error are *not* streams */
div.output_stderr {
  background: #fdd;
  /* very light red background for stderr */
}
div.output_latex {
  text-align: left;
}
/* Empty output_javascript divs should have no height */
div.output_javascript:empty {
  padding: 0;
}
.js-error {
  color: darkred;
}
/* raw_input styles */
div.raw_input_container {
  line-height: 1.21429em;
  padding-top: 5px;
}
pre.raw_input_prompt {
  /* nothing needed here. */
}
input.raw_input {
  font-family: monospace;
  font-size: inherit;
  color: inherit;
  width: auto;
  /* make sure input baseline aligns with prompt */
  vertical-align: baseline;
  /* padding + margin = 0.5em between prompt and cursor */
  padding: 0em 0.25em;
  margin: 0em 0.25em;
}
input.raw_input:focus {
  box-shadow: none;
}
p.p-space {
  margin-bottom: 10px;
}
div.output_unrecognized {
  padding: 5px;
  font-weight: bold;
  color: red;
}
div.output_unrecognized a {
  color: inherit;
  text-decoration: none;
}
div.output_unrecognized a:hover {
  color: inherit;
  text-decoration: none;
}
.rendered_html {
  color: #000;
  /* any extras will just be numbers: */
}
.rendered_html em {
  font-style: italic;
}
.rendered_html strong {
  font-weight: bold;
}
.rendered_html u {
  text-decoration: underline;
}
.rendered_html :link {
  text-decoration: underline;
}
.rendered_html :visited {
  text-decoration: underline;
}
.rendered_html h1 {
  font-size: 185.7%;
  margin: 1.08em 0 0 0;
  font-weight: bold;
  line-height: 1.0;
}
.rendered_html h2 {
  font-size: 157.1%;
  margin: 1.27em 0 0 0;
  font-weight: bold;
  line-height: 1.0;
}
.rendered_html h3 {
  font-size: 128.6%;
  margin: 1.55em 0 0 0;
  font-weight: bold;
  line-height: 1.0;
}
.rendered_html h4 {
  font-size: 100%;
  margin: 2em 0 0 0;
  font-weight: bold;
  line-height: 1.0;
}
.rendered_html h5 {
  font-size: 100%;
  margin: 2em 0 0 0;
  font-weight: bold;
  line-height: 1.0;
  font-style: italic;
}
.rendered_html h6 {
  font-size: 100%;
  margin: 2em 0 0 0;
  font-weight: bold;
  line-height: 1.0;
  font-style: italic;
}
.rendered_html h1:first-child {
  margin-top: 0.538em;
}
.rendered_html h2:first-child {
  margin-top: 0.636em;
}
.rendered_html h3:first-child {
  margin-top: 0.777em;
}
.rendered_html h4:first-child {
  margin-top: 1em;
}
.rendered_html h5:first-child {
  margin-top: 1em;
}
.rendered_html h6:first-child {
  margin-top: 1em;
}
.rendered_html ul {
  list-style: disc;
  margin: 0em 2em;
  padding-left: 0px;
}
.rendered_html ul ul {
  list-style: square;
  margin: 0em 2em;
}
.rendered_html ul ul ul {
  list-style: circle;
  margin: 0em 2em;
}
.rendered_html ol {
  list-style: decimal;
  margin: 0em 2em;
  padding-left: 0px;
}
.rendered_html ol ol {
  list-style: upper-alpha;
  margin: 0em 2em;
}
.rendered_html ol ol ol {
  list-style: lower-alpha;
  margin: 0em 2em;
}
.rendered_html ol ol ol ol {
  list-style: lower-roman;
  margin: 0em 2em;
}
.rendered_html ol ol ol ol ol {
  list-style: decimal;
  margin: 0em 2em;
}
.rendered_html * + ul {
  margin-top: 1em;
}
.rendered_html * + ol {
  margin-top: 1em;
}
.rendered_html hr {
  color: black;
  background-color: black;
}
.rendered_html pre {
  margin: 1em 2em;
}
.rendered_html pre,
.rendered_html code {
  border: 0;
  background-color: #fff;
  color: #000;
  font-size: 100%;
  padding: 0px;
}
.rendered_html blockquote {
  margin: 1em 2em;
}
.rendered_html table {
  margin-left: auto;
  margin-right: auto;
  border: 1px solid black;
  border-collapse: collapse;
}
.rendered_html tr,
.rendered_html th,
.rendered_html td {
  border: 1px solid black;
  border-collapse: collapse;
  margin: 1em 2em;
}
.rendered_html td,
.rendered_html th {
  text-align: left;
  vertical-align: middle;
  padding: 4px;
}
.rendered_html th {
  font-weight: bold;
}
.rendered_html * + table {
  margin-top: 1em;
}
.rendered_html p {
  text-align: left;
}
.rendered_html * + p {
  margin-top: 1em;
}
.rendered_html img {
  display: block;
  margin-left: auto;
  margin-right: auto;
}
.rendered_html * + img {
  margin-top: 1em;
}
.rendered_html img,
.rendered_html svg {
  max-width: 100%;
  height: auto;
}
.rendered_html img.unconfined,
.rendered_html svg.unconfined {
  max-width: none;
}
div.text_cell {
  /* Old browsers */
  display: -webkit-box;
  -webkit-box-orient: horizontal;
  -webkit-box-align: stretch;
  display: -moz-box;
  -moz-box-orient: horizontal;
  -moz-box-align: stretch;
  display: box;
  box-orient: horizontal;
  box-align: stretch;
  /* Modern browsers */
  display: flex;
  flex-direction: row;
  align-items: stretch;
}
@media (max-width: 540px) {
  div.text_cell > div.prompt {
    display: none;
  }
}
div.text_cell_render {
  /*font-family: "Helvetica Neue", Arial, Helvetica, Geneva, sans-serif;*/
  outline: none;
  resize: none;
  width: inherit;
  border-style: none;
  padding: 0.5em 0.5em 0.5em 0.4em;
  color: #000;
  box-sizing: border-box;
  -moz-box-sizing: border-box;
  -webkit-box-sizing: border-box;
}
a.anchor-link:link {
  text-decoration: none;
  padding: 0px 20px;
  visibility: hidden;
}
h1:hover .anchor-link,
h2:hover .anchor-link,
h3:hover .anchor-link,
h4:hover .anchor-link,
h5:hover .anchor-link,
h6:hover .anchor-link {
  visibility: visible;
}
.text_cell.rendered .input_area {
  display: none;
}
.text_cell.rendered .rendered_html {
  overflow-x: auto;
  overflow-y: hidden;
}
.text_cell.unrendered .text_cell_render {
  display: none;
}
.cm-header-1,
.cm-header-2,
.cm-header-3,
.cm-header-4,
.cm-header-5,
.cm-header-6 {
  font-weight: bold;
  font-family: "Helvetica Neue", Helvetica, Arial, sans-serif;
}
.cm-header-1 {
  font-size: 185.7%;
}
.cm-header-2 {
  font-size: 157.1%;
}
.cm-header-3 {
  font-size: 128.6%;
}
.cm-header-4 {
  font-size: 110%;
}
.cm-header-5 {
  font-size: 100%;
  font-style: italic;
}
.cm-header-6 {
  font-size: 100%;
  font-style: italic;
}
/*!
*
* IPython notebook webapp
*
*/
@media (max-width: 767px) {
  .notebook_app {
    padding-left: 0px;
    padding-right: 0px;
  }
}
#ipython-main-app {
  box-sizing: border-box;
  -moz-box-sizing: border-box;
  -webkit-box-sizing: border-box;
  height: 100%;
}
div#notebook_panel {
  margin: 0px;
  padding: 0px;
  box-sizing: border-box;
  -moz-box-sizing: border-box;
  -webkit-box-sizing: border-box;
  height: 100%;
}
div#notebook {
  font-size: 14px;
  line-height: 20px;
  overflow-y: hidden;
  overflow-x: auto;
  width: 100%;
  /* This spaces the page away from the edge of the notebook area */
  padding-top: 20px;
  margin: 0px;
  outline: none;
  box-sizing: border-box;
  -moz-box-sizing: border-box;
  -webkit-box-sizing: border-box;
  min-height: 100%;
}
@media not print {
  #notebook-container {
    padding: 15px;
    background-color: #fff;
    min-height: 0;
    -webkit-box-shadow: 0px 0px 12px 1px rgba(87, 87, 87, 0.2);
    box-shadow: 0px 0px 12px 1px rgba(87, 87, 87, 0.2);
  }
}
@media print {
  #notebook-container {
    width: 100%;
  }
}
div.ui-widget-content {
  border: 1px solid #ababab;
  outline: none;
}
pre.dialog {
  background-color: #f7f7f7;
  border: 1px solid #ddd;
  border-radius: 2px;
  padding: 0.4em;
  padding-left: 2em;
}
p.dialog {
  padding: 0.2em;
}
/* Word-wrap output correctly.  This is the CSS3 spelling, though Firefox seems
   to not honor it correctly.  Webkit browsers (Chrome, rekonq, Safari) do.
 */
pre,
code,
kbd,
samp {
  white-space: pre-wrap;
}
#fonttest {
  font-family: monospace;
}
p {
  margin-bottom: 0;
}
.end_space {
  min-height: 100px;
  transition: height .2s ease;
}
.notebook_app > #header {
  -webkit-box-shadow: 0px 0px 12px 1px rgba(87, 87, 87, 0.2);
  box-shadow: 0px 0px 12px 1px rgba(87, 87, 87, 0.2);
}
@media not print {
  .notebook_app {
    background-color: #EEE;
  }
}
kbd {
  border-style: solid;
  border-width: 1px;
  box-shadow: none;
  margin: 2px;
  padding-left: 2px;
  padding-right: 2px;
  padding-top: 1px;
  padding-bottom: 1px;
}
/* CSS for the cell toolbar */
.celltoolbar {
  border: thin solid #CFCFCF;
  border-bottom: none;
  background: #EEE;
  border-radius: 2px 2px 0px 0px;
  width: 100%;
  height: 29px;
  padding-right: 4px;
  /* Old browsers */
  display: -webkit-box;
  -webkit-box-orient: horizontal;
  -webkit-box-align: stretch;
  display: -moz-box;
  -moz-box-orient: horizontal;
  -moz-box-align: stretch;
  display: box;
  box-orient: horizontal;
  box-align: stretch;
  /* Modern browsers */
  display: flex;
  flex-direction: row;
  align-items: stretch;
  /* Old browsers */
  -webkit-box-pack: end;
  -moz-box-pack: end;
  box-pack: end;
  /* Modern browsers */
  justify-content: flex-end;
  display: -webkit-flex;
}
@media print {
  .celltoolbar {
    display: none;
  }
}
.ctb_hideshow {
  display: none;
  vertical-align: bottom;
}
/* ctb_show is added to the ctb_hideshow div to show the cell toolbar.
   Cell toolbars are only shown when the ctb_global_show class is also set.
*/
.ctb_global_show .ctb_show.ctb_hideshow {
  display: block;
}
.ctb_global_show .ctb_show + .input_area,
.ctb_global_show .ctb_show + div.text_cell_input,
.ctb_global_show .ctb_show ~ div.text_cell_render {
  border-top-right-radius: 0px;
  border-top-left-radius: 0px;
}
.ctb_global_show .ctb_show ~ div.text_cell_render {
  border: 1px solid #cfcfcf;
}
.celltoolbar {
  font-size: 87%;
  padding-top: 3px;
}
.celltoolbar select {
  display: block;
  width: 100%;
  height: 32px;
  padding: 6px 12px;
  font-size: 13px;
  line-height: 1.42857143;
  color: #555555;
  background-color: #fff;
  background-image: none;
  border: 1px solid #ccc;
  border-radius: 2px;
  -webkit-box-shadow: inset 0 1px 1px rgba(0, 0, 0, 0.075);
  box-shadow: inset 0 1px 1px rgba(0, 0, 0, 0.075);
  -webkit-transition: border-color ease-in-out .15s, box-shadow ease-in-out .15s;
  -o-transition: border-color ease-in-out .15s, box-shadow ease-in-out .15s;
  transition: border-color ease-in-out .15s, box-shadow ease-in-out .15s;
  height: 30px;
  padding: 5px 10px;
  font-size: 12px;
  line-height: 1.5;
  border-radius: 1px;
  width: inherit;
  font-size: inherit;
  height: 22px;
  padding: 0px;
  display: inline-block;
}
.celltoolbar select:focus {
  border-color: #66afe9;
  outline: 0;
  -webkit-box-shadow: inset 0 1px 1px rgba(0,0,0,.075), 0 0 8px rgba(102, 175, 233, 0.6);
  box-shadow: inset 0 1px 1px rgba(0,0,0,.075), 0 0 8px rgba(102, 175, 233, 0.6);
}
.celltoolbar select::-moz-placeholder {
  color: #999;
  opacity: 1;
}
.celltoolbar select:-ms-input-placeholder {
  color: #999;
}
.celltoolbar select::-webkit-input-placeholder {
  color: #999;
}
.celltoolbar select::-ms-expand {
  border: 0;
  background-color: transparent;
}
.celltoolbar select[disabled],
.celltoolbar select[readonly],
fieldset[disabled] .celltoolbar select {
  background-color: #eeeeee;
  opacity: 1;
}
.celltoolbar select[disabled],
fieldset[disabled] .celltoolbar select {
  cursor: not-allowed;
}
textarea.celltoolbar select {
  height: auto;
}
select.celltoolbar select {
  height: 30px;
  line-height: 30px;
}
textarea.celltoolbar select,
select[multiple].celltoolbar select {
  height: auto;
}
.celltoolbar label {
  margin-left: 5px;
  margin-right: 5px;
}
.completions {
  position: absolute;
  z-index: 110;
  overflow: hidden;
  border: 1px solid #ababab;
  border-radius: 2px;
  -webkit-box-shadow: 0px 6px 10px -1px #adadad;
  box-shadow: 0px 6px 10px -1px #adadad;
  line-height: 1;
}
.completions select {
  background: white;
  outline: none;
  border: none;
  padding: 0px;
  margin: 0px;
  overflow: auto;
  font-family: monospace;
  font-size: 110%;
  color: #000;
  width: auto;
}
.completions select option.context {
  color: #286090;
}
#kernel_logo_widget {
  float: right !important;
  float: right;
}
#kernel_logo_widget .current_kernel_logo {
  display: none;
  margin-top: -1px;
  margin-bottom: -1px;
  width: 32px;
  height: 32px;
}
#menubar {
  box-sizing: border-box;
  -moz-box-sizing: border-box;
  -webkit-box-sizing: border-box;
  margin-top: 1px;
}
#menubar .navbar {
  border-top: 1px;
  border-radius: 0px 0px 2px 2px;
  margin-bottom: 0px;
}
#menubar .navbar-toggle {
  float: left;
  padding-top: 7px;
  padding-bottom: 7px;
  border: none;
}
#menubar .navbar-collapse {
  clear: left;
}
.nav-wrapper {
  border-bottom: 1px solid #e7e7e7;
}
i.menu-icon {
  padding-top: 4px;
}
ul#help_menu li a {
  overflow: hidden;
  padding-right: 2.2em;
}
ul#help_menu li a i {
  margin-right: -1.2em;
}
.dropdown-submenu {
  position: relative;
}
.dropdown-submenu > .dropdown-menu {
  top: 0;
  left: 100%;
  margin-top: -6px;
  margin-left: -1px;
}
.dropdown-submenu:hover > .dropdown-menu {
  display: block;
}
.dropdown-submenu > a:after {
  display: inline-block;
  font: normal normal normal 14px/1 FontAwesome;
  font-size: inherit;
  text-rendering: auto;
  -webkit-font-smoothing: antialiased;
  -moz-osx-font-smoothing: grayscale;
  display: block;
  content: "\f0da";
  float: right;
  color: #333333;
  margin-top: 2px;
  margin-right: -10px;
}
.dropdown-submenu > a:after.pull-left {
  margin-right: .3em;
}
.dropdown-submenu > a:after.pull-right {
  margin-left: .3em;
}
.dropdown-submenu:hover > a:after {
  color: #262626;
}
.dropdown-submenu.pull-left {
  float: none;
}
.dropdown-submenu.pull-left > .dropdown-menu {
  left: -100%;
  margin-left: 10px;
}
#notification_area {
  float: right !important;
  float: right;
  z-index: 10;
}
.indicator_area {
  float: right !important;
  float: right;
  color: #777;
  margin-left: 5px;
  margin-right: 5px;
  width: 11px;
  z-index: 10;
  text-align: center;
  width: auto;
}
#kernel_indicator {
  float: right !important;
  float: right;
  color: #777;
  margin-left: 5px;
  margin-right: 5px;
  width: 11px;
  z-index: 10;
  text-align: center;
  width: auto;
  border-left: 1px solid;
}
#kernel_indicator .kernel_indicator_name {
  padding-left: 5px;
  padding-right: 5px;
}
#modal_indicator {
  float: right !important;
  float: right;
  color: #777;
  margin-left: 5px;
  margin-right: 5px;
  width: 11px;
  z-index: 10;
  text-align: center;
  width: auto;
}
#readonly-indicator {
  float: right !important;
  float: right;
  color: #777;
  margin-left: 5px;
  margin-right: 5px;
  width: 11px;
  z-index: 10;
  text-align: center;
  width: auto;
  margin-top: 2px;
  margin-bottom: 0px;
  margin-left: 0px;
  margin-right: 0px;
  display: none;
}
.modal_indicator:before {
  width: 1.28571429em;
  text-align: center;
}
.edit_mode .modal_indicator:before {
  display: inline-block;
  font: normal normal normal 14px/1 FontAwesome;
  font-size: inherit;
  text-rendering: auto;
  -webkit-font-smoothing: antialiased;
  -moz-osx-font-smoothing: grayscale;
  content: "\f040";
}
.edit_mode .modal_indicator:before.pull-left {
  margin-right: .3em;
}
.edit_mode .modal_indicator:before.pull-right {
  margin-left: .3em;
}
.command_mode .modal_indicator:before {
  display: inline-block;
  font: normal normal normal 14px/1 FontAwesome;
  font-size: inherit;
  text-rendering: auto;
  -webkit-font-smoothing: antialiased;
  -moz-osx-font-smoothing: grayscale;
  content: ' ';
}
.command_mode .modal_indicator:before.pull-left {
  margin-right: .3em;
}
.command_mode .modal_indicator:before.pull-right {
  margin-left: .3em;
}
.kernel_idle_icon:before {
  display: inline-block;
  font: normal normal normal 14px/1 FontAwesome;
  font-size: inherit;
  text-rendering: auto;
  -webkit-font-smoothing: antialiased;
  -moz-osx-font-smoothing: grayscale;
  content: "\f10c";
}
.kernel_idle_icon:before.pull-left {
  margin-right: .3em;
}
.kernel_idle_icon:before.pull-right {
  margin-left: .3em;
}
.kernel_busy_icon:before {
  display: inline-block;
  font: normal normal normal 14px/1 FontAwesome;
  font-size: inherit;
  text-rendering: auto;
  -webkit-font-smoothing: antialiased;
  -moz-osx-font-smoothing: grayscale;
  content: "\f111";
}
.kernel_busy_icon:before.pull-left {
  margin-right: .3em;
}
.kernel_busy_icon:before.pull-right {
  margin-left: .3em;
}
.kernel_dead_icon:before {
  display: inline-block;
  font: normal normal normal 14px/1 FontAwesome;
  font-size: inherit;
  text-rendering: auto;
  -webkit-font-smoothing: antialiased;
  -moz-osx-font-smoothing: grayscale;
  content: "\f1e2";
}
.kernel_dead_icon:before.pull-left {
  margin-right: .3em;
}
.kernel_dead_icon:before.pull-right {
  margin-left: .3em;
}
.kernel_disconnected_icon:before {
  display: inline-block;
  font: normal normal normal 14px/1 FontAwesome;
  font-size: inherit;
  text-rendering: auto;
  -webkit-font-smoothing: antialiased;
  -moz-osx-font-smoothing: grayscale;
  content: "\f127";
}
.kernel_disconnected_icon:before.pull-left {
  margin-right: .3em;
}
.kernel_disconnected_icon:before.pull-right {
  margin-left: .3em;
}
.notification_widget {
  color: #777;
  z-index: 10;
  background: rgba(240, 240, 240, 0.5);
  margin-right: 4px;
  color: #333;
  background-color: #fff;
  border-color: #ccc;
}
.notification_widget:focus,
.notification_widget.focus {
  color: #333;
  background-color: #e6e6e6;
  border-color: #8c8c8c;
}
.notification_widget:hover {
  color: #333;
  background-color: #e6e6e6;
  border-color: #adadad;
}
.notification_widget:active,
.notification_widget.active,
.open > .dropdown-toggle.notification_widget {
  color: #333;
  background-color: #e6e6e6;
  border-color: #adadad;
}
.notification_widget:active:hover,
.notification_widget.active:hover,
.open > .dropdown-toggle.notification_widget:hover,
.notification_widget:active:focus,
.notification_widget.active:focus,
.open > .dropdown-toggle.notification_widget:focus,
.notification_widget:active.focus,
.notification_widget.active.focus,
.open > .dropdown-toggle.notification_widget.focus {
  color: #333;
  background-color: #d4d4d4;
  border-color: #8c8c8c;
}
.notification_widget:active,
.notification_widget.active,
.open > .dropdown-toggle.notification_widget {
  background-image: none;
}
.notification_widget.disabled:hover,
.notification_widget[disabled]:hover,
fieldset[disabled] .notification_widget:hover,
.notification_widget.disabled:focus,
.notification_widget[disabled]:focus,
fieldset[disabled] .notification_widget:focus,
.notification_widget.disabled.focus,
.notification_widget[disabled].focus,
fieldset[disabled] .notification_widget.focus {
  background-color: #fff;
  border-color: #ccc;
}
.notification_widget .badge {
  color: #fff;
  background-color: #333;
}
.notification_widget.warning {
  color: #fff;
  background-color: #f0ad4e;
  border-color: #eea236;
}
.notification_widget.warning:focus,
.notification_widget.warning.focus {
  color: #fff;
  background-color: #ec971f;
  border-color: #985f0d;
}
.notification_widget.warning:hover {
  color: #fff;
  background-color: #ec971f;
  border-color: #d58512;
}
.notification_widget.warning:active,
.notification_widget.warning.active,
.open > .dropdown-toggle.notification_widget.warning {
  color: #fff;
  background-color: #ec971f;
  border-color: #d58512;
}
.notification_widget.warning:active:hover,
.notification_widget.warning.active:hover,
.open > .dropdown-toggle.notification_widget.warning:hover,
.notification_widget.warning:active:focus,
.notification_widget.warning.active:focus,
.open > .dropdown-toggle.notification_widget.warning:focus,
.notification_widget.warning:active.focus,
.notification_widget.warning.active.focus,
.open > .dropdown-toggle.notification_widget.warning.focus {
  color: #fff;
  background-color: #d58512;
  border-color: #985f0d;
}
.notification_widget.warning:active,
.notification_widget.warning.active,
.open > .dropdown-toggle.notification_widget.warning {
  background-image: none;
}
.notification_widget.warning.disabled:hover,
.notification_widget.warning[disabled]:hover,
fieldset[disabled] .notification_widget.warning:hover,
.notification_widget.warning.disabled:focus,
.notification_widget.warning[disabled]:focus,
fieldset[disabled] .notification_widget.warning:focus,
.notification_widget.warning.disabled.focus,
.notification_widget.warning[disabled].focus,
fieldset[disabled] .notification_widget.warning.focus {
  background-color: #f0ad4e;
  border-color: #eea236;
}
.notification_widget.warning .badge {
  color: #f0ad4e;
  background-color: #fff;
}
.notification_widget.success {
  color: #fff;
  background-color: #5cb85c;
  border-color: #4cae4c;
}
.notification_widget.success:focus,
.notification_widget.success.focus {
  color: #fff;
  background-color: #449d44;
  border-color: #255625;
}
.notification_widget.success:hover {
  color: #fff;
  background-color: #449d44;
  border-color: #398439;
}
.notification_widget.success:active,
.notification_widget.success.active,
.open > .dropdown-toggle.notification_widget.success {
  color: #fff;
  background-color: #449d44;
  border-color: #398439;
}
.notification_widget.success:active:hover,
.notification_widget.success.active:hover,
.open > .dropdown-toggle.notification_widget.success:hover,
.notification_widget.success:active:focus,
.notification_widget.success.active:focus,
.open > .dropdown-toggle.notification_widget.success:focus,
.notification_widget.success:active.focus,
.notification_widget.success.active.focus,
.open > .dropdown-toggle.notification_widget.success.focus {
  color: #fff;
  background-color: #398439;
  border-color: #255625;
}
.notification_widget.success:active,
.notification_widget.success.active,
.open > .dropdown-toggle.notification_widget.success {
  background-image: none;
}
.notification_widget.success.disabled:hover,
.notification_widget.success[disabled]:hover,
fieldset[disabled] .notification_widget.success:hover,
.notification_widget.success.disabled:focus,
.notification_widget.success[disabled]:focus,
fieldset[disabled] .notification_widget.success:focus,
.notification_widget.success.disabled.focus,
.notification_widget.success[disabled].focus,
fieldset[disabled] .notification_widget.success.focus {
  background-color: #5cb85c;
  border-color: #4cae4c;
}
.notification_widget.success .badge {
  color: #5cb85c;
  background-color: #fff;
}
.notification_widget.info {
  color: #fff;
  background-color: #5bc0de;
  border-color: #46b8da;
}
.notification_widget.info:focus,
.notification_widget.info.focus {
  color: #fff;
  background-color: #31b0d5;
  border-color: #1b6d85;
}
.notification_widget.info:hover {
  color: #fff;
  background-color: #31b0d5;
  border-color: #269abc;
}
.notification_widget.info:active,
.notification_widget.info.active,
.open > .dropdown-toggle.notification_widget.info {
  color: #fff;
  background-color: #31b0d5;
  border-color: #269abc;
}
.notification_widget.info:active:hover,
.notification_widget.info.active:hover,
.open > .dropdown-toggle.notification_widget.info:hover,
.notification_widget.info:active:focus,
.notification_widget.info.active:focus,
.open > .dropdown-toggle.notification_widget.info:focus,
.notification_widget.info:active.focus,
.notification_widget.info.active.focus,
.open > .dropdown-toggle.notification_widget.info.focus {
  color: #fff;
  background-color: #269abc;
  border-color: #1b6d85;
}
.notification_widget.info:active,
.notification_widget.info.active,
.open > .dropdown-toggle.notification_widget.info {
  background-image: none;
}
.notification_widget.info.disabled:hover,
.notification_widget.info[disabled]:hover,
fieldset[disabled] .notification_widget.info:hover,
.notification_widget.info.disabled:focus,
.notification_widget.info[disabled]:focus,
fieldset[disabled] .notification_widget.info:focus,
.notification_widget.info.disabled.focus,
.notification_widget.info[disabled].focus,
fieldset[disabled] .notification_widget.info.focus {
  background-color: #5bc0de;
  border-color: #46b8da;
}
.notification_widget.info .badge {
  color: #5bc0de;
  background-color: #fff;
}
.notification_widget.danger {
  color: #fff;
  background-color: #d9534f;
  border-color: #d43f3a;
}
.notification_widget.danger:focus,
.notification_widget.danger.focus {
  color: #fff;
  background-color: #c9302c;
  border-color: #761c19;
}
.notification_widget.danger:hover {
  color: #fff;
  background-color: #c9302c;
  border-color: #ac2925;
}
.notification_widget.danger:active,
.notification_widget.danger.active,
.open > .dropdown-toggle.notification_widget.danger {
  color: #fff;
  background-color: #c9302c;
  border-color: #ac2925;
}
.notification_widget.danger:active:hover,
.notification_widget.danger.active:hover,
.open > .dropdown-toggle.notification_widget.danger:hover,
.notification_widget.danger:active:focus,
.notification_widget.danger.active:focus,
.open > .dropdown-toggle.notification_widget.danger:focus,
.notification_widget.danger:active.focus,
.notification_widget.danger.active.focus,
.open > .dropdown-toggle.notification_widget.danger.focus {
  color: #fff;
  background-color: #ac2925;
  border-color: #761c19;
}
.notification_widget.danger:active,
.notification_widget.danger.active,
.open > .dropdown-toggle.notification_widget.danger {
  background-image: none;
}
.notification_widget.danger.disabled:hover,
.notification_widget.danger[disabled]:hover,
fieldset[disabled] .notification_widget.danger:hover,
.notification_widget.danger.disabled:focus,
.notification_widget.danger[disabled]:focus,
fieldset[disabled] .notification_widget.danger:focus,
.notification_widget.danger.disabled.focus,
.notification_widget.danger[disabled].focus,
fieldset[disabled] .notification_widget.danger.focus {
  background-color: #d9534f;
  border-color: #d43f3a;
}
.notification_widget.danger .badge {
  color: #d9534f;
  background-color: #fff;
}
div#pager {
  background-color: #fff;
  font-size: 14px;
  line-height: 20px;
  overflow: hidden;
  display: none;
  position: fixed;
  bottom: 0px;
  width: 100%;
  max-height: 50%;
  padding-top: 8px;
  -webkit-box-shadow: 0px 0px 12px 1px rgba(87, 87, 87, 0.2);
  box-shadow: 0px 0px 12px 1px rgba(87, 87, 87, 0.2);
  /* Display over codemirror */
  z-index: 100;
  /* Hack which prevents jquery ui resizable from changing top. */
  top: auto !important;
}
div#pager pre {
  line-height: 1.21429em;
  color: #000;
  background-color: #f7f7f7;
  padding: 0.4em;
}
div#pager #pager-button-area {
  position: absolute;
  top: 8px;
  right: 20px;
}
div#pager #pager-contents {
  position: relative;
  overflow: auto;
  width: 100%;
  height: 100%;
}
div#pager #pager-contents #pager-container {
  position: relative;
  padding: 15px 0px;
  box-sizing: border-box;
  -moz-box-sizing: border-box;
  -webkit-box-sizing: border-box;
}
div#pager .ui-resizable-handle {
  top: 0px;
  height: 8px;
  background: #f7f7f7;
  border-top: 1px solid #cfcfcf;
  border-bottom: 1px solid #cfcfcf;
  /* This injects handle bars (a short, wide = symbol) for 
        the resize handle. */
}
div#pager .ui-resizable-handle::after {
  content: '';
  top: 2px;
  left: 50%;
  height: 3px;
  width: 30px;
  margin-left: -15px;
  position: absolute;
  border-top: 1px solid #cfcfcf;
}
.quickhelp {
  /* Old browsers */
  display: -webkit-box;
  -webkit-box-orient: horizontal;
  -webkit-box-align: stretch;
  display: -moz-box;
  -moz-box-orient: horizontal;
  -moz-box-align: stretch;
  display: box;
  box-orient: horizontal;
  box-align: stretch;
  /* Modern browsers */
  display: flex;
  flex-direction: row;
  align-items: stretch;
  line-height: 1.8em;
}
.shortcut_key {
  display: inline-block;
  width: 21ex;
  text-align: right;
  font-family: monospace;
}
.shortcut_descr {
  display: inline-block;
  /* Old browsers */
  -webkit-box-flex: 1;
  -moz-box-flex: 1;
  box-flex: 1;
  /* Modern browsers */
  flex: 1;
}
span.save_widget {
  margin-top: 6px;
}
span.save_widget span.filename {
  height: 1em;
  line-height: 1em;
  padding: 3px;
  margin-left: 16px;
  border: none;
  font-size: 146.5%;
  border-radius: 2px;
}
span.save_widget span.filename:hover {
  background-color: #e6e6e6;
}
span.checkpoint_status,
span.autosave_status {
  font-size: small;
}
@media (max-width: 767px) {
  span.save_widget {
    font-size: small;
  }
  span.checkpoint_status,
  span.autosave_status {
    display: none;
  }
}
@media (min-width: 768px) and (max-width: 991px) {
  span.checkpoint_status {
    display: none;
  }
  span.autosave_status {
    font-size: x-small;
  }
}
.toolbar {
  padding: 0px;
  margin-left: -5px;
  margin-top: 2px;
  margin-bottom: 5px;
  box-sizing: border-box;
  -moz-box-sizing: border-box;
  -webkit-box-sizing: border-box;
}
.toolbar select,
.toolbar label {
  width: auto;
  vertical-align: middle;
  margin-right: 2px;
  margin-bottom: 0px;
  display: inline;
  font-size: 92%;
  margin-left: 0.3em;
  margin-right: 0.3em;
  padding: 0px;
  padding-top: 3px;
}
.toolbar .btn {
  padding: 2px 8px;
}
.toolbar .btn-group {
  margin-top: 0px;
  margin-left: 5px;
}
#maintoolbar {
  margin-bottom: -3px;
  margin-top: -8px;
  border: 0px;
  min-height: 27px;
  margin-left: 0px;
  padding-top: 11px;
  padding-bottom: 3px;
}
#maintoolbar .navbar-text {
  float: none;
  vertical-align: middle;
  text-align: right;
  margin-left: 5px;
  margin-right: 0px;
  margin-top: 0px;
}
.select-xs {
  height: 24px;
}
.pulse,
.dropdown-menu > li > a.pulse,
li.pulse > a.dropdown-toggle,
li.pulse.open > a.dropdown-toggle {
  background-color: #F37626;
  color: white;
}
/**
 * Primary styles
 *
 * Author: Jupyter Development Team
 */
/** WARNING IF YOU ARE EDITTING THIS FILE, if this is a .css file, It has a lot
 * of chance of beeing generated from the ../less/[samename].less file, you can
 * try to get back the less file by reverting somme commit in history
 **/
/*
 * We'll try to get something pretty, so we
 * have some strange css to have the scroll bar on
 * the left with fix button on the top right of the tooltip
 */
@-moz-keyframes fadeOut {
  from {
    opacity: 1;
  }
  to {
    opacity: 0;
  }
}
@-webkit-keyframes fadeOut {
  from {
    opacity: 1;
  }
  to {
    opacity: 0;
  }
}
@-moz-keyframes fadeIn {
  from {
    opacity: 0;
  }
  to {
    opacity: 1;
  }
}
@-webkit-keyframes fadeIn {
  from {
    opacity: 0;
  }
  to {
    opacity: 1;
  }
}
/*properties of tooltip after "expand"*/
.bigtooltip {
  overflow: auto;
  height: 200px;
  -webkit-transition-property: height;
  -webkit-transition-duration: 500ms;
  -moz-transition-property: height;
  -moz-transition-duration: 500ms;
  transition-property: height;
  transition-duration: 500ms;
}
/*properties of tooltip before "expand"*/
.smalltooltip {
  -webkit-transition-property: height;
  -webkit-transition-duration: 500ms;
  -moz-transition-property: height;
  -moz-transition-duration: 500ms;
  transition-property: height;
  transition-duration: 500ms;
  text-overflow: ellipsis;
  overflow: hidden;
  height: 80px;
}
.tooltipbuttons {
  position: absolute;
  padding-right: 15px;
  top: 0px;
  right: 0px;
}
.tooltiptext {
  /*avoid the button to overlap on some docstring*/
  padding-right: 30px;
}
.ipython_tooltip {
  max-width: 700px;
  /*fade-in animation when inserted*/
  -webkit-animation: fadeOut 400ms;
  -moz-animation: fadeOut 400ms;
  animation: fadeOut 400ms;
  -webkit-animation: fadeIn 400ms;
  -moz-animation: fadeIn 400ms;
  animation: fadeIn 400ms;
  vertical-align: middle;
  background-color: #f7f7f7;
  overflow: visible;
  border: #ababab 1px solid;
  outline: none;
  padding: 3px;
  margin: 0px;
  padding-left: 7px;
  font-family: monospace;
  min-height: 50px;
  -moz-box-shadow: 0px 6px 10px -1px #adadad;
  -webkit-box-shadow: 0px 6px 10px -1px #adadad;
  box-shadow: 0px 6px 10px -1px #adadad;
  border-radius: 2px;
  position: absolute;
  z-index: 1000;
}
.ipython_tooltip a {
  float: right;
}
.ipython_tooltip .tooltiptext pre {
  border: 0;
  border-radius: 0;
  font-size: 100%;
  background-color: #f7f7f7;
}
.pretooltiparrow {
  left: 0px;
  margin: 0px;
  top: -16px;
  width: 40px;
  height: 16px;
  overflow: hidden;
  position: absolute;
}
.pretooltiparrow:before {
  background-color: #f7f7f7;
  border: 1px #ababab solid;
  z-index: 11;
  content: "";
  position: absolute;
  left: 15px;
  top: 10px;
  width: 25px;
  height: 25px;
  -webkit-transform: rotate(45deg);
  -moz-transform: rotate(45deg);
  -ms-transform: rotate(45deg);
  -o-transform: rotate(45deg);
}
ul.typeahead-list i {
  margin-left: -10px;
  width: 18px;
}
ul.typeahead-list {
  max-height: 80vh;
  overflow: auto;
}
ul.typeahead-list > li > a {
  /** Firefox bug **/
  /* see https://github.com/jupyter/notebook/issues/559 */
  white-space: normal;
}
.cmd-palette .modal-body {
  padding: 7px;
}
.cmd-palette form {
  background: white;
}
.cmd-palette input {
  outline: none;
}
.no-shortcut {
  display: none;
}
.command-shortcut:before {
  content: "(command)";
  padding-right: 3px;
  color: #777777;
}
.edit-shortcut:before {
  content: "(edit)";
  padding-right: 3px;
  color: #777777;
}
#find-and-replace #replace-preview .match,
#find-and-replace #replace-preview .insert {
  background-color: #BBDEFB;
  border-color: #90CAF9;
  border-style: solid;
  border-width: 1px;
  border-radius: 0px;
}
#find-and-replace #replace-preview .replace .match {
  background-color: #FFCDD2;
  border-color: #EF9A9A;
  border-radius: 0px;
}
#find-and-replace #replace-preview .replace .insert {
  background-color: #C8E6C9;
  border-color: #A5D6A7;
  border-radius: 0px;
}
#find-and-replace #replace-preview {
  max-height: 60vh;
  overflow: auto;
}
#find-and-replace #replace-preview pre {
  padding: 5px 10px;
}
.terminal-app {
  background: #EEE;
}
.terminal-app #header {
  background: #fff;
  -webkit-box-shadow: 0px 0px 12px 1px rgba(87, 87, 87, 0.2);
  box-shadow: 0px 0px 12px 1px rgba(87, 87, 87, 0.2);
}
.terminal-app .terminal {
  width: 100%;
  float: left;
  font-family: monospace;
  color: white;
  background: black;
  padding: 0.4em;
  border-radius: 2px;
  -webkit-box-shadow: 0px 0px 12px 1px rgba(87, 87, 87, 0.4);
  box-shadow: 0px 0px 12px 1px rgba(87, 87, 87, 0.4);
}
.terminal-app .terminal,
.terminal-app .terminal dummy-screen {
  line-height: 1em;
  font-size: 14px;
}
.terminal-app .terminal .xterm-rows {
  padding: 10px;
}
.terminal-app .terminal-cursor {
  color: black;
  background: white;
}
.terminal-app #terminado-container {
  margin-top: 20px;
}
/*# sourceMappingURL=style.min.css.map */
    </style>
<style type="text/css">
    .highlight .hll { background-color: #ffffcc }
.highlight  { background: #f8f8f8; }
.highlight .c { color: #408080; font-style: italic } /* Comment */
.highlight .err { border: 1px solid #FF0000 } /* Error */
.highlight .k { color: #008000; font-weight: bold } /* Keyword */
.highlight .o { color: #666666 } /* Operator */
.highlight .ch { color: #408080; font-style: italic } /* Comment.Hashbang */
.highlight .cm { color: #408080; font-style: italic } /* Comment.Multiline */
.highlight .cp { color: #BC7A00 } /* Comment.Preproc */
.highlight .cpf { color: #408080; font-style: italic } /* Comment.PreprocFile */
.highlight .c1 { color: #408080; font-style: italic } /* Comment.Single */
.highlight .cs { color: #408080; font-style: italic } /* Comment.Special */
.highlight .gd { color: #A00000 } /* Generic.Deleted */
.highlight .ge { font-style: italic } /* Generic.Emph */
.highlight .gr { color: #FF0000 } /* Generic.Error */
.highlight .gh { color: #000080; font-weight: bold } /* Generic.Heading */
.highlight .gi { color: #00A000 } /* Generic.Inserted */
.highlight .go { color: #888888 } /* Generic.Output */
.highlight .gp { color: #000080; font-weight: bold } /* Generic.Prompt */
.highlight .gs { font-weight: bold } /* Generic.Strong */
.highlight .gu { color: #800080; font-weight: bold } /* Generic.Subheading */
.highlight .gt { color: #0044DD } /* Generic.Traceback */
.highlight .kc { color: #008000; font-weight: bold } /* Keyword.Constant */
.highlight .kd { color: #008000; font-weight: bold } /* Keyword.Declaration */
.highlight .kn { color: #008000; font-weight: bold } /* Keyword.Namespace */
.highlight .kp { color: #008000 } /* Keyword.Pseudo */
.highlight .kr { color: #008000; font-weight: bold } /* Keyword.Reserved */
.highlight .kt { color: #B00040 } /* Keyword.Type */
.highlight .m { color: #666666 } /* Literal.Number */
.highlight .s { color: #BA2121 } /* Literal.String */
.highlight .na { color: #7D9029 } /* Name.Attribute */
.highlight .nb { color: #008000 } /* Name.Builtin */
.highlight .nc { color: #0000FF; font-weight: bold } /* Name.Class */
.highlight .no { color: #880000 } /* Name.Constant */
.highlight .nd { color: #AA22FF } /* Name.Decorator */
.highlight .ni { color: #999999; font-weight: bold } /* Name.Entity */
.highlight .ne { color: #D2413A; font-weight: bold } /* Name.Exception */
.highlight .nf { color: #0000FF } /* Name.Function */
.highlight .nl { color: #A0A000 } /* Name.Label */
.highlight .nn { color: #0000FF; font-weight: bold } /* Name.Namespace */
.highlight .nt { color: #008000; font-weight: bold } /* Name.Tag */
.highlight .nv { color: #19177C } /* Name.Variable */
.highlight .ow { color: #AA22FF; font-weight: bold } /* Operator.Word */
.highlight .w { color: #bbbbbb } /* Text.Whitespace */
.highlight .mb { color: #666666 } /* Literal.Number.Bin */
.highlight .mf { color: #666666 } /* Literal.Number.Float */
.highlight .mh { color: #666666 } /* Literal.Number.Hex */
.highlight .mi { color: #666666 } /* Literal.Number.Integer */
.highlight .mo { color: #666666 } /* Literal.Number.Oct */
.highlight .sa { color: #BA2121 } /* Literal.String.Affix */
.highlight .sb { color: #BA2121 } /* Literal.String.Backtick */
.highlight .sc { color: #BA2121 } /* Literal.String.Char */
.highlight .dl { color: #BA2121 } /* Literal.String.Delimiter */
.highlight .sd { color: #BA2121; font-style: italic } /* Literal.String.Doc */
.highlight .s2 { color: #BA2121 } /* Literal.String.Double */
.highlight .se { color: #BB6622; font-weight: bold } /* Literal.String.Escape */
.highlight .sh { color: #BA2121 } /* Literal.String.Heredoc */
.highlight .si { color: #BB6688; font-weight: bold } /* Literal.String.Interpol */
.highlight .sx { color: #008000 } /* Literal.String.Other */
.highlight .sr { color: #BB6688 } /* Literal.String.Regex */
.highlight .s1 { color: #BA2121 } /* Literal.String.Single */
.highlight .ss { color: #19177C } /* Literal.String.Symbol */
.highlight .bp { color: #008000 } /* Name.Builtin.Pseudo */
.highlight .fm { color: #0000FF } /* Name.Function.Magic */
.highlight .vc { color: #19177C } /* Name.Variable.Class */
.highlight .vg { color: #19177C } /* Name.Variable.Global */
.highlight .vi { color: #19177C } /* Name.Variable.Instance */
.highlight .vm { color: #19177C } /* Name.Variable.Magic */
.highlight .il { color: #666666 } /* Literal.Number.Integer.Long */
    </style>
<style type="text/css">
    
/* Temporary definitions which will become obsolete with Notebook release 5.0 */
.ansi-black-fg { color: #3E424D; }
.ansi-black-bg { background-color: #3E424D; }
.ansi-black-intense-fg { color: #282C36; }
.ansi-black-intense-bg { background-color: #282C36; }
.ansi-red-fg { color: #E75C58; }
.ansi-red-bg { background-color: #E75C58; }
.ansi-red-intense-fg { color: #B22B31; }
.ansi-red-intense-bg { background-color: #B22B31; }
.ansi-green-fg { color: #00A250; }
.ansi-green-bg { background-color: #00A250; }
.ansi-green-intense-fg { color: #007427; }
.ansi-green-intense-bg { background-color: #007427; }
.ansi-yellow-fg { color: #DDB62B; }
.ansi-yellow-bg { background-color: #DDB62B; }
.ansi-yellow-intense-fg { color: #B27D12; }
.ansi-yellow-intense-bg { background-color: #B27D12; }
.ansi-blue-fg { color: #208FFB; }
.ansi-blue-bg { background-color: #208FFB; }
.ansi-blue-intense-fg { color: #0065CA; }
.ansi-blue-intense-bg { background-color: #0065CA; }
.ansi-magenta-fg { color: #D160C4; }
.ansi-magenta-bg { background-color: #D160C4; }
.ansi-magenta-intense-fg { color: #A03196; }
.ansi-magenta-intense-bg { background-color: #A03196; }
.ansi-cyan-fg { color: #60C6C8; }
.ansi-cyan-bg { background-color: #60C6C8; }
.ansi-cyan-intense-fg { color: #258F8F; }
.ansi-cyan-intense-bg { background-color: #258F8F; }
.ansi-white-fg { color: #C5C1B4; }
.ansi-white-bg { background-color: #C5C1B4; }
.ansi-white-intense-fg { color: #A1A6B2; }
.ansi-white-intense-bg { background-color: #A1A6B2; }

.ansi-bold { font-weight: bold; }

    </style>


<style type="text/css">
/* Overrides of notebook CSS for static HTML export */
body {
  overflow: visible;
  padding: 8px;
}

div#notebook {
  overflow: visible;
  border-top: none;
}@media print {
  div.cell {
    display: block;
    page-break-inside: avoid;
  } 
  div.output_wrapper { 
    display: block;
    page-break-inside: avoid; 
  }
  div.output { 
    display: block;
    page-break-inside: avoid; 
  }
}
</style>

<!-- Custom stylesheet, it must be in the same directory as the html file -->
<link rel="stylesheet" href="custom.css">

<!-- Loading mathjax macro -->
<!-- Load mathjax -->
    <script src="https://cdnjs.cloudflare.com/ajax/libs/mathjax/2.7.1/MathJax.js?config=TeX-AMS_HTML"></script>
    <!-- MathJax configuration -->
    <script type="text/x-mathjax-config">
    MathJax.Hub.Config({
        tex2jax: {
            inlineMath: [ ['$','$'], ["\\(","\\)"] ],
            displayMath: [ ['$$','$$'], ["\\[","\\]"] ],
            processEscapes: true,
            processEnvironments: true
        },
        // Center justify equations in code and markdown cells. Elsewhere
        // we use CSS to left justify single line equations in code cells.
        displayAlign: 'center',
        "HTML-CSS": {
            styles: {'.MathJax_Display': {"margin": 0}},
            linebreaks: { automatic: true }
        }
    });
    </script>
    <!-- End of mathjax configuration --></head>
<body>
  <div tabindex="-1" id="notebook" class="border-box-sizing">
    <div class="container" id="notebook-container">

<div class="cell border-box-sizing code_cell rendered">
<div class="input">
<div class="prompt input_prompt">In&nbsp;[1]:</div>
<div class="inner_cell">
    <div class="input_area">
<div class=" highlight hl-ipython3"><pre><span></span><span class="kn">import</span> <span class="nn">pandas</span> <span class="k">as</span> <span class="nn">pd</span>
<span class="n">df</span> <span class="o">=</span> <span class="n">pd</span><span class="o">.</span><span class="n">read_csv</span><span class="p">(</span><span class="s1">&#39;Voter_Registration_Data.csv&#39;</span><span class="p">)</span>
<span class="nb">print</span><span class="p">(</span><span class="n">df</span><span class="p">)</span>
</pre></div>

</div>
</div>
</div>

<div class="output_wrapper">
<div class="output">


<div class="output_area">

<div class="prompt"></div>


<div class="output_subarea output_stream output_stdout output_text">
<pre>          COUNTY HD_CODE            HD_NAME   CD_CODE  \
0        DOUGLAS    SR01  House District 01  4th Cong   
1          CURRY    SR01  House District 01  4th Cong   
2          CURRY    SR01  House District 01  4th Cong   
3           COOS    SR01  House District 01  4th Cong   
4      JOSEPHINE    SR01  House District 01  4th Cong   
5           COOS    SR01  House District 01  4th Cong   
6        DOUGLAS    SR01  House District 01  4th Cong   
7        DOUGLAS    SR01  House District 01  4th Cong   
8      JOSEPHINE    SR01  House District 01  4th Cong   
9      JOSEPHINE    SR01  House District 01  4th Cong   
10       DOUGLAS    SR01  House District 01  4th Cong   
11     JOSEPHINE    SR01  House District 01  4th Cong   
12       DOUGLAS    SR01  House District 01  4th Cong   
13          COOS    SR01  House District 01  4th Cong   
14     JOSEPHINE    SR01  House District 01  4th Cong   
15         CURRY    SR01  House District 01  4th Cong   
16         CURRY    SR01  House District 01  4th Cong   
17          COOS    SR01  House District 01  4th Cong   
18         CURRY    SR01  House District 01  4th Cong   
19          COOS    SR01  House District 01  4th Cong   
20         CURRY    SR01  House District 01  4th Cong   
21          COOS    SR01  House District 01  4th Cong   
22     JOSEPHINE    SR01  House District 01  4th Cong   
23          COOS    SR01  House District 01  4th Cong   
24       DOUGLAS    SR01  House District 01  4th Cong   
25         CURRY    SR01  House District 01  4th Cong   
26     JOSEPHINE    SR01  House District 01  4th Cong   
27     JOSEPHINE    SR01  House District 01  4th Cong   
28         CURRY    SR01  House District 01  4th Cong   
29         CURRY    SR01  House District 01  4th Cong   
...          ...     ...                ...       ...   
34818       LAKE    SR60  House District 60  2nd Cong   
34819    MALHEUR    SR60  House District 60  2nd Cong   
34820      GRANT    SR60  House District 60  2nd Cong   
34821    MALHEUR    SR60  House District 60  2nd Cong   
34822       LAKE    SR60  House District 60  2nd Cong   
34823       LAKE    SR60  House District 60  2nd Cong   
34824      BAKER    SR60  House District 60  2nd Cong   
34825     HARNEY    SR60  House District 60  2nd Cong   
34826       LAKE    SR60  House District 60  2nd Cong   
34827      BAKER    SR60  House District 60  2nd Cong   
34828    MALHEUR    SR60  House District 60  2nd Cong   
34829      BAKER    SR60  House District 60  2nd Cong   
34830     HARNEY    SR60  House District 60  2nd Cong   
34831      BAKER    SR60  House District 60  2nd Cong   
34832    MALHEUR    SR60  House District 60  2nd Cong   
34833      BAKER    SR60  House District 60  2nd Cong   
34834      BAKER    SR60  House District 60  2nd Cong   
34835      GRANT    SR60  House District 60  2nd Cong   
34836      BAKER    SR60  House District 60  2nd Cong   
34837    MALHEUR    SR60  House District 60  2nd Cong   
34838      GRANT    SR60  House District 60  2nd Cong   
34839      GRANT    SR60  House District 60  2nd Cong   
34840     HARNEY    SR60  House District 60  2nd Cong   
34841    MALHEUR    SR60  House District 60  2nd Cong   
34842       LAKE    SR60  House District 60  2nd Cong   
34843      GRANT    SR60  House District 60  2nd Cong   
34844    MALHEUR    SR60  House District 60  2nd Cong   
34845      GRANT    SR60  House District 60  2nd Cong   
34846      BAKER    SR60  House District 60  2nd Cong   
34847     HARNEY    SR60  House District 60  2nd Cong   

                           CD_NAME                             PARTY  \
0      US Congressional District 4                 Independent Party   
1      US Congressional District 4                       Libertarian   
2      US Congressional District 4                        Republican   
3      US Congressional District 4                      Constitution   
4      US Congressional District 4                 Independent Party   
5      US Congressional District 4                       Progressive   
6      US Congressional District 4                             Other   
7      US Congressional District 4                      Constitution   
8      US Congressional District 4  Working Families Party of Oregon   
9      US Congressional District 4                        Republican   
10     US Congressional District 4                       Libertarian   
11     US Congressional District 4                             Other   
12     US Congressional District 4                     Nonaffiliated   
13     US Congressional District 4                     Pacific Green   
14     US Congressional District 4                     Pacific Green   
15     US Congressional District 4                       Progressive   
16     US Congressional District 4                     Pacific Green   
17     US Congressional District 4  Working Families Party of Oregon   
18     US Congressional District 4                          Democrat   
19     US Congressional District 4                       Libertarian   
20     US Congressional District 4                      Constitution   
21     US Congressional District 4                        Republican   
22     US Congressional District 4                       Progressive   
23     US Congressional District 4                          Democrat   
24     US Congressional District 4                          Democrat   
25     US Congressional District 4  Working Families Party of Oregon   
26     US Congressional District 4                       Libertarian   
27     US Congressional District 4                          Democrat   
28     US Congressional District 4  Working Families Party of Oregon   
29     US Congressional District 4                     Nonaffiliated   
...                            ...                               ...   
34818  US Congressional District 2                 Independent Party   
34819  US Congressional District 2                       Libertarian   
34820  US Congressional District 2                 Independent Party   
34821  US Congressional District 2                     Nonaffiliated   
34822  US Congressional District 2                       Libertarian   
34823  US Congressional District 2                        Republican   
34824  US Congressional District 2                        Republican   
34825  US Congressional District 2                             Other   
34826  US Congressional District 2                          Democrat   
34827  US Congressional District 2                          Democrat   
34828  US Congressional District 2  Working Families Party of Oregon   
34829  US Congressional District 2                             Other   
34830  US Congressional District 2                        Republican   
34831  US Congressional District 2                 Independent Party   
34832  US Congressional District 2                     Pacific Green   
34833  US Congressional District 2                      Constitution   
34834  US Congressional District 2  Working Families Party of Oregon   
34835  US Congressional District 2                          Democrat   
34836  US Congressional District 2                       Progressive   
34837  US Congressional District 2                          Democrat   
34838  US Congressional District 2                       Progressive   
34839  US Congressional District 2                       Libertarian   
34840  US Congressional District 2                     Pacific Green   
34841  US Congressional District 2                             Other   
34842  US Congressional District 2                     Pacific Green   
34843  US Congressional District 2                        Republican   
34844  US Congressional District 2                 Independent Party   
34845  US Congressional District 2                     Nonaffiliated   
34846  US Congressional District 2                     Pacific Green   
34847  US Congressional District 2                 Independent Party   

          SYSDATE  COUNT(V.ID)  
0      12/07/2018          529  
1      12/07/2018          148  
2      12/07/2018         5695  
3      12/07/2018           46  
4      12/07/2018          143  
5      12/07/2018            5  
6      12/07/2018           67  
7      12/07/2018           22  
8      12/07/2018           10  
9      12/07/2018         1107  
10     12/07/2018           71  
11     12/07/2018           44  
12     12/07/2018         2994  
13     12/07/2018           62  
14     12/07/2018            6  
15     12/07/2018           11  
16     12/07/2018           44  
17     12/07/2018           43  
18     12/07/2018         4351  
19     12/07/2018          125  
20     12/07/2018           29  
21     12/07/2018         6139  
22     12/07/2018            1  
23     12/07/2018         4677  
24     12/07/2018         2330  
25     12/07/2018           28  
26     12/07/2018           28  
27     12/07/2018          676  
28     10/03/2018           27  
29     10/03/2018         5820  
...           ...          ...  
34818  11/03/2017           19  
34819  11/03/2017           64  
34820  11/03/2017          296  
34821  11/03/2017         5747  
34822  11/03/2017            2  
34823  11/03/2017          291  
34824  11/03/2017         5355  
34825  11/03/2017           18  
34826  11/03/2017           48  
34827  11/03/2017         2131  
34828  11/03/2017           32  
34829  11/03/2017           27  
34830  11/03/2017         2457  
34831  11/03/2017          566  
34832  11/03/2017           12  
34833  11/03/2017           36  
34834  11/03/2017           24  
34835  11/03/2017          997  
34836  11/03/2017            2  
34837  11/03/2017         2541  
34838  11/03/2017            2  
34839  11/03/2017           21  
34840  11/03/2017            3  
34841  11/03/2017           59  
34842  11/03/2017            1  
34843  11/03/2017         2500  
34844  11/03/2017          475  
34845  11/03/2017         1332  
34846  11/03/2017           35  
34847  11/03/2017          224  

[34848 rows x 8 columns]
</pre>
</div>
</div>

</div>
</div>

</div>
<div class="cell border-box-sizing code_cell rendered">
<div class="input">
<div class="prompt input_prompt">In&nbsp;[2]:</div>
<div class="inner_cell">
    <div class="input_area">
<div class=" highlight hl-ipython3"><pre><span></span><span class="kn">import</span> <span class="nn">numpy</span> <span class="k">as</span> <span class="nn">np</span>
<span class="kn">import</span> <span class="nn">matplotlib.pyplot</span> <span class="k">as</span> <span class="nn">plt</span>
<span class="o">%</span><span class="k">matplotlib</span> inline
</pre></div>

</div>
</div>
</div>

</div>
<div class="cell border-box-sizing code_cell rendered">
<div class="input">
<div class="prompt input_prompt">In&nbsp;[6]:</div>
<div class="inner_cell">
    <div class="input_area">
<div class=" highlight hl-ipython3"><pre><span></span><span class="n">Party</span> <span class="o">=</span> <span class="n">pd</span><span class="o">.</span><span class="n">DataFrame</span><span class="p">()</span>
<span class="n">Party</span><span class="p">[</span><span class="s1">&#39;Dem&#39;</span><span class="p">]</span> <span class="o">=</span> <span class="p">[</span><span class="mi">4351</span><span class="p">,</span> <span class="mi">4293</span><span class="p">,</span> <span class="mi">4264</span><span class="p">,</span> <span class="mi">4685</span><span class="p">,</span> <span class="mi">4267</span><span class="p">]</span>
<span class="n">Party</span><span class="p">[</span><span class="s1">&#39;Rep&#39;</span><span class="p">]</span> <span class="o">=</span> <span class="p">[</span><span class="mi">5695</span><span class="p">,</span> <span class="mi">5587</span><span class="p">,</span> <span class="mi">5551</span><span class="p">,</span> <span class="mi">5550</span><span class="p">,</span> <span class="mi">5538</span><span class="p">]</span>
<span class="n">Party</span><span class="p">[</span><span class="s1">&#39;Month&#39;</span><span class="p">]</span> <span class="o">=</span> <span class="p">[</span><span class="s1">&#39;July&#39;</span><span class="p">,</span> <span class="s1">&#39;August&#39;</span><span class="p">,</span> <span class="s1">&#39;September&#39;</span><span class="p">,</span> <span class="s1">&#39;October&#39;</span><span class="p">,</span> <span class="s1">&#39;November&#39;</span><span class="p">]</span>
<span class="n">plt</span><span class="o">.</span><span class="n">plot</span><span class="p">(</span><span class="n">Party</span><span class="p">[</span><span class="s1">&#39;Month&#39;</span><span class="p">],</span> <span class="n">Party</span><span class="p">[</span><span class="s1">&#39;Dem&#39;</span><span class="p">],</span> <span class="n">color</span> <span class="o">=</span><span class="s1">&#39;blue&#39;</span><span class="p">)</span>
<span class="n">plt</span><span class="o">.</span><span class="n">plot</span><span class="p">(</span><span class="n">Party</span><span class="p">[</span><span class="s1">&#39;Month&#39;</span><span class="p">],</span> <span class="n">Party</span><span class="p">[</span><span class="s1">&#39;Rep&#39;</span><span class="p">],</span> <span class="n">color</span> <span class="o">=</span> <span class="s1">&#39;red&#39;</span><span class="p">)</span>
<span class="n">plt</span><span class="o">.</span><span class="n">ylabel</span><span class="p">(</span><span class="s1">&#39;Voters Registered&#39;</span><span class="p">)</span>
<span class="n">plt</span><span class="o">.</span><span class="n">xlabel</span><span class="p">(</span><span class="s1">&#39;Month&#39;</span><span class="p">)</span>
<span class="n">plt</span><span class="o">.</span><span class="n">title</span><span class="p">(</span><span class="s1">&#39;Voter Registration in Curry County Oregon&#39;</span><span class="p">)</span>
<span class="n">plt</span><span class="o">.</span><span class="n">legend</span>
<span class="n">plt</span><span class="o">.</span><span class="n">show</span><span class="p">()</span>
</pre></div>

</div>
</div>
</div>

<div class="output_wrapper">
<div class="output">


<div class="output_area">

<div class="prompt"></div>




<div class="output_png output_subarea ">
<img src="data:image/png;base64,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
"
>
</div>

</div>

</div>
</div>

</div>
<div class="cell border-box-sizing code_cell rendered">
<div class="input">
<div class="prompt input_prompt">In&nbsp;[&nbsp;]:</div>
<div class="inner_cell">
    <div class="input_area">
<div class=" highlight hl-ipython3"><pre><span></span><span class="c1">#The chart above show the number of voters registered by party over a time perios of 5 months in 2018.  The Republican voters have many more registered voters.  There was a spike in Democratic voter registration in October</span>
</pre></div>

</div>
</div>
</div>

</div>
<div class="cell border-box-sizing code_cell rendered">
<div class="input">
<div class="prompt input_prompt">In&nbsp;[7]:</div>
<div class="inner_cell">
    <div class="input_area">
<div class=" highlight hl-ipython3"><pre><span></span><span class="n">plt</span><span class="o">.</span><span class="n">figure</span><span class="p">(</span><span class="n">figsize</span><span class="o">=</span><span class="p">(</span><span class="mi">10</span><span class="p">,</span><span class="mi">5</span><span class="p">))</span>

<span class="n">plt</span><span class="o">.</span><span class="n">subplot</span><span class="p">(</span><span class="mi">1</span><span class="p">,</span> <span class="mi">2</span><span class="p">,</span> <span class="mi">1</span><span class="p">)</span>
<span class="n">plt</span><span class="o">.</span><span class="n">plot</span><span class="p">(</span><span class="n">Party</span><span class="p">[</span><span class="s1">&#39;Month&#39;</span><span class="p">],</span><span class="n">Party</span><span class="p">[</span><span class="s1">&#39;Dem&#39;</span><span class="p">],</span><span class="n">color</span> <span class="o">=</span> <span class="s1">&#39;blue&#39;</span><span class="p">)</span>
<span class="n">plt</span><span class="o">.</span><span class="n">ylabel</span><span class="p">(</span><span class="s1">&#39;Voters Registered&#39;</span><span class="p">)</span>
<span class="n">plt</span><span class="o">.</span><span class="n">xlabel</span><span class="p">(</span><span class="s1">&#39;Month&#39;</span><span class="p">)</span>
<span class="n">plt</span><span class="o">.</span><span class="n">title</span><span class="p">(</span><span class="s1">&#39;Democratic Voters&#39;</span><span class="p">)</span>

<span class="n">plt</span><span class="o">.</span><span class="n">subplot</span><span class="p">(</span><span class="mi">1</span><span class="p">,</span> <span class="mi">2</span><span class="p">,</span> <span class="mi">2</span><span class="p">)</span>
<span class="n">plt</span><span class="o">.</span><span class="n">plot</span><span class="p">(</span><span class="n">Party</span><span class="p">[</span><span class="s1">&#39;Month&#39;</span><span class="p">],</span> <span class="n">Party</span><span class="p">[</span><span class="s1">&#39;Rep&#39;</span><span class="p">],</span> <span class="n">color</span> <span class="o">=</span> <span class="s1">&#39;red&#39;</span><span class="p">)</span>
<span class="n">plt</span><span class="o">.</span><span class="n">ylabel</span><span class="p">(</span><span class="s1">&#39;Voters Registered&#39;</span><span class="p">)</span>
<span class="n">plt</span><span class="o">.</span><span class="n">xlabel</span><span class="p">(</span><span class="s1">&#39;Month&#39;</span><span class="p">)</span>
<span class="n">plt</span><span class="o">.</span><span class="n">title</span><span class="p">(</span><span class="s1">&#39;Republican Voters&#39;</span><span class="p">)</span>
<span class="n">plt</span><span class="o">.</span><span class="n">show</span><span class="p">()</span>
</pre></div>

</div>
</div>
</div>

<div class="output_wrapper">
<div class="output">


<div class="output_area">

<div class="prompt"></div>




<div class="output_png output_subarea ">
<img src="data:image/png;base64,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
"
>
</div>

</div>

</div>
</div>

</div>
<div class="cell border-box-sizing code_cell rendered">
<div class="input">
<div class="prompt input_prompt">In&nbsp;[&nbsp;]:</div>
<div class="inner_cell">
    <div class="input_area">
<div class=" highlight hl-ipython3"><pre><span></span><span class="c1"># The side by side charts show the difference in registration patterns.  There was a decline of Republican voter registration over time between July and November.  The Democrats spiked in October then dropped off in November.</span>
</pre></div>

</div>
</div>
</div>

</div>
<div class="cell border-box-sizing code_cell rendered">
<div class="input">
<div class="prompt input_prompt">In&nbsp;[18]:</div>
<div class="inner_cell">
    <div class="input_area">
<div class=" highlight hl-ipython3"><pre><span></span><span class="n">plt</span><span class="o">.</span><span class="n">hist</span><span class="p">(</span><span class="n">Party</span><span class="p">[</span><span class="s1">&#39;Rep&#39;</span><span class="p">],</span> <span class="n">bins</span> <span class="o">=</span> <span class="mi">5</span><span class="p">,</span> <span class="n">color</span> <span class="o">=</span> <span class="s1">&#39;red&#39;</span><span class="p">)</span>
<span class="n">plt</span><span class="o">.</span><span class="n">hist</span><span class="p">(</span><span class="n">Party</span><span class="p">[</span><span class="s1">&#39;Dem&#39;</span><span class="p">],</span> <span class="n">bins</span> <span class="o">=</span> <span class="mi">5</span><span class="p">,</span> <span class="n">color</span> <span class="o">=</span> <span class="s1">&#39;blue&#39;</span><span class="p">)</span>
<span class="n">plt</span><span class="o">.</span><span class="n">xlabel</span> <span class="o">=</span> <span class="p">(</span><span class="s1">&#39;Votes&#39;</span><span class="p">)</span>
<span class="n">plt</span><span class="o">.</span><span class="n">ylabel</span> <span class="o">=</span> <span class="p">(</span><span class="s1">&#39;Months&#39;</span><span class="p">)</span>
<span class="n">plt</span><span class="o">.</span><span class="n">title</span> <span class="o">=</span> <span class="p">(</span><span class="s1">&#39;Dem and Rep Voters Registered&#39;</span><span class="p">)</span>
<span class="n">plt</span><span class="o">.</span><span class="n">show</span><span class="p">()</span>
</pre></div>

</div>
</div>
</div>

<div class="output_wrapper">
<div class="output">


<div class="output_area">

<div class="prompt"></div>




<div class="output_png output_subarea ">
<img src="data:image/png;base64,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
"
>
</div>

</div>

</div>
</div>

</div>
<div class="cell border-box-sizing code_cell rendered">
<div class="input">
<div class="prompt input_prompt">In&nbsp;[&nbsp;]:</div>
<div class="inner_cell">
    <div class="input_area">
<div class=" highlight hl-ipython3"><pre><span></span><span class="c1">#The histogram show the spread of Repubican and Democratic voters.  </span>
</pre></div>

</div>
</div>
</div>

</div>
<div class="cell border-box-sizing code_cell rendered">
<div class="input">
<div class="prompt input_prompt">In&nbsp;[23]:</div>
<div class="inner_cell">
    <div class="input_area">
<div class=" highlight hl-ipython3"><pre><span></span><span class="n">plt</span><span class="o">.</span><span class="n">boxplot</span><span class="p">(</span><span class="n">Party</span><span class="p">[</span><span class="s1">&#39;Rep&#39;</span><span class="p">])</span>
<span class="n">plt</span><span class="o">.</span><span class="n">show</span><span class="p">()</span>
</pre></div>

</div>
</div>
</div>

<div class="output_wrapper">
<div class="output">


<div class="output_area">

<div class="prompt"></div>




<div class="output_png output_subarea ">
<img src="data:image/png;base64,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
"
>
</div>

</div>

</div>
</div>

</div>
<div class="cell border-box-sizing code_cell rendered">
<div class="input">
<div class="prompt input_prompt">In&nbsp;[22]:</div>
<div class="inner_cell">
    <div class="input_area">
<div class=" highlight hl-ipython3"><pre><span></span><span class="n">plt</span><span class="o">.</span><span class="n">boxplot</span><span class="p">(</span><span class="n">Party</span><span class="p">[</span><span class="s1">&#39;Dem&#39;</span><span class="p">])</span>
<span class="n">plt</span><span class="o">.</span><span class="n">show</span><span class="p">()</span>
</pre></div>

</div>
</div>
</div>

<div class="output_wrapper">
<div class="output">


<div class="output_area">

<div class="prompt"></div>




<div class="output_png output_subarea ">
<img src="data:image/png;base64,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
"
>
</div>

</div>

</div>
</div>

</div>
<div class="cell border-box-sizing code_cell rendered">
<div class="input">
<div class="prompt input_prompt">In&nbsp;[&nbsp;]:</div>
<div class="inner_cell">
    <div class="input_area">
<div class=" highlight hl-ipython3"><pre><span></span><span class="c1">#The boxplots above show the IQR of voter registration by party.  Although Republicans have more voters registered it appears as if the relative median of regisered republican voters over the 5 months is lower than the relative median of the Democrats. </span>
</pre></div>

</div>
</div>
</div>

</div>
    </div>
  </div>
</body>

 


</html>
